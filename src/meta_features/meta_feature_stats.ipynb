{
 "cells": [
  {
   "cell_type": "code",
   "execution_count": 3,
   "metadata": {},
   "outputs": [
    {
     "name": "stderr",
     "output_type": "stream",
     "text": [
      "c:\\Users\\wiche\\OneDrive\\Bureaublad\\MasterThesis\\masterthesisenv\\lib\\site-packages\\tqdm\\auto.py:22: TqdmWarning: IProgress not found. Please update jupyter and ipywidgets. See https://ipywidgets.readthedocs.io/en/stable/user_install.html\n",
      "  from .autonotebook import tqdm as notebook_tqdm\n"
     ]
    }
   ],
   "source": [
    "import pandas as pd\n",
    "import openml\n",
    "import glob\n",
    "from pymfe.mfe import MFE"
   ]
  },
  {
   "cell_type": "code",
   "execution_count": 4,
   "metadata": {},
   "outputs": [],
   "source": [
    "from itertools import compress\n",
    "\n",
    "datasets = openml.datasets"
   ]
  },
  {
   "cell_type": "code",
   "execution_count": 4,
   "metadata": {},
   "outputs": [],
   "source": [
    "from metafeature_mapping import mapping_general, mapping_infotheory, mapping_stat"
   ]
  },
  {
   "cell_type": "code",
   "execution_count": 5,
   "metadata": {},
   "outputs": [],
   "source": [
    "mapping = mapping_general | mapping_stat | mapping_infotheory\n",
    "\n",
    "ftrs = list(mapping.keys())"
   ]
  },
  {
   "cell_type": "code",
   "execution_count": 18,
   "metadata": {},
   "outputs": [],
   "source": [
    "mfe_landmark = MFE(groups = [\"landmarking\"], summary = [\"nanmean\", \"nansd\"], num_cv_folds = 5, lm_sample_frac = 0.5, measure_time = \"total_summ\", suppress_warnings=True)\n",
    "mfe = MFE(features = ftrs, summary = [\"nanmean\", \"nansd\"], measure_time = \"total_summ\", suppress_warnings=True)\n",
    "columns = list(mfe.extract_metafeature_names())\n",
    "columns_lm = list(mfe.extract_metafeature_names())\n",
    "columns.extend(columns_lm)"
   ]
  },
  {
   "cell_type": "code",
   "execution_count": 20,
   "metadata": {},
   "outputs": [],
   "source": [
    "dataset = datasets.get_dataset(2, download_all_files=False)\n",
    "X, y, cat_mask, _ = dataset.get_data(dataset_format=\"dataframe\", target = dataset.default_target_attribute)\n",
    "arr_X = X.to_numpy()\n",
    "arr_y = y.to_numpy()\n",
    "num_mask = [not elem for elem in cat_mask]\n",
    "cat_cols = list(compress(list(X.columns), cat_mask))\n",
    "num_cols = list(compress(list(X.columns), num_mask))\n",
    "N = X.loc[:, num_cols]\n",
    "C = X.loc[:, cat_cols]\n",
    "C = C.apply(lambda x: x.fillna(x.mode(), axis = 0))\n",
    "N = N.apply(lambda x: x.fillna(x.mean(), axis = 0))"
   ]
  },
  {
   "cell_type": "code",
   "execution_count": 21,
   "metadata": {},
   "outputs": [
    {
     "name": "stderr",
     "output_type": "stream",
     "text": [
      "c:\\Users\\wiche\\OneDrive\\Bureaublad\\MasterThesis\\masterthesisenv\\lib\\site-packages\\pymfe\\_internal.py:1568: UserWarning: It is not possible make equal discretization\n",
      "  warnings.warn(\"It is not possible make equal discretization\")\n"
     ]
    },
    {
     "ename": "ValueError",
     "evalue": "Categorical data encoding of type 'gray' has no support for missing values. Please handle the missing data manually before fitting it into the MFE model.",
     "output_type": "error",
     "traceback": [
      "\u001b[1;31m---------------------------------------------------------------------------\u001b[0m",
      "\u001b[1;31mPatsyError\u001b[0m                                Traceback (most recent call last)",
      "File \u001b[1;32mc:\\Users\\wiche\\OneDrive\\Bureaublad\\MasterThesis\\masterthesisenv\\lib\\site-packages\\pymfe\\_internal.py:1506\u001b[0m, in \u001b[0;36mtransform_cat_gray\u001b[1;34m(data_categoric)\u001b[0m\n\u001b[0;32m   1505\u001b[0m \u001b[39mtry\u001b[39;00m:\n\u001b[1;32m-> 1506\u001b[0m     enc_data \u001b[39m=\u001b[39m patsy\u001b[39m.\u001b[39;49mdmatrix(formula, named_data, NA_action\u001b[39m=\u001b[39;49m\u001b[39m\"\u001b[39;49m\u001b[39mraise\u001b[39;49m\u001b[39m\"\u001b[39;49m)\n\u001b[0;32m   1507\u001b[0m     \u001b[39mreturn\u001b[39;00m np\u001b[39m.\u001b[39masarray(enc_data, dtype\u001b[39m=\u001b[39m\u001b[39mfloat\u001b[39m)\n",
      "File \u001b[1;32mc:\\Users\\wiche\\OneDrive\\Bureaublad\\MasterThesis\\masterthesisenv\\lib\\site-packages\\patsy\\highlevel.py:290\u001b[0m, in \u001b[0;36mdmatrix\u001b[1;34m(formula_like, data, eval_env, NA_action, return_type)\u001b[0m\n\u001b[0;32m    289\u001b[0m eval_env \u001b[39m=\u001b[39m EvalEnvironment\u001b[39m.\u001b[39mcapture(eval_env, reference\u001b[39m=\u001b[39m\u001b[39m1\u001b[39m)\n\u001b[1;32m--> 290\u001b[0m (lhs, rhs) \u001b[39m=\u001b[39m _do_highlevel_design(formula_like, data, eval_env,\n\u001b[0;32m    291\u001b[0m                                   NA_action, return_type)\n\u001b[0;32m    292\u001b[0m \u001b[39mif\u001b[39;00m lhs\u001b[39m.\u001b[39mshape[\u001b[39m1\u001b[39m] \u001b[39m!=\u001b[39m \u001b[39m0\u001b[39m:\n",
      "File \u001b[1;32mc:\\Users\\wiche\\OneDrive\\Bureaublad\\MasterThesis\\masterthesisenv\\lib\\site-packages\\patsy\\highlevel.py:167\u001b[0m, in \u001b[0;36m_do_highlevel_design\u001b[1;34m(formula_like, data, eval_env, NA_action, return_type)\u001b[0m\n\u001b[0;32m    166\u001b[0m \u001b[39mif\u001b[39;00m design_infos \u001b[39mis\u001b[39;00m \u001b[39mnot\u001b[39;00m \u001b[39mNone\u001b[39;00m:\n\u001b[1;32m--> 167\u001b[0m     \u001b[39mreturn\u001b[39;00m build_design_matrices(design_infos, data,\n\u001b[0;32m    168\u001b[0m                                  NA_action\u001b[39m=\u001b[39;49mNA_action,\n\u001b[0;32m    169\u001b[0m                                  return_type\u001b[39m=\u001b[39;49mreturn_type)\n\u001b[0;32m    170\u001b[0m \u001b[39melse\u001b[39;00m:\n\u001b[0;32m    171\u001b[0m     \u001b[39m# No builders, but maybe we can still get matrices\u001b[39;00m\n",
      "File \u001b[1;32mc:\\Users\\wiche\\OneDrive\\Bureaublad\\MasterThesis\\masterthesisenv\\lib\\site-packages\\patsy\\build.py:921\u001b[0m, in \u001b[0;36mbuild_design_matrices\u001b[1;34m(design_infos, data, NA_action, return_type, dtype)\u001b[0m\n\u001b[0;32m    920\u001b[0m     origins\u001b[39m.\u001b[39mappend(\u001b[39mNone\u001b[39;00m)\n\u001b[1;32m--> 921\u001b[0m new_values \u001b[39m=\u001b[39m NA_action\u001b[39m.\u001b[39;49mhandle_NA(values, is_NAs, origins)\n\u001b[0;32m    922\u001b[0m \u001b[39m# NA_action may have changed the number of rows.\u001b[39;00m\n",
      "File \u001b[1;32mc:\\Users\\wiche\\OneDrive\\Bureaublad\\MasterThesis\\masterthesisenv\\lib\\site-packages\\patsy\\missing.py:163\u001b[0m, in \u001b[0;36mNAAction.handle_NA\u001b[1;34m(self, values, is_NAs, origins)\u001b[0m\n\u001b[0;32m    162\u001b[0m \u001b[39mif\u001b[39;00m \u001b[39mself\u001b[39m\u001b[39m.\u001b[39mon_NA \u001b[39m==\u001b[39m \u001b[39m\"\u001b[39m\u001b[39mraise\u001b[39m\u001b[39m\"\u001b[39m:\n\u001b[1;32m--> 163\u001b[0m     \u001b[39mreturn\u001b[39;00m \u001b[39mself\u001b[39;49m\u001b[39m.\u001b[39;49m_handle_NA_raise(values, is_NAs, origins)\n\u001b[0;32m    164\u001b[0m \u001b[39melif\u001b[39;00m \u001b[39mself\u001b[39m\u001b[39m.\u001b[39mon_NA \u001b[39m==\u001b[39m \u001b[39m\"\u001b[39m\u001b[39mdrop\u001b[39m\u001b[39m\"\u001b[39m:\n",
      "File \u001b[1;32mc:\\Users\\wiche\\OneDrive\\Bureaublad\\MasterThesis\\masterthesisenv\\lib\\site-packages\\patsy\\missing.py:172\u001b[0m, in \u001b[0;36mNAAction._handle_NA_raise\u001b[1;34m(self, values, is_NAs, origins)\u001b[0m\n\u001b[0;32m    171\u001b[0m     \u001b[39mif\u001b[39;00m np\u001b[39m.\u001b[39many(is_NA):\n\u001b[1;32m--> 172\u001b[0m         \u001b[39mraise\u001b[39;00m PatsyError(\u001b[39m\"\u001b[39m\u001b[39mfactor contains missing values\u001b[39m\u001b[39m\"\u001b[39m, origin)\n\u001b[0;32m    173\u001b[0m \u001b[39mreturn\u001b[39;00m values\n",
      "\u001b[1;31mPatsyError\u001b[0m: factor contains missing values\n    ~ 0 + C0 + C1 + C2 + C3 + C4 + C5 + C6 + C7 + C8 + C9 + C10 + C11 + C12 + C13 + C14 + C15 + C16 + C17 + C18 + C19 + C20 + C21 + C22 + C23 + C24 + C25\n          ^^",
      "\nThe above exception was the direct cause of the following exception:\n",
      "\u001b[1;31mValueError\u001b[0m                                Traceback (most recent call last)",
      "Cell \u001b[1;32mIn[21], line 2\u001b[0m\n\u001b[0;32m      1\u001b[0m imputed_X \u001b[39m=\u001b[39m C\u001b[39m.\u001b[39mmerge(N, left_index \u001b[39m=\u001b[39m \u001b[39mTrue\u001b[39;00m, right_index \u001b[39m=\u001b[39m \u001b[39mTrue\u001b[39;00m)\u001b[39m.\u001b[39mto_numpy()\n\u001b[1;32m----> 2\u001b[0m mfe_landmark\u001b[39m.\u001b[39;49mfit(imputed_X, arr_y)\n\u001b[0;32m      3\u001b[0m mfe\u001b[39m.\u001b[39mfit(arr_X, arr_y)\n\u001b[0;32m      4\u001b[0m _, vals, time \u001b[39m=\u001b[39m mfe\u001b[39m.\u001b[39mextract()\n",
      "File \u001b[1;32mc:\\Users\\wiche\\OneDrive\\Bureaublad\\MasterThesis\\masterthesisenv\\lib\\site-packages\\pymfe\\mfe.py:1104\u001b[0m, in \u001b[0;36mMFE.fit\u001b[1;34m(self, X, y, transform_num, transform_cat, rescale, rescale_args, cat_cols, check_bool, precomp_groups, wildcard, suppress_warnings, verbose, **kwargs)\u001b[0m\n\u001b[0;32m   1095\u001b[0m \u001b[39mif\u001b[39;00m verbose \u001b[39m>\u001b[39m\u001b[39m=\u001b[39m \u001b[39m2\u001b[39m:\n\u001b[0;32m   1096\u001b[0m     \u001b[39mprint\u001b[39m(\n\u001b[0;32m   1097\u001b[0m         \u001b[39m\"\u001b[39m\u001b[39mDone.\u001b[39m\u001b[39m\"\u001b[39m,\n\u001b[0;32m   1098\u001b[0m         \u001b[39m\"\u001b[39m\u001b[39m \u001b[39m\u001b[39m{}\u001b[39;00m\u001b[39m Enconding categorical data into numerical values...\u001b[39m\u001b[39m\"\u001b[39m\n\u001b[1;32m   (...)\u001b[0m\n\u001b[0;32m   1101\u001b[0m         end\u001b[39m=\u001b[39m\u001b[39m\"\u001b[39m\u001b[39m\"\u001b[39m,\n\u001b[0;32m   1102\u001b[0m     )\n\u001b[1;32m-> 1104\u001b[0m data_num \u001b[39m=\u001b[39m \u001b[39mself\u001b[39;49m\u001b[39m.\u001b[39;49m_set_data_numeric(\n\u001b[0;32m   1105\u001b[0m     transform_cat\u001b[39m=\u001b[39;49mtransform_cat,\n\u001b[0;32m   1106\u001b[0m     rescale\u001b[39m=\u001b[39;49mrescale,\n\u001b[0;32m   1107\u001b[0m     rescale_args\u001b[39m=\u001b[39;49mrescale_args,\n\u001b[0;32m   1108\u001b[0m )\n\u001b[0;32m   1110\u001b[0m \u001b[39mif\u001b[39;00m verbose \u001b[39m>\u001b[39m\u001b[39m=\u001b[39m \u001b[39m2\u001b[39m:\n\u001b[0;32m   1111\u001b[0m     \u001b[39mprint\u001b[39m(\n\u001b[0;32m   1112\u001b[0m         \u001b[39m\"\u001b[39m\u001b[39mDone.\u001b[39m\u001b[39m\"\u001b[39m, \u001b[39m\"\u001b[39m\u001b[39mFinished data transformation process.\u001b[39m\u001b[39m\"\u001b[39m, sep\u001b[39m=\u001b[39m\u001b[39m\"\u001b[39m\u001b[39m\\n\u001b[39;00m\u001b[39m\"\u001b[39m\n\u001b[0;32m   1113\u001b[0m     )\n",
      "File \u001b[1;32mc:\\Users\\wiche\\OneDrive\\Bureaublad\\MasterThesis\\masterthesisenv\\lib\\site-packages\\pymfe\\mfe.py:879\u001b[0m, in \u001b[0;36mMFE._set_data_numeric\u001b[1;34m(self, transform_cat, rescale, rescale_args)\u001b[0m\n\u001b[0;32m    877\u001b[0m \u001b[39mif\u001b[39;00m transform_cat:\n\u001b[0;32m    878\u001b[0m     \u001b[39mif\u001b[39;00m transform_cat \u001b[39m==\u001b[39m \u001b[39m\"\u001b[39m\u001b[39mgray\u001b[39m\u001b[39m\"\u001b[39m:\n\u001b[1;32m--> 879\u001b[0m         cat_dummies \u001b[39m=\u001b[39m _internal\u001b[39m.\u001b[39;49mtransform_cat_gray(\n\u001b[0;32m    880\u001b[0m             \u001b[39mself\u001b[39;49m\u001b[39m.\u001b[39;49mX[:, \u001b[39mself\u001b[39;49m\u001b[39m.\u001b[39;49m_attr_indexes_cat]\n\u001b[0;32m    881\u001b[0m         )\n\u001b[0;32m    883\u001b[0m     \u001b[39melse\u001b[39;00m:\n\u001b[0;32m    884\u001b[0m         _use_all_ohe_columns \u001b[39m=\u001b[39m transform_cat \u001b[39m==\u001b[39m \u001b[39m\"\u001b[39m\u001b[39mone-hot-full\u001b[39m\u001b[39m\"\u001b[39m\n",
      "File \u001b[1;32mc:\\Users\\wiche\\OneDrive\\Bureaublad\\MasterThesis\\masterthesisenv\\lib\\site-packages\\pymfe\\_internal.py:1510\u001b[0m, in \u001b[0;36mtransform_cat_gray\u001b[1;34m(data_categoric)\u001b[0m\n\u001b[0;32m   1507\u001b[0m     \u001b[39mreturn\u001b[39;00m np\u001b[39m.\u001b[39masarray(enc_data, dtype\u001b[39m=\u001b[39m\u001b[39mfloat\u001b[39m)\n\u001b[0;32m   1509\u001b[0m \u001b[39mexcept\u001b[39;00m patsy\u001b[39m.\u001b[39mPatsyError \u001b[39mas\u001b[39;00m err:\n\u001b[1;32m-> 1510\u001b[0m     \u001b[39mraise\u001b[39;00m \u001b[39mValueError\u001b[39;00m(\n\u001b[0;32m   1511\u001b[0m         \u001b[39m\"\u001b[39m\u001b[39mCategorical data encoding of type \u001b[39m\u001b[39m'\u001b[39m\u001b[39mgray\u001b[39m\u001b[39m'\u001b[39m\u001b[39m has no \u001b[39m\u001b[39m\"\u001b[39m\n\u001b[0;32m   1512\u001b[0m         \u001b[39m\"\u001b[39m\u001b[39msupport for missing values. Please handle the \u001b[39m\u001b[39m\"\u001b[39m\n\u001b[0;32m   1513\u001b[0m         \u001b[39m\"\u001b[39m\u001b[39mmissing data manually before fitting it into the \u001b[39m\u001b[39m\"\u001b[39m\n\u001b[0;32m   1514\u001b[0m         \u001b[39m\"\u001b[39m\u001b[39mMFE model.\u001b[39m\u001b[39m\"\u001b[39m\n\u001b[0;32m   1515\u001b[0m     ) \u001b[39mfrom\u001b[39;00m \u001b[39merr\u001b[39;00m\n",
      "\u001b[1;31mValueError\u001b[0m: Categorical data encoding of type 'gray' has no support for missing values. Please handle the missing data manually before fitting it into the MFE model."
     ]
    }
   ],
   "source": [
    "imputed_X = C.merge(N, left_index = True, right_index = True).to_numpy()\n",
    "mfe_landmark.fit(imputed_X, arr_y)\n",
    "mfe.fit(arr_X, arr_y)\n",
    "_, vals, time = mfe.extract()\n",
    "_, vals_lm, time = mfe_landmark.extract()\n",
    "vals.extend(vals_lm)"
   ]
  },
  {
   "cell_type": "code",
   "execution_count": 65,
   "metadata": {},
   "outputs": [],
   "source": [
    "from sklearn.impute import SimpleImputer\n",
    "import numpy as np"
   ]
  },
  {
   "cell_type": "code",
   "execution_count": 102,
   "metadata": {},
   "outputs": [
    {
     "name": "stderr",
     "output_type": "stream",
     "text": [
      "c:\\Users\\wiche\\OneDrive\\Bureaublad\\MasterThesis\\masterthesisenv\\lib\\site-packages\\pymfe\\_internal.py:1568: UserWarning: It is not possible make equal discretization\n",
      "  warnings.warn(\"It is not possible make equal discretization\")\n",
      "c:\\Users\\wiche\\OneDrive\\Bureaublad\\MasterThesis\\masterthesisenv\\lib\\site-packages\\sklearn\\model_selection\\_split.py:700: UserWarning: The least populated class in y has only 4 members, which is less than n_splits=5.\n",
      "  warnings.warn(\n",
      "c:\\Users\\wiche\\OneDrive\\Bureaublad\\MasterThesis\\masterthesisenv\\lib\\site-packages\\pymfe\\_internal.py:1568: UserWarning: It is not possible make equal discretization\n",
      "  warnings.warn(\"It is not possible make equal discretization\")\n",
      "c:\\Users\\wiche\\OneDrive\\Bureaublad\\MasterThesis\\masterthesisenv\\lib\\site-packages\\sklearn\\preprocessing\\_encoders.py:808: FutureWarning: `sparse` was renamed to `sparse_output` in version 1.2 and will be removed in 1.4. `sparse_output` is ignored unless you leave `sparse` to its default value.\n",
      "  warnings.warn(\n",
      "c:\\Users\\wiche\\OneDrive\\Bureaublad\\MasterThesis\\masterthesisenv\\lib\\site-packages\\pymfe\\_internal.py:1281: UserWarning:  * Something went wrong while precomputing 'precompute_can_cors'. Will ignore this method. Error message:\n",
      "ValueError('Input X contains NaN.\\nCCA does not accept missing values encoded as NaN natively. For supervised learning, you might want to consider sklearn.ensemble.HistGradientBoostingClassifier and Regressor which accept missing values encoded as NaNs natively. Alternatively, it is possible to preprocess the data, for instance by using an imputer transformer in a pipeline or drop samples with missing values. See https://scikit-learn.org/stable/modules/impute.html You can find a list of all estimators that handle NaN values at the following page: https://scikit-learn.org/stable/modules/impute.html#estimators-that-handle-nan-values').\n",
      "  warnings.warn(\n",
      "c:\\Users\\wiche\\OneDrive\\Bureaublad\\MasterThesis\\masterthesisenv\\lib\\site-packages\\numpy\\lib\\function_base.py:2854: RuntimeWarning: invalid value encountered in divide\n",
      "  c /= stddev[:, None]\n",
      "c:\\Users\\wiche\\OneDrive\\Bureaublad\\MasterThesis\\masterthesisenv\\lib\\site-packages\\numpy\\lib\\function_base.py:2855: RuntimeWarning: invalid value encountered in divide\n",
      "  c /= stddev[None, :]\n"
     ]
    }
   ],
   "source": [
    "mfe_landmark = MFE(groups = [\"landmarking\"], summary = [\"nanmean\", \"nansd\"], num_cv_folds = 5, lm_sample_frac = 0.5, measure_time = \"total_summ\", suppress_warnings=True)\n",
    "mfe = MFE(features = ftrs, summary = [\"nanmean\", \"nansd\"], measure_time = \"total_summ\", suppress_warnings=True)\n",
    "columns = list(mfe.extract_metafeature_names())\n",
    "columns_lm = list(mfe.extract_metafeature_names())\n",
    "columns.extend(columns_lm)\n",
    "\n",
    "\n",
    "dataset = datasets.get_dataset(2)\n",
    "X, y, cat_mask, _ = dataset.get_data(dataset_format=\"array\", target = dataset.default_target_attribute)\n",
    "num_mask = [not elem for elem in cat_mask]\n",
    "C = X[:, cat_mask]\n",
    "N = X[:, num_mask]\n",
    "imputer_cat = SimpleImputer(strategy='most_frequent', missing_values=np.nan)\n",
    "if len(C) > 0:\n",
    "    C = imputer_cat.fit_transform(C)\n",
    "\n",
    "imputer_num = SimpleImputer(strategy='mean', missing_values=np.nan)\n",
    "N = imputer_num.fit_transform(N)\n",
    "imputed_X = np.concatenate((C, N), axis = 1)\n",
    "mfe_landmark.fit(imputed_X, y)\n",
    "mfe.fit(X, y)\n",
    "_, vals, time = mfe.extract()\n",
    "_, vals_lm, time = mfe_landmark.extract()\n",
    "vals.extend(vals_lm)\n",
    "\n"
   ]
  },
  {
   "cell_type": "code",
   "execution_count": 78,
   "metadata": {},
   "outputs": [
    {
     "name": "stderr",
     "output_type": "stream",
     "text": [
      "WARNING:openml.datasets.functions:Could not download file from http://openml1.win.tue.nl/dataset45069/dataset_45069.pq: Bucket does not exist or is private.\n"
     ]
    }
   ],
   "source": [
    "dataset = datasets.get_dataset(45069, download_all_files=False)\n",
    "X, y, cat_mask, _ = dataset.get_data(dataset_format=\"dataframe\", target = dataset.default_target_attribute)"
   ]
  },
  {
   "cell_type": "code",
   "execution_count": 79,
   "metadata": {},
   "outputs": [
    {
     "data": {
      "text/html": [
       "<div>\n",
       "<style scoped>\n",
       "    .dataframe tbody tr th:only-of-type {\n",
       "        vertical-align: middle;\n",
       "    }\n",
       "\n",
       "    .dataframe tbody tr th {\n",
       "        vertical-align: top;\n",
       "    }\n",
       "\n",
       "    .dataframe thead th {\n",
       "        text-align: right;\n",
       "    }\n",
       "</style>\n",
       "<table border=\"1\" class=\"dataframe\">\n",
       "  <thead>\n",
       "    <tr style=\"text-align: right;\">\n",
       "      <th></th>\n",
       "      <th>admission_type_id</th>\n",
       "      <th>discharge_disposition_id</th>\n",
       "      <th>admission_source_id</th>\n",
       "      <th>time_in_hospital</th>\n",
       "      <th>num_lab_procedures</th>\n",
       "      <th>num_procedures</th>\n",
       "      <th>num_medications</th>\n",
       "      <th>number_outpatient</th>\n",
       "      <th>number_emergency</th>\n",
       "      <th>number_inpatient</th>\n",
       "      <th>...</th>\n",
       "      <th>examide</th>\n",
       "      <th>citoglipton</th>\n",
       "      <th>insulin</th>\n",
       "      <th>glyburide.metformin</th>\n",
       "      <th>glipizide.metformin</th>\n",
       "      <th>glimepiride.pioglitazone</th>\n",
       "      <th>metformin.rosiglitazone</th>\n",
       "      <th>metformin.pioglitazone</th>\n",
       "      <th>change</th>\n",
       "      <th>diabetesMed</th>\n",
       "    </tr>\n",
       "  </thead>\n",
       "  <tbody>\n",
       "    <tr>\n",
       "      <th>0</th>\n",
       "      <td>1</td>\n",
       "      <td>3</td>\n",
       "      <td>7</td>\n",
       "      <td>4</td>\n",
       "      <td>41</td>\n",
       "      <td>2</td>\n",
       "      <td>17</td>\n",
       "      <td>0</td>\n",
       "      <td>0</td>\n",
       "      <td>0</td>\n",
       "      <td>...</td>\n",
       "      <td>No</td>\n",
       "      <td>No</td>\n",
       "      <td>Steady</td>\n",
       "      <td>No</td>\n",
       "      <td>No</td>\n",
       "      <td>No</td>\n",
       "      <td>No</td>\n",
       "      <td>No</td>\n",
       "      <td>Ch</td>\n",
       "      <td>Yes</td>\n",
       "    </tr>\n",
       "    <tr>\n",
       "      <th>1</th>\n",
       "      <td>5</td>\n",
       "      <td>1</td>\n",
       "      <td>1</td>\n",
       "      <td>3</td>\n",
       "      <td>64</td>\n",
       "      <td>0</td>\n",
       "      <td>10</td>\n",
       "      <td>0</td>\n",
       "      <td>0</td>\n",
       "      <td>1</td>\n",
       "      <td>...</td>\n",
       "      <td>No</td>\n",
       "      <td>No</td>\n",
       "      <td>Steady</td>\n",
       "      <td>No</td>\n",
       "      <td>No</td>\n",
       "      <td>No</td>\n",
       "      <td>No</td>\n",
       "      <td>No</td>\n",
       "      <td>Ch</td>\n",
       "      <td>Yes</td>\n",
       "    </tr>\n",
       "    <tr>\n",
       "      <th>2</th>\n",
       "      <td>2</td>\n",
       "      <td>1</td>\n",
       "      <td>1</td>\n",
       "      <td>2</td>\n",
       "      <td>39</td>\n",
       "      <td>0</td>\n",
       "      <td>8</td>\n",
       "      <td>0</td>\n",
       "      <td>0</td>\n",
       "      <td>0</td>\n",
       "      <td>...</td>\n",
       "      <td>No</td>\n",
       "      <td>No</td>\n",
       "      <td>Steady</td>\n",
       "      <td>No</td>\n",
       "      <td>No</td>\n",
       "      <td>No</td>\n",
       "      <td>No</td>\n",
       "      <td>No</td>\n",
       "      <td>Ch</td>\n",
       "      <td>Yes</td>\n",
       "    </tr>\n",
       "    <tr>\n",
       "      <th>3</th>\n",
       "      <td>3</td>\n",
       "      <td>1</td>\n",
       "      <td>1</td>\n",
       "      <td>1</td>\n",
       "      <td>39</td>\n",
       "      <td>2</td>\n",
       "      <td>12</td>\n",
       "      <td>0</td>\n",
       "      <td>0</td>\n",
       "      <td>1</td>\n",
       "      <td>...</td>\n",
       "      <td>No</td>\n",
       "      <td>No</td>\n",
       "      <td>No</td>\n",
       "      <td>No</td>\n",
       "      <td>No</td>\n",
       "      <td>No</td>\n",
       "      <td>No</td>\n",
       "      <td>No</td>\n",
       "      <td>No</td>\n",
       "      <td>No</td>\n",
       "    </tr>\n",
       "    <tr>\n",
       "      <th>4</th>\n",
       "      <td>3</td>\n",
       "      <td>1</td>\n",
       "      <td>1</td>\n",
       "      <td>3</td>\n",
       "      <td>21</td>\n",
       "      <td>2</td>\n",
       "      <td>23</td>\n",
       "      <td>1</td>\n",
       "      <td>0</td>\n",
       "      <td>0</td>\n",
       "      <td>...</td>\n",
       "      <td>No</td>\n",
       "      <td>No</td>\n",
       "      <td>No</td>\n",
       "      <td>No</td>\n",
       "      <td>No</td>\n",
       "      <td>No</td>\n",
       "      <td>No</td>\n",
       "      <td>No</td>\n",
       "      <td>Ch</td>\n",
       "      <td>Yes</td>\n",
       "    </tr>\n",
       "    <tr>\n",
       "      <th>...</th>\n",
       "      <td>...</td>\n",
       "      <td>...</td>\n",
       "      <td>...</td>\n",
       "      <td>...</td>\n",
       "      <td>...</td>\n",
       "      <td>...</td>\n",
       "      <td>...</td>\n",
       "      <td>...</td>\n",
       "      <td>...</td>\n",
       "      <td>...</td>\n",
       "      <td>...</td>\n",
       "      <td>...</td>\n",
       "      <td>...</td>\n",
       "      <td>...</td>\n",
       "      <td>...</td>\n",
       "      <td>...</td>\n",
       "      <td>...</td>\n",
       "      <td>...</td>\n",
       "      <td>...</td>\n",
       "      <td>...</td>\n",
       "      <td>...</td>\n",
       "    </tr>\n",
       "    <tr>\n",
       "      <th>101761</th>\n",
       "      <td>1</td>\n",
       "      <td>1</td>\n",
       "      <td>7</td>\n",
       "      <td>2</td>\n",
       "      <td>52</td>\n",
       "      <td>0</td>\n",
       "      <td>12</td>\n",
       "      <td>0</td>\n",
       "      <td>0</td>\n",
       "      <td>0</td>\n",
       "      <td>...</td>\n",
       "      <td>No</td>\n",
       "      <td>No</td>\n",
       "      <td>No</td>\n",
       "      <td>No</td>\n",
       "      <td>No</td>\n",
       "      <td>No</td>\n",
       "      <td>No</td>\n",
       "      <td>No</td>\n",
       "      <td>No</td>\n",
       "      <td>No</td>\n",
       "    </tr>\n",
       "    <tr>\n",
       "      <th>101762</th>\n",
       "      <td>1</td>\n",
       "      <td>1</td>\n",
       "      <td>7</td>\n",
       "      <td>6</td>\n",
       "      <td>50</td>\n",
       "      <td>0</td>\n",
       "      <td>17</td>\n",
       "      <td>1</td>\n",
       "      <td>0</td>\n",
       "      <td>6</td>\n",
       "      <td>...</td>\n",
       "      <td>No</td>\n",
       "      <td>No</td>\n",
       "      <td>Steady</td>\n",
       "      <td>No</td>\n",
       "      <td>No</td>\n",
       "      <td>No</td>\n",
       "      <td>No</td>\n",
       "      <td>No</td>\n",
       "      <td>No</td>\n",
       "      <td>Yes</td>\n",
       "    </tr>\n",
       "    <tr>\n",
       "      <th>101763</th>\n",
       "      <td>3</td>\n",
       "      <td>1</td>\n",
       "      <td>1</td>\n",
       "      <td>2</td>\n",
       "      <td>42</td>\n",
       "      <td>3</td>\n",
       "      <td>12</td>\n",
       "      <td>0</td>\n",
       "      <td>0</td>\n",
       "      <td>0</td>\n",
       "      <td>...</td>\n",
       "      <td>No</td>\n",
       "      <td>No</td>\n",
       "      <td>Steady</td>\n",
       "      <td>No</td>\n",
       "      <td>No</td>\n",
       "      <td>No</td>\n",
       "      <td>No</td>\n",
       "      <td>No</td>\n",
       "      <td>No</td>\n",
       "      <td>Yes</td>\n",
       "    </tr>\n",
       "    <tr>\n",
       "      <th>101764</th>\n",
       "      <td>1</td>\n",
       "      <td>22</td>\n",
       "      <td>2</td>\n",
       "      <td>14</td>\n",
       "      <td>65</td>\n",
       "      <td>2</td>\n",
       "      <td>18</td>\n",
       "      <td>0</td>\n",
       "      <td>0</td>\n",
       "      <td>0</td>\n",
       "      <td>...</td>\n",
       "      <td>No</td>\n",
       "      <td>No</td>\n",
       "      <td>Down</td>\n",
       "      <td>No</td>\n",
       "      <td>No</td>\n",
       "      <td>No</td>\n",
       "      <td>No</td>\n",
       "      <td>No</td>\n",
       "      <td>Ch</td>\n",
       "      <td>Yes</td>\n",
       "    </tr>\n",
       "    <tr>\n",
       "      <th>101765</th>\n",
       "      <td>6</td>\n",
       "      <td>3</td>\n",
       "      <td>7</td>\n",
       "      <td>4</td>\n",
       "      <td>58</td>\n",
       "      <td>1</td>\n",
       "      <td>19</td>\n",
       "      <td>0</td>\n",
       "      <td>0</td>\n",
       "      <td>2</td>\n",
       "      <td>...</td>\n",
       "      <td>No</td>\n",
       "      <td>No</td>\n",
       "      <td>No</td>\n",
       "      <td>No</td>\n",
       "      <td>No</td>\n",
       "      <td>No</td>\n",
       "      <td>No</td>\n",
       "      <td>No</td>\n",
       "      <td>No</td>\n",
       "      <td>Yes</td>\n",
       "    </tr>\n",
       "  </tbody>\n",
       "</table>\n",
       "<p>101766 rows × 47 columns</p>\n",
       "</div>"
      ],
      "text/plain": [
       "        admission_type_id  discharge_disposition_id  admission_source_id  \\\n",
       "0                       1                         3                    7   \n",
       "1                       5                         1                    1   \n",
       "2                       2                         1                    1   \n",
       "3                       3                         1                    1   \n",
       "4                       3                         1                    1   \n",
       "...                   ...                       ...                  ...   \n",
       "101761                  1                         1                    7   \n",
       "101762                  1                         1                    7   \n",
       "101763                  3                         1                    1   \n",
       "101764                  1                        22                    2   \n",
       "101765                  6                         3                    7   \n",
       "\n",
       "        time_in_hospital  num_lab_procedures  num_procedures  num_medications  \\\n",
       "0                      4                  41               2               17   \n",
       "1                      3                  64               0               10   \n",
       "2                      2                  39               0                8   \n",
       "3                      1                  39               2               12   \n",
       "4                      3                  21               2               23   \n",
       "...                  ...                 ...             ...              ...   \n",
       "101761                 2                  52               0               12   \n",
       "101762                 6                  50               0               17   \n",
       "101763                 2                  42               3               12   \n",
       "101764                14                  65               2               18   \n",
       "101765                 4                  58               1               19   \n",
       "\n",
       "        number_outpatient  number_emergency  number_inpatient  ...  examide  \\\n",
       "0                       0                 0                 0  ...       No   \n",
       "1                       0                 0                 1  ...       No   \n",
       "2                       0                 0                 0  ...       No   \n",
       "3                       0                 0                 1  ...       No   \n",
       "4                       1                 0                 0  ...       No   \n",
       "...                   ...               ...               ...  ...      ...   \n",
       "101761                  0                 0                 0  ...       No   \n",
       "101762                  1                 0                 6  ...       No   \n",
       "101763                  0                 0                 0  ...       No   \n",
       "101764                  0                 0                 0  ...       No   \n",
       "101765                  0                 0                 2  ...       No   \n",
       "\n",
       "       citoglipton insulin glyburide.metformin glipizide.metformin  \\\n",
       "0               No  Steady                  No                  No   \n",
       "1               No  Steady                  No                  No   \n",
       "2               No  Steady                  No                  No   \n",
       "3               No      No                  No                  No   \n",
       "4               No      No                  No                  No   \n",
       "...            ...     ...                 ...                 ...   \n",
       "101761          No      No                  No                  No   \n",
       "101762          No  Steady                  No                  No   \n",
       "101763          No  Steady                  No                  No   \n",
       "101764          No    Down                  No                  No   \n",
       "101765          No      No                  No                  No   \n",
       "\n",
       "       glimepiride.pioglitazone metformin.rosiglitazone  \\\n",
       "0                            No                      No   \n",
       "1                            No                      No   \n",
       "2                            No                      No   \n",
       "3                            No                      No   \n",
       "4                            No                      No   \n",
       "...                         ...                     ...   \n",
       "101761                       No                      No   \n",
       "101762                       No                      No   \n",
       "101763                       No                      No   \n",
       "101764                       No                      No   \n",
       "101765                       No                      No   \n",
       "\n",
       "       metformin.pioglitazone change diabetesMed  \n",
       "0                          No     Ch         Yes  \n",
       "1                          No     Ch         Yes  \n",
       "2                          No     Ch         Yes  \n",
       "3                          No     No          No  \n",
       "4                          No     Ch         Yes  \n",
       "...                       ...    ...         ...  \n",
       "101761                     No     No          No  \n",
       "101762                     No     No         Yes  \n",
       "101763                     No     No         Yes  \n",
       "101764                     No     Ch         Yes  \n",
       "101765                     No     No         Yes  \n",
       "\n",
       "[101766 rows x 47 columns]"
      ]
     },
     "execution_count": 79,
     "metadata": {},
     "output_type": "execute_result"
    }
   ],
   "source": [
    "X"
   ]
  },
  {
   "cell_type": "code",
   "execution_count": 66,
   "metadata": {},
   "outputs": [],
   "source": [
    "import pandas as pd\n",
    "import glob\n",
    "csv_files = glob.glob(f\"../data/final/*.{'csv'}\")\n",
    "meta_features = pd.concat([pd.read_csv(f, index_col = 0) for f in csv_files])"
   ]
  },
  {
   "cell_type": "code",
   "execution_count": 71,
   "metadata": {},
   "outputs": [],
   "source": [
    "failed_jobs = meta_features[meta_features.isnull().all(1)].index"
   ]
  },
  {
   "cell_type": "code",
   "execution_count": 72,
   "metadata": {},
   "outputs": [
    {
     "name": "stdout",
     "output_type": "stream",
     "text": [
      "failed 1092\n",
      "failed 4537\n"
     ]
    },
    {
     "name": "stderr",
     "output_type": "stream",
     "text": [
      "WARNING:openml.datasets.functions:Could not download file from http://openml1.win.tue.nl/dataset40590/dataset_40590.pq: Bucket does not exist or is private.\n"
     ]
    },
    {
     "name": "stdout",
     "output_type": "stream",
     "text": [
      "failed 40590\n",
      "failed 40864\n"
     ]
    },
    {
     "name": "stderr",
     "output_type": "stream",
     "text": [
      "WARNING:openml.datasets.functions:Could not download file from http://openml1.win.tue.nl/dataset41707/dataset_41707.pq: Bucket does not exist or is private.\n"
     ]
    },
    {
     "name": "stdout",
     "output_type": "stream",
     "text": [
      "failed 41022\n",
      "failed 41707\n"
     ]
    },
    {
     "name": "stderr",
     "output_type": "stream",
     "text": [
      "WARNING:openml.datasets.functions:Could not download file from http://openml1.win.tue.nl/dataset41708/dataset_41708.pq: Bucket does not exist or is private.\n",
      "WARNING:openml.datasets.functions:Could not download file from http://openml1.win.tue.nl/dataset41709/dataset_41709.pq: Bucket does not exist or is private.\n"
     ]
    },
    {
     "name": "stdout",
     "output_type": "stream",
     "text": [
      "failed 41708\n",
      "failed 41709\n"
     ]
    },
    {
     "name": "stderr",
     "output_type": "stream",
     "text": [
      "WARNING:openml.datasets.functions:Could not download file from http://openml1.win.tue.nl/dataset41710/dataset_41710.pq: Bucket does not exist or is private.\n",
      "WARNING:openml.datasets.functions:Could not download file from http://openml1.win.tue.nl/dataset41711/dataset_41711.pq: Bucket does not exist or is private.\n"
     ]
    },
    {
     "name": "stdout",
     "output_type": "stream",
     "text": [
      "failed 41710\n"
     ]
    },
    {
     "name": "stderr",
     "output_type": "stream",
     "text": [
      "WARNING:openml.datasets.functions:Could not download file from http://openml1.win.tue.nl/dataset41712/dataset_41712.pq: Bucket does not exist or is private.\n"
     ]
    },
    {
     "name": "stdout",
     "output_type": "stream",
     "text": [
      "failed 41711\n"
     ]
    },
    {
     "name": "stderr",
     "output_type": "stream",
     "text": [
      "WARNING:openml.datasets.functions:Could not download file from http://openml1.win.tue.nl/dataset41713/dataset_41713.pq: Bucket does not exist or is private.\n"
     ]
    },
    {
     "name": "stdout",
     "output_type": "stream",
     "text": [
      "failed 41712\n",
      "failed 41713\n"
     ]
    },
    {
     "name": "stderr",
     "output_type": "stream",
     "text": [
      "WARNING:openml.datasets.functions:Could not download file from http://openml1.win.tue.nl/dataset41714/dataset_41714.pq: Bucket does not exist or is private.\n",
      "WARNING:openml.datasets.functions:Could not download file from http://openml1.win.tue.nl/dataset41715/dataset_41715.pq: Bucket does not exist or is private.\n"
     ]
    },
    {
     "name": "stdout",
     "output_type": "stream",
     "text": [
      "failed 41714\n"
     ]
    },
    {
     "name": "stderr",
     "output_type": "stream",
     "text": [
      "WARNING:openml.datasets.functions:Could not download file from http://openml1.win.tue.nl/dataset41716/dataset_41716.pq: Bucket does not exist or is private.\n"
     ]
    },
    {
     "name": "stdout",
     "output_type": "stream",
     "text": [
      "failed 41715\n",
      "failed 41716\n"
     ]
    },
    {
     "name": "stderr",
     "output_type": "stream",
     "text": [
      "WARNING:openml.datasets.functions:Could not download file from http://openml1.win.tue.nl/dataset41717/dataset_41717.pq: Bucket does not exist or is private.\n",
      "WARNING:openml.datasets.functions:Could not download file from http://openml1.win.tue.nl/dataset41718/dataset_41718.pq: Bucket does not exist or is private.\n"
     ]
    },
    {
     "name": "stdout",
     "output_type": "stream",
     "text": [
      "failed 41717\n",
      "failed 41718\n"
     ]
    },
    {
     "name": "stderr",
     "output_type": "stream",
     "text": [
      "WARNING:openml.datasets.functions:Could not download file from http://openml1.win.tue.nl/dataset41719/dataset_41719.pq: Bucket does not exist or is private.\n"
     ]
    },
    {
     "name": "stdout",
     "output_type": "stream",
     "text": [
      "failed 41719\n"
     ]
    },
    {
     "name": "stderr",
     "output_type": "stream",
     "text": [
      "WARNING:openml.datasets.functions:Could not download file from http://openml1.win.tue.nl/dataset41720/dataset_41720.pq: Bucket does not exist or is private.\n",
      "WARNING:openml.datasets.functions:Could not download file from http://openml1.win.tue.nl/dataset41721/dataset_41721.pq: Bucket does not exist or is private.\n"
     ]
    },
    {
     "name": "stdout",
     "output_type": "stream",
     "text": [
      "failed 41720\n",
      "failed 41721\n"
     ]
    },
    {
     "name": "stderr",
     "output_type": "stream",
     "text": [
      "WARNING:openml.datasets.functions:Could not download file from http://openml1.win.tue.nl/dataset41722/dataset_41722.pq: Bucket does not exist or is private.\n",
      "WARNING:openml.datasets.functions:Could not download file from http://openml1.win.tue.nl/dataset41723/dataset_41723.pq: Bucket does not exist or is private.\n"
     ]
    },
    {
     "name": "stdout",
     "output_type": "stream",
     "text": [
      "failed 41722\n"
     ]
    },
    {
     "name": "stderr",
     "output_type": "stream",
     "text": [
      "WARNING:openml.datasets.functions:Could not download file from http://openml1.win.tue.nl/dataset41724/dataset_41724.pq: Bucket does not exist or is private.\n"
     ]
    },
    {
     "name": "stdout",
     "output_type": "stream",
     "text": [
      "failed 41723\n",
      "failed 41724\n"
     ]
    },
    {
     "name": "stderr",
     "output_type": "stream",
     "text": [
      "WARNING:openml.datasets.functions:Could not download file from http://openml1.win.tue.nl/dataset41725/dataset_41725.pq: Bucket does not exist or is private.\n",
      "WARNING:openml.datasets.functions:Could not download file from http://openml1.win.tue.nl/dataset41726/dataset_41726.pq: Bucket does not exist or is private.\n"
     ]
    },
    {
     "name": "stdout",
     "output_type": "stream",
     "text": [
      "failed 41725\n",
      "failed 41726\n"
     ]
    },
    {
     "name": "stderr",
     "output_type": "stream",
     "text": [
      "WARNING:openml.datasets.functions:Could not download file from http://openml1.win.tue.nl/dataset41727/dataset_41727.pq: Bucket does not exist or is private.\n",
      "WARNING:openml.datasets.functions:Could not download file from http://openml1.win.tue.nl/dataset41728/dataset_41728.pq: Bucket does not exist or is private.\n"
     ]
    },
    {
     "name": "stdout",
     "output_type": "stream",
     "text": [
      "failed 41727\n"
     ]
    },
    {
     "name": "stderr",
     "output_type": "stream",
     "text": [
      "WARNING:openml.datasets.functions:Could not download file from http://openml1.win.tue.nl/dataset41729/dataset_41729.pq: Bucket does not exist or is private.\n"
     ]
    },
    {
     "name": "stdout",
     "output_type": "stream",
     "text": [
      "failed 41728\n",
      "failed 41729\n"
     ]
    },
    {
     "name": "stderr",
     "output_type": "stream",
     "text": [
      "WARNING:openml.datasets.functions:Could not download file from http://openml1.win.tue.nl/dataset41730/dataset_41730.pq: Bucket does not exist or is private.\n"
     ]
    },
    {
     "name": "stdout",
     "output_type": "stream",
     "text": [
      "failed 41730\n"
     ]
    },
    {
     "name": "stderr",
     "output_type": "stream",
     "text": [
      "WARNING:openml.datasets.functions:Could not download file from http://openml1.win.tue.nl/dataset41731/dataset_41731.pq: Bucket does not exist or is private.\n",
      "WARNING:openml.datasets.functions:Could not download file from http://openml1.win.tue.nl/dataset41732/dataset_41732.pq: Bucket does not exist or is private.\n"
     ]
    },
    {
     "name": "stdout",
     "output_type": "stream",
     "text": [
      "failed 41731\n",
      "failed 41732\n"
     ]
    },
    {
     "name": "stderr",
     "output_type": "stream",
     "text": [
      "WARNING:openml.datasets.functions:Could not download file from http://openml1.win.tue.nl/dataset41733/dataset_41733.pq: Bucket does not exist or is private.\n",
      "WARNING:openml.datasets.functions:Could not download file from http://openml1.win.tue.nl/dataset41734/dataset_41734.pq: Bucket does not exist or is private.\n"
     ]
    },
    {
     "name": "stdout",
     "output_type": "stream",
     "text": [
      "failed 41733\n",
      "failed 41734\n"
     ]
    },
    {
     "name": "stderr",
     "output_type": "stream",
     "text": [
      "WARNING:openml.datasets.functions:Could not download file from http://openml1.win.tue.nl/dataset41735/dataset_41735.pq: Bucket does not exist or is private.\n"
     ]
    },
    {
     "name": "stdout",
     "output_type": "stream",
     "text": [
      "failed 41735\n"
     ]
    },
    {
     "name": "stderr",
     "output_type": "stream",
     "text": [
      "WARNING:openml.datasets.functions:Could not download file from http://openml1.win.tue.nl/dataset41736/dataset_41736.pq: Bucket does not exist or is private.\n",
      "WARNING:openml.datasets.functions:Could not download file from http://openml1.win.tue.nl/dataset41737/dataset_41737.pq: Bucket does not exist or is private.\n"
     ]
    },
    {
     "name": "stdout",
     "output_type": "stream",
     "text": [
      "failed 41736\n"
     ]
    },
    {
     "name": "stderr",
     "output_type": "stream",
     "text": [
      "WARNING:openml.datasets.functions:Could not download file from http://openml1.win.tue.nl/dataset41738/dataset_41738.pq: Bucket does not exist or is private.\n"
     ]
    },
    {
     "name": "stdout",
     "output_type": "stream",
     "text": [
      "failed 41737\n"
     ]
    },
    {
     "name": "stderr",
     "output_type": "stream",
     "text": [
      "WARNING:openml.datasets.functions:Could not download file from http://openml1.win.tue.nl/dataset41739/dataset_41739.pq: Bucket does not exist or is private.\n"
     ]
    },
    {
     "name": "stdout",
     "output_type": "stream",
     "text": [
      "failed 41738\n",
      "failed 41739\n"
     ]
    },
    {
     "name": "stderr",
     "output_type": "stream",
     "text": [
      "WARNING:openml.datasets.functions:Could not download file from http://openml1.win.tue.nl/dataset41740/dataset_41740.pq: Bucket does not exist or is private.\n"
     ]
    },
    {
     "name": "stdout",
     "output_type": "stream",
     "text": [
      "failed 41740\n"
     ]
    },
    {
     "name": "stderr",
     "output_type": "stream",
     "text": [
      "WARNING:openml.datasets.functions:Could not download file from http://openml1.win.tue.nl/dataset41741/dataset_41741.pq: Bucket does not exist or is private.\n",
      "WARNING:openml.datasets.functions:Could not download file from http://openml1.win.tue.nl/dataset41742/dataset_41742.pq: Bucket does not exist or is private.\n"
     ]
    },
    {
     "name": "stdout",
     "output_type": "stream",
     "text": [
      "failed 41741\n"
     ]
    },
    {
     "name": "stderr",
     "output_type": "stream",
     "text": [
      "WARNING:openml.datasets.functions:Could not download file from http://openml1.win.tue.nl/dataset41743/dataset_41743.pq: Bucket does not exist or is private.\n"
     ]
    },
    {
     "name": "stdout",
     "output_type": "stream",
     "text": [
      "failed 41742\n"
     ]
    },
    {
     "name": "stderr",
     "output_type": "stream",
     "text": [
      "WARNING:openml.datasets.functions:Could not download file from http://openml1.win.tue.nl/dataset41744/dataset_41744.pq: Bucket does not exist or is private.\n"
     ]
    },
    {
     "name": "stdout",
     "output_type": "stream",
     "text": [
      "failed 41743\n"
     ]
    },
    {
     "name": "stderr",
     "output_type": "stream",
     "text": [
      "WARNING:openml.datasets.functions:Could not download file from http://openml1.win.tue.nl/dataset41745/dataset_41745.pq: Bucket does not exist or is private.\n"
     ]
    },
    {
     "name": "stdout",
     "output_type": "stream",
     "text": [
      "failed 41744\n"
     ]
    },
    {
     "name": "stderr",
     "output_type": "stream",
     "text": [
      "WARNING:openml.datasets.functions:Could not download file from http://openml1.win.tue.nl/dataset41746/dataset_41746.pq: Bucket does not exist or is private.\n"
     ]
    },
    {
     "name": "stdout",
     "output_type": "stream",
     "text": [
      "failed 41745\n"
     ]
    },
    {
     "name": "stderr",
     "output_type": "stream",
     "text": [
      "WARNING:openml.datasets.functions:Could not download file from http://openml1.win.tue.nl/dataset41747/dataset_41747.pq: Bucket does not exist or is private.\n"
     ]
    },
    {
     "name": "stdout",
     "output_type": "stream",
     "text": [
      "failed 41746\n"
     ]
    },
    {
     "name": "stderr",
     "output_type": "stream",
     "text": [
      "WARNING:openml.datasets.functions:Could not download file from http://openml1.win.tue.nl/dataset41748/dataset_41748.pq: Bucket does not exist or is private.\n"
     ]
    },
    {
     "name": "stdout",
     "output_type": "stream",
     "text": [
      "failed 41747\n",
      "failed 41748\n"
     ]
    },
    {
     "name": "stderr",
     "output_type": "stream",
     "text": [
      "WARNING:openml.datasets.functions:Could not download file from http://openml1.win.tue.nl/dataset41749/dataset_41749.pq: Bucket does not exist or is private.\n",
      "WARNING:openml.datasets.functions:Could not download file from http://openml1.win.tue.nl/dataset41750/dataset_41750.pq: Bucket does not exist or is private.\n"
     ]
    },
    {
     "name": "stdout",
     "output_type": "stream",
     "text": [
      "failed 41749\n"
     ]
    },
    {
     "name": "stderr",
     "output_type": "stream",
     "text": [
      "WARNING:openml.datasets.functions:Could not download file from http://openml1.win.tue.nl/dataset41751/dataset_41751.pq: Bucket does not exist or is private.\n"
     ]
    },
    {
     "name": "stdout",
     "output_type": "stream",
     "text": [
      "failed 41750\n"
     ]
    },
    {
     "name": "stderr",
     "output_type": "stream",
     "text": [
      "WARNING:openml.datasets.functions:Could not download file from http://openml1.win.tue.nl/dataset41752/dataset_41752.pq: Bucket does not exist or is private.\n"
     ]
    },
    {
     "name": "stdout",
     "output_type": "stream",
     "text": [
      "failed 41751\n",
      "failed 41752\n"
     ]
    },
    {
     "name": "stderr",
     "output_type": "stream",
     "text": [
      "WARNING:openml.datasets.functions:Could not download file from http://openml1.win.tue.nl/dataset41753/dataset_41753.pq: Bucket does not exist or is private.\n"
     ]
    },
    {
     "name": "stdout",
     "output_type": "stream",
     "text": [
      "failed 41753\n"
     ]
    },
    {
     "name": "stderr",
     "output_type": "stream",
     "text": [
      "WARNING:openml.datasets.functions:Could not download file from http://openml1.win.tue.nl/dataset41754/dataset_41754.pq: Bucket does not exist or is private.\n",
      "WARNING:openml.datasets.functions:Could not download file from http://openml1.win.tue.nl/dataset41755/dataset_41755.pq: Bucket does not exist or is private.\n"
     ]
    },
    {
     "name": "stdout",
     "output_type": "stream",
     "text": [
      "failed 41754\n",
      "failed 41755\n"
     ]
    },
    {
     "name": "stderr",
     "output_type": "stream",
     "text": [
      "WARNING:openml.datasets.functions:Could not download file from http://openml1.win.tue.nl/dataset41756/dataset_41756.pq: Bucket does not exist or is private.\n",
      "WARNING:openml.datasets.functions:Could not download file from http://openml1.win.tue.nl/dataset41757/dataset_41757.pq: Bucket does not exist or is private.\n"
     ]
    },
    {
     "name": "stdout",
     "output_type": "stream",
     "text": [
      "failed 41756\n"
     ]
    },
    {
     "name": "stderr",
     "output_type": "stream",
     "text": [
      "WARNING:openml.datasets.functions:Could not download file from http://openml1.win.tue.nl/dataset41758/dataset_41758.pq: Bucket does not exist or is private.\n"
     ]
    },
    {
     "name": "stdout",
     "output_type": "stream",
     "text": [
      "failed 41757\n",
      "failed 41758\n"
     ]
    },
    {
     "name": "stderr",
     "output_type": "stream",
     "text": [
      "WARNING:openml.datasets.functions:Could not download file from http://openml1.win.tue.nl/dataset41759/dataset_41759.pq: Bucket does not exist or is private.\n",
      "WARNING:openml.datasets.functions:Could not download file from http://openml1.win.tue.nl/dataset41760/dataset_41760.pq: Bucket does not exist or is private.\n"
     ]
    },
    {
     "name": "stdout",
     "output_type": "stream",
     "text": [
      "failed 41759\n",
      "failed 41760\n"
     ]
    },
    {
     "name": "stderr",
     "output_type": "stream",
     "text": [
      "WARNING:openml.datasets.functions:Could not download file from http://openml1.win.tue.nl/dataset41761/dataset_41761.pq: Bucket does not exist or is private.\n",
      "WARNING:openml.datasets.functions:Could not download file from http://openml1.win.tue.nl/dataset41762/dataset_41762.pq: Bucket does not exist or is private.\n"
     ]
    },
    {
     "name": "stdout",
     "output_type": "stream",
     "text": [
      "failed 41761\n"
     ]
    },
    {
     "name": "stderr",
     "output_type": "stream",
     "text": [
      "WARNING:openml.datasets.functions:Could not download file from http://openml1.win.tue.nl/dataset41763/dataset_41763.pq: Bucket does not exist or is private.\n"
     ]
    },
    {
     "name": "stdout",
     "output_type": "stream",
     "text": [
      "failed 41762\n",
      "failed 41763\n"
     ]
    },
    {
     "name": "stderr",
     "output_type": "stream",
     "text": [
      "WARNING:openml.datasets.functions:Could not download file from http://openml1.win.tue.nl/dataset41764/dataset_41764.pq: Bucket does not exist or is private.\n"
     ]
    },
    {
     "name": "stdout",
     "output_type": "stream",
     "text": [
      "failed 41764\n"
     ]
    },
    {
     "name": "stderr",
     "output_type": "stream",
     "text": [
      "WARNING:openml.datasets.functions:Could not download file from http://openml1.win.tue.nl/dataset41765/dataset_41765.pq: Bucket does not exist or is private.\n"
     ]
    },
    {
     "name": "stdout",
     "output_type": "stream",
     "text": [
      "failed 41765\n"
     ]
    },
    {
     "name": "stderr",
     "output_type": "stream",
     "text": [
      "WARNING:openml.datasets.functions:Could not download file from http://openml1.win.tue.nl/dataset41766/dataset_41766.pq: Bucket does not exist or is private.\n",
      "WARNING:openml.datasets.functions:Could not download file from http://openml1.win.tue.nl/dataset41767/dataset_41767.pq: Bucket does not exist or is private.\n"
     ]
    },
    {
     "name": "stdout",
     "output_type": "stream",
     "text": [
      "failed 41766\n"
     ]
    },
    {
     "name": "stderr",
     "output_type": "stream",
     "text": [
      "WARNING:openml.datasets.functions:Could not download file from http://openml1.win.tue.nl/dataset41768/dataset_41768.pq: Bucket does not exist or is private.\n"
     ]
    },
    {
     "name": "stdout",
     "output_type": "stream",
     "text": [
      "failed 41767\n",
      "failed 41768\n"
     ]
    },
    {
     "name": "stderr",
     "output_type": "stream",
     "text": [
      "WARNING:openml.datasets.functions:Could not download file from http://openml1.win.tue.nl/dataset41769/dataset_41769.pq: Bucket does not exist or is private.\n",
      "WARNING:openml.datasets.functions:Could not download file from http://openml1.win.tue.nl/dataset41770/dataset_41770.pq: Bucket does not exist or is private.\n"
     ]
    },
    {
     "name": "stdout",
     "output_type": "stream",
     "text": [
      "failed 41769\n",
      "failed 41770\n"
     ]
    },
    {
     "name": "stderr",
     "output_type": "stream",
     "text": [
      "WARNING:openml.datasets.functions:Could not download file from http://openml1.win.tue.nl/dataset41771/dataset_41771.pq: Bucket does not exist or is private.\n",
      "WARNING:openml.datasets.functions:Could not download file from http://openml1.win.tue.nl/dataset41772/dataset_41772.pq: Bucket does not exist or is private.\n"
     ]
    },
    {
     "name": "stdout",
     "output_type": "stream",
     "text": [
      "failed 41771\n",
      "failed 41772\n"
     ]
    },
    {
     "name": "stderr",
     "output_type": "stream",
     "text": [
      "WARNING:openml.datasets.functions:Could not download file from http://openml1.win.tue.nl/dataset41773/dataset_41773.pq: Bucket does not exist or is private.\n",
      "WARNING:openml.datasets.functions:Could not download file from http://openml1.win.tue.nl/dataset41774/dataset_41774.pq: Bucket does not exist or is private.\n"
     ]
    },
    {
     "name": "stdout",
     "output_type": "stream",
     "text": [
      "failed 41773\n"
     ]
    },
    {
     "name": "stderr",
     "output_type": "stream",
     "text": [
      "WARNING:openml.datasets.functions:Could not download file from http://openml1.win.tue.nl/dataset41775/dataset_41775.pq: Bucket does not exist or is private.\n"
     ]
    },
    {
     "name": "stdout",
     "output_type": "stream",
     "text": [
      "failed 41774\n",
      "failed 41775\n"
     ]
    },
    {
     "name": "stderr",
     "output_type": "stream",
     "text": [
      "WARNING:openml.datasets.functions:Could not download file from http://openml1.win.tue.nl/dataset41776/dataset_41776.pq: Bucket does not exist or is private.\n",
      "WARNING:openml.datasets.functions:Could not download file from http://openml1.win.tue.nl/dataset41777/dataset_41777.pq: Bucket does not exist or is private.\n"
     ]
    },
    {
     "name": "stdout",
     "output_type": "stream",
     "text": [
      "failed 41776\n"
     ]
    },
    {
     "name": "stderr",
     "output_type": "stream",
     "text": [
      "WARNING:openml.datasets.functions:Could not download file from http://openml1.win.tue.nl/dataset41778/dataset_41778.pq: Bucket does not exist or is private.\n"
     ]
    },
    {
     "name": "stdout",
     "output_type": "stream",
     "text": [
      "failed 41777\n",
      "failed 41778\n"
     ]
    },
    {
     "name": "stderr",
     "output_type": "stream",
     "text": [
      "WARNING:openml.datasets.functions:Could not download file from http://openml1.win.tue.nl/dataset41779/dataset_41779.pq: Bucket does not exist or is private.\n",
      "WARNING:openml.datasets.functions:Could not download file from http://openml1.win.tue.nl/dataset41780/dataset_41780.pq: Bucket does not exist or is private.\n"
     ]
    },
    {
     "name": "stdout",
     "output_type": "stream",
     "text": [
      "failed 41779\n",
      "failed 41780\n"
     ]
    },
    {
     "name": "stderr",
     "output_type": "stream",
     "text": [
      "WARNING:openml.datasets.functions:Could not download file from http://openml1.win.tue.nl/dataset41781/dataset_41781.pq: Bucket does not exist or is private.\n",
      "WARNING:openml.datasets.functions:Could not download file from http://openml1.win.tue.nl/dataset41782/dataset_41782.pq: Bucket does not exist or is private.\n"
     ]
    },
    {
     "name": "stdout",
     "output_type": "stream",
     "text": [
      "failed 41781\n",
      "failed 41782\n"
     ]
    },
    {
     "name": "stderr",
     "output_type": "stream",
     "text": [
      "WARNING:openml.datasets.functions:Could not download file from http://openml1.win.tue.nl/dataset41783/dataset_41783.pq: Bucket does not exist or is private.\n",
      "WARNING:openml.datasets.functions:Could not download file from http://openml1.win.tue.nl/dataset41784/dataset_41784.pq: Bucket does not exist or is private.\n"
     ]
    },
    {
     "name": "stdout",
     "output_type": "stream",
     "text": [
      "failed 41783\n",
      "failed 41784\n"
     ]
    },
    {
     "name": "stderr",
     "output_type": "stream",
     "text": [
      "WARNING:openml.datasets.functions:Could not download file from http://openml1.win.tue.nl/dataset41785/dataset_41785.pq: Bucket does not exist or is private.\n",
      "WARNING:openml.datasets.functions:Could not download file from http://openml1.win.tue.nl/dataset41786/dataset_41786.pq: Bucket does not exist or is private.\n"
     ]
    },
    {
     "name": "stdout",
     "output_type": "stream",
     "text": [
      "failed 41785\n",
      "failed 41786\n"
     ]
    },
    {
     "name": "stderr",
     "output_type": "stream",
     "text": [
      "WARNING:openml.datasets.functions:Could not download file from http://openml1.win.tue.nl/dataset41787/dataset_41787.pq: Bucket does not exist or is private.\n",
      "WARNING:openml.datasets.functions:Could not download file from http://openml1.win.tue.nl/dataset41788/dataset_41788.pq: Bucket does not exist or is private.\n"
     ]
    },
    {
     "name": "stdout",
     "output_type": "stream",
     "text": [
      "failed 41787\n",
      "failed 41788\n"
     ]
    },
    {
     "name": "stderr",
     "output_type": "stream",
     "text": [
      "WARNING:openml.datasets.functions:Could not download file from http://openml1.win.tue.nl/dataset41789/dataset_41789.pq: Bucket does not exist or is private.\n",
      "WARNING:openml.datasets.functions:Could not download file from http://openml1.win.tue.nl/dataset41790/dataset_41790.pq: Bucket does not exist or is private.\n"
     ]
    },
    {
     "name": "stdout",
     "output_type": "stream",
     "text": [
      "failed 41789\n",
      "failed 41790\n"
     ]
    },
    {
     "name": "stderr",
     "output_type": "stream",
     "text": [
      "WARNING:openml.datasets.functions:Could not download file from http://openml1.win.tue.nl/dataset41791/dataset_41791.pq: Bucket does not exist or is private.\n",
      "WARNING:openml.datasets.functions:Could not download file from http://openml1.win.tue.nl/dataset41792/dataset_41792.pq: Bucket does not exist or is private.\n"
     ]
    },
    {
     "name": "stdout",
     "output_type": "stream",
     "text": [
      "failed 41791\n",
      "failed 41792\n"
     ]
    },
    {
     "name": "stderr",
     "output_type": "stream",
     "text": [
      "WARNING:openml.datasets.functions:Could not download file from http://openml1.win.tue.nl/dataset41793/dataset_41793.pq: Bucket does not exist or is private.\n"
     ]
    },
    {
     "name": "stdout",
     "output_type": "stream",
     "text": [
      "failed 41793\n"
     ]
    },
    {
     "name": "stderr",
     "output_type": "stream",
     "text": [
      "WARNING:openml.datasets.functions:Could not download file from http://openml1.win.tue.nl/dataset41794/dataset_41794.pq: Bucket does not exist or is private.\n",
      "WARNING:openml.datasets.functions:Could not download file from http://openml1.win.tue.nl/dataset41795/dataset_41795.pq: Bucket does not exist or is private.\n"
     ]
    },
    {
     "name": "stdout",
     "output_type": "stream",
     "text": [
      "failed 41794\n",
      "failed 41795\n"
     ]
    },
    {
     "name": "stderr",
     "output_type": "stream",
     "text": [
      "WARNING:openml.datasets.functions:Could not download file from http://openml1.win.tue.nl/dataset41796/dataset_41796.pq: Bucket does not exist or is private.\n",
      "WARNING:openml.datasets.functions:Could not download file from http://openml1.win.tue.nl/dataset41797/dataset_41797.pq: Bucket does not exist or is private.\n"
     ]
    },
    {
     "name": "stdout",
     "output_type": "stream",
     "text": [
      "failed 41796\n",
      "failed 41797\n"
     ]
    },
    {
     "name": "stderr",
     "output_type": "stream",
     "text": [
      "WARNING:openml.datasets.functions:Could not download file from http://openml1.win.tue.nl/dataset41798/dataset_41798.pq: Bucket does not exist or is private.\n"
     ]
    },
    {
     "name": "stdout",
     "output_type": "stream",
     "text": [
      "failed 41798\n"
     ]
    },
    {
     "name": "stderr",
     "output_type": "stream",
     "text": [
      "WARNING:openml.datasets.functions:Could not download file from http://openml1.win.tue.nl/dataset41799/dataset_41799.pq: Bucket does not exist or is private.\n",
      "WARNING:openml.datasets.functions:Could not download file from http://openml1.win.tue.nl/dataset41800/dataset_41800.pq: Bucket does not exist or is private.\n"
     ]
    },
    {
     "name": "stdout",
     "output_type": "stream",
     "text": [
      "failed 41799\n",
      "failed 41800\n"
     ]
    },
    {
     "name": "stderr",
     "output_type": "stream",
     "text": [
      "WARNING:openml.datasets.functions:Could not download file from http://openml1.win.tue.nl/dataset41801/dataset_41801.pq: Bucket does not exist or is private.\n",
      "WARNING:openml.datasets.functions:Could not download file from http://openml1.win.tue.nl/dataset41802/dataset_41802.pq: Bucket does not exist or is private.\n"
     ]
    },
    {
     "name": "stdout",
     "output_type": "stream",
     "text": [
      "failed 41801\n",
      "failed 41802\n"
     ]
    },
    {
     "name": "stderr",
     "output_type": "stream",
     "text": [
      "WARNING:openml.datasets.functions:Could not download file from http://openml1.win.tue.nl/dataset41803/dataset_41803.pq: Bucket does not exist or is private.\n",
      "WARNING:openml.datasets.functions:Could not download file from http://openml1.win.tue.nl/dataset41804/dataset_41804.pq: Bucket does not exist or is private.\n"
     ]
    },
    {
     "name": "stdout",
     "output_type": "stream",
     "text": [
      "failed 41803\n",
      "failed 41804\n"
     ]
    },
    {
     "name": "stderr",
     "output_type": "stream",
     "text": [
      "WARNING:openml.datasets.functions:Could not download file from http://openml1.win.tue.nl/dataset41805/dataset_41805.pq: Bucket does not exist or is private.\n"
     ]
    },
    {
     "name": "stdout",
     "output_type": "stream",
     "text": [
      "failed 41805\n"
     ]
    },
    {
     "name": "stderr",
     "output_type": "stream",
     "text": [
      "WARNING:openml.datasets.functions:Could not download file from http://openml1.win.tue.nl/dataset41806/dataset_41806.pq: Bucket does not exist or is private.\n",
      "WARNING:openml.datasets.functions:Could not download file from http://openml1.win.tue.nl/dataset41807/dataset_41807.pq: Bucket does not exist or is private.\n"
     ]
    },
    {
     "name": "stdout",
     "output_type": "stream",
     "text": [
      "failed 41806\n",
      "failed 41807\n"
     ]
    },
    {
     "name": "stderr",
     "output_type": "stream",
     "text": [
      "WARNING:openml.datasets.functions:Could not download file from http://openml1.win.tue.nl/dataset41808/dataset_41808.pq: Bucket does not exist or is private.\n",
      "WARNING:openml.datasets.functions:Could not download file from http://openml1.win.tue.nl/dataset41809/dataset_41809.pq: Bucket does not exist or is private.\n"
     ]
    },
    {
     "name": "stdout",
     "output_type": "stream",
     "text": [
      "failed 41808\n",
      "failed 41809\n"
     ]
    },
    {
     "name": "stderr",
     "output_type": "stream",
     "text": [
      "WARNING:openml.datasets.functions:Could not download file from http://openml1.win.tue.nl/dataset41810/dataset_41810.pq: Bucket does not exist or is private.\n",
      "WARNING:openml.datasets.functions:Could not download file from http://openml1.win.tue.nl/dataset41811/dataset_41811.pq: Bucket does not exist or is private.\n"
     ]
    },
    {
     "name": "stdout",
     "output_type": "stream",
     "text": [
      "failed 41810\n"
     ]
    },
    {
     "name": "stderr",
     "output_type": "stream",
     "text": [
      "WARNING:openml.datasets.functions:Could not download file from http://openml1.win.tue.nl/dataset41812/dataset_41812.pq: Bucket does not exist or is private.\n"
     ]
    },
    {
     "name": "stdout",
     "output_type": "stream",
     "text": [
      "failed 41811\n",
      "failed 41812\n"
     ]
    },
    {
     "name": "stderr",
     "output_type": "stream",
     "text": [
      "WARNING:openml.datasets.functions:Could not download file from http://openml1.win.tue.nl/dataset41813/dataset_41813.pq: Bucket does not exist or is private.\n",
      "WARNING:openml.datasets.functions:Could not download file from http://openml1.win.tue.nl/dataset41814/dataset_41814.pq: Bucket does not exist or is private.\n"
     ]
    },
    {
     "name": "stdout",
     "output_type": "stream",
     "text": [
      "failed 41813\n"
     ]
    },
    {
     "name": "stderr",
     "output_type": "stream",
     "text": [
      "WARNING:openml.datasets.functions:Could not download file from http://openml1.win.tue.nl/dataset41815/dataset_41815.pq: Bucket does not exist or is private.\n"
     ]
    },
    {
     "name": "stdout",
     "output_type": "stream",
     "text": [
      "failed 41814\n",
      "failed 41815\n"
     ]
    },
    {
     "name": "stderr",
     "output_type": "stream",
     "text": [
      "WARNING:openml.datasets.functions:Could not download file from http://openml1.win.tue.nl/dataset41816/dataset_41816.pq: Bucket does not exist or is private.\n",
      "WARNING:openml.datasets.functions:Could not download file from http://openml1.win.tue.nl/dataset41817/dataset_41817.pq: Bucket does not exist or is private.\n"
     ]
    },
    {
     "name": "stdout",
     "output_type": "stream",
     "text": [
      "failed 41816\n"
     ]
    },
    {
     "name": "stderr",
     "output_type": "stream",
     "text": [
      "WARNING:openml.datasets.functions:Could not download file from http://openml1.win.tue.nl/dataset41818/dataset_41818.pq: Bucket does not exist or is private.\n"
     ]
    },
    {
     "name": "stdout",
     "output_type": "stream",
     "text": [
      "failed 41817\n"
     ]
    },
    {
     "name": "stderr",
     "output_type": "stream",
     "text": [
      "WARNING:openml.datasets.functions:Could not download file from http://openml1.win.tue.nl/dataset41819/dataset_41819.pq: Bucket does not exist or is private.\n"
     ]
    },
    {
     "name": "stdout",
     "output_type": "stream",
     "text": [
      "failed 41818\n",
      "failed 41819\n"
     ]
    },
    {
     "name": "stderr",
     "output_type": "stream",
     "text": [
      "WARNING:openml.datasets.functions:Could not download file from http://openml1.win.tue.nl/dataset41820/dataset_41820.pq: Bucket does not exist or is private.\n",
      "WARNING:openml.datasets.functions:Could not download file from http://openml1.win.tue.nl/dataset41821/dataset_41821.pq: Bucket does not exist or is private.\n"
     ]
    },
    {
     "name": "stdout",
     "output_type": "stream",
     "text": [
      "failed 41820\n"
     ]
    },
    {
     "name": "stderr",
     "output_type": "stream",
     "text": [
      "WARNING:openml.datasets.functions:Could not download file from http://openml1.win.tue.nl/dataset41822/dataset_41822.pq: Bucket does not exist or is private.\n"
     ]
    },
    {
     "name": "stdout",
     "output_type": "stream",
     "text": [
      "failed 41821\n",
      "failed 41822\n"
     ]
    },
    {
     "name": "stderr",
     "output_type": "stream",
     "text": [
      "WARNING:openml.datasets.functions:Could not download file from http://openml1.win.tue.nl/dataset41823/dataset_41823.pq: Bucket does not exist or is private.\n",
      "WARNING:openml.datasets.functions:Could not download file from http://openml1.win.tue.nl/dataset41824/dataset_41824.pq: Bucket does not exist or is private.\n"
     ]
    },
    {
     "name": "stdout",
     "output_type": "stream",
     "text": [
      "failed 41823\n",
      "failed 41824\n"
     ]
    },
    {
     "name": "stderr",
     "output_type": "stream",
     "text": [
      "WARNING:openml.datasets.functions:Could not download file from http://openml1.win.tue.nl/dataset41825/dataset_41825.pq: Bucket does not exist or is private.\n",
      "WARNING:openml.datasets.functions:Could not download file from http://openml1.win.tue.nl/dataset41826/dataset_41826.pq: Bucket does not exist or is private.\n"
     ]
    },
    {
     "name": "stdout",
     "output_type": "stream",
     "text": [
      "failed 41825\n",
      "failed 41826\n"
     ]
    },
    {
     "name": "stderr",
     "output_type": "stream",
     "text": [
      "WARNING:openml.datasets.functions:Could not download file from http://openml1.win.tue.nl/dataset41827/dataset_41827.pq: Bucket does not exist or is private.\n"
     ]
    },
    {
     "name": "stdout",
     "output_type": "stream",
     "text": [
      "failed 41827\n"
     ]
    },
    {
     "name": "stderr",
     "output_type": "stream",
     "text": [
      "WARNING:openml.datasets.functions:Could not download file from http://openml1.win.tue.nl/dataset41828/dataset_41828.pq: Bucket does not exist or is private.\n",
      "WARNING:openml.datasets.functions:Could not download file from http://openml1.win.tue.nl/dataset41829/dataset_41829.pq: Bucket does not exist or is private.\n"
     ]
    },
    {
     "name": "stdout",
     "output_type": "stream",
     "text": [
      "failed 41828\n",
      "failed 41829\n"
     ]
    },
    {
     "name": "stderr",
     "output_type": "stream",
     "text": [
      "WARNING:openml.datasets.functions:Could not download file from http://openml1.win.tue.nl/dataset41830/dataset_41830.pq: Bucket does not exist or is private.\n",
      "WARNING:openml.datasets.functions:Could not download file from http://openml1.win.tue.nl/dataset41831/dataset_41831.pq: Bucket does not exist or is private.\n"
     ]
    },
    {
     "name": "stdout",
     "output_type": "stream",
     "text": [
      "failed 41830\n"
     ]
    },
    {
     "name": "stderr",
     "output_type": "stream",
     "text": [
      "WARNING:openml.datasets.functions:Could not download file from http://openml1.win.tue.nl/dataset41832/dataset_41832.pq: Bucket does not exist or is private.\n"
     ]
    },
    {
     "name": "stdout",
     "output_type": "stream",
     "text": [
      "failed 41831\n"
     ]
    },
    {
     "name": "stderr",
     "output_type": "stream",
     "text": [
      "WARNING:openml.datasets.functions:Could not download file from http://openml1.win.tue.nl/dataset41833/dataset_41833.pq: Bucket does not exist or is private.\n"
     ]
    },
    {
     "name": "stdout",
     "output_type": "stream",
     "text": [
      "failed 41832\n"
     ]
    },
    {
     "name": "stderr",
     "output_type": "stream",
     "text": [
      "WARNING:openml.datasets.functions:Could not download file from http://openml1.win.tue.nl/dataset41834/dataset_41834.pq: Bucket does not exist or is private.\n"
     ]
    },
    {
     "name": "stdout",
     "output_type": "stream",
     "text": [
      "failed 41833\n"
     ]
    },
    {
     "name": "stderr",
     "output_type": "stream",
     "text": [
      "WARNING:openml.datasets.functions:Could not download file from http://openml1.win.tue.nl/dataset41835/dataset_41835.pq: Bucket does not exist or is private.\n"
     ]
    },
    {
     "name": "stdout",
     "output_type": "stream",
     "text": [
      "failed 41834\n"
     ]
    },
    {
     "name": "stderr",
     "output_type": "stream",
     "text": [
      "WARNING:openml.datasets.functions:Could not download file from http://openml1.win.tue.nl/dataset41836/dataset_41836.pq: Bucket does not exist or is private.\n"
     ]
    },
    {
     "name": "stdout",
     "output_type": "stream",
     "text": [
      "failed 41835\n",
      "failed 41836\n"
     ]
    },
    {
     "name": "stderr",
     "output_type": "stream",
     "text": [
      "WARNING:openml.datasets.functions:Could not download file from http://openml1.win.tue.nl/dataset41837/dataset_41837.pq: Bucket does not exist or is private.\n",
      "WARNING:openml.datasets.functions:Could not download file from http://openml1.win.tue.nl/dataset41838/dataset_41838.pq: Bucket does not exist or is private.\n"
     ]
    },
    {
     "name": "stdout",
     "output_type": "stream",
     "text": [
      "failed 41837\n",
      "failed 41838\n"
     ]
    },
    {
     "name": "stderr",
     "output_type": "stream",
     "text": [
      "WARNING:openml.datasets.functions:Could not download file from http://openml1.win.tue.nl/dataset41839/dataset_41839.pq: Bucket does not exist or is private.\n",
      "WARNING:openml.datasets.functions:Could not download file from http://openml1.win.tue.nl/dataset41840/dataset_41840.pq: Bucket does not exist or is private.\n"
     ]
    },
    {
     "name": "stdout",
     "output_type": "stream",
     "text": [
      "failed 41839\n",
      "failed 41840\n"
     ]
    },
    {
     "name": "stderr",
     "output_type": "stream",
     "text": [
      "WARNING:openml.datasets.functions:Could not download file from http://openml1.win.tue.nl/dataset41841/dataset_41841.pq: Bucket does not exist or is private.\n"
     ]
    },
    {
     "name": "stdout",
     "output_type": "stream",
     "text": [
      "failed 41841\n"
     ]
    },
    {
     "name": "stderr",
     "output_type": "stream",
     "text": [
      "WARNING:openml.datasets.functions:Could not download file from http://openml1.win.tue.nl/dataset41842/dataset_41842.pq: Bucket does not exist or is private.\n",
      "WARNING:openml.datasets.functions:Could not download file from http://openml1.win.tue.nl/dataset41843/dataset_41843.pq: Bucket does not exist or is private.\n"
     ]
    },
    {
     "name": "stdout",
     "output_type": "stream",
     "text": [
      "failed 41842\n",
      "failed 41843\n"
     ]
    },
    {
     "name": "stderr",
     "output_type": "stream",
     "text": [
      "WARNING:openml.datasets.functions:Could not download file from http://openml1.win.tue.nl/dataset41844/dataset_41844.pq: Bucket does not exist or is private.\n",
      "WARNING:openml.datasets.functions:Could not download file from http://openml1.win.tue.nl/dataset41845/dataset_41845.pq: Bucket does not exist or is private.\n"
     ]
    },
    {
     "name": "stdout",
     "output_type": "stream",
     "text": [
      "failed 41844\n",
      "failed 41845\n"
     ]
    },
    {
     "name": "stderr",
     "output_type": "stream",
     "text": [
      "WARNING:openml.datasets.functions:Could not download file from http://openml1.win.tue.nl/dataset41846/dataset_41846.pq: Bucket does not exist or is private.\n",
      "WARNING:openml.datasets.functions:Could not download file from http://openml1.win.tue.nl/dataset41847/dataset_41847.pq: Bucket does not exist or is private.\n"
     ]
    },
    {
     "name": "stdout",
     "output_type": "stream",
     "text": [
      "failed 41846\n",
      "failed 41847\n"
     ]
    },
    {
     "name": "stderr",
     "output_type": "stream",
     "text": [
      "WARNING:openml.datasets.functions:Could not download file from http://openml1.win.tue.nl/dataset41848/dataset_41848.pq: Bucket does not exist or is private.\n",
      "WARNING:openml.datasets.functions:Could not download file from http://openml1.win.tue.nl/dataset41849/dataset_41849.pq: Bucket does not exist or is private.\n"
     ]
    },
    {
     "name": "stdout",
     "output_type": "stream",
     "text": [
      "failed 41848\n",
      "failed 41849\n"
     ]
    },
    {
     "name": "stderr",
     "output_type": "stream",
     "text": [
      "WARNING:openml.datasets.functions:Could not download file from http://openml1.win.tue.nl/dataset41850/dataset_41850.pq: Bucket does not exist or is private.\n",
      "WARNING:openml.datasets.functions:Could not download file from http://openml1.win.tue.nl/dataset41851/dataset_41851.pq: Bucket does not exist or is private.\n"
     ]
    },
    {
     "name": "stdout",
     "output_type": "stream",
     "text": [
      "failed 41850\n",
      "failed 41851\n"
     ]
    },
    {
     "name": "stderr",
     "output_type": "stream",
     "text": [
      "WARNING:openml.datasets.functions:Could not download file from http://openml1.win.tue.nl/dataset41852/dataset_41852.pq: Bucket does not exist or is private.\n",
      "WARNING:openml.datasets.functions:Could not download file from http://openml1.win.tue.nl/dataset41853/dataset_41853.pq: Bucket does not exist or is private.\n"
     ]
    },
    {
     "name": "stdout",
     "output_type": "stream",
     "text": [
      "failed 41852\n",
      "failed 41853\n"
     ]
    },
    {
     "name": "stderr",
     "output_type": "stream",
     "text": [
      "WARNING:openml.datasets.functions:Could not download file from http://openml1.win.tue.nl/dataset41854/dataset_41854.pq: Bucket does not exist or is private.\n",
      "WARNING:openml.datasets.functions:Could not download file from http://openml1.win.tue.nl/dataset41855/dataset_41855.pq: Bucket does not exist or is private.\n"
     ]
    },
    {
     "name": "stdout",
     "output_type": "stream",
     "text": [
      "failed 41854\n",
      "failed 41855\n"
     ]
    },
    {
     "name": "stderr",
     "output_type": "stream",
     "text": [
      "WARNING:openml.datasets.functions:Could not download file from http://openml1.win.tue.nl/dataset41856/dataset_41856.pq: Bucket does not exist or is private.\n",
      "WARNING:openml.datasets.functions:Could not download file from http://openml1.win.tue.nl/dataset41857/dataset_41857.pq: Bucket does not exist or is private.\n"
     ]
    },
    {
     "name": "stdout",
     "output_type": "stream",
     "text": [
      "failed 41856\n"
     ]
    },
    {
     "name": "stderr",
     "output_type": "stream",
     "text": [
      "WARNING:openml.datasets.functions:Could not download file from http://openml1.win.tue.nl/dataset41858/dataset_41858.pq: Bucket does not exist or is private.\n"
     ]
    },
    {
     "name": "stdout",
     "output_type": "stream",
     "text": [
      "failed 41857\n",
      "failed 41858\n"
     ]
    },
    {
     "name": "stderr",
     "output_type": "stream",
     "text": [
      "WARNING:openml.datasets.functions:Could not download file from http://openml1.win.tue.nl/dataset41859/dataset_41859.pq: Bucket does not exist or is private.\n",
      "WARNING:openml.datasets.functions:Could not download file from http://openml1.win.tue.nl/dataset41860/dataset_41860.pq: Bucket does not exist or is private.\n"
     ]
    },
    {
     "name": "stdout",
     "output_type": "stream",
     "text": [
      "failed 41859\n",
      "failed 41860\n"
     ]
    },
    {
     "name": "stderr",
     "output_type": "stream",
     "text": [
      "WARNING:openml.datasets.functions:Could not download file from http://openml1.win.tue.nl/dataset41861/dataset_41861.pq: Bucket does not exist or is private.\n",
      "WARNING:openml.datasets.functions:Could not download file from http://openml1.win.tue.nl/dataset41862/dataset_41862.pq: Bucket does not exist or is private.\n"
     ]
    },
    {
     "name": "stdout",
     "output_type": "stream",
     "text": [
      "failed 41861\n",
      "failed 41862\n"
     ]
    },
    {
     "name": "stderr",
     "output_type": "stream",
     "text": [
      "WARNING:openml.datasets.functions:Could not download file from http://openml1.win.tue.nl/dataset41863/dataset_41863.pq: Bucket does not exist or is private.\n",
      "WARNING:openml.datasets.functions:Could not download file from http://openml1.win.tue.nl/dataset41864/dataset_41864.pq: Bucket does not exist or is private.\n"
     ]
    },
    {
     "name": "stdout",
     "output_type": "stream",
     "text": [
      "failed 41863\n",
      "failed 41864\n"
     ]
    },
    {
     "name": "stderr",
     "output_type": "stream",
     "text": [
      "WARNING:openml.datasets.functions:Could not download file from http://openml1.win.tue.nl/dataset41865/dataset_41865.pq: Bucket does not exist or is private.\n"
     ]
    },
    {
     "name": "stdout",
     "output_type": "stream",
     "text": [
      "failed 41865\n"
     ]
    },
    {
     "name": "stderr",
     "output_type": "stream",
     "text": [
      "WARNING:openml.datasets.functions:Could not download file from http://openml1.win.tue.nl/dataset41866/dataset_41866.pq: Bucket does not exist or is private.\n",
      "WARNING:openml.datasets.functions:Could not download file from http://openml1.win.tue.nl/dataset41867/dataset_41867.pq: Bucket does not exist or is private.\n"
     ]
    },
    {
     "name": "stdout",
     "output_type": "stream",
     "text": [
      "failed 41866\n",
      "failed 41867\n"
     ]
    },
    {
     "name": "stderr",
     "output_type": "stream",
     "text": [
      "WARNING:openml.datasets.functions:Could not download file from http://openml1.win.tue.nl/dataset41868/dataset_41868.pq: Bucket does not exist or is private.\n",
      "WARNING:openml.datasets.functions:Could not download file from http://openml1.win.tue.nl/dataset41869/dataset_41869.pq: Bucket does not exist or is private.\n"
     ]
    },
    {
     "name": "stdout",
     "output_type": "stream",
     "text": [
      "failed 41868\n",
      "failed 41869\n"
     ]
    },
    {
     "name": "stderr",
     "output_type": "stream",
     "text": [
      "WARNING:openml.datasets.functions:Could not download file from http://openml1.win.tue.nl/dataset41870/dataset_41870.pq: Bucket does not exist or is private.\n"
     ]
    },
    {
     "name": "stdout",
     "output_type": "stream",
     "text": [
      "failed 41870\n"
     ]
    },
    {
     "name": "stderr",
     "output_type": "stream",
     "text": [
      "WARNING:openml.datasets.functions:Could not download file from http://openml1.win.tue.nl/dataset41871/dataset_41871.pq: Bucket does not exist or is private.\n"
     ]
    },
    {
     "name": "stdout",
     "output_type": "stream",
     "text": [
      "failed 41871\n"
     ]
    },
    {
     "name": "stderr",
     "output_type": "stream",
     "text": [
      "WARNING:openml.datasets.functions:Could not download file from http://openml1.win.tue.nl/dataset41872/dataset_41872.pq: Bucket does not exist or is private.\n",
      "WARNING:openml.datasets.functions:Could not download file from http://openml1.win.tue.nl/dataset41873/dataset_41873.pq: Bucket does not exist or is private.\n"
     ]
    },
    {
     "name": "stdout",
     "output_type": "stream",
     "text": [
      "failed 41872\n",
      "failed 41873\n"
     ]
    },
    {
     "name": "stderr",
     "output_type": "stream",
     "text": [
      "WARNING:openml.datasets.functions:Could not download file from http://openml1.win.tue.nl/dataset41874/dataset_41874.pq: Bucket does not exist or is private.\n",
      "WARNING:openml.datasets.functions:Could not download file from http://openml1.win.tue.nl/dataset41875/dataset_41875.pq: Bucket does not exist or is private.\n"
     ]
    },
    {
     "name": "stdout",
     "output_type": "stream",
     "text": [
      "failed 41874\n",
      "failed 41875\n"
     ]
    },
    {
     "name": "stderr",
     "output_type": "stream",
     "text": [
      "WARNING:openml.datasets.functions:Could not download file from http://openml1.win.tue.nl/dataset41876/dataset_41876.pq: Bucket does not exist or is private.\n"
     ]
    },
    {
     "name": "stdout",
     "output_type": "stream",
     "text": [
      "failed 41876\n"
     ]
    },
    {
     "name": "stderr",
     "output_type": "stream",
     "text": [
      "WARNING:openml.datasets.functions:Could not download file from http://openml1.win.tue.nl/dataset41877/dataset_41877.pq: Bucket does not exist or is private.\n"
     ]
    },
    {
     "name": "stdout",
     "output_type": "stream",
     "text": [
      "failed 41877\n"
     ]
    },
    {
     "name": "stderr",
     "output_type": "stream",
     "text": [
      "WARNING:openml.datasets.functions:Could not download file from http://openml1.win.tue.nl/dataset41878/dataset_41878.pq: Bucket does not exist or is private.\n",
      "WARNING:openml.datasets.functions:Could not download file from http://openml1.win.tue.nl/dataset41879/dataset_41879.pq: Bucket does not exist or is private.\n"
     ]
    },
    {
     "name": "stdout",
     "output_type": "stream",
     "text": [
      "failed 41878\n",
      "failed 41879\n"
     ]
    },
    {
     "name": "stderr",
     "output_type": "stream",
     "text": [
      "WARNING:openml.datasets.functions:Could not download file from http://openml1.win.tue.nl/dataset41880/dataset_41880.pq: Bucket does not exist or is private.\n",
      "WARNING:openml.datasets.functions:Could not download file from http://openml1.win.tue.nl/dataset41881/dataset_41881.pq: Bucket does not exist or is private.\n"
     ]
    },
    {
     "name": "stdout",
     "output_type": "stream",
     "text": [
      "failed 41880\n",
      "failed 41881\n"
     ]
    },
    {
     "name": "stderr",
     "output_type": "stream",
     "text": [
      "WARNING:openml.datasets.functions:Could not download file from http://openml1.win.tue.nl/dataset41882/dataset_41882.pq: Bucket does not exist or is private.\n",
      "WARNING:openml.datasets.functions:Could not download file from http://openml1.win.tue.nl/dataset41883/dataset_41883.pq: Bucket does not exist or is private.\n"
     ]
    },
    {
     "name": "stdout",
     "output_type": "stream",
     "text": [
      "failed 41882\n"
     ]
    },
    {
     "name": "stderr",
     "output_type": "stream",
     "text": [
      "WARNING:openml.datasets.functions:Could not download file from http://openml1.win.tue.nl/dataset41884/dataset_41884.pq: Bucket does not exist or is private.\n"
     ]
    },
    {
     "name": "stdout",
     "output_type": "stream",
     "text": [
      "failed 41883\n",
      "failed 41884\n"
     ]
    },
    {
     "name": "stderr",
     "output_type": "stream",
     "text": [
      "WARNING:openml.datasets.functions:Could not download file from http://openml1.win.tue.nl/dataset41885/dataset_41885.pq: Bucket does not exist or is private.\n",
      "WARNING:openml.datasets.functions:Could not download file from http://openml1.win.tue.nl/dataset41886/dataset_41886.pq: Bucket does not exist or is private.\n"
     ]
    },
    {
     "name": "stdout",
     "output_type": "stream",
     "text": [
      "failed 41885\n",
      "failed 41886\n"
     ]
    },
    {
     "name": "stderr",
     "output_type": "stream",
     "text": [
      "WARNING:openml.datasets.functions:Could not download file from http://openml1.win.tue.nl/dataset41887/dataset_41887.pq: Bucket does not exist or is private.\n",
      "WARNING:openml.datasets.functions:Could not download file from http://openml1.win.tue.nl/dataset41888/dataset_41888.pq: Bucket does not exist or is private.\n"
     ]
    },
    {
     "name": "stdout",
     "output_type": "stream",
     "text": [
      "failed 41887\n"
     ]
    },
    {
     "name": "stderr",
     "output_type": "stream",
     "text": [
      "WARNING:openml.datasets.functions:Could not download file from http://openml1.win.tue.nl/dataset41889/dataset_41889.pq: Bucket does not exist or is private.\n"
     ]
    },
    {
     "name": "stdout",
     "output_type": "stream",
     "text": [
      "failed 41888\n"
     ]
    },
    {
     "name": "stderr",
     "output_type": "stream",
     "text": [
      "WARNING:openml.datasets.functions:Could not download file from http://openml1.win.tue.nl/dataset41890/dataset_41890.pq: Bucket does not exist or is private.\n"
     ]
    },
    {
     "name": "stdout",
     "output_type": "stream",
     "text": [
      "failed 41889\n"
     ]
    },
    {
     "name": "stderr",
     "output_type": "stream",
     "text": [
      "WARNING:openml.datasets.functions:Could not download file from http://openml1.win.tue.nl/dataset41891/dataset_41891.pq: Bucket does not exist or is private.\n"
     ]
    },
    {
     "name": "stdout",
     "output_type": "stream",
     "text": [
      "failed 41890\n",
      "failed 41891\n"
     ]
    },
    {
     "name": "stderr",
     "output_type": "stream",
     "text": [
      "WARNING:openml.datasets.functions:Could not download file from http://openml1.win.tue.nl/dataset41892/dataset_41892.pq: Bucket does not exist or is private.\n",
      "WARNING:openml.datasets.functions:Could not download file from http://openml1.win.tue.nl/dataset41893/dataset_41893.pq: Bucket does not exist or is private.\n"
     ]
    },
    {
     "name": "stdout",
     "output_type": "stream",
     "text": [
      "failed 41892\n"
     ]
    },
    {
     "name": "stderr",
     "output_type": "stream",
     "text": [
      "WARNING:openml.datasets.functions:Could not download file from http://openml1.win.tue.nl/dataset41894/dataset_41894.pq: Bucket does not exist or is private.\n"
     ]
    },
    {
     "name": "stdout",
     "output_type": "stream",
     "text": [
      "failed 41893\n"
     ]
    },
    {
     "name": "stderr",
     "output_type": "stream",
     "text": [
      "WARNING:openml.datasets.functions:Could not download file from http://openml1.win.tue.nl/dataset41895/dataset_41895.pq: Bucket does not exist or is private.\n"
     ]
    },
    {
     "name": "stdout",
     "output_type": "stream",
     "text": [
      "failed 41894\n"
     ]
    },
    {
     "name": "stderr",
     "output_type": "stream",
     "text": [
      "WARNING:openml.datasets.functions:Could not download file from http://openml1.win.tue.nl/dataset41896/dataset_41896.pq: Bucket does not exist or is private.\n"
     ]
    },
    {
     "name": "stdout",
     "output_type": "stream",
     "text": [
      "failed 41895\n",
      "failed 41896\n"
     ]
    },
    {
     "name": "stderr",
     "output_type": "stream",
     "text": [
      "WARNING:openml.datasets.functions:Could not download file from http://openml1.win.tue.nl/dataset41897/dataset_41897.pq: Bucket does not exist or is private.\n",
      "WARNING:openml.datasets.functions:Could not download file from http://openml1.win.tue.nl/dataset41898/dataset_41898.pq: Bucket does not exist or is private.\n"
     ]
    },
    {
     "name": "stdout",
     "output_type": "stream",
     "text": [
      "failed 41897\n",
      "failed 41898\n"
     ]
    },
    {
     "name": "stderr",
     "output_type": "stream",
     "text": [
      "WARNING:openml.datasets.functions:Could not download file from http://openml1.win.tue.nl/dataset41906/dataset_41906.pq: Bucket does not exist or is private.\n"
     ]
    },
    {
     "name": "stdout",
     "output_type": "stream",
     "text": [
      "failed 41906\n"
     ]
    },
    {
     "name": "stderr",
     "output_type": "stream",
     "text": [
      "WARNING:openml.datasets.functions:Could not download file from http://openml1.win.tue.nl/dataset42813/dataset_42813.pq: Bucket does not exist or is private.\n"
     ]
    },
    {
     "name": "stdout",
     "output_type": "stream",
     "text": [
      "failed 42334\n"
     ]
    },
    {
     "name": "stderr",
     "output_type": "stream",
     "text": [
      "WARNING:openml.datasets.functions:Could not download file from http://openml1.win.tue.nl/dataset42855/dataset_42855.pq: Bucket does not exist or is private.\n"
     ]
    },
    {
     "name": "stdout",
     "output_type": "stream",
     "text": [
      "failed 42855\n"
     ]
    },
    {
     "name": "stderr",
     "output_type": "stream",
     "text": [
      "WARNING:openml.datasets.functions:Could not download file from http://openml1.win.tue.nl/dataset43051/dataset_43051.pq: Bucket does not exist or is private.\n",
      "WARNING:openml.datasets.functions:Could not download file from http://openml1.win.tue.nl/dataset43147/dataset_43147.pq: Bucket does not exist or is private.\n",
      "WARNING:openml.datasets.functions:Could not download file from http://openml1.win.tue.nl/dataset43148/dataset_43148.pq: Bucket does not exist or is private.\n"
     ]
    },
    {
     "name": "stdout",
     "output_type": "stream",
     "text": [
      "failed 43147\n"
     ]
    },
    {
     "name": "stderr",
     "output_type": "stream",
     "text": [
      "WARNING:openml.datasets.functions:Could not download file from http://openml1.win.tue.nl/dataset43149/dataset_43149.pq: Bucket does not exist or is private.\n"
     ]
    },
    {
     "name": "stdout",
     "output_type": "stream",
     "text": [
      "failed 43148\n",
      "failed 43149\n"
     ]
    },
    {
     "name": "stderr",
     "output_type": "stream",
     "text": [
      "WARNING:openml.datasets.functions:Could not download file from http://openml1.win.tue.nl/dataset43160/dataset_43160.pq: Bucket does not exist or is private.\n",
      "WARNING:openml.datasets.functions:Could not download file from http://openml1.win.tue.nl/dataset43890/dataset_43890.pq: Bucket does not exist or is private.\n",
      "WARNING:openml.datasets.functions:Could not download file from http://openml1.win.tue.nl/dataset43891/dataset_43891.pq: Bucket does not exist or is private.\n",
      "WARNING:openml.datasets.functions:Could not download file from http://openml1.win.tue.nl/dataset43892/dataset_43892.pq: Bucket does not exist or is private.\n",
      "WARNING:openml.datasets.functions:Could not download file from http://openml1.win.tue.nl/dataset43896/dataset_43896.pq: Bucket does not exist or is private.\n",
      "WARNING:openml.datasets.functions:Could not download file from http://openml1.win.tue.nl/dataset43897/dataset_43897.pq: Bucket does not exist or is private.\n",
      "WARNING:openml.datasets.functions:Could not download file from http://openml1.win.tue.nl/dataset43903/dataset_43903.pq: Bucket does not exist or is private.\n",
      "WARNING:openml.datasets.functions:Could not download file from http://openml1.win.tue.nl/dataset43904/dataset_43904.pq: Bucket does not exist or is private.\n",
      "WARNING:openml.datasets.functions:Could not download file from http://openml1.win.tue.nl/dataset43905/dataset_43905.pq: Bucket does not exist or is private.\n",
      "WARNING:openml.datasets.functions:Could not download file from http://openml1.win.tue.nl/dataset44073/dataset_44073.pq: Bucket does not exist or is private.\n",
      "WARNING:openml.datasets.functions:Could not download file from http://openml1.win.tue.nl/dataset44074/dataset_44074.pq: Bucket does not exist or is private.\n",
      "WARNING:openml.datasets.functions:Could not download file from http://openml1.win.tue.nl/dataset44075/dataset_44075.pq: Bucket does not exist or is private.\n",
      "WARNING:openml.datasets.functions:Could not download file from http://openml1.win.tue.nl/dataset44076/dataset_44076.pq: Bucket does not exist or is private.\n",
      "WARNING:openml.datasets.functions:Could not download file from http://openml1.win.tue.nl/dataset44078/dataset_44078.pq: Bucket does not exist or is private.\n",
      "WARNING:openml.datasets.functions:Could not download file from http://openml1.win.tue.nl/dataset44079/dataset_44079.pq: Bucket does not exist or is private.\n",
      "WARNING:openml.datasets.functions:Could not download file from http://openml1.win.tue.nl/dataset44080/dataset_44080.pq: Bucket does not exist or is private.\n",
      "WARNING:openml.datasets.functions:Could not download file from http://openml1.win.tue.nl/dataset44082/dataset_44082.pq: Bucket does not exist or is private.\n",
      "WARNING:openml.datasets.functions:Could not download file from http://openml1.win.tue.nl/dataset44083/dataset_44083.pq: Bucket does not exist or is private.\n",
      "WARNING:openml.datasets.functions:Could not download file from http://openml1.win.tue.nl/dataset44084/dataset_44084.pq: Bucket does not exist or is private.\n",
      "WARNING:openml.datasets.functions:Could not download file from http://openml1.win.tue.nl/dataset44085/dataset_44085.pq: Bucket does not exist or is private.\n",
      "WARNING:openml.datasets.functions:Could not download file from http://openml1.win.tue.nl/dataset44086/dataset_44086.pq: Bucket does not exist or is private.\n",
      "WARNING:openml.datasets.functions:Could not download file from http://openml1.win.tue.nl/dataset44087/dataset_44087.pq: Bucket does not exist or is private.\n",
      "WARNING:openml.datasets.functions:Could not download file from http://openml1.win.tue.nl/dataset44088/dataset_44088.pq: Bucket does not exist or is private.\n",
      "WARNING:openml.datasets.functions:Could not download file from http://openml1.win.tue.nl/dataset44089/dataset_44089.pq: Bucket does not exist or is private.\n",
      "WARNING:openml.datasets.functions:Could not download file from http://openml1.win.tue.nl/dataset44090/dataset_44090.pq: Bucket does not exist or is private.\n",
      "WARNING:openml.datasets.functions:Could not download file from http://openml1.win.tue.nl/dataset44091/dataset_44091.pq: Bucket does not exist or is private.\n",
      "WARNING:openml.datasets.functions:Could not download file from http://openml1.win.tue.nl/dataset44093/dataset_44093.pq: Bucket does not exist or is private.\n",
      "WARNING:openml.datasets.functions:Could not download file from http://openml1.win.tue.nl/dataset44094/dataset_44094.pq: Bucket does not exist or is private.\n",
      "WARNING:openml.datasets.functions:Could not download file from http://openml1.win.tue.nl/dataset44095/dataset_44095.pq: Bucket does not exist or is private.\n",
      "WARNING:openml.datasets.functions:Could not download file from http://openml1.win.tue.nl/dataset44096/dataset_44096.pq: Bucket does not exist or is private.\n",
      "WARNING:openml.datasets.functions:Could not download file from http://openml1.win.tue.nl/dataset44120/dataset_44120.pq: Bucket does not exist or is private.\n",
      "WARNING:openml.datasets.functions:Could not download file from http://openml1.win.tue.nl/dataset44122/dataset_44122.pq: Bucket does not exist or is private.\n",
      "WARNING:openml.datasets.functions:Could not download file from http://openml1.win.tue.nl/dataset44123/dataset_44123.pq: Bucket does not exist or is private.\n",
      "WARNING:openml.datasets.functions:Could not download file from http://openml1.win.tue.nl/dataset44124/dataset_44124.pq: Bucket does not exist or is private.\n",
      "WARNING:openml.datasets.functions:Could not download file from http://openml1.win.tue.nl/dataset44125/dataset_44125.pq: Bucket does not exist or is private.\n",
      "WARNING:openml.datasets.functions:Could not download file from http://openml1.win.tue.nl/dataset44126/dataset_44126.pq: Bucket does not exist or is private.\n",
      "WARNING:openml.datasets.functions:Could not download file from http://openml1.win.tue.nl/dataset44127/dataset_44127.pq: Bucket does not exist or is private.\n",
      "WARNING:openml.datasets.functions:Could not download file from http://openml1.win.tue.nl/dataset44128/dataset_44128.pq: Bucket does not exist or is private.\n",
      "WARNING:openml.datasets.functions:Could not download file from http://openml1.win.tue.nl/dataset44130/dataset_44130.pq: Bucket does not exist or is private.\n",
      "WARNING:openml.datasets.functions:Could not download file from http://openml1.win.tue.nl/dataset44131/dataset_44131.pq: Bucket does not exist or is private.\n",
      "WARNING:openml.datasets.functions:Could not download file from http://openml1.win.tue.nl/dataset44154/dataset_44154.pq: Bucket does not exist or is private.\n",
      "WARNING:openml.datasets.functions:Could not download file from http://openml1.win.tue.nl/dataset44155/dataset_44155.pq: Bucket does not exist or is private.\n",
      "WARNING:openml.datasets.functions:Could not download file from http://openml1.win.tue.nl/dataset44156/dataset_44156.pq: Bucket does not exist or is private.\n",
      "WARNING:openml.datasets.functions:Could not download file from http://openml1.win.tue.nl/dataset44157/dataset_44157.pq: Bucket does not exist or is private.\n",
      "WARNING:openml.datasets.functions:Could not download file from http://openml1.win.tue.nl/dataset44158/dataset_44158.pq: Bucket does not exist or is private.\n",
      "WARNING:openml.datasets.functions:Could not download file from http://openml1.win.tue.nl/dataset44160/dataset_44160.pq: Bucket does not exist or is private.\n",
      "WARNING:openml.datasets.functions:Could not download file from http://openml1.win.tue.nl/dataset44161/dataset_44161.pq: Bucket does not exist or is private.\n",
      "WARNING:openml.datasets.functions:Could not download file from http://openml1.win.tue.nl/dataset44162/dataset_44162.pq: Bucket does not exist or is private.\n",
      "WARNING:openml.datasets.functions:Could not download file from http://openml1.win.tue.nl/dataset44185/dataset_44185.pq: Bucket does not exist or is private.\n",
      "WARNING:openml.datasets.functions:Could not download file from http://openml1.win.tue.nl/dataset44186/dataset_44186.pq: Bucket does not exist or is private.\n",
      "WARNING:openml.datasets.functions:Could not download file from http://openml1.win.tue.nl/dataset44344/dataset_44344.pq: Bucket does not exist or is private.\n",
      "WARNING:openml.datasets.functions:Could not download file from http://openml1.win.tue.nl/dataset45019/dataset_45019.pq: Bucket does not exist or is private.\n",
      "WARNING:openml.datasets.functions:Could not download file from http://openml1.win.tue.nl/dataset45020/dataset_45020.pq: Bucket does not exist or is private.\n",
      "WARNING:openml.datasets.functions:Could not download file from http://openml1.win.tue.nl/dataset45021/dataset_45021.pq: Bucket does not exist or is private.\n",
      "WARNING:openml.datasets.functions:Could not download file from http://openml1.win.tue.nl/dataset45022/dataset_45022.pq: Bucket does not exist or is private.\n",
      "WARNING:openml.datasets.functions:Could not download file from http://openml1.win.tue.nl/dataset45026/dataset_45026.pq: Bucket does not exist or is private.\n",
      "WARNING:openml.datasets.functions:Could not download file from http://openml1.win.tue.nl/dataset45028/dataset_45028.pq: Bucket does not exist or is private.\n",
      "WARNING:openml.datasets.functions:Could not download file from http://openml1.win.tue.nl/dataset45035/dataset_45035.pq: Bucket does not exist or is private.\n",
      "WARNING:openml.datasets.functions:Could not download file from http://openml1.win.tue.nl/dataset45036/dataset_45036.pq: Bucket does not exist or is private.\n",
      "WARNING:openml.datasets.functions:Could not download file from http://openml1.win.tue.nl/dataset45037/dataset_45037.pq: Bucket does not exist or is private.\n",
      "WARNING:openml.datasets.functions:Could not download file from http://openml1.win.tue.nl/dataset45038/dataset_45038.pq: Bucket does not exist or is private.\n",
      "WARNING:openml.datasets.functions:Could not download file from http://openml1.win.tue.nl/dataset45039/dataset_45039.pq: Bucket does not exist or is private.\n",
      "WARNING:openml.datasets.functions:Could not download file from http://openml1.win.tue.nl/dataset45058/dataset_45058.pq: Bucket does not exist or is private.\n",
      "WARNING:openml.datasets.functions:Could not download file from http://openml1.win.tue.nl/dataset45059/dataset_45059.pq: Bucket does not exist or is private.\n",
      "WARNING:openml.datasets.functions:Could not download file from http://openml1.win.tue.nl/dataset45060/dataset_45060.pq: Bucket does not exist or is private.\n",
      "WARNING:openml.datasets.functions:Could not download file from http://openml1.win.tue.nl/dataset45061/dataset_45061.pq: Bucket does not exist or is private.\n",
      "WARNING:openml.datasets.functions:Could not download file from http://openml1.win.tue.nl/dataset45062/dataset_45062.pq: Bucket does not exist or is private.\n",
      "WARNING:openml.datasets.functions:Could not download file from http://openml1.win.tue.nl/dataset45063/dataset_45063.pq: Bucket does not exist or is private.\n",
      "WARNING:openml.datasets.functions:Could not download file from http://openml1.win.tue.nl/dataset45064/dataset_45064.pq: Bucket does not exist or is private.\n",
      "WARNING:openml.datasets.functions:Could not download file from http://openml1.win.tue.nl/dataset45065/dataset_45065.pq: Bucket does not exist or is private.\n",
      "WARNING:openml.datasets.functions:Could not download file from http://openml1.win.tue.nl/dataset45066/dataset_45066.pq: Bucket does not exist or is private.\n",
      "WARNING:openml.datasets.functions:Could not download file from http://openml1.win.tue.nl/dataset45067/dataset_45067.pq: Bucket does not exist or is private.\n",
      "WARNING:openml.datasets.functions:Could not download file from http://openml1.win.tue.nl/dataset45068/dataset_45068.pq: Bucket does not exist or is private.\n",
      "WARNING:openml.datasets.functions:Could not download file from http://openml1.win.tue.nl/dataset45069/dataset_45069.pq: Bucket does not exist or is private.\n",
      "WARNING:openml.datasets.functions:Could not download file from http://openml1.win.tue.nl/dataset45070/dataset_45070.pq: Bucket does not exist or is private.\n",
      "WARNING:openml.datasets.functions:Could not download file from http://openml1.win.tue.nl/dataset45073/dataset_45073.pq: Bucket does not exist or is private.\n",
      "WARNING:openml.datasets.functions:Could not download file from http://openml1.win.tue.nl/dataset45074/dataset_45074.pq: Bucket does not exist or is private.\n",
      "WARNING:openml.datasets.functions:Could not download file from http://openml1.win.tue.nl/dataset45075/dataset_45075.pq: Bucket does not exist or is private.\n",
      "WARNING:openml.datasets.functions:Could not download file from http://openml1.win.tue.nl/dataset45076/dataset_45076.pq: Bucket does not exist or is private.\n",
      "WARNING:openml.datasets.functions:Could not download file from http://openml1.win.tue.nl/dataset45077/dataset_45077.pq: Bucket does not exist or is private.\n",
      "WARNING:openml.datasets.functions:Could not download file from http://openml1.win.tue.nl/dataset45078/dataset_45078.pq: Bucket does not exist or is private.\n",
      "WARNING:openml.datasets.functions:Could not download file from http://openml1.win.tue.nl/dataset45079/dataset_45079.pq: Bucket does not exist or is private.\n"
     ]
    }
   ],
   "source": [
    "succeeded = []\n",
    "for ind in failed_jobs:\n",
    "    try:\n",
    "        dataset = datasets.get_dataset(ind)\n",
    "        X, y, cat_mask, _ = dataset.get_data(dataset_format=\"dataframe\", target = dataset.default_target_attribute)\n",
    "        succeeded.append(ind)\n",
    "    except:\n",
    "        print(\"failed\", ind)"
   ]
  },
  {
   "cell_type": "code",
   "execution_count": 80,
   "metadata": {},
   "outputs": [],
   "source": [
    "additional_df_runs = pd.read_csv(\"../data/final/additional_parses.csv\", index_col = 0)"
   ]
  },
  {
   "cell_type": "code",
   "execution_count": 99,
   "metadata": {},
   "outputs": [
    {
     "name": "stderr",
     "output_type": "stream",
     "text": [
      "C:\\Users\\wiche\\AppData\\Local\\Temp\\ipykernel_19116\\2142291790.py:2: FutureWarning: The frame.append method is deprecated and will be removed from pandas in a future version. Use pandas.concat instead.\n",
      "  meta_features.append(additional_df_runs.dropna(how = 'all').drop(4102))\n"
     ]
    },
    {
     "data": {
      "text/html": [
       "<div>\n",
       "<style scoped>\n",
       "    .dataframe tbody tr th:only-of-type {\n",
       "        vertical-align: middle;\n",
       "    }\n",
       "\n",
       "    .dataframe tbody tr th {\n",
       "        vertical-align: top;\n",
       "    }\n",
       "\n",
       "    .dataframe thead th {\n",
       "        text-align: right;\n",
       "    }\n",
       "</style>\n",
       "<table border=\"1\" class=\"dataframe\">\n",
       "  <thead>\n",
       "    <tr style=\"text-align: right;\">\n",
       "      <th></th>\n",
       "      <th>attr_conc.nanmean</th>\n",
       "      <th>attr_conc.nansd</th>\n",
       "      <th>attr_ent.nanmean</th>\n",
       "      <th>attr_ent.nansd</th>\n",
       "      <th>class_conc.nanmean</th>\n",
       "      <th>class_conc.nansd</th>\n",
       "      <th>cor.nanmean</th>\n",
       "      <th>cor.nansd</th>\n",
       "      <th>cov.nanmean</th>\n",
       "      <th>cov.nansd</th>\n",
       "      <th>...</th>\n",
       "      <th>best_node.mean</th>\n",
       "      <th>best_node.sd</th>\n",
       "      <th>linear_discr.mean</th>\n",
       "      <th>linear_discr.sd</th>\n",
       "      <th>naive_bayes.mean</th>\n",
       "      <th>naive_bayes.sd</th>\n",
       "      <th>random_node.mean</th>\n",
       "      <th>random_node.sd</th>\n",
       "      <th>worst_node.mean</th>\n",
       "      <th>worst_node.sd</th>\n",
       "    </tr>\n",
       "  </thead>\n",
       "  <tbody>\n",
       "    <tr>\n",
       "      <th>2</th>\n",
       "      <td>0.297761</td>\n",
       "      <td>0.242172</td>\n",
       "      <td>0.278180</td>\n",
       "      <td>0.720669</td>\n",
       "      <td>0.408932</td>\n",
       "      <td>0.181142</td>\n",
       "      <td>0.138039</td>\n",
       "      <td>0.129664</td>\n",
       "      <td>3549.620236</td>\n",
       "      <td>17524.065606</td>\n",
       "      <td>...</td>\n",
       "      <td>0.788414</td>\n",
       "      <td>0.001061</td>\n",
       "      <td>0.754981</td>\n",
       "      <td>0.048614</td>\n",
       "      <td>0.412010</td>\n",
       "      <td>0.064147</td>\n",
       "      <td>0.788414</td>\n",
       "      <td>0.001061</td>\n",
       "      <td>0.750562</td>\n",
       "      <td>0.005696</td>\n",
       "    </tr>\n",
       "    <tr>\n",
       "      <th>3</th>\n",
       "      <td>0.221499</td>\n",
       "      <td>0.243155</td>\n",
       "      <td>0.510477</td>\n",
       "      <td>0.412594</td>\n",
       "      <td>0.200833</td>\n",
       "      <td>0.232142</td>\n",
       "      <td>0.080608</td>\n",
       "      <td>0.097770</td>\n",
       "      <td>0.010702</td>\n",
       "      <td>0.018146</td>\n",
       "      <td>...</td>\n",
       "      <td>0.660837</td>\n",
       "      <td>0.013755</td>\n",
       "      <td>0.933650</td>\n",
       "      <td>0.019657</td>\n",
       "      <td>0.611407</td>\n",
       "      <td>0.012878</td>\n",
       "      <td>0.660837</td>\n",
       "      <td>0.013755</td>\n",
       "      <td>0.507504</td>\n",
       "      <td>0.011457</td>\n",
       "    </tr>\n",
       "    <tr>\n",
       "      <th>4</th>\n",
       "      <td>0.500000</td>\n",
       "      <td>0.000000</td>\n",
       "      <td>0.000000</td>\n",
       "      <td>0.000000</td>\n",
       "      <td>0.500000</td>\n",
       "      <td>0.000000</td>\n",
       "      <td>NaN</td>\n",
       "      <td>NaN</td>\n",
       "      <td>NaN</td>\n",
       "      <td>NaN</td>\n",
       "      <td>...</td>\n",
       "      <td>0.786667</td>\n",
       "      <td>0.229250</td>\n",
       "      <td>0.753333</td>\n",
       "      <td>0.200832</td>\n",
       "      <td>0.653333</td>\n",
       "      <td>0.313227</td>\n",
       "      <td>0.533333</td>\n",
       "      <td>0.102740</td>\n",
       "      <td>0.573333</td>\n",
       "      <td>0.246531</td>\n",
       "    </tr>\n",
       "    <tr>\n",
       "      <th>5</th>\n",
       "      <td>0.135112</td>\n",
       "      <td>0.212751</td>\n",
       "      <td>1.340114</td>\n",
       "      <td>1.266438</td>\n",
       "      <td>0.117110</td>\n",
       "      <td>0.152737</td>\n",
       "      <td>0.089051</td>\n",
       "      <td>0.120026</td>\n",
       "      <td>6.686123</td>\n",
       "      <td>28.727778</td>\n",
       "      <td>...</td>\n",
       "      <td>0.579614</td>\n",
       "      <td>0.016241</td>\n",
       "      <td>0.420193</td>\n",
       "      <td>0.044915</td>\n",
       "      <td>0.150435</td>\n",
       "      <td>0.032881</td>\n",
       "      <td>0.531014</td>\n",
       "      <td>0.005185</td>\n",
       "      <td>0.531014</td>\n",
       "      <td>0.005185</td>\n",
       "    </tr>\n",
       "    <tr>\n",
       "      <th>6</th>\n",
       "      <td>0.029150</td>\n",
       "      <td>0.025628</td>\n",
       "      <td>2.974428</td>\n",
       "      <td>0.255379</td>\n",
       "      <td>0.099577</td>\n",
       "      <td>0.074523</td>\n",
       "      <td>0.182896</td>\n",
       "      <td>0.208834</td>\n",
       "      <td>0.949368</td>\n",
       "      <td>1.150810</td>\n",
       "      <td>...</td>\n",
       "      <td>0.075100</td>\n",
       "      <td>0.001517</td>\n",
       "      <td>0.698300</td>\n",
       "      <td>0.011972</td>\n",
       "      <td>0.633200</td>\n",
       "      <td>0.009648</td>\n",
       "      <td>0.068300</td>\n",
       "      <td>0.001304</td>\n",
       "      <td>0.054300</td>\n",
       "      <td>0.002775</td>\n",
       "    </tr>\n",
       "    <tr>\n",
       "      <th>...</th>\n",
       "      <td>...</td>\n",
       "      <td>...</td>\n",
       "      <td>...</td>\n",
       "      <td>...</td>\n",
       "      <td>...</td>\n",
       "      <td>...</td>\n",
       "      <td>...</td>\n",
       "      <td>...</td>\n",
       "      <td>...</td>\n",
       "      <td>...</td>\n",
       "      <td>...</td>\n",
       "      <td>...</td>\n",
       "      <td>...</td>\n",
       "      <td>...</td>\n",
       "      <td>...</td>\n",
       "      <td>...</td>\n",
       "      <td>...</td>\n",
       "      <td>...</td>\n",
       "      <td>...</td>\n",
       "      <td>...</td>\n",
       "      <td>...</td>\n",
       "    </tr>\n",
       "    <tr>\n",
       "      <th>45059</th>\n",
       "      <td>0.006091</td>\n",
       "      <td>0.011828</td>\n",
       "      <td>1.122060</td>\n",
       "      <td>1.526477</td>\n",
       "      <td>0.004582</td>\n",
       "      <td>0.010276</td>\n",
       "      <td>0.063266</td>\n",
       "      <td>0.105654</td>\n",
       "      <td>4.758392</td>\n",
       "      <td>55.057110</td>\n",
       "      <td>...</td>\n",
       "      <td>0.932947</td>\n",
       "      <td>0.001421</td>\n",
       "      <td>0.927796</td>\n",
       "      <td>0.006572</td>\n",
       "      <td>0.310144</td>\n",
       "      <td>0.031627</td>\n",
       "      <td>0.932947</td>\n",
       "      <td>0.001421</td>\n",
       "      <td>0.932947</td>\n",
       "      <td>0.001421</td>\n",
       "    </tr>\n",
       "    <tr>\n",
       "      <th>45063</th>\n",
       "      <td>0.040851</td>\n",
       "      <td>0.123876</td>\n",
       "      <td>1.823007</td>\n",
       "      <td>1.046028</td>\n",
       "      <td>0.069594</td>\n",
       "      <td>0.142304</td>\n",
       "      <td>0.073516</td>\n",
       "      <td>0.116590</td>\n",
       "      <td>106.788948</td>\n",
       "      <td>2451.274090</td>\n",
       "      <td>...</td>\n",
       "      <td>0.864895</td>\n",
       "      <td>0.030104</td>\n",
       "      <td>0.864895</td>\n",
       "      <td>0.033807</td>\n",
       "      <td>0.806480</td>\n",
       "      <td>0.075525</td>\n",
       "      <td>0.542937</td>\n",
       "      <td>0.006809</td>\n",
       "      <td>0.539860</td>\n",
       "      <td>0.011319</td>\n",
       "    </tr>\n",
       "    <tr>\n",
       "      <th>45067</th>\n",
       "      <td>0.013301</td>\n",
       "      <td>0.044547</td>\n",
       "      <td>2.353503</td>\n",
       "      <td>1.589759</td>\n",
       "      <td>0.009729</td>\n",
       "      <td>0.016299</td>\n",
       "      <td>0.002875</td>\n",
       "      <td>0.010615</td>\n",
       "      <td>0.000217</td>\n",
       "      <td>0.009065</td>\n",
       "      <td>...</td>\n",
       "      <td>0.723347</td>\n",
       "      <td>0.000057</td>\n",
       "      <td>0.727020</td>\n",
       "      <td>0.004889</td>\n",
       "      <td>0.207676</td>\n",
       "      <td>0.041234</td>\n",
       "      <td>0.723347</td>\n",
       "      <td>0.000057</td>\n",
       "      <td>0.723272</td>\n",
       "      <td>0.000207</td>\n",
       "    </tr>\n",
       "    <tr>\n",
       "      <th>45077</th>\n",
       "      <td>0.044255</td>\n",
       "      <td>0.068679</td>\n",
       "      <td>1.979658</td>\n",
       "      <td>1.203136</td>\n",
       "      <td>0.023764</td>\n",
       "      <td>0.018124</td>\n",
       "      <td>0.083812</td>\n",
       "      <td>0.130393</td>\n",
       "      <td>0.147072</td>\n",
       "      <td>1.026681</td>\n",
       "      <td>...</td>\n",
       "      <td>0.741887</td>\n",
       "      <td>0.017849</td>\n",
       "      <td>0.838688</td>\n",
       "      <td>0.040478</td>\n",
       "      <td>0.628068</td>\n",
       "      <td>0.019782</td>\n",
       "      <td>0.667942</td>\n",
       "      <td>0.016117</td>\n",
       "      <td>0.652758</td>\n",
       "      <td>0.004226</td>\n",
       "    </tr>\n",
       "    <tr>\n",
       "      <th>389</th>\n",
       "      <td>0.006099</td>\n",
       "      <td>0.011326</td>\n",
       "      <td>0.415342</td>\n",
       "      <td>0.350745</td>\n",
       "      <td>0.064835</td>\n",
       "      <td>0.062722</td>\n",
       "      <td>0.083604</td>\n",
       "      <td>0.114025</td>\n",
       "      <td>0.190816</td>\n",
       "      <td>1.053899</td>\n",
       "      <td>...</td>\n",
       "      <td>0.342013</td>\n",
       "      <td>0.012128</td>\n",
       "      <td>0.304611</td>\n",
       "      <td>0.053085</td>\n",
       "      <td>0.573526</td>\n",
       "      <td>0.011045</td>\n",
       "      <td>0.205530</td>\n",
       "      <td>0.004923</td>\n",
       "      <td>0.199029</td>\n",
       "      <td>0.004273</td>\n",
       "    </tr>\n",
       "  </tbody>\n",
       "</table>\n",
       "<p>785 rows × 51 columns</p>\n",
       "</div>"
      ],
      "text/plain": [
       "       attr_conc.nanmean  attr_conc.nansd  attr_ent.nanmean  attr_ent.nansd  \\\n",
       "2               0.297761         0.242172          0.278180        0.720669   \n",
       "3               0.221499         0.243155          0.510477        0.412594   \n",
       "4               0.500000         0.000000          0.000000        0.000000   \n",
       "5               0.135112         0.212751          1.340114        1.266438   \n",
       "6               0.029150         0.025628          2.974428        0.255379   \n",
       "...                  ...              ...               ...             ...   \n",
       "45059           0.006091         0.011828          1.122060        1.526477   \n",
       "45063           0.040851         0.123876          1.823007        1.046028   \n",
       "45067           0.013301         0.044547          2.353503        1.589759   \n",
       "45077           0.044255         0.068679          1.979658        1.203136   \n",
       "389             0.006099         0.011326          0.415342        0.350745   \n",
       "\n",
       "       class_conc.nanmean  class_conc.nansd  cor.nanmean  cor.nansd  \\\n",
       "2                0.408932          0.181142     0.138039   0.129664   \n",
       "3                0.200833          0.232142     0.080608   0.097770   \n",
       "4                0.500000          0.000000          NaN        NaN   \n",
       "5                0.117110          0.152737     0.089051   0.120026   \n",
       "6                0.099577          0.074523     0.182896   0.208834   \n",
       "...                   ...               ...          ...        ...   \n",
       "45059            0.004582          0.010276     0.063266   0.105654   \n",
       "45063            0.069594          0.142304     0.073516   0.116590   \n",
       "45067            0.009729          0.016299     0.002875   0.010615   \n",
       "45077            0.023764          0.018124     0.083812   0.130393   \n",
       "389              0.064835          0.062722     0.083604   0.114025   \n",
       "\n",
       "       cov.nanmean     cov.nansd  ...  best_node.mean  best_node.sd  \\\n",
       "2      3549.620236  17524.065606  ...        0.788414      0.001061   \n",
       "3         0.010702      0.018146  ...        0.660837      0.013755   \n",
       "4              NaN           NaN  ...        0.786667      0.229250   \n",
       "5         6.686123     28.727778  ...        0.579614      0.016241   \n",
       "6         0.949368      1.150810  ...        0.075100      0.001517   \n",
       "...            ...           ...  ...             ...           ...   \n",
       "45059     4.758392     55.057110  ...        0.932947      0.001421   \n",
       "45063   106.788948   2451.274090  ...        0.864895      0.030104   \n",
       "45067     0.000217      0.009065  ...        0.723347      0.000057   \n",
       "45077     0.147072      1.026681  ...        0.741887      0.017849   \n",
       "389       0.190816      1.053899  ...        0.342013      0.012128   \n",
       "\n",
       "       linear_discr.mean  linear_discr.sd  naive_bayes.mean  naive_bayes.sd  \\\n",
       "2               0.754981         0.048614          0.412010        0.064147   \n",
       "3               0.933650         0.019657          0.611407        0.012878   \n",
       "4               0.753333         0.200832          0.653333        0.313227   \n",
       "5               0.420193         0.044915          0.150435        0.032881   \n",
       "6               0.698300         0.011972          0.633200        0.009648   \n",
       "...                  ...              ...               ...             ...   \n",
       "45059           0.927796         0.006572          0.310144        0.031627   \n",
       "45063           0.864895         0.033807          0.806480        0.075525   \n",
       "45067           0.727020         0.004889          0.207676        0.041234   \n",
       "45077           0.838688         0.040478          0.628068        0.019782   \n",
       "389             0.304611         0.053085          0.573526        0.011045   \n",
       "\n",
       "       random_node.mean  random_node.sd  worst_node.mean  worst_node.sd  \n",
       "2              0.788414        0.001061         0.750562       0.005696  \n",
       "3              0.660837        0.013755         0.507504       0.011457  \n",
       "4              0.533333        0.102740         0.573333       0.246531  \n",
       "5              0.531014        0.005185         0.531014       0.005185  \n",
       "6              0.068300        0.001304         0.054300       0.002775  \n",
       "...                 ...             ...              ...            ...  \n",
       "45059          0.932947        0.001421         0.932947       0.001421  \n",
       "45063          0.542937        0.006809         0.539860       0.011319  \n",
       "45067          0.723347        0.000057         0.723272       0.000207  \n",
       "45077          0.667942        0.016117         0.652758       0.004226  \n",
       "389            0.205530        0.004923         0.199029       0.004273  \n",
       "\n",
       "[785 rows x 51 columns]"
      ]
     },
     "execution_count": 99,
     "metadata": {},
     "output_type": "execute_result"
    }
   ],
   "source": [
    "meta_features = meta_features.dropna(how = 'all')\n",
    "meta_features.append(additional_df_runs.dropna(how = 'all').drop(4102))"
   ]
  },
  {
   "cell_type": "code",
   "execution_count": 90,
   "metadata": {},
   "outputs": [],
   "source": [
    "from pymfe.mfe import MFE\n",
    "mfe = MFE(features = [\"random_node\", \"best_node\", \"worst_node\", \"linear_discr\", \"naive_bayes\"], groups = [\"landmarking\"])\n",
    "import openml\n",
    "datasets = openml.datasets"
   ]
  },
  {
   "cell_type": "code",
   "execution_count": 92,
   "metadata": {},
   "outputs": [],
   "source": [
    "dataset = datasets.get_dataset(4102)\n",
    "X, y, cat_mask, _ = dataset.get_data(dataset_format=\"dataframe\", target = dataset.default_target_attribute)\n",
    "X, y = X.to_numpy(), y.to_numpy()"
   ]
  },
  {
   "cell_type": "code",
   "execution_count": 1,
   "metadata": {},
   "outputs": [],
   "source": [
    "import pandas as pd\n",
    "mf = pd.read_csv(\"meta_features_total.csv\", index_col = 0)"
   ]
  },
  {
   "cell_type": "code",
   "execution_count": 2,
   "metadata": {},
   "outputs": [],
   "source": [
    "numpy_mf = mf.values"
   ]
  },
  {
   "cell_type": "code",
   "execution_count": 3,
   "metadata": {},
   "outputs": [],
   "source": [
    "from meta_func import BackFiller\n",
    "filler = BackFiller()"
   ]
  },
  {
   "cell_type": "code",
   "execution_count": 11,
   "metadata": {},
   "outputs": [
    {
     "name": "stderr",
     "output_type": "stream",
     "text": [
      "C:\\Users\\wiche\\AppData\\Local\\Temp\\ipykernel_19116\\3890897572.py:1: FutureWarning: The behavior of `series[i:j]` with an integer-dtype index is deprecated. In a future version, this will be treated as *label-based* indexing, consistent with e.g. `series[i]` lookups. To retain the old behavior, use `series.iloc[i:j]`. To get the future behavior, use `series.loc[i:j]`.\n",
      "  mf.isnull().sum(1).sort_values()[-50:]\n"
     ]
    },
    {
     "data": {
      "text/plain": [
       "814       3\n",
       "811       3\n",
       "968       3\n",
       "801       3\n",
       "741       3\n",
       "905       3\n",
       "867       3\n",
       "1525      3\n",
       "1460      3\n",
       "790       3\n",
       "1013      3\n",
       "860       3\n",
       "457       3\n",
       "865       3\n",
       "791       3\n",
       "895       3\n",
       "530      11\n",
       "52       11\n",
       "42554    11\n",
       "8        11\n",
       "40916    11\n",
       "232      11\n",
       "210      11\n",
       "27       14\n",
       "899      14\n",
       "186      14\n",
       "957      14\n",
       "1023     14\n",
       "172      14\n",
       "42585    14\n",
       "42       14\n",
       "460      23\n",
       "1008     23\n",
       "56       23\n",
       "4        23\n",
       "42347    25\n",
       "42399    25\n",
       "42492    25\n",
       "42546    25\n",
       "42547    25\n",
       "42575    25\n",
       "42555    25\n",
       "42558    25\n",
       "42689    25\n",
       "1456     25\n",
       "42694    25\n",
       "42702    25\n",
       "42703    25\n",
       "42548    25\n",
       "42401    25\n",
       "dtype: int64"
      ]
     },
     "execution_count": 11,
     "metadata": {},
     "output_type": "execute_result"
    }
   ],
   "source": [
    "mf.isnull().sum(1).sort_values()[-50:]"
   ]
  },
  {
   "cell_type": "code",
   "execution_count": 63,
   "metadata": {},
   "outputs": [],
   "source": [
    "landmarkers = [item for item in list(mfe.extract_metafeature_names()) if item not in  [\"elite_nn.mean\", \"elite_nn.sd\", \"one_nn.mean\", \"one_nn.sd\"]]"
   ]
  },
  {
   "cell_type": "code",
   "execution_count": 56,
   "metadata": {},
   "outputs": [
    {
     "ename": "FileNotFoundError",
     "evalue": "[Errno 2] No such file or directory: '../data/times_final/meta_features_classification_2.csv'",
     "output_type": "error",
     "traceback": [
      "\u001b[1;31m---------------------------------------------------------------------------\u001b[0m",
      "\u001b[1;31mFileNotFoundError\u001b[0m                         Traceback (most recent call last)",
      "Cell \u001b[1;32mIn[56], line 1\u001b[0m\n\u001b[1;32m----> 1\u001b[0m dt \u001b[39m=\u001b[39m pd\u001b[39m.\u001b[39;49mread_csv(\u001b[39m\"\u001b[39;49m\u001b[39m../data/times_final/meta_features_classification_2.csv\u001b[39;49m\u001b[39m\"\u001b[39;49m, index_col \u001b[39m=\u001b[39;49m \u001b[39m0\u001b[39;49m)\n",
      "File \u001b[1;32mc:\\Users\\wiche\\OneDrive\\Bureaublad\\MasterThesis\\masterthesisenv\\lib\\site-packages\\pandas\\util\\_decorators.py:211\u001b[0m, in \u001b[0;36mdeprecate_kwarg.<locals>._deprecate_kwarg.<locals>.wrapper\u001b[1;34m(*args, **kwargs)\u001b[0m\n\u001b[0;32m    209\u001b[0m     \u001b[39melse\u001b[39;00m:\n\u001b[0;32m    210\u001b[0m         kwargs[new_arg_name] \u001b[39m=\u001b[39m new_arg_value\n\u001b[1;32m--> 211\u001b[0m \u001b[39mreturn\u001b[39;00m func(\u001b[39m*\u001b[39margs, \u001b[39m*\u001b[39m\u001b[39m*\u001b[39mkwargs)\n",
      "File \u001b[1;32mc:\\Users\\wiche\\OneDrive\\Bureaublad\\MasterThesis\\masterthesisenv\\lib\\site-packages\\pandas\\util\\_decorators.py:331\u001b[0m, in \u001b[0;36mdeprecate_nonkeyword_arguments.<locals>.decorate.<locals>.wrapper\u001b[1;34m(*args, **kwargs)\u001b[0m\n\u001b[0;32m    325\u001b[0m \u001b[39mif\u001b[39;00m \u001b[39mlen\u001b[39m(args) \u001b[39m>\u001b[39m num_allow_args:\n\u001b[0;32m    326\u001b[0m     warnings\u001b[39m.\u001b[39mwarn(\n\u001b[0;32m    327\u001b[0m         msg\u001b[39m.\u001b[39mformat(arguments\u001b[39m=\u001b[39m_format_argument_list(allow_args)),\n\u001b[0;32m    328\u001b[0m         \u001b[39mFutureWarning\u001b[39;00m,\n\u001b[0;32m    329\u001b[0m         stacklevel\u001b[39m=\u001b[39mfind_stack_level(),\n\u001b[0;32m    330\u001b[0m     )\n\u001b[1;32m--> 331\u001b[0m \u001b[39mreturn\u001b[39;00m func(\u001b[39m*\u001b[39margs, \u001b[39m*\u001b[39m\u001b[39m*\u001b[39mkwargs)\n",
      "File \u001b[1;32mc:\\Users\\wiche\\OneDrive\\Bureaublad\\MasterThesis\\masterthesisenv\\lib\\site-packages\\pandas\\io\\parsers\\readers.py:950\u001b[0m, in \u001b[0;36mread_csv\u001b[1;34m(filepath_or_buffer, sep, delimiter, header, names, index_col, usecols, squeeze, prefix, mangle_dupe_cols, dtype, engine, converters, true_values, false_values, skipinitialspace, skiprows, skipfooter, nrows, na_values, keep_default_na, na_filter, verbose, skip_blank_lines, parse_dates, infer_datetime_format, keep_date_col, date_parser, dayfirst, cache_dates, iterator, chunksize, compression, thousands, decimal, lineterminator, quotechar, quoting, doublequote, escapechar, comment, encoding, encoding_errors, dialect, error_bad_lines, warn_bad_lines, on_bad_lines, delim_whitespace, low_memory, memory_map, float_precision, storage_options)\u001b[0m\n\u001b[0;32m    935\u001b[0m kwds_defaults \u001b[39m=\u001b[39m _refine_defaults_read(\n\u001b[0;32m    936\u001b[0m     dialect,\n\u001b[0;32m    937\u001b[0m     delimiter,\n\u001b[1;32m   (...)\u001b[0m\n\u001b[0;32m    946\u001b[0m     defaults\u001b[39m=\u001b[39m{\u001b[39m\"\u001b[39m\u001b[39mdelimiter\u001b[39m\u001b[39m\"\u001b[39m: \u001b[39m\"\u001b[39m\u001b[39m,\u001b[39m\u001b[39m\"\u001b[39m},\n\u001b[0;32m    947\u001b[0m )\n\u001b[0;32m    948\u001b[0m kwds\u001b[39m.\u001b[39mupdate(kwds_defaults)\n\u001b[1;32m--> 950\u001b[0m \u001b[39mreturn\u001b[39;00m _read(filepath_or_buffer, kwds)\n",
      "File \u001b[1;32mc:\\Users\\wiche\\OneDrive\\Bureaublad\\MasterThesis\\masterthesisenv\\lib\\site-packages\\pandas\\io\\parsers\\readers.py:605\u001b[0m, in \u001b[0;36m_read\u001b[1;34m(filepath_or_buffer, kwds)\u001b[0m\n\u001b[0;32m    602\u001b[0m _validate_names(kwds\u001b[39m.\u001b[39mget(\u001b[39m\"\u001b[39m\u001b[39mnames\u001b[39m\u001b[39m\"\u001b[39m, \u001b[39mNone\u001b[39;00m))\n\u001b[0;32m    604\u001b[0m \u001b[39m# Create the parser.\u001b[39;00m\n\u001b[1;32m--> 605\u001b[0m parser \u001b[39m=\u001b[39m TextFileReader(filepath_or_buffer, \u001b[39m*\u001b[39m\u001b[39m*\u001b[39mkwds)\n\u001b[0;32m    607\u001b[0m \u001b[39mif\u001b[39;00m chunksize \u001b[39mor\u001b[39;00m iterator:\n\u001b[0;32m    608\u001b[0m     \u001b[39mreturn\u001b[39;00m parser\n",
      "File \u001b[1;32mc:\\Users\\wiche\\OneDrive\\Bureaublad\\MasterThesis\\masterthesisenv\\lib\\site-packages\\pandas\\io\\parsers\\readers.py:1442\u001b[0m, in \u001b[0;36mTextFileReader.__init__\u001b[1;34m(self, f, engine, **kwds)\u001b[0m\n\u001b[0;32m   1439\u001b[0m     \u001b[39mself\u001b[39m\u001b[39m.\u001b[39moptions[\u001b[39m\"\u001b[39m\u001b[39mhas_index_names\u001b[39m\u001b[39m\"\u001b[39m] \u001b[39m=\u001b[39m kwds[\u001b[39m\"\u001b[39m\u001b[39mhas_index_names\u001b[39m\u001b[39m\"\u001b[39m]\n\u001b[0;32m   1441\u001b[0m \u001b[39mself\u001b[39m\u001b[39m.\u001b[39mhandles: IOHandles \u001b[39m|\u001b[39m \u001b[39mNone\u001b[39;00m \u001b[39m=\u001b[39m \u001b[39mNone\u001b[39;00m\n\u001b[1;32m-> 1442\u001b[0m \u001b[39mself\u001b[39m\u001b[39m.\u001b[39m_engine \u001b[39m=\u001b[39m \u001b[39mself\u001b[39;49m\u001b[39m.\u001b[39;49m_make_engine(f, \u001b[39mself\u001b[39;49m\u001b[39m.\u001b[39;49mengine)\n",
      "File \u001b[1;32mc:\\Users\\wiche\\OneDrive\\Bureaublad\\MasterThesis\\masterthesisenv\\lib\\site-packages\\pandas\\io\\parsers\\readers.py:1735\u001b[0m, in \u001b[0;36mTextFileReader._make_engine\u001b[1;34m(self, f, engine)\u001b[0m\n\u001b[0;32m   1733\u001b[0m     \u001b[39mif\u001b[39;00m \u001b[39m\"\u001b[39m\u001b[39mb\u001b[39m\u001b[39m\"\u001b[39m \u001b[39mnot\u001b[39;00m \u001b[39min\u001b[39;00m mode:\n\u001b[0;32m   1734\u001b[0m         mode \u001b[39m+\u001b[39m\u001b[39m=\u001b[39m \u001b[39m\"\u001b[39m\u001b[39mb\u001b[39m\u001b[39m\"\u001b[39m\n\u001b[1;32m-> 1735\u001b[0m \u001b[39mself\u001b[39m\u001b[39m.\u001b[39mhandles \u001b[39m=\u001b[39m get_handle(\n\u001b[0;32m   1736\u001b[0m     f,\n\u001b[0;32m   1737\u001b[0m     mode,\n\u001b[0;32m   1738\u001b[0m     encoding\u001b[39m=\u001b[39;49m\u001b[39mself\u001b[39;49m\u001b[39m.\u001b[39;49moptions\u001b[39m.\u001b[39;49mget(\u001b[39m\"\u001b[39;49m\u001b[39mencoding\u001b[39;49m\u001b[39m\"\u001b[39;49m, \u001b[39mNone\u001b[39;49;00m),\n\u001b[0;32m   1739\u001b[0m     compression\u001b[39m=\u001b[39;49m\u001b[39mself\u001b[39;49m\u001b[39m.\u001b[39;49moptions\u001b[39m.\u001b[39;49mget(\u001b[39m\"\u001b[39;49m\u001b[39mcompression\u001b[39;49m\u001b[39m\"\u001b[39;49m, \u001b[39mNone\u001b[39;49;00m),\n\u001b[0;32m   1740\u001b[0m     memory_map\u001b[39m=\u001b[39;49m\u001b[39mself\u001b[39;49m\u001b[39m.\u001b[39;49moptions\u001b[39m.\u001b[39;49mget(\u001b[39m\"\u001b[39;49m\u001b[39mmemory_map\u001b[39;49m\u001b[39m\"\u001b[39;49m, \u001b[39mFalse\u001b[39;49;00m),\n\u001b[0;32m   1741\u001b[0m     is_text\u001b[39m=\u001b[39;49mis_text,\n\u001b[0;32m   1742\u001b[0m     errors\u001b[39m=\u001b[39;49m\u001b[39mself\u001b[39;49m\u001b[39m.\u001b[39;49moptions\u001b[39m.\u001b[39;49mget(\u001b[39m\"\u001b[39;49m\u001b[39mencoding_errors\u001b[39;49m\u001b[39m\"\u001b[39;49m, \u001b[39m\"\u001b[39;49m\u001b[39mstrict\u001b[39;49m\u001b[39m\"\u001b[39;49m),\n\u001b[0;32m   1743\u001b[0m     storage_options\u001b[39m=\u001b[39;49m\u001b[39mself\u001b[39;49m\u001b[39m.\u001b[39;49moptions\u001b[39m.\u001b[39;49mget(\u001b[39m\"\u001b[39;49m\u001b[39mstorage_options\u001b[39;49m\u001b[39m\"\u001b[39;49m, \u001b[39mNone\u001b[39;49;00m),\n\u001b[0;32m   1744\u001b[0m )\n\u001b[0;32m   1745\u001b[0m \u001b[39massert\u001b[39;00m \u001b[39mself\u001b[39m\u001b[39m.\u001b[39mhandles \u001b[39mis\u001b[39;00m \u001b[39mnot\u001b[39;00m \u001b[39mNone\u001b[39;00m\n\u001b[0;32m   1746\u001b[0m f \u001b[39m=\u001b[39m \u001b[39mself\u001b[39m\u001b[39m.\u001b[39mhandles\u001b[39m.\u001b[39mhandle\n",
      "File \u001b[1;32mc:\\Users\\wiche\\OneDrive\\Bureaublad\\MasterThesis\\masterthesisenv\\lib\\site-packages\\pandas\\io\\common.py:856\u001b[0m, in \u001b[0;36mget_handle\u001b[1;34m(path_or_buf, mode, encoding, compression, memory_map, is_text, errors, storage_options)\u001b[0m\n\u001b[0;32m    851\u001b[0m \u001b[39melif\u001b[39;00m \u001b[39misinstance\u001b[39m(handle, \u001b[39mstr\u001b[39m):\n\u001b[0;32m    852\u001b[0m     \u001b[39m# Check whether the filename is to be opened in binary mode.\u001b[39;00m\n\u001b[0;32m    853\u001b[0m     \u001b[39m# Binary mode does not support 'encoding' and 'newline'.\u001b[39;00m\n\u001b[0;32m    854\u001b[0m     \u001b[39mif\u001b[39;00m ioargs\u001b[39m.\u001b[39mencoding \u001b[39mand\u001b[39;00m \u001b[39m\"\u001b[39m\u001b[39mb\u001b[39m\u001b[39m\"\u001b[39m \u001b[39mnot\u001b[39;00m \u001b[39min\u001b[39;00m ioargs\u001b[39m.\u001b[39mmode:\n\u001b[0;32m    855\u001b[0m         \u001b[39m# Encoding\u001b[39;00m\n\u001b[1;32m--> 856\u001b[0m         handle \u001b[39m=\u001b[39m \u001b[39mopen\u001b[39;49m(\n\u001b[0;32m    857\u001b[0m             handle,\n\u001b[0;32m    858\u001b[0m             ioargs\u001b[39m.\u001b[39;49mmode,\n\u001b[0;32m    859\u001b[0m             encoding\u001b[39m=\u001b[39;49mioargs\u001b[39m.\u001b[39;49mencoding,\n\u001b[0;32m    860\u001b[0m             errors\u001b[39m=\u001b[39;49merrors,\n\u001b[0;32m    861\u001b[0m             newline\u001b[39m=\u001b[39;49m\u001b[39m\"\u001b[39;49m\u001b[39m\"\u001b[39;49m,\n\u001b[0;32m    862\u001b[0m         )\n\u001b[0;32m    863\u001b[0m     \u001b[39melse\u001b[39;00m:\n\u001b[0;32m    864\u001b[0m         \u001b[39m# Binary mode\u001b[39;00m\n\u001b[0;32m    865\u001b[0m         handle \u001b[39m=\u001b[39m \u001b[39mopen\u001b[39m(handle, ioargs\u001b[39m.\u001b[39mmode)\n",
      "\u001b[1;31mFileNotFoundError\u001b[0m: [Errno 2] No such file or directory: '../data/times_final/meta_features_classification_2.csv'"
     ]
    }
   ],
   "source": [
    "dt = pd.read_csv(\"../data/times_final/meta_features_classification_2.csv\", index_col = 0)"
   ]
  },
  {
   "cell_type": "code",
   "execution_count": 60,
   "metadata": {},
   "outputs": [
    {
     "data": {
      "text/plain": [
       "freq_class.nansd         0.001395\n",
       "one_nn.nanmean           0.001546\n",
       "class_conc.nansd         0.002574\n",
       "kurtosis.nansd           0.003593\n",
       "one_nn.nanmean.1         0.004987\n",
       "random_node.nansd        0.005433\n",
       "nr_bin                   0.008101\n",
       "best_node.nansd.1        0.008128\n",
       "nr_outliers              0.009425\n",
       "worst_node.nansd         0.013163\n",
       "naive_bayes.nansd        0.013564\n",
       "linear_discr.nansd.1     0.023363\n",
       "attr_conc.nansd          0.042089\n",
       "linear_discr.nansd       0.081403\n",
       "attr_conc.nanmean        0.130867\n",
       "elite_nn.nansd.1         0.691515\n",
       "elite_nn.nansd           3.357778\n",
       "one_nn.nansd.1           9.425191\n",
       "one_nn.nansd            49.946412\n",
       "Unnamed: 0              78.750000\n",
       "dtype: float64"
      ]
     },
     "execution_count": 60,
     "metadata": {},
     "output_type": "execute_result"
    }
   ],
   "source": [
    "dt.mean(axis = 0).sort_values()[50:]"
   ]
  },
  {
   "cell_type": "code",
   "execution_count": 36,
   "metadata": {},
   "outputs": [
    {
     "data": {
      "text/plain": [
       "('best_node.mean',\n",
       " 'best_node.sd',\n",
       " 'elite_nn.mean',\n",
       " 'elite_nn.sd',\n",
       " 'linear_discr.mean',\n",
       " 'linear_discr.sd',\n",
       " 'naive_bayes.mean',\n",
       " 'naive_bayes.sd',\n",
       " 'one_nn.mean',\n",
       " 'one_nn.sd',\n",
       " 'random_node.mean',\n",
       " 'random_node.sd',\n",
       " 'worst_node.mean',\n",
       " 'worst_node.sd')"
      ]
     },
     "execution_count": 36,
     "metadata": {},
     "output_type": "execute_result"
    }
   ],
   "source": [
    "features = [\"best_node\", \"linear_discr\", \"naive_bayes\", \"random_node\", \"worst_node\"]\n",
    "mfe = MFE(groups = [\"landmarking\"])\n",
    "mfe.extract_metafeature_names()"
   ]
  },
  {
   "cell_type": "code",
   "execution_count": 48,
   "metadata": {},
   "outputs": [],
   "source": [
    "tmp = dt[dt[\"Unnamed: 0\"] == 125]"
   ]
  },
  {
   "cell_type": "code",
   "execution_count": 54,
   "metadata": {},
   "outputs": [
    {
     "data": {
      "text/html": [
       "<div>\n",
       "<style scoped>\n",
       "    .dataframe tbody tr th:only-of-type {\n",
       "        vertical-align: middle;\n",
       "    }\n",
       "\n",
       "    .dataframe tbody tr th {\n",
       "        vertical-align: top;\n",
       "    }\n",
       "\n",
       "    .dataframe thead th {\n",
       "        text-align: right;\n",
       "    }\n",
       "</style>\n",
       "<table border=\"1\" class=\"dataframe\">\n",
       "  <thead>\n",
       "    <tr style=\"text-align: right;\">\n",
       "      <th></th>\n",
       "      <th>Unnamed: 0</th>\n",
       "      <th>attr_conc.nanmean</th>\n",
       "      <th>attr_conc.nansd</th>\n",
       "      <th>attr_ent.nanmean</th>\n",
       "      <th>attr_ent.nansd</th>\n",
       "      <th>best_node.nanmean</th>\n",
       "      <th>best_node.nansd</th>\n",
       "      <th>class_conc.nanmean</th>\n",
       "      <th>class_conc.nansd</th>\n",
       "      <th>cor.nanmean</th>\n",
       "      <th>...</th>\n",
       "      <th>linear_discr.nanmean.1</th>\n",
       "      <th>linear_discr.nansd.1</th>\n",
       "      <th>naive_bayes.nanmean.1</th>\n",
       "      <th>naive_bayes.nansd.1</th>\n",
       "      <th>one_nn.nanmean.1</th>\n",
       "      <th>one_nn.nansd.1</th>\n",
       "      <th>random_node.nanmean.1</th>\n",
       "      <th>random_node.nansd.1</th>\n",
       "      <th>worst_node.nanmean.1</th>\n",
       "      <th>worst_node.nansd.1</th>\n",
       "    </tr>\n",
       "  </thead>\n",
       "  <tbody>\n",
       "    <tr>\n",
       "      <th>0</th>\n",
       "      <td>48</td>\n",
       "      <td>0.000000</td>\n",
       "      <td>0.000000</td>\n",
       "      <td>0.0</td>\n",
       "      <td>0.000000</td>\n",
       "      <td>0.000000</td>\n",
       "      <td>0.010002</td>\n",
       "      <td>0.0</td>\n",
       "      <td>0.027517</td>\n",
       "      <td>0.000000</td>\n",
       "      <td>...</td>\n",
       "      <td>0.0</td>\n",
       "      <td>0.000000</td>\n",
       "      <td>0.000000</td>\n",
       "      <td>0.000000</td>\n",
       "      <td>0.000000</td>\n",
       "      <td>0.000000</td>\n",
       "      <td>0.0</td>\n",
       "      <td>0.000000</td>\n",
       "      <td>0.000000</td>\n",
       "      <td>0.0</td>\n",
       "    </tr>\n",
       "    <tr>\n",
       "      <th>1</th>\n",
       "      <td>49</td>\n",
       "      <td>0.000000</td>\n",
       "      <td>0.000000</td>\n",
       "      <td>0.0</td>\n",
       "      <td>0.000000</td>\n",
       "      <td>0.003004</td>\n",
       "      <td>0.000000</td>\n",
       "      <td>0.0</td>\n",
       "      <td>0.000000</td>\n",
       "      <td>0.000000</td>\n",
       "      <td>...</td>\n",
       "      <td>0.0</td>\n",
       "      <td>0.005983</td>\n",
       "      <td>0.000000</td>\n",
       "      <td>0.000000</td>\n",
       "      <td>0.000000</td>\n",
       "      <td>0.000000</td>\n",
       "      <td>0.0</td>\n",
       "      <td>0.000000</td>\n",
       "      <td>0.000000</td>\n",
       "      <td>0.0</td>\n",
       "    </tr>\n",
       "    <tr>\n",
       "      <th>2</th>\n",
       "      <td>50</td>\n",
       "      <td>0.000000</td>\n",
       "      <td>0.000000</td>\n",
       "      <td>0.0</td>\n",
       "      <td>0.000000</td>\n",
       "      <td>0.000000</td>\n",
       "      <td>0.000000</td>\n",
       "      <td>0.0</td>\n",
       "      <td>0.000000</td>\n",
       "      <td>0.000000</td>\n",
       "      <td>...</td>\n",
       "      <td>0.0</td>\n",
       "      <td>0.007013</td>\n",
       "      <td>0.000000</td>\n",
       "      <td>0.005984</td>\n",
       "      <td>0.000000</td>\n",
       "      <td>0.000000</td>\n",
       "      <td>0.0</td>\n",
       "      <td>0.000000</td>\n",
       "      <td>0.000000</td>\n",
       "      <td>0.0</td>\n",
       "    </tr>\n",
       "    <tr>\n",
       "      <th>3</th>\n",
       "      <td>51</td>\n",
       "      <td>0.000000</td>\n",
       "      <td>0.000000</td>\n",
       "      <td>0.0</td>\n",
       "      <td>0.000000</td>\n",
       "      <td>0.002964</td>\n",
       "      <td>0.000000</td>\n",
       "      <td>0.0</td>\n",
       "      <td>0.000000</td>\n",
       "      <td>0.001027</td>\n",
       "      <td>...</td>\n",
       "      <td>0.0</td>\n",
       "      <td>0.000000</td>\n",
       "      <td>0.000000</td>\n",
       "      <td>0.000000</td>\n",
       "      <td>0.000000</td>\n",
       "      <td>0.000000</td>\n",
       "      <td>0.0</td>\n",
       "      <td>0.000000</td>\n",
       "      <td>0.000000</td>\n",
       "      <td>0.0</td>\n",
       "    </tr>\n",
       "    <tr>\n",
       "      <th>4</th>\n",
       "      <td>52</td>\n",
       "      <td>0.000000</td>\n",
       "      <td>0.000000</td>\n",
       "      <td>0.0</td>\n",
       "      <td>0.000000</td>\n",
       "      <td>0.001992</td>\n",
       "      <td>0.000000</td>\n",
       "      <td>0.0</td>\n",
       "      <td>0.000000</td>\n",
       "      <td>0.000000</td>\n",
       "      <td>...</td>\n",
       "      <td>0.0</td>\n",
       "      <td>0.000000</td>\n",
       "      <td>0.000000</td>\n",
       "      <td>0.000000</td>\n",
       "      <td>0.000000</td>\n",
       "      <td>0.000000</td>\n",
       "      <td>0.0</td>\n",
       "      <td>0.000000</td>\n",
       "      <td>0.001994</td>\n",
       "      <td>0.0</td>\n",
       "    </tr>\n",
       "    <tr>\n",
       "      <th>5</th>\n",
       "      <td>53</td>\n",
       "      <td>0.000000</td>\n",
       "      <td>0.000000</td>\n",
       "      <td>0.0</td>\n",
       "      <td>0.000000</td>\n",
       "      <td>0.000000</td>\n",
       "      <td>0.000000</td>\n",
       "      <td>0.0</td>\n",
       "      <td>0.000000</td>\n",
       "      <td>0.000000</td>\n",
       "      <td>...</td>\n",
       "      <td>0.0</td>\n",
       "      <td>0.000000</td>\n",
       "      <td>0.000000</td>\n",
       "      <td>0.000000</td>\n",
       "      <td>0.000000</td>\n",
       "      <td>0.008972</td>\n",
       "      <td>0.0</td>\n",
       "      <td>0.000000</td>\n",
       "      <td>0.000000</td>\n",
       "      <td>0.0</td>\n",
       "    </tr>\n",
       "    <tr>\n",
       "      <th>6</th>\n",
       "      <td>54</td>\n",
       "      <td>0.000000</td>\n",
       "      <td>0.000000</td>\n",
       "      <td>0.0</td>\n",
       "      <td>0.000000</td>\n",
       "      <td>0.000000</td>\n",
       "      <td>0.000000</td>\n",
       "      <td>0.0</td>\n",
       "      <td>0.000000</td>\n",
       "      <td>0.000000</td>\n",
       "      <td>...</td>\n",
       "      <td>0.0</td>\n",
       "      <td>0.000000</td>\n",
       "      <td>0.000000</td>\n",
       "      <td>0.000000</td>\n",
       "      <td>0.000000</td>\n",
       "      <td>0.017952</td>\n",
       "      <td>0.0</td>\n",
       "      <td>0.000000</td>\n",
       "      <td>0.000000</td>\n",
       "      <td>0.0</td>\n",
       "    </tr>\n",
       "    <tr>\n",
       "      <th>7</th>\n",
       "      <td>55</td>\n",
       "      <td>0.000000</td>\n",
       "      <td>0.000000</td>\n",
       "      <td>0.0</td>\n",
       "      <td>0.000000</td>\n",
       "      <td>0.002992</td>\n",
       "      <td>0.000000</td>\n",
       "      <td>0.0</td>\n",
       "      <td>0.000000</td>\n",
       "      <td>0.000000</td>\n",
       "      <td>...</td>\n",
       "      <td>0.0</td>\n",
       "      <td>0.000000</td>\n",
       "      <td>0.000000</td>\n",
       "      <td>0.000000</td>\n",
       "      <td>0.000000</td>\n",
       "      <td>0.000000</td>\n",
       "      <td>0.0</td>\n",
       "      <td>0.000000</td>\n",
       "      <td>0.000000</td>\n",
       "      <td>0.0</td>\n",
       "    </tr>\n",
       "    <tr>\n",
       "      <th>8</th>\n",
       "      <td>56</td>\n",
       "      <td>0.000000</td>\n",
       "      <td>0.000000</td>\n",
       "      <td>0.0</td>\n",
       "      <td>0.000998</td>\n",
       "      <td>0.002994</td>\n",
       "      <td>0.000000</td>\n",
       "      <td>0.0</td>\n",
       "      <td>0.000000</td>\n",
       "      <td>0.000000</td>\n",
       "      <td>...</td>\n",
       "      <td>0.0</td>\n",
       "      <td>0.007950</td>\n",
       "      <td>0.000000</td>\n",
       "      <td>0.000000</td>\n",
       "      <td>0.000000</td>\n",
       "      <td>0.000000</td>\n",
       "      <td>0.0</td>\n",
       "      <td>0.000000</td>\n",
       "      <td>0.000000</td>\n",
       "      <td>0.0</td>\n",
       "    </tr>\n",
       "    <tr>\n",
       "      <th>9</th>\n",
       "      <td>57</td>\n",
       "      <td>0.000000</td>\n",
       "      <td>0.000000</td>\n",
       "      <td>0.0</td>\n",
       "      <td>0.000000</td>\n",
       "      <td>0.004082</td>\n",
       "      <td>0.000000</td>\n",
       "      <td>0.0</td>\n",
       "      <td>0.000000</td>\n",
       "      <td>0.000000</td>\n",
       "      <td>...</td>\n",
       "      <td>0.0</td>\n",
       "      <td>0.000000</td>\n",
       "      <td>0.000000</td>\n",
       "      <td>0.000000</td>\n",
       "      <td>0.099733</td>\n",
       "      <td>0.000000</td>\n",
       "      <td>0.0</td>\n",
       "      <td>0.000000</td>\n",
       "      <td>0.000000</td>\n",
       "      <td>0.0</td>\n",
       "    </tr>\n",
       "    <tr>\n",
       "      <th>10</th>\n",
       "      <td>59</td>\n",
       "      <td>0.000000</td>\n",
       "      <td>0.000000</td>\n",
       "      <td>0.0</td>\n",
       "      <td>0.000000</td>\n",
       "      <td>0.000000</td>\n",
       "      <td>0.000000</td>\n",
       "      <td>0.0</td>\n",
       "      <td>0.000000</td>\n",
       "      <td>0.000000</td>\n",
       "      <td>...</td>\n",
       "      <td>0.0</td>\n",
       "      <td>0.000000</td>\n",
       "      <td>0.000000</td>\n",
       "      <td>0.000000</td>\n",
       "      <td>0.000000</td>\n",
       "      <td>0.000000</td>\n",
       "      <td>0.0</td>\n",
       "      <td>0.000000</td>\n",
       "      <td>0.000000</td>\n",
       "      <td>0.0</td>\n",
       "    </tr>\n",
       "    <tr>\n",
       "      <th>11</th>\n",
       "      <td>60</td>\n",
       "      <td>0.000000</td>\n",
       "      <td>0.000000</td>\n",
       "      <td>0.0</td>\n",
       "      <td>0.000000</td>\n",
       "      <td>0.000000</td>\n",
       "      <td>0.000000</td>\n",
       "      <td>0.0</td>\n",
       "      <td>0.000000</td>\n",
       "      <td>0.000996</td>\n",
       "      <td>...</td>\n",
       "      <td>0.0</td>\n",
       "      <td>0.000000</td>\n",
       "      <td>0.011968</td>\n",
       "      <td>0.000000</td>\n",
       "      <td>0.000000</td>\n",
       "      <td>0.000000</td>\n",
       "      <td>0.0</td>\n",
       "      <td>0.000000</td>\n",
       "      <td>0.000000</td>\n",
       "      <td>0.0</td>\n",
       "    </tr>\n",
       "    <tr>\n",
       "      <th>12</th>\n",
       "      <td>61</td>\n",
       "      <td>0.000000</td>\n",
       "      <td>0.075769</td>\n",
       "      <td>0.0</td>\n",
       "      <td>0.000000</td>\n",
       "      <td>0.000000</td>\n",
       "      <td>0.000000</td>\n",
       "      <td>0.0</td>\n",
       "      <td>0.023966</td>\n",
       "      <td>0.000000</td>\n",
       "      <td>...</td>\n",
       "      <td>0.0</td>\n",
       "      <td>0.000000</td>\n",
       "      <td>0.005987</td>\n",
       "      <td>0.000000</td>\n",
       "      <td>0.000000</td>\n",
       "      <td>0.000000</td>\n",
       "      <td>0.0</td>\n",
       "      <td>0.000000</td>\n",
       "      <td>0.000000</td>\n",
       "      <td>0.0</td>\n",
       "    </tr>\n",
       "    <tr>\n",
       "      <th>13</th>\n",
       "      <td>62</td>\n",
       "      <td>0.000000</td>\n",
       "      <td>0.000000</td>\n",
       "      <td>0.0</td>\n",
       "      <td>0.000000</td>\n",
       "      <td>0.000000</td>\n",
       "      <td>0.007949</td>\n",
       "      <td>0.0</td>\n",
       "      <td>0.000000</td>\n",
       "      <td>0.000000</td>\n",
       "      <td>...</td>\n",
       "      <td>0.0</td>\n",
       "      <td>0.000000</td>\n",
       "      <td>0.000000</td>\n",
       "      <td>0.000000</td>\n",
       "      <td>0.000000</td>\n",
       "      <td>0.000000</td>\n",
       "      <td>0.0</td>\n",
       "      <td>0.000000</td>\n",
       "      <td>0.000000</td>\n",
       "      <td>0.0</td>\n",
       "    </tr>\n",
       "    <tr>\n",
       "      <th>14</th>\n",
       "      <td>119</td>\n",
       "      <td>0.000000</td>\n",
       "      <td>0.000000</td>\n",
       "      <td>0.0</td>\n",
       "      <td>0.000000</td>\n",
       "      <td>0.000000</td>\n",
       "      <td>0.000000</td>\n",
       "      <td>0.0</td>\n",
       "      <td>0.000000</td>\n",
       "      <td>0.000000</td>\n",
       "      <td>...</td>\n",
       "      <td>0.0</td>\n",
       "      <td>0.000000</td>\n",
       "      <td>0.000000</td>\n",
       "      <td>0.000000</td>\n",
       "      <td>0.000000</td>\n",
       "      <td>0.000000</td>\n",
       "      <td>0.0</td>\n",
       "      <td>0.000000</td>\n",
       "      <td>0.000000</td>\n",
       "      <td>0.0</td>\n",
       "    </tr>\n",
       "    <tr>\n",
       "      <th>15</th>\n",
       "      <td>125</td>\n",
       "      <td>0.000000</td>\n",
       "      <td>0.000000</td>\n",
       "      <td>0.0</td>\n",
       "      <td>0.000997</td>\n",
       "      <td>0.000000</td>\n",
       "      <td>0.000000</td>\n",
       "      <td>0.0</td>\n",
       "      <td>0.000000</td>\n",
       "      <td>0.000000</td>\n",
       "      <td>...</td>\n",
       "      <td>0.0</td>\n",
       "      <td>0.000000</td>\n",
       "      <td>0.000000</td>\n",
       "      <td>0.000000</td>\n",
       "      <td>0.000000</td>\n",
       "      <td>188.476889</td>\n",
       "      <td>0.0</td>\n",
       "      <td>0.000000</td>\n",
       "      <td>0.000000</td>\n",
       "      <td>0.0</td>\n",
       "    </tr>\n",
       "    <tr>\n",
       "      <th>16</th>\n",
       "      <td>133</td>\n",
       "      <td>0.000000</td>\n",
       "      <td>0.000000</td>\n",
       "      <td>0.0</td>\n",
       "      <td>0.000997</td>\n",
       "      <td>0.000000</td>\n",
       "      <td>0.000000</td>\n",
       "      <td>0.0</td>\n",
       "      <td>0.000000</td>\n",
       "      <td>0.000000</td>\n",
       "      <td>...</td>\n",
       "      <td>0.0</td>\n",
       "      <td>0.349602</td>\n",
       "      <td>0.000000</td>\n",
       "      <td>0.000000</td>\n",
       "      <td>0.000000</td>\n",
       "      <td>0.000000</td>\n",
       "      <td>0.0</td>\n",
       "      <td>0.000000</td>\n",
       "      <td>0.000000</td>\n",
       "      <td>0.0</td>\n",
       "    </tr>\n",
       "    <tr>\n",
       "      <th>17</th>\n",
       "      <td>137</td>\n",
       "      <td>0.000000</td>\n",
       "      <td>0.000000</td>\n",
       "      <td>0.0</td>\n",
       "      <td>0.000000</td>\n",
       "      <td>0.000000</td>\n",
       "      <td>0.000000</td>\n",
       "      <td>0.0</td>\n",
       "      <td>0.000000</td>\n",
       "      <td>0.000000</td>\n",
       "      <td>...</td>\n",
       "      <td>0.0</td>\n",
       "      <td>0.096713</td>\n",
       "      <td>0.000000</td>\n",
       "      <td>0.000000</td>\n",
       "      <td>0.000000</td>\n",
       "      <td>0.000000</td>\n",
       "      <td>0.0</td>\n",
       "      <td>0.000000</td>\n",
       "      <td>0.000000</td>\n",
       "      <td>0.0</td>\n",
       "    </tr>\n",
       "    <tr>\n",
       "      <th>18</th>\n",
       "      <td>143</td>\n",
       "      <td>2.617343</td>\n",
       "      <td>0.000000</td>\n",
       "      <td>0.0</td>\n",
       "      <td>0.000000</td>\n",
       "      <td>0.000000</td>\n",
       "      <td>0.000000</td>\n",
       "      <td>0.0</td>\n",
       "      <td>0.000000</td>\n",
       "      <td>0.000000</td>\n",
       "      <td>...</td>\n",
       "      <td>0.0</td>\n",
       "      <td>0.000000</td>\n",
       "      <td>0.000000</td>\n",
       "      <td>0.000000</td>\n",
       "      <td>0.000000</td>\n",
       "      <td>0.000000</td>\n",
       "      <td>0.0</td>\n",
       "      <td>0.000000</td>\n",
       "      <td>0.000000</td>\n",
       "      <td>0.0</td>\n",
       "    </tr>\n",
       "    <tr>\n",
       "      <th>19</th>\n",
       "      <td>151</td>\n",
       "      <td>0.000000</td>\n",
       "      <td>0.766015</td>\n",
       "      <td>0.0</td>\n",
       "      <td>0.000000</td>\n",
       "      <td>0.000000</td>\n",
       "      <td>0.000000</td>\n",
       "      <td>0.0</td>\n",
       "      <td>0.000000</td>\n",
       "      <td>0.000000</td>\n",
       "      <td>...</td>\n",
       "      <td>0.0</td>\n",
       "      <td>0.000000</td>\n",
       "      <td>0.000000</td>\n",
       "      <td>0.000000</td>\n",
       "      <td>0.000000</td>\n",
       "      <td>0.000000</td>\n",
       "      <td>0.0</td>\n",
       "      <td>0.019947</td>\n",
       "      <td>0.000000</td>\n",
       "      <td>0.0</td>\n",
       "    </tr>\n",
       "  </tbody>\n",
       "</table>\n",
       "<p>20 rows × 70 columns</p>\n",
       "</div>"
      ],
      "text/plain": [
       "    Unnamed: 0  attr_conc.nanmean  attr_conc.nansd  attr_ent.nanmean  \\\n",
       "0           48           0.000000         0.000000               0.0   \n",
       "1           49           0.000000         0.000000               0.0   \n",
       "2           50           0.000000         0.000000               0.0   \n",
       "3           51           0.000000         0.000000               0.0   \n",
       "4           52           0.000000         0.000000               0.0   \n",
       "5           53           0.000000         0.000000               0.0   \n",
       "6           54           0.000000         0.000000               0.0   \n",
       "7           55           0.000000         0.000000               0.0   \n",
       "8           56           0.000000         0.000000               0.0   \n",
       "9           57           0.000000         0.000000               0.0   \n",
       "10          59           0.000000         0.000000               0.0   \n",
       "11          60           0.000000         0.000000               0.0   \n",
       "12          61           0.000000         0.075769               0.0   \n",
       "13          62           0.000000         0.000000               0.0   \n",
       "14         119           0.000000         0.000000               0.0   \n",
       "15         125           0.000000         0.000000               0.0   \n",
       "16         133           0.000000         0.000000               0.0   \n",
       "17         137           0.000000         0.000000               0.0   \n",
       "18         143           2.617343         0.000000               0.0   \n",
       "19         151           0.000000         0.766015               0.0   \n",
       "\n",
       "    attr_ent.nansd  best_node.nanmean  best_node.nansd  class_conc.nanmean  \\\n",
       "0         0.000000           0.000000         0.010002                 0.0   \n",
       "1         0.000000           0.003004         0.000000                 0.0   \n",
       "2         0.000000           0.000000         0.000000                 0.0   \n",
       "3         0.000000           0.002964         0.000000                 0.0   \n",
       "4         0.000000           0.001992         0.000000                 0.0   \n",
       "5         0.000000           0.000000         0.000000                 0.0   \n",
       "6         0.000000           0.000000         0.000000                 0.0   \n",
       "7         0.000000           0.002992         0.000000                 0.0   \n",
       "8         0.000998           0.002994         0.000000                 0.0   \n",
       "9         0.000000           0.004082         0.000000                 0.0   \n",
       "10        0.000000           0.000000         0.000000                 0.0   \n",
       "11        0.000000           0.000000         0.000000                 0.0   \n",
       "12        0.000000           0.000000         0.000000                 0.0   \n",
       "13        0.000000           0.000000         0.007949                 0.0   \n",
       "14        0.000000           0.000000         0.000000                 0.0   \n",
       "15        0.000997           0.000000         0.000000                 0.0   \n",
       "16        0.000997           0.000000         0.000000                 0.0   \n",
       "17        0.000000           0.000000         0.000000                 0.0   \n",
       "18        0.000000           0.000000         0.000000                 0.0   \n",
       "19        0.000000           0.000000         0.000000                 0.0   \n",
       "\n",
       "    class_conc.nansd  cor.nanmean  ...  linear_discr.nanmean.1  \\\n",
       "0           0.027517     0.000000  ...                     0.0   \n",
       "1           0.000000     0.000000  ...                     0.0   \n",
       "2           0.000000     0.000000  ...                     0.0   \n",
       "3           0.000000     0.001027  ...                     0.0   \n",
       "4           0.000000     0.000000  ...                     0.0   \n",
       "5           0.000000     0.000000  ...                     0.0   \n",
       "6           0.000000     0.000000  ...                     0.0   \n",
       "7           0.000000     0.000000  ...                     0.0   \n",
       "8           0.000000     0.000000  ...                     0.0   \n",
       "9           0.000000     0.000000  ...                     0.0   \n",
       "10          0.000000     0.000000  ...                     0.0   \n",
       "11          0.000000     0.000996  ...                     0.0   \n",
       "12          0.023966     0.000000  ...                     0.0   \n",
       "13          0.000000     0.000000  ...                     0.0   \n",
       "14          0.000000     0.000000  ...                     0.0   \n",
       "15          0.000000     0.000000  ...                     0.0   \n",
       "16          0.000000     0.000000  ...                     0.0   \n",
       "17          0.000000     0.000000  ...                     0.0   \n",
       "18          0.000000     0.000000  ...                     0.0   \n",
       "19          0.000000     0.000000  ...                     0.0   \n",
       "\n",
       "    linear_discr.nansd.1  naive_bayes.nanmean.1  naive_bayes.nansd.1  \\\n",
       "0               0.000000               0.000000             0.000000   \n",
       "1               0.005983               0.000000             0.000000   \n",
       "2               0.007013               0.000000             0.005984   \n",
       "3               0.000000               0.000000             0.000000   \n",
       "4               0.000000               0.000000             0.000000   \n",
       "5               0.000000               0.000000             0.000000   \n",
       "6               0.000000               0.000000             0.000000   \n",
       "7               0.000000               0.000000             0.000000   \n",
       "8               0.007950               0.000000             0.000000   \n",
       "9               0.000000               0.000000             0.000000   \n",
       "10              0.000000               0.000000             0.000000   \n",
       "11              0.000000               0.011968             0.000000   \n",
       "12              0.000000               0.005987             0.000000   \n",
       "13              0.000000               0.000000             0.000000   \n",
       "14              0.000000               0.000000             0.000000   \n",
       "15              0.000000               0.000000             0.000000   \n",
       "16              0.349602               0.000000             0.000000   \n",
       "17              0.096713               0.000000             0.000000   \n",
       "18              0.000000               0.000000             0.000000   \n",
       "19              0.000000               0.000000             0.000000   \n",
       "\n",
       "    one_nn.nanmean.1  one_nn.nansd.1  random_node.nanmean.1  \\\n",
       "0           0.000000        0.000000                    0.0   \n",
       "1           0.000000        0.000000                    0.0   \n",
       "2           0.000000        0.000000                    0.0   \n",
       "3           0.000000        0.000000                    0.0   \n",
       "4           0.000000        0.000000                    0.0   \n",
       "5           0.000000        0.008972                    0.0   \n",
       "6           0.000000        0.017952                    0.0   \n",
       "7           0.000000        0.000000                    0.0   \n",
       "8           0.000000        0.000000                    0.0   \n",
       "9           0.099733        0.000000                    0.0   \n",
       "10          0.000000        0.000000                    0.0   \n",
       "11          0.000000        0.000000                    0.0   \n",
       "12          0.000000        0.000000                    0.0   \n",
       "13          0.000000        0.000000                    0.0   \n",
       "14          0.000000        0.000000                    0.0   \n",
       "15          0.000000      188.476889                    0.0   \n",
       "16          0.000000        0.000000                    0.0   \n",
       "17          0.000000        0.000000                    0.0   \n",
       "18          0.000000        0.000000                    0.0   \n",
       "19          0.000000        0.000000                    0.0   \n",
       "\n",
       "    random_node.nansd.1  worst_node.nanmean.1  worst_node.nansd.1  \n",
       "0              0.000000              0.000000                 0.0  \n",
       "1              0.000000              0.000000                 0.0  \n",
       "2              0.000000              0.000000                 0.0  \n",
       "3              0.000000              0.000000                 0.0  \n",
       "4              0.000000              0.001994                 0.0  \n",
       "5              0.000000              0.000000                 0.0  \n",
       "6              0.000000              0.000000                 0.0  \n",
       "7              0.000000              0.000000                 0.0  \n",
       "8              0.000000              0.000000                 0.0  \n",
       "9              0.000000              0.000000                 0.0  \n",
       "10             0.000000              0.000000                 0.0  \n",
       "11             0.000000              0.000000                 0.0  \n",
       "12             0.000000              0.000000                 0.0  \n",
       "13             0.000000              0.000000                 0.0  \n",
       "14             0.000000              0.000000                 0.0  \n",
       "15             0.000000              0.000000                 0.0  \n",
       "16             0.000000              0.000000                 0.0  \n",
       "17             0.000000              0.000000                 0.0  \n",
       "18             0.000000              0.000000                 0.0  \n",
       "19             0.019947              0.000000                 0.0  \n",
       "\n",
       "[20 rows x 70 columns]"
      ]
     },
     "execution_count": 54,
     "metadata": {},
     "output_type": "execute_result"
    }
   ],
   "source": [
    "dt"
   ]
  },
  {
   "cell_type": "code",
   "execution_count": 19,
   "metadata": {},
   "outputs": [],
   "source": [
    "import numpy as np"
   ]
  },
  {
   "cell_type": "code",
   "execution_count": 83,
   "metadata": {},
   "outputs": [
    {
     "data": {
      "text/plain": [
       "array(['C', 'C', 'C', 'C', 'C', 'C', 'C', 'C', 'C', 'C', 'C', 'C', 'C',\n",
       "       'C', 'C', 'C', 'C', 'C', 'C', 'C', 'C', 'C', 'C', 'C', 'C', 'C',\n",
       "       'C', 'C', 'C', 'C', 'C', 'C', 'C', 'C', 'C', 'C', 'C', 'C', 'C',\n",
       "       'C', 'C', 'C', 'C', 'C', 'C', 'C', 'C', 'C', 'C', 'C', 'C', 'C',\n",
       "       'C', 'C', 'C', 'C', 'C', 'C', 'C', 'C', 'C', 'C', 'C', 'C', 'C',\n",
       "       'C', 'C', 'C', 'C', 'C', 'C', 'C', 'C', 'C', 'C', 'C', 'C', 'C',\n",
       "       'C', 'C', 'C', 'C', 'C', 'C', 'C', 'C', 'C', 'C', 'C', 'C', 'C',\n",
       "       'C', 'C', 'C', 'C', 'C', 'C', 'C', 'C', 'C', 'C', 'C', 'C', 'C',\n",
       "       'C', 'C', 'C', 'C', 'C', 'C', 'C', 'C', 'C', 'C', 'C', 'C', 'C',\n",
       "       'C', 'C', 'C', 'C', 'C', 'C', 'C', 'C', 'C', 'C', 'C', 'C', 'C',\n",
       "       'C', 'C', 'C', 'C', 'C', 'C', 'C', 'C', 'C', 'C', 'C', 'C', 'C',\n",
       "       'C', 'C', 'C', 'C', 'C', 'C', 'C', 'C', 'C', 'C', 'C', 'C', 'C',\n",
       "       'C', 'C', 'C', 'C', 'C', 'C', 'C', 'C', 'C', 'C', 'C', 'C', 'C',\n",
       "       'C', 'C', 'C', 'C', 'C', 'C', 'C', 'C', 'C', 'C', 'C', 'C', 'C',\n",
       "       'C', 'C', 'C', 'C', 'C', 'C', 'C', 'C', 'C', 'C', 'C', 'C', 'C',\n",
       "       'C', 'C', 'C', 'C', 'C', 'C', 'C', 'C', 'C', 'C', 'C', 'C', 'C',\n",
       "       'C', 'C', 'C', 'C', 'C', 'C', 'C', 'C', 'C', 'C', 'C', 'C', 'C',\n",
       "       'C', 'C', 'C', 'C', 'C', 'C', 'C', 'C', 'C', 'C', 'C', 'C', 'C',\n",
       "       'C', 'C', 'C', 'C', 'C', 'C', 'C', 'C', 'C', 'C', 'C', 'C', 'C',\n",
       "       'C', 'C', 'C', 'C', 'C', 'C', 'C', 'C', 'C', 'C', 'C', 'C', 'C',\n",
       "       'C', 'C', 'C', 'C', 'C', 'C', 'C', 'C', 'C', 'C', 'C', 'C', 'C',\n",
       "       'C', 'C', 'C', 'C', 'C', 'C', 'C', 'C', 'C', 'C', 'C', 'C', 'C',\n",
       "       'C', 'C', 'C', 'C', 'C', 'C', 'C', 'C', 'C', 'C', 'C', 'C', 'C',\n",
       "       'C', 'C', 'C', 'C', 'C', 'C', 'C', 'C', 'C', 'C', 'C', 'C', 'C',\n",
       "       'C', 'C', 'C', 'C', 'C', 'C', 'C', 'C', 'C', 'C', 'C', 'C', 'C',\n",
       "       'C', 'C', 'C', 'C', 'C', 'C', 'C', 'C', 'C', 'C', 'C', 'C', 'C',\n",
       "       'C', 'C', 'C', 'C', 'C', 'C', 'C', 'C', 'C', 'C', 'C', 'C', 'C',\n",
       "       'C', 'C', 'C', 'C', 'C', 'C', 'C', 'C', 'C', 'C', 'C', 'C', 'C',\n",
       "       'C', 'C', 'C', 'C', 'C', 'C', 'C', 'C', 'C', 'C', 'C', 'C', 'C',\n",
       "       'C', 'C', 'C', 'C', 'C', 'C', 'C', 'C', 'C', 'C', 'C', 'C', 'C',\n",
       "       'C', 'C', 'C', 'C', 'C', 'C', 'C', 'C', 'C', 'C', 'C', 'C', 'C',\n",
       "       'C', 'C', 'C', 'C', 'C', 'C', 'C', 'C', 'C', 'C', 'C', 'C', 'C',\n",
       "       'C', 'C', 'C', 'C', 'C', 'C', 'C', 'C', 'C', 'C', 'C', 'C', 'C',\n",
       "       'C', 'C', 'C', 'C', 'C', 'C', 'C', 'C', 'C', 'C', 'C', 'C', 'C',\n",
       "       'C', 'C', 'C', 'C', 'C', 'C', 'C', 'C', 'C', 'C', 'C', 'C', 'C',\n",
       "       'C', 'C', 'C', 'C', 'C', 'C', 'C', 'C', 'C', 'C', 'C', 'C', 'C',\n",
       "       'C', 'C', 'C', 'C', 'C', 'C', 'C', 'C', 'C', 'C', 'C', 'C', 'C',\n",
       "       'C', 'C', 'C', 'C', 'C', 'C', 'C', 'C', 'C', 'C', 'C', 'C', 'C',\n",
       "       'C', 'C', 'C', 'C', 'C', 'C', 'C', 'C', 'C', 'C', 'C', 'C', 'C',\n",
       "       'C', 'C', 'C', 'C', 'C', 'C', 'C', 'C', 'C', 'C', 'C', 'C', 'C',\n",
       "       'C', 'C', 'C', 'C', 'C', 'C', 'C', 'C', 'C', 'C', 'C', 'C', 'C',\n",
       "       'C', 'C', 'C', 'C', 'C', 'C', 'C', 'C', 'C', 'C', 'C', 'C', 'C',\n",
       "       'C', 'C', 'C', 'C', 'C', 'C', 'C', 'C', 'C', 'C', 'C', 'C', 'C',\n",
       "       'C', 'C', 'C', 'C', 'C', 'C', 'C', 'C', 'C', 'C', 'C', 'C', 'C',\n",
       "       'C', 'C', 'C', 'C', 'C', 'C', 'C', 'C', 'C', 'C', 'C', 'C', 'C',\n",
       "       'C', 'C', 'C', 'C', 'C', 'C', 'C', 'C', 'C', 'C', 'C', 'C', 'C',\n",
       "       'C', 'C', 'C', 'C', 'C', 'C', 'C', 'C', 'C', 'C', 'C', 'C', 'C',\n",
       "       'C', 'C', 'C', 'C', 'C', 'C', 'C', 'C', 'C', 'C', 'C', 'C', 'C',\n",
       "       'C', 'C', 'C', 'C', 'C', 'C', 'C', 'C', 'C', 'C', 'C', 'C', 'C',\n",
       "       'C', 'C', 'C', 'C', 'C', 'C', 'C', 'C', 'C', 'C', 'C', 'C', 'C',\n",
       "       'C', 'C', 'C', 'C', 'C', 'C', 'C', 'C', 'C', 'C', 'C', 'C', 'C',\n",
       "       'C', 'C', 'C', 'C', 'C', 'C', 'C', 'C', 'C', 'C', 'C', 'C', 'C',\n",
       "       'C', 'C', 'C', 'C', 'C', 'C', 'C', 'C', 'C', 'C', 'C', 'C', 'C',\n",
       "       'C', 'C', 'C', 'C', 'C', 'C', 'C', 'C', 'C', 'C', 'C', 'C', 'C',\n",
       "       'C', 'C', 'C', 'C', 'C', 'C', 'C', 'C', 'C', 'C', 'C', 'C', 'C',\n",
       "       'C', 'C', 'C', 'C', 'C', 'C', 'C', 'C', 'C', 'C', 'C', 'C', 'C',\n",
       "       'C', 'C', 'C', 'C', 'C', 'C', 'C', 'C', 'C', 'C', 'C', 'C', 'C',\n",
       "       'C', 'C', 'C', 'C', 'C', 'C', 'C', 'C', 'C', 'C', 'C', 'C', 'C',\n",
       "       'C', 'C', 'C', 'C', 'C', 'C', 'C', 'C', 'C', 'C', 'C', 'C', 'C',\n",
       "       'C', 'C', 'C', 'C', 'C', 'C', 'C', 'C', 'C', 'C', 'C', 'C', 'C',\n",
       "       'C', 'C', 'C', 'C', 'C', 'C', 'C', 'C', 'C', 'C', 'C', 'C', 'C',\n",
       "       'C', 'C', 'C', 'C', 'C', 'C', 'C', 'C', 'C', 'C', 'C', 'C', 'C',\n",
       "       'C', 'C', 'C', 'C', 'C', 'C', 'C', 'C', 'C', 'C', 'C', 'C', 'C',\n",
       "       'C', 'C', 'C', 'C', 'C', 'C', 'C', 'C', 'C', 'C', 'C', 'C', 'C',\n",
       "       'C', 'C', 'C', 'C', 'C', 'C', 'C', 'C', 'C', 'C', 'C', 'C', 'C',\n",
       "       'C', 'C', 'C', 'C', 'C', 'C', 'C', 'C', 'C', 'C', 'C', 'C', 'C',\n",
       "       'C', 'C', 'C', 'C', 'C', 'C', 'C', 'C', 'C', 'C', 'C', 'C', 'C',\n",
       "       'C', 'C', 'C', 'C', 'C', 'C', 'C', 'C', 'C', 'C', 'C', 'C', 'C',\n",
       "       'C', 'C', 'C', 'C', 'C', 'C', 'C', 'C', 'C', 'C', 'C', 'C', 'C',\n",
       "       'C'], dtype=object)"
      ]
     },
     "execution_count": 83,
     "metadata": {},
     "output_type": "execute_result"
    }
   ],
   "source": [
    "arr_X[:, 1]"
   ]
  },
  {
   "cell_type": "code",
   "execution_count": 64,
   "metadata": {},
   "outputs": [
    {
     "data": {
      "text/plain": [
       "array([['TN', 'C', 'A', ..., 'Y', '0', '3'],\n",
       "       ['TN', 'C', 'R', ..., 'Y', '0', '3'],\n",
       "       ['TN', 'C', 'R', ..., 'Y', '0', '3'],\n",
       "       ...,\n",
       "       ['TN', 'C', 'V', ..., 'Y', '0', '3'],\n",
       "       ['TN', 'C', 'A', ..., 'Y', '0', '3'],\n",
       "       ['TN', 'C', 'A', ..., 'Y', '500', '3']], dtype=object)"
      ]
     },
     "execution_count": 64,
     "metadata": {},
     "output_type": "execute_result"
    }
   ],
   "source": [
    "C"
   ]
  },
  {
   "cell_type": "code",
   "execution_count": 53,
   "metadata": {},
   "outputs": [],
   "source": [
    "C = C.apply(lambda x: x.astype(object))"
   ]
  },
  {
   "cell_type": "code",
   "execution_count": 59,
   "metadata": {},
   "outputs": [],
   "source": [
    "C = C.apply(lambda x: x.fillna(x.mode()))"
   ]
  },
  {
   "cell_type": "code",
   "execution_count": 61,
   "metadata": {},
   "outputs": [
    {
     "data": {
      "text/html": [
       "<div>\n",
       "<style scoped>\n",
       "    .dataframe tbody tr th:only-of-type {\n",
       "        vertical-align: middle;\n",
       "    }\n",
       "\n",
       "    .dataframe tbody tr th {\n",
       "        vertical-align: top;\n",
       "    }\n",
       "\n",
       "    .dataframe thead th {\n",
       "        text-align: right;\n",
       "    }\n",
       "</style>\n",
       "<table border=\"1\" class=\"dataframe\">\n",
       "  <thead>\n",
       "    <tr style=\"text-align: right;\">\n",
       "      <th></th>\n",
       "      <th>family</th>\n",
       "      <th>product-type</th>\n",
       "      <th>steel</th>\n",
       "      <th>temper_rolling</th>\n",
       "      <th>condition</th>\n",
       "      <th>formability</th>\n",
       "      <th>non-ageing</th>\n",
       "      <th>surface-finish</th>\n",
       "      <th>surface-quality</th>\n",
       "      <th>enamelability</th>\n",
       "      <th>...</th>\n",
       "      <th>corr</th>\n",
       "      <th>blue%2Fbright%2Fvarn%2Fclean</th>\n",
       "      <th>lustre</th>\n",
       "      <th>jurofm</th>\n",
       "      <th>s</th>\n",
       "      <th>p</th>\n",
       "      <th>shape</th>\n",
       "      <th>oil</th>\n",
       "      <th>bore</th>\n",
       "      <th>packing</th>\n",
       "    </tr>\n",
       "  </thead>\n",
       "  <tbody>\n",
       "    <tr>\n",
       "      <th>0</th>\n",
       "      <td>TN</td>\n",
       "      <td>C</td>\n",
       "      <td>A</td>\n",
       "      <td>T</td>\n",
       "      <td>S</td>\n",
       "      <td>2</td>\n",
       "      <td>N</td>\n",
       "      <td>P</td>\n",
       "      <td>G</td>\n",
       "      <td>2</td>\n",
       "      <td>...</td>\n",
       "      <td>NaN</td>\n",
       "      <td>B</td>\n",
       "      <td>Y</td>\n",
       "      <td>NaN</td>\n",
       "      <td>NaN</td>\n",
       "      <td>NaN</td>\n",
       "      <td>COIL</td>\n",
       "      <td>Y</td>\n",
       "      <td>0</td>\n",
       "      <td>3</td>\n",
       "    </tr>\n",
       "    <tr>\n",
       "      <th>1</th>\n",
       "      <td>NaN</td>\n",
       "      <td>C</td>\n",
       "      <td>R</td>\n",
       "      <td>NaN</td>\n",
       "      <td>S</td>\n",
       "      <td>2</td>\n",
       "      <td>NaN</td>\n",
       "      <td>NaN</td>\n",
       "      <td>E</td>\n",
       "      <td>NaN</td>\n",
       "      <td>...</td>\n",
       "      <td>NaN</td>\n",
       "      <td>NaN</td>\n",
       "      <td>Y</td>\n",
       "      <td>NaN</td>\n",
       "      <td>NaN</td>\n",
       "      <td>NaN</td>\n",
       "      <td>COIL</td>\n",
       "      <td>NaN</td>\n",
       "      <td>0</td>\n",
       "      <td>NaN</td>\n",
       "    </tr>\n",
       "    <tr>\n",
       "      <th>2</th>\n",
       "      <td>NaN</td>\n",
       "      <td>C</td>\n",
       "      <td>R</td>\n",
       "      <td>NaN</td>\n",
       "      <td>S</td>\n",
       "      <td>2</td>\n",
       "      <td>NaN</td>\n",
       "      <td>NaN</td>\n",
       "      <td>E</td>\n",
       "      <td>NaN</td>\n",
       "      <td>...</td>\n",
       "      <td>NaN</td>\n",
       "      <td>NaN</td>\n",
       "      <td>NaN</td>\n",
       "      <td>NaN</td>\n",
       "      <td>NaN</td>\n",
       "      <td>NaN</td>\n",
       "      <td>SHEET</td>\n",
       "      <td>NaN</td>\n",
       "      <td>0</td>\n",
       "      <td>NaN</td>\n",
       "    </tr>\n",
       "    <tr>\n",
       "      <th>3</th>\n",
       "      <td>NaN</td>\n",
       "      <td>C</td>\n",
       "      <td>A</td>\n",
       "      <td>T</td>\n",
       "      <td>NaN</td>\n",
       "      <td>NaN</td>\n",
       "      <td>NaN</td>\n",
       "      <td>NaN</td>\n",
       "      <td>G</td>\n",
       "      <td>NaN</td>\n",
       "      <td>...</td>\n",
       "      <td>NaN</td>\n",
       "      <td>NaN</td>\n",
       "      <td>NaN</td>\n",
       "      <td>NaN</td>\n",
       "      <td>NaN</td>\n",
       "      <td>NaN</td>\n",
       "      <td>COIL</td>\n",
       "      <td>NaN</td>\n",
       "      <td>0</td>\n",
       "      <td>NaN</td>\n",
       "    </tr>\n",
       "    <tr>\n",
       "      <th>4</th>\n",
       "      <td>NaN</td>\n",
       "      <td>C</td>\n",
       "      <td>A</td>\n",
       "      <td>T</td>\n",
       "      <td>NaN</td>\n",
       "      <td>NaN</td>\n",
       "      <td>NaN</td>\n",
       "      <td>NaN</td>\n",
       "      <td>G</td>\n",
       "      <td>NaN</td>\n",
       "      <td>...</td>\n",
       "      <td>NaN</td>\n",
       "      <td>NaN</td>\n",
       "      <td>NaN</td>\n",
       "      <td>NaN</td>\n",
       "      <td>NaN</td>\n",
       "      <td>NaN</td>\n",
       "      <td>SHEET</td>\n",
       "      <td>NaN</td>\n",
       "      <td>0</td>\n",
       "      <td>NaN</td>\n",
       "    </tr>\n",
       "    <tr>\n",
       "      <th>...</th>\n",
       "      <td>...</td>\n",
       "      <td>...</td>\n",
       "      <td>...</td>\n",
       "      <td>...</td>\n",
       "      <td>...</td>\n",
       "      <td>...</td>\n",
       "      <td>...</td>\n",
       "      <td>...</td>\n",
       "      <td>...</td>\n",
       "      <td>...</td>\n",
       "      <td>...</td>\n",
       "      <td>...</td>\n",
       "      <td>...</td>\n",
       "      <td>...</td>\n",
       "      <td>...</td>\n",
       "      <td>...</td>\n",
       "      <td>...</td>\n",
       "      <td>...</td>\n",
       "      <td>...</td>\n",
       "      <td>...</td>\n",
       "      <td>...</td>\n",
       "    </tr>\n",
       "    <tr>\n",
       "      <th>893</th>\n",
       "      <td>NaN</td>\n",
       "      <td>C</td>\n",
       "      <td>R</td>\n",
       "      <td>NaN</td>\n",
       "      <td>S</td>\n",
       "      <td>3</td>\n",
       "      <td>NaN</td>\n",
       "      <td>NaN</td>\n",
       "      <td>NaN</td>\n",
       "      <td>NaN</td>\n",
       "      <td>...</td>\n",
       "      <td>NaN</td>\n",
       "      <td>NaN</td>\n",
       "      <td>NaN</td>\n",
       "      <td>NaN</td>\n",
       "      <td>NaN</td>\n",
       "      <td>NaN</td>\n",
       "      <td>SHEET</td>\n",
       "      <td>NaN</td>\n",
       "      <td>0</td>\n",
       "      <td>NaN</td>\n",
       "    </tr>\n",
       "    <tr>\n",
       "      <th>894</th>\n",
       "      <td>NaN</td>\n",
       "      <td>C</td>\n",
       "      <td>R</td>\n",
       "      <td>NaN</td>\n",
       "      <td>S</td>\n",
       "      <td>3</td>\n",
       "      <td>NaN</td>\n",
       "      <td>NaN</td>\n",
       "      <td>NaN</td>\n",
       "      <td>NaN</td>\n",
       "      <td>...</td>\n",
       "      <td>NaN</td>\n",
       "      <td>NaN</td>\n",
       "      <td>NaN</td>\n",
       "      <td>NaN</td>\n",
       "      <td>NaN</td>\n",
       "      <td>NaN</td>\n",
       "      <td>SHEET</td>\n",
       "      <td>NaN</td>\n",
       "      <td>0</td>\n",
       "      <td>NaN</td>\n",
       "    </tr>\n",
       "    <tr>\n",
       "      <th>895</th>\n",
       "      <td>NaN</td>\n",
       "      <td>C</td>\n",
       "      <td>V</td>\n",
       "      <td>NaN</td>\n",
       "      <td>S</td>\n",
       "      <td>2</td>\n",
       "      <td>NaN</td>\n",
       "      <td>NaN</td>\n",
       "      <td>NaN</td>\n",
       "      <td>2</td>\n",
       "      <td>...</td>\n",
       "      <td>NaN</td>\n",
       "      <td>NaN</td>\n",
       "      <td>NaN</td>\n",
       "      <td>NaN</td>\n",
       "      <td>NaN</td>\n",
       "      <td>NaN</td>\n",
       "      <td>SHEET</td>\n",
       "      <td>NaN</td>\n",
       "      <td>0</td>\n",
       "      <td>NaN</td>\n",
       "    </tr>\n",
       "    <tr>\n",
       "      <th>896</th>\n",
       "      <td>NaN</td>\n",
       "      <td>C</td>\n",
       "      <td>A</td>\n",
       "      <td>T</td>\n",
       "      <td>NaN</td>\n",
       "      <td>NaN</td>\n",
       "      <td>NaN</td>\n",
       "      <td>NaN</td>\n",
       "      <td>G</td>\n",
       "      <td>NaN</td>\n",
       "      <td>...</td>\n",
       "      <td>NaN</td>\n",
       "      <td>NaN</td>\n",
       "      <td>NaN</td>\n",
       "      <td>NaN</td>\n",
       "      <td>NaN</td>\n",
       "      <td>NaN</td>\n",
       "      <td>COIL</td>\n",
       "      <td>NaN</td>\n",
       "      <td>0</td>\n",
       "      <td>NaN</td>\n",
       "    </tr>\n",
       "    <tr>\n",
       "      <th>897</th>\n",
       "      <td>NaN</td>\n",
       "      <td>C</td>\n",
       "      <td>A</td>\n",
       "      <td>T</td>\n",
       "      <td>NaN</td>\n",
       "      <td>NaN</td>\n",
       "      <td>NaN</td>\n",
       "      <td>NaN</td>\n",
       "      <td>G</td>\n",
       "      <td>NaN</td>\n",
       "      <td>...</td>\n",
       "      <td>NaN</td>\n",
       "      <td>NaN</td>\n",
       "      <td>NaN</td>\n",
       "      <td>NaN</td>\n",
       "      <td>NaN</td>\n",
       "      <td>NaN</td>\n",
       "      <td>COIL</td>\n",
       "      <td>NaN</td>\n",
       "      <td>500</td>\n",
       "      <td>NaN</td>\n",
       "    </tr>\n",
       "  </tbody>\n",
       "</table>\n",
       "<p>898 rows × 32 columns</p>\n",
       "</div>"
      ],
      "text/plain": [
       "    family product-type steel temper_rolling condition formability non-ageing  \\\n",
       "0       TN            C     A              T         S           2          N   \n",
       "1      NaN            C     R            NaN         S           2        NaN   \n",
       "2      NaN            C     R            NaN         S           2        NaN   \n",
       "3      NaN            C     A              T       NaN         NaN        NaN   \n",
       "4      NaN            C     A              T       NaN         NaN        NaN   \n",
       "..     ...          ...   ...            ...       ...         ...        ...   \n",
       "893    NaN            C     R            NaN         S           3        NaN   \n",
       "894    NaN            C     R            NaN         S           3        NaN   \n",
       "895    NaN            C     V            NaN         S           2        NaN   \n",
       "896    NaN            C     A              T       NaN         NaN        NaN   \n",
       "897    NaN            C     A              T       NaN         NaN        NaN   \n",
       "\n",
       "    surface-finish surface-quality enamelability  ... corr  \\\n",
       "0                P               G             2  ...  NaN   \n",
       "1              NaN               E           NaN  ...  NaN   \n",
       "2              NaN               E           NaN  ...  NaN   \n",
       "3              NaN               G           NaN  ...  NaN   \n",
       "4              NaN               G           NaN  ...  NaN   \n",
       "..             ...             ...           ...  ...  ...   \n",
       "893            NaN             NaN           NaN  ...  NaN   \n",
       "894            NaN             NaN           NaN  ...  NaN   \n",
       "895            NaN             NaN             2  ...  NaN   \n",
       "896            NaN               G           NaN  ...  NaN   \n",
       "897            NaN               G           NaN  ...  NaN   \n",
       "\n",
       "    blue%2Fbright%2Fvarn%2Fclean lustre jurofm    s    p  shape  oil bore  \\\n",
       "0                              B      Y    NaN  NaN  NaN   COIL    Y    0   \n",
       "1                            NaN      Y    NaN  NaN  NaN   COIL  NaN    0   \n",
       "2                            NaN    NaN    NaN  NaN  NaN  SHEET  NaN    0   \n",
       "3                            NaN    NaN    NaN  NaN  NaN   COIL  NaN    0   \n",
       "4                            NaN    NaN    NaN  NaN  NaN  SHEET  NaN    0   \n",
       "..                           ...    ...    ...  ...  ...    ...  ...  ...   \n",
       "893                          NaN    NaN    NaN  NaN  NaN  SHEET  NaN    0   \n",
       "894                          NaN    NaN    NaN  NaN  NaN  SHEET  NaN    0   \n",
       "895                          NaN    NaN    NaN  NaN  NaN  SHEET  NaN    0   \n",
       "896                          NaN    NaN    NaN  NaN  NaN   COIL  NaN    0   \n",
       "897                          NaN    NaN    NaN  NaN  NaN   COIL  NaN  500   \n",
       "\n",
       "    packing  \n",
       "0         3  \n",
       "1       NaN  \n",
       "2       NaN  \n",
       "3       NaN  \n",
       "4       NaN  \n",
       "..      ...  \n",
       "893     NaN  \n",
       "894     NaN  \n",
       "895     NaN  \n",
       "896     NaN  \n",
       "897     NaN  \n",
       "\n",
       "[898 rows x 32 columns]"
      ]
     },
     "execution_count": 61,
     "metadata": {},
     "output_type": "execute_result"
    }
   ],
   "source": [
    "C.apply(lambda x: x.fillna(x.mode()))"
   ]
  },
  {
   "cell_type": "code",
   "execution_count": 2,
   "metadata": {},
   "outputs": [
    {
     "data": {
      "text/plain": [
       "('best_node',\n",
       " 'elite_nn',\n",
       " 'linear_discr',\n",
       " 'naive_bayes',\n",
       " 'one_nn',\n",
       " 'random_node',\n",
       " 'worst_node')"
      ]
     },
     "execution_count": 2,
     "metadata": {},
     "output_type": "execute_result"
    }
   ],
   "source": [
    "MFE.valid_metafeatures(groups = [\"landmarking\"])"
   ]
  },
  {
   "cell_type": "code",
   "execution_count": 3,
   "metadata": {},
   "outputs": [],
   "source": [
    "# csv_files = glob.glob(f\"../data/meta_features/*.{'csv'}\")\n",
    "# df = pd.concat([pd.read_csv(f, index_col = 0) for f in csv_files])\n"
   ]
  },
  {
   "cell_type": "code",
   "execution_count": 209,
   "metadata": {},
   "outputs": [],
   "source": [
    "csv_files = glob.glob(f\"../data/test/*.{'csv'}\")\n",
    "df = pd.concat([pd.read_csv(f, index_col = 0) for f in csv_files])"
   ]
  },
  {
   "cell_type": "code",
   "execution_count": 210,
   "metadata": {},
   "outputs": [],
   "source": [
    "df_full = df[df.isna().all(1) == False]"
   ]
  },
  {
   "cell_type": "code",
   "execution_count": 71,
   "metadata": {},
   "outputs": [],
   "source": [
    "from metafeature_mapping import mapping_general, mapping_stat, mapping_infotheory\n",
    "\n",
    "mapping = mapping_general | mapping_stat | mapping_infotheory"
   ]
  },
  {
   "cell_type": "code",
   "execution_count": null,
   "metadata": {},
   "outputs": [],
   "source": [
    "df.fillna()"
   ]
  },
  {
   "cell_type": "code",
   "execution_count": 139,
   "metadata": {},
   "outputs": [],
   "source": [
    "ftrs = list(mapping.keys())"
   ]
  },
  {
   "cell_type": "code",
   "execution_count": 140,
   "metadata": {},
   "outputs": [],
   "source": [
    "datasets = openml.datasets"
   ]
  },
  {
   "cell_type": "code",
   "execution_count": 66,
   "metadata": {},
   "outputs": [],
   "source": [
    "from meta_func import BackFiller\n",
    "import numpy as np\n",
    "filler = BackFiller()"
   ]
  },
  {
   "cell_type": "code",
   "execution_count": 67,
   "metadata": {},
   "outputs": [],
   "source": [
    "from pymfe.info_theory import MFEInfoTheory\n",
    "mfe_info = MFEInfoTheory()\n",
    "def impute_metafeatures(X, y, df):\n",
    "    missing_elements = np.unique(np.array(list(zip(*df.loc[:, df.isnull().any()].columns.str.split('.')))))\n",
    "    for element in missing_elements:\n",
    "        if element in landmarkers:\n",
    "            continue\n",
    "        if element in mapping_infotheory.keys():\n",
    "            imputing_class = mfe_info\n",
    "            value = mapping[element]\n",
    "            func, args = value[0], value[1:]\n",
    "            C = pd.DataFrame(X).select_dtypes('category')\n",
    "            C = C.to_numpy()\n",
    "            if len(args) > 1:\n",
    "                args = C, y\n",
    "            else:\n",
    "                args = C\n",
    "        else:\n",
    "            imputing_class = filler\n",
    "            func = mapping[element]\n",
    "            args = X\n",
    "        \n",
    "        exec_func = getattr(imputing_class, func)\n",
    "        result = exec_func(args)\n",
    "        if type(result) == tuple:\n",
    "            column_str = [f\"{element}.mean\", f\"{element}.sd\"]\n",
    "        else:\n",
    "            df[element] = result\n",
    "            continue\n",
    "        for col, res in zip(column_str, result):\n",
    "            df[col] = res\n",
    "    return df"
   ]
  },
  {
   "cell_type": "code",
   "execution_count": 193,
   "metadata": {},
   "outputs": [],
   "source": [
    "datasets = openml.datasets"
   ]
  },
  {
   "cell_type": "code",
   "execution_count": 201,
   "metadata": {},
   "outputs": [],
   "source": [
    "df_full = df_full[df_full['attr_conc.mean'].notnull()].copy()\n",
    "df_full = df_full[df_full['class_conc.mean'].notnull()].copy()"
   ]
  },
  {
   "cell_type": "code",
   "execution_count": 202,
   "metadata": {},
   "outputs": [],
   "source": []
  },
  {
   "cell_type": "code",
   "execution_count": 72,
   "metadata": {},
   "outputs": [
    {
     "ename": "KeyError",
     "evalue": "'best_node'",
     "output_type": "error",
     "traceback": [
      "\u001b[1;31m---------------------------------------------------------------------------\u001b[0m",
      "\u001b[1;31mKeyError\u001b[0m                                  Traceback (most recent call last)",
      "Cell \u001b[1;32mIn[72], line 8\u001b[0m\n\u001b[0;32m      5\u001b[0m df \u001b[39m=\u001b[39m pd\u001b[39m.\u001b[39mDataFrame(columns \u001b[39m=\u001b[39m meta_features\u001b[39m.\u001b[39mcolumns)\n\u001b[0;32m      6\u001b[0m df\u001b[39m.\u001b[39mloc[inx] \u001b[39m=\u001b[39m meta_features\u001b[39m.\u001b[39mloc[inx]\u001b[39m.\u001b[39mvalues\n\u001b[1;32m----> 8\u001b[0m row_ \u001b[39m=\u001b[39m impute_metafeatures(X, y, df)\n\u001b[0;32m      9\u001b[0m meta_features\u001b[39m.\u001b[39mloc[inx] \u001b[39m=\u001b[39m row_\u001b[39m.\u001b[39mvalues\n",
      "Cell \u001b[1;32mIn[67], line 20\u001b[0m, in \u001b[0;36mimpute_metafeatures\u001b[1;34m(X, y, df)\u001b[0m\n\u001b[0;32m     18\u001b[0m \u001b[39melse\u001b[39;00m:\n\u001b[0;32m     19\u001b[0m     imputing_class \u001b[39m=\u001b[39m filler\n\u001b[1;32m---> 20\u001b[0m     func \u001b[39m=\u001b[39m mapping[element]\n\u001b[0;32m     21\u001b[0m     args \u001b[39m=\u001b[39m X\n\u001b[0;32m     23\u001b[0m exec_func \u001b[39m=\u001b[39m \u001b[39mgetattr\u001b[39m(imputing_class, func)\n",
      "\u001b[1;31mKeyError\u001b[0m: 'best_node'"
     ]
    }
   ],
   "source": [
    "for inx in meta_features.index:\n",
    "\n",
    "    dataset = datasets.get_dataset(inx, download_all_files=False)\n",
    "    X, y, _, _ = dataset.get_data(dataset_format=\"array\", target=dataset.default_target_attribute)\n",
    "    df = pd.DataFrame(columns = meta_features.columns)\n",
    "    df.loc[inx] = meta_features.loc[inx].values\n",
    "\n",
    "    row_ = impute_metafeatures(X, y, df)\n",
    "    meta_features.loc[inx] = row_.values"
   ]
  },
  {
   "cell_type": "code",
   "execution_count": null,
   "metadata": {},
   "outputs": [],
   "source": []
  }
 ],
 "metadata": {
  "kernelspec": {
   "display_name": "masterthesisenv",
   "language": "python",
   "name": "python3"
  },
  "language_info": {
   "codemirror_mode": {
    "name": "ipython",
    "version": 3
   },
   "file_extension": ".py",
   "mimetype": "text/x-python",
   "name": "python",
   "nbconvert_exporter": "python",
   "pygments_lexer": "ipython3",
   "version": "3.9.13"
  },
  "orig_nbformat": 4,
  "vscode": {
   "interpreter": {
    "hash": "c72ee170da18cf12862f60a1fabf3227f364f711d40b1a28e320df598b1093c3"
   }
  }
 },
 "nbformat": 4,
 "nbformat_minor": 2
}
