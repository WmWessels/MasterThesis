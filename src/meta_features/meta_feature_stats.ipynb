{
 "cells": [
  {
   "cell_type": "code",
   "execution_count": 1,
   "metadata": {},
   "outputs": [],
   "source": [
    "import pandas as pd\n",
    "import openml"
   ]
  },
  {
   "cell_type": "code",
   "execution_count": 3,
   "metadata": {},
   "outputs": [],
   "source": [
    "data_dir = \"../data/meta_features_classification.csv\"\n",
    "dataframe = pd.read_csv(data_dir)"
   ]
  },
  {
   "cell_type": "code",
   "execution_count": 4,
   "metadata": {},
   "outputs": [
    {
     "data": {
      "text/plain": [
       "PercentageOfSymbolicFeatures                 4\n",
       "PercentageOfMissingValues                    4\n",
       "PercentageOfInstancesWithMissingValues       4\n",
       "PercentageOfBinaryFeatures                   4\n",
       "NumberOfSymbolicFeatures                     4\n",
       "                                          ... \n",
       "Quartile3MutualInformation                1037\n",
       "Quartile2MutualInformation                1037\n",
       "MeanMutualInformation                     1037\n",
       "MeanNoiseToSignalRatio                    1049\n",
       "EquivalentNumberOfAtts                    1049\n",
       "Length: 107, dtype: int64"
      ]
     },
     "execution_count": 4,
     "metadata": {},
     "output_type": "execute_result"
    }
   ],
   "source": [
    "dataframe.iloc[:, 1:].isnull().sum(axis = 0).sort_values()"
   ]
  },
  {
   "cell_type": "code",
   "execution_count": 5,
   "metadata": {},
   "outputs": [
    {
     "data": {
      "text/plain": [
       "611     45\n",
       "488     24\n",
       "4       13\n",
       "1037    12\n",
       "69       4\n",
       "332      4\n",
       "35       2\n",
       "1049     2\n",
       "341      1\n",
       "dtype: int64"
      ]
     },
     "execution_count": 5,
     "metadata": {},
     "output_type": "execute_result"
    }
   ],
   "source": [
    "dataframe.iloc[:, 1:].isnull().sum(0).value_counts()"
   ]
  },
  {
   "cell_type": "code",
   "execution_count": 2,
   "metadata": {},
   "outputs": [],
   "source": [
    "datasets = openml.datasets"
   ]
  },
  {
   "cell_type": "code",
   "execution_count": 3,
   "metadata": {},
   "outputs": [],
   "source": [
    "dataset_df =datasets.list_datasets(output_format=\"dataframe\")"
   ]
  },
  {
   "cell_type": "code",
   "execution_count": 4,
   "metadata": {},
   "outputs": [],
   "source": [
    "dataset = datasets.get_dataset(274)\n",
    "X, y, _, _ = dataset.get_data(dataset_format=\"array\", target = dataset.default_target_attribute)"
   ]
  },
  {
   "cell_type": "code",
   "execution_count": 4,
   "metadata": {},
   "outputs": [
    {
     "data": {
      "text/plain": [
       "Int64Index([], dtype='int64')"
      ]
     },
     "execution_count": 4,
     "metadata": {},
     "output_type": "execute_result"
    }
   ],
   "source": [
    "dataset_df.query(\"NumberOfFeatures > 500000\").index"
   ]
  },
  {
   "cell_type": "code",
   "execution_count": 18,
   "metadata": {},
   "outputs": [],
   "source": [
    "from pymfe.mfe import MFE\n",
    "mfe = MFE()\n",
    "#groups=[\"general\", \"statistical\", \"info-theory\", \"landmarking\", \"model-based\"]"
   ]
  },
  {
   "cell_type": "code",
   "execution_count": 19,
   "metadata": {},
   "outputs": [],
   "source": [
    "mfe = MFE(groups=[\"landmarking\"])"
   ]
  },
  {
   "cell_type": "code",
   "execution_count": 20,
   "metadata": {},
   "outputs": [
    {
     "name": "stderr",
     "output_type": "stream",
     "text": [
      "c:\\Users\\wiche\\OneDrive\\Bureaublad\\MasterThesis\\masterthesisenv\\lib\\site-packages\\pymfe\\_internal.py:1568: UserWarning: It is not possible make equal discretization\n",
      "  warnings.warn(\"It is not possible make equal discretization\")\n"
     ]
    }
   ],
   "source": [
    "mfe.fit(X,y)\n",
    "mfe.extract()"
   ]
  },
  {
   "cell_type": "code",
   "execution_count": null,
   "metadata": {},
   "outputs": [
    {
     "name": "stderr",
     "output_type": "stream",
     "text": [
      "WARNING:openml.datasets.dataset:Cannot convert sparse-data (<class 'scipy.sparse._csr.csr_matrix'>) to 'array'. Returning input data.\n"
     ]
    }
   ],
   "source": [
    "dataset = datasets.get_dataset(274)\n",
    "X, y, _, _ = dataset.get_data(dataset_format=\"dataframe\", target = dataset.default_target_attribute)\n"
   ]
  },
  {
   "cell_type": "code",
   "execution_count": null,
   "metadata": {},
   "outputs": [],
   "source": [
    "df = pd.DataFrame(X)"
   ]
  },
  {
   "cell_type": "code",
   "execution_count": 7,
   "metadata": {},
   "outputs": [
    {
     "data": {
      "text/html": [
       "<div>\n",
       "<style scoped>\n",
       "    .dataframe tbody tr th:only-of-type {\n",
       "        vertical-align: middle;\n",
       "    }\n",
       "\n",
       "    .dataframe tbody tr th {\n",
       "        vertical-align: top;\n",
       "    }\n",
       "\n",
       "    .dataframe thead th {\n",
       "        text-align: right;\n",
       "    }\n",
       "</style>\n",
       "<table border=\"1\" class=\"dataframe\">\n",
       "  <thead>\n",
       "    <tr style=\"text-align: right;\">\n",
       "      <th></th>\n",
       "      <th>0</th>\n",
       "    </tr>\n",
       "  </thead>\n",
       "  <tbody>\n",
       "    <tr>\n",
       "      <th>0</th>\n",
       "      <td>(0, 2)\\t1.0\\n  (0, 4)\\t1.0\\n  (0, 6)\\t1.0\\n ...</td>\n",
       "    </tr>\n",
       "    <tr>\n",
       "      <th>1</th>\n",
       "      <td>(0, 25)\\t1.0\\n  (0, 65)\\t1.0\\n  (0, 154)\\t1....</td>\n",
       "    </tr>\n",
       "    <tr>\n",
       "      <th>2</th>\n",
       "      <td>(0, 30)\\t1.0\\n  (0, 205)\\t1.0\\n  (0, 322)\\t1...</td>\n",
       "    </tr>\n",
       "    <tr>\n",
       "      <th>3</th>\n",
       "      <td>(0, 2)\\t1.0\\n  (0, 24)\\t1.0\\n  (0, 194)\\t1.0...</td>\n",
       "    </tr>\n",
       "    <tr>\n",
       "      <th>4</th>\n",
       "      <td>(0, 45)\\t1.0\\n  (0, 46)\\t1.0\\n  (0, 180)\\t1....</td>\n",
       "    </tr>\n",
       "    <tr>\n",
       "      <th>...</th>\n",
       "      <td>...</td>\n",
       "    </tr>\n",
       "    <tr>\n",
       "      <th>120914</th>\n",
       "      <td>(0, 0)\\t1.0\\n  (0, 13)\\t1.0\\n  (0, 22)\\t1.0\\...</td>\n",
       "    </tr>\n",
       "    <tr>\n",
       "      <th>120915</th>\n",
       "      <td>(0, 20)\\t1.0\\n  (0, 27)\\t1.0\\n  (0, 59)\\t1.0...</td>\n",
       "    </tr>\n",
       "    <tr>\n",
       "      <th>120916</th>\n",
       "      <td>(0, 19)\\t1.0\\n  (0, 22)\\t1.0\\n  (0, 46)\\t1.0...</td>\n",
       "    </tr>\n",
       "    <tr>\n",
       "      <th>120917</th>\n",
       "      <td>(0, 18)\\t1.0\\n  (0, 39)\\t1.0\\n  (0, 78)\\t1.0...</td>\n",
       "    </tr>\n",
       "    <tr>\n",
       "      <th>120918</th>\n",
       "      <td>(0, 0)\\t1.0\\n  (0, 26)\\t1.0\\n  (0, 95)\\t1.0\\...</td>\n",
       "    </tr>\n",
       "  </tbody>\n",
       "</table>\n",
       "<p>120919 rows × 1 columns</p>\n",
       "</div>"
      ],
      "text/plain": [
       "                                                        0\n",
       "0         (0, 2)\\t1.0\\n  (0, 4)\\t1.0\\n  (0, 6)\\t1.0\\n ...\n",
       "1         (0, 25)\\t1.0\\n  (0, 65)\\t1.0\\n  (0, 154)\\t1....\n",
       "2         (0, 30)\\t1.0\\n  (0, 205)\\t1.0\\n  (0, 322)\\t1...\n",
       "3         (0, 2)\\t1.0\\n  (0, 24)\\t1.0\\n  (0, 194)\\t1.0...\n",
       "4         (0, 45)\\t1.0\\n  (0, 46)\\t1.0\\n  (0, 180)\\t1....\n",
       "...                                                   ...\n",
       "120914    (0, 0)\\t1.0\\n  (0, 13)\\t1.0\\n  (0, 22)\\t1.0\\...\n",
       "120915    (0, 20)\\t1.0\\n  (0, 27)\\t1.0\\n  (0, 59)\\t1.0...\n",
       "120916    (0, 19)\\t1.0\\n  (0, 22)\\t1.0\\n  (0, 46)\\t1.0...\n",
       "120917    (0, 18)\\t1.0\\n  (0, 39)\\t1.0\\n  (0, 78)\\t1.0...\n",
       "120918    (0, 0)\\t1.0\\n  (0, 26)\\t1.0\\n  (0, 95)\\t1.0\\...\n",
       "\n",
       "[120919 rows x 1 columns]"
      ]
     },
     "execution_count": 7,
     "metadata": {},
     "output_type": "execute_result"
    }
   ],
   "source": [
    "df"
   ]
  },
  {
   "cell_type": "code",
   "execution_count": 12,
   "metadata": {},
   "outputs": [],
   "source": [
    "dff = openml.datasets.list_datasets(output_format=\"dataframe\")"
   ]
  },
  {
   "cell_type": "code",
   "execution_count": 16,
   "metadata": {},
   "outputs": [
    {
     "data": {
      "text/plain": [
       "<AxesSubplot: >"
      ]
     },
     "execution_count": 16,
     "metadata": {},
     "output_type": "execute_result"
    },
    {
     "data": {
      "image/png": "[encoded data removed]",
      "text/plain": [
       "<Figure size 640x480 with 1 Axes>"
      ]
     },
     "metadata": {},
     "output_type": "display_data"
    }
   ],
   "source": [
    "dff[\"NumberOfInstances\"].plot()"
   ]
  },
  {
   "cell_type": "code",
   "execution_count": 56,
   "metadata": {},
   "outputs": [
    {
     "name": "stdout",
     "output_type": "stream",
     "text": [
      "0.7997997941644847\n",
      "nan\n",
      "0.08060769908924477\n",
      "0.09776972798730603\n",
      "0.018181818181818177\n",
      "0.04430364474834585\n",
      "0.012698412698412698\n"
     ]
    }
   ],
   "source": [
    "for col, valu in zip(columns, values):\n",
    "    if 'cor' in col:\n",
    "        print(valu)"
   ]
  },
  {
   "cell_type": "code",
   "execution_count": 57,
   "metadata": {},
   "outputs": [
    {
     "data": {
      "text/plain": [
       "(    family product-type steel  carbon  hardness temper_rolling condition  \\\n",
       " 0      NaN            C     A     8.0       0.0            NaN         S   \n",
       " 1      NaN            C     R     0.0       0.0            NaN         S   \n",
       " 2      NaN            C     R     0.0       0.0            NaN         S   \n",
       " 3      NaN            C     A     0.0      60.0              T       NaN   \n",
       " 4      NaN            C     A     0.0      60.0              T       NaN   \n",
       " ..     ...          ...   ...     ...       ...            ...       ...   \n",
       " 893    NaN            C     R     0.0       0.0            NaN         S   \n",
       " 894    NaN            C     R     0.0       0.0            NaN         S   \n",
       " 895    NaN            C     V     0.0       0.0            NaN         S   \n",
       " 896    NaN            C     A     0.0      85.0              T       NaN   \n",
       " 897    NaN            C     A     0.0      85.0              T       NaN   \n",
       " \n",
       "     formability  strength non-ageing  ...    s    p  shape  thick   width  \\\n",
       " 0           NaN       0.0        NaN  ...  NaN  NaN   COIL  0.700   610.0   \n",
       " 1             2       0.0        NaN  ...  NaN  NaN   COIL  3.200   610.0   \n",
       " 2             2       0.0        NaN  ...  NaN  NaN  SHEET  0.700  1300.0   \n",
       " 3           NaN       0.0        NaN  ...  NaN  NaN   COIL  2.801   385.1   \n",
       " 4           NaN       0.0        NaN  ...  NaN  NaN  SHEET  0.801   255.0   \n",
       " ..          ...       ...        ...  ...  ...  ...    ...    ...     ...   \n",
       " 893           3       0.0        NaN  ...  NaN  NaN  SHEET  1.599   610.0   \n",
       " 894           3       0.0        NaN  ...  NaN  NaN  SHEET  1.601   830.0   \n",
       " 895           2       0.0        NaN  ...  NaN  NaN  SHEET  1.599   150.0   \n",
       " 896         NaN       0.0        NaN  ...  NaN  NaN   COIL  0.400    20.0   \n",
       " 897         NaN       0.0        NaN  ...  NaN  NaN   COIL  4.000   610.0   \n",
       " \n",
       "        len  oil bore packing class  \n",
       " 0      0.0  NaN    0     NaN     3  \n",
       " 1      0.0  NaN    0     NaN     3  \n",
       " 2    762.0  NaN    0     NaN     3  \n",
       " 3      0.0  NaN    0     NaN     3  \n",
       " 4    269.0  NaN    0     NaN     3  \n",
       " ..     ...  ...  ...     ...   ...  \n",
       " 893  762.0  NaN    0     NaN     2  \n",
       " 894  880.0  NaN    0     NaN     2  \n",
       " 895  762.0  NaN    0     NaN     2  \n",
       " 896    0.0  NaN    0     NaN     U  \n",
       " 897    0.0  NaN  500     NaN     U  \n",
       " \n",
       " [898 rows x 39 columns],\n",
       " None,\n",
       " [True,\n",
       "  True,\n",
       "  True,\n",
       "  False,\n",
       "  False,\n",
       "  True,\n",
       "  True,\n",
       "  True,\n",
       "  False,\n",
       "  True,\n",
       "  True,\n",
       "  True,\n",
       "  True,\n",
       "  True,\n",
       "  True,\n",
       "  True,\n",
       "  True,\n",
       "  True,\n",
       "  True,\n",
       "  True,\n",
       "  True,\n",
       "  True,\n",
       "  True,\n",
       "  True,\n",
       "  True,\n",
       "  True,\n",
       "  True,\n",
       "  True,\n",
       "  True,\n",
       "  True,\n",
       "  True,\n",
       "  True,\n",
       "  False,\n",
       "  False,\n",
       "  False,\n",
       "  True,\n",
       "  True,\n",
       "  True,\n",
       "  True],\n",
       " ['family',\n",
       "  'product-type',\n",
       "  'steel',\n",
       "  'carbon',\n",
       "  'hardness',\n",
       "  'temper_rolling',\n",
       "  'condition',\n",
       "  'formability',\n",
       "  'strength',\n",
       "  'non-ageing',\n",
       "  'surface-finish',\n",
       "  'surface-quality',\n",
       "  'enamelability',\n",
       "  'bc',\n",
       "  'bf',\n",
       "  'bt',\n",
       "  'bw%2Fme',\n",
       "  'bl',\n",
       "  'm',\n",
       "  'chrom',\n",
       "  'phos',\n",
       "  'cbond',\n",
       "  'marvi',\n",
       "  'exptl',\n",
       "  'ferro',\n",
       "  'corr',\n",
       "  'blue%2Fbright%2Fvarn%2Fclean',\n",
       "  'lustre',\n",
       "  'jurofm',\n",
       "  's',\n",
       "  'p',\n",
       "  'shape',\n",
       "  'thick',\n",
       "  'width',\n",
       "  'len',\n",
       "  'oil',\n",
       "  'bore',\n",
       "  'packing',\n",
       "  'class'])"
      ]
     },
     "execution_count": 57,
     "metadata": {},
     "output_type": "execute_result"
    }
   ],
   "source": [
    "import openml\n",
    "\n",
    "openml.datasets.get_dataset(2).get_data()"
   ]
  },
  {
   "cell_type": "code",
   "execution_count": null,
   "metadata": {},
   "outputs": [],
   "source": []
  }
 ],
 "metadata": {
  "kernelspec": {
   "display_name": "masterthesisenv",
   "language": "python",
   "name": "python3"
  },
  "language_info": {
   "codemirror_mode": {
    "name": "ipython",
    "version": 3
   },
   "file_extension": ".py",
   "mimetype": "text/x-python",
   "name": "python",
   "nbconvert_exporter": "python",
   "pygments_lexer": "ipython3",
   "version": "3.9.13"
  },
  "orig_nbformat": 4,
  "vscode": {
   "interpreter": {
    "hash": "c72ee170da18cf12862f60a1fabf3227f364f711d40b1a28e320df598b1093c3"
   }
  }
 },
 "nbformat": 4,
 "nbformat_minor": 2
}
