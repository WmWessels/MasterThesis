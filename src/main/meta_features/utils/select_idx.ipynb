{
 "cells": [
  {
   "cell_type": "code",
   "execution_count": 51,
   "metadata": {},
   "outputs": [],
   "source": [
    "import openml\n",
    "import pandas as pd\n",
    "import numpy as np"
   ]
  },
  {
   "cell_type": "code",
   "execution_count": 52,
   "metadata": {},
   "outputs": [],
   "source": [
    "classification_tasks = openml.tasks.list_tasks(task_type=openml.tasks.TaskType.SUPERVISED_CLASSIFICATION, output_format=\"dataframe\")\n",
    "regression_tasks = openml.tasks.list_tasks(task_type=openml.tasks.TaskType.SUPERVISED_REGRESSION, output_format=\"dataframe\")"
   ]
  },
  {
   "cell_type": "code",
   "execution_count": 53,
   "metadata": {},
   "outputs": [],
   "source": [
    "all_clf_idx = set(classification_tasks.groupby('did').first().index)\n",
    "all_reg_idx = set(regression_tasks.groupby('did').first().index)"
   ]
  },
  {
   "cell_type": "code",
   "execution_count": 54,
   "metadata": {},
   "outputs": [],
   "source": [
    "classification_tasks[\"size\"] = classification_tasks[\"NumberOfInstances\"] * classification_tasks[\"NumberOfFeatures\"]\n",
    "regression_tasks[\"size\"] = regression_tasks[\"NumberOfInstances\"] * regression_tasks[\"NumberOfFeatures\"]"
   ]
  },
  {
   "cell_type": "code",
   "execution_count": 55,
   "metadata": {},
   "outputs": [],
   "source": [
    "large_clf_idx = set(classification_tasks.query(\"NumberOfInstances > 500_000 or NumberOfFeatures > 2500 or size > 10_000_000\")['did'].unique())\n",
    "large_reg_idx = set(regression_tasks.query(\"NumberOfInstances > 500_000 or NumberOfFeatures > 2500 or size > 10_000_000\")['did'].unique())"
   ]
  },
  {
   "cell_type": "code",
   "execution_count": 56,
   "metadata": {},
   "outputs": [],
   "source": [
    "small_clf_idx = set(classification_tasks.query(\"NumberOfInstances < 20 or NumberOfFeatures < 2\")['did'].unique())\n",
    "small_reg_idx = set(regression_tasks.query(\"NumberOfInstances < 20 or NumberOfFeatures < 2\")['did'].unique())"
   ]
  },
  {
   "cell_type": "code",
   "execution_count": 57,
   "metadata": {},
   "outputs": [],
   "source": [
    "valid_clf_idx = all_clf_idx - large_clf_idx - small_clf_idx\n",
    "valid_reg_idx = all_reg_idx - large_reg_idx - small_reg_idx"
   ]
  },
  {
   "cell_type": "code",
   "execution_count": 64,
   "metadata": {},
   "outputs": [],
   "source": [
    "clf_series = pd.Series(list(valid_clf_idx))\n",
    "reg_series = pd.Series(list(valid_reg_idx))"
   ]
  },
  {
   "cell_type": "code",
   "execution_count": 65,
   "metadata": {},
   "outputs": [],
   "source": [
    "clf_series.to_csv(\"clf_indexes.csv\")\n",
    "reg_series.to_csv(\"reg_indexes.csv\")"
   ]
  }
 ],
 "metadata": {
  "kernelspec": {
   "display_name": "Python 3.10.6 ('masterthesisenv': venv)",
   "language": "python",
   "name": "python3"
  },
  "language_info": {
   "codemirror_mode": {
    "name": "ipython",
    "version": 3
   },
   "file_extension": ".py",
   "mimetype": "text/x-python",
   "name": "python",
   "nbconvert_exporter": "python",
   "pygments_lexer": "ipython3",
   "version": "3.10.6"
  },
  "orig_nbformat": 4,
  "vscode": {
   "interpreter": {
    "hash": "fa1c239501b12b72b3754f84661a3db9994fa2a1e538f4c0273138e3d7831ed9"
   }
  }
 },
 "nbformat": 4,
 "nbformat_minor": 2
}
