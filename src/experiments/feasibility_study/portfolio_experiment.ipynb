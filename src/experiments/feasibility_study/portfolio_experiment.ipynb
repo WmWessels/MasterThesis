{
 "cells": [
  {
   "cell_type": "code",
   "execution_count": 2,
   "metadata": {},
   "outputs": [],
   "source": [
    "import pickle\n",
    "import os\n",
    "import pandas as pd\n",
    "import numpy as np\n",
    "import openml\n",
    "import glob\n",
    "from gama import GamaClassifier\n",
    "\n",
    "from sklearn.cluster import KMeans\n",
    "\n",
    "from jobs.batch_pipeline_evaluation import PipelineExecutor\n",
    "from jobs.batch_automl import AutomlExecutor\n",
    "from main.metadata import MetaDataSet\n",
    "from main.clustering import MetaDataCluster\n",
    "from main.portfolio import PortFolioBuilder"
   ]
  },
  {
   "cell_type": "code",
   "execution_count": null,
   "metadata": {},
   "outputs": [],
   "source": [
    "data_directory = os.path.join(os.getcwd(), \"/src/data\")"
   ]
  },
  {
   "attachments": {},
   "cell_type": "markdown",
   "metadata": {},
   "source": [
    "## Construct the performance matrix"
   ]
  },
  {
   "cell_type": "code",
   "execution_count": 3,
   "metadata": {},
   "outputs": [],
   "source": [
    "csv_files = glob.glob(f\"{data_directory}/batch_results/*.{'csv'}\")\n",
    "df = pd.concat([pd.read_csv(f, index_col = 0) for f in csv_files])\n",
    "df.dropna(inplace = True)\n",
    "test_indexes = df.sample(30, replace = False).index\n",
    "train_indexes = df.drop(test_indexes, axis = 0).index"
   ]
  },
  {
   "cell_type": "code",
   "execution_count": 5,
   "metadata": {},
   "outputs": [],
   "source": [
    "meta_dataframe = pd.read_csv(f\"{data_directory}/meta_dataframe.csv\", index_col = 0)"
   ]
  },
  {
   "cell_type": "code",
   "execution_count": 6,
   "metadata": {},
   "outputs": [],
   "source": [
    "def indexes_per_cluster(labels):\n",
    "    \"\"\"\n",
    "    Utility function to get the indexes per cluster\n",
    "    \"\"\"\n",
    "    vals, inverse, count = np.unique(labels, return_inverse=True,\n",
    "                                return_counts=True)\n",
    "\n",
    "    idx_vals_repeated = np.where(count >= 1)[0]\n",
    "    vals_repeated = vals[idx_vals_repeated]\n",
    "\n",
    "    rows, cols = np.where(inverse == idx_vals_repeated[:, np.newaxis])\n",
    "    _, inverse_rows = np.unique(rows, return_index=True)\n",
    "    cluster_indexes = np.split(cols, inverse_rows[1:])\n",
    "    return cluster_indexes"
   ]
  },
  {
   "cell_type": "code",
   "execution_count": 7,
   "metadata": {},
   "outputs": [],
   "source": [
    "#create cluster\n",
    "n_clusters = 3\n",
    "clustering_obj = KMeans(n_clusters = n_clusters, init = 'random', n_init = 'auto')\n",
    "metadata_cluster = MetaDataCluster(meta_dataframe)\n",
    "cluster = metadata_cluster.compute_clusters(clustering_obj)\n",
    "cluster_labels = cluster.labels_"
   ]
  },
  {
   "cell_type": "code",
   "execution_count": 8,
   "metadata": {},
   "outputs": [],
   "source": [
    "cluster_indexes = indexes_per_cluster(cluster_labels)"
   ]
  },
  {
   "cell_type": "code",
   "execution_count": 9,
   "metadata": {},
   "outputs": [],
   "source": [
    "builder = PortFolioBuilder(size = 15)\n",
    "portfolio_dict = dict()\n",
    "for label, c_index in enumerate(cluster_indexes):\n",
    "    portfolio = builder.build_portfolio(df, train_indexes[c_index])\n",
    "    portfolio_dict[label] = portfolio.index\n",
    "    #store portfolio for reference (as dict)"
   ]
  },
  {
   "cell_type": "code",
   "execution_count": null,
   "metadata": {},
   "outputs": [],
   "source": [
    "evaluations = []\n",
    "pipeline_runner = PipelineExecutor()\n",
    "for test_index in test_indexes:\n",
    "    dataset = openml.datasets.get_dataset(test_index)\n",
    "    meta_data = pd.DataFrame.from_dict(orient = \"index\", data = dataset.qualities).T\n",
    "    meta_data = meta_data.combine_first(pd.DataFrame(meta_dataframe.mean(axis = 0)).T).values\n",
    "    X, y, _, _ = dataset.get_data(dataset_format=\"dataframe\", target = dataset.default_target_attribute)\n",
    "    evaluations_individual = []\n",
    "    cluster_assignment = cluster.predict(meta_data)\n",
    "    portfolio = portfolio_dict[cluster_assignment[0]]\n",
    "    for pipeline in portfolio:\n",
    "        sklearn_pipeline = eval(pipeline)\n",
    "        x_enc, _ = pipeline_runner.basic_encoding(X, is_classification=True)\n",
    "        accuracy = pipeline_runner.evaluate_pipeline(sklearn_pipeline, x_enc, y)\n",
    "        evaluations_individual.append(accuracy)\n",
    "    evaluations.append(evaluations_individual)\n",
    "\n",
    "df = pd.DataFrame(index = test_indexes, data = evaluations, columns = portfolio)\n"
   ]
  },
  {
   "cell_type": "code",
   "execution_count": null,
   "metadata": {},
   "outputs": [],
   "source": [
    "gamaclassifier = GamaClassifier(max_total_time = 150, store = 'nothing')\n",
    "automl_instance = AutomlExecutor(gamaclassifier)\n",
    "accuracies_gama = []\n",
    "for test_index in test_indexes:\n",
    "    accuracy = automl_instance.run_automl(test_index)\n",
    "    print(f\"accuracy for run on {test_index} is {accuracy}\")\n",
    "    accuracies_gama.append(accuracy)"
   ]
  }
 ],
 "metadata": {
  "kernelspec": {
   "display_name": "masterthesisenv",
   "language": "python",
   "name": "python3"
  },
  "language_info": {
   "codemirror_mode": {
    "name": "ipython",
    "version": 3
   },
   "file_extension": ".py",
   "mimetype": "text/x-python",
   "name": "python",
   "nbconvert_exporter": "python",
   "pygments_lexer": "ipython3",
   "version": "3.9.13 (tags/v3.9.13:6de2ca5, May 17 2022, 16:36:42) [MSC v.1929 64 bit (AMD64)]"
  },
  "orig_nbformat": 4,
  "vscode": {
   "interpreter": {
    "hash": "c72ee170da18cf12862f60a1fabf3227f364f711d40b1a28e320df598b1093c3"
   }
  }
 },
 "nbformat": 4,
 "nbformat_minor": 2
}
