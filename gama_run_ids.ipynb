{
 "cells": [
  {
   "cell_type": "code",
   "execution_count": 2,
   "metadata": {},
   "outputs": [],
   "source": [
    "import openml\n",
    "import pandas as pd"
   ]
  },
  {
   "cell_type": "markdown",
   "metadata": {},
   "source": [
    "Binary clf, Multi-class clf and regression selection. All of these datasets will be ran on GAMA for 1 hour. The evaluated individuals by gama will be post-processed and we will select a subset to use as candidate pipelines for the performance matrix"
   ]
  },
  {
   "cell_type": "code",
   "execution_count": 4,
   "metadata": {},
   "outputs": [],
   "source": [
    "binary_names = [\"Bioresponse\",\n",
    "                \"hiva_agnostic\",\n",
    "                \"Internet-Advertisements\",\n",
    "                \"GAMETES_Epistasis_2-Way_1000atts_0.4H_EDM-1_EDM-1_1\",\n",
    "                \"madelon\",\n",
    "                \"spambase\",\n",
    "                \"madeline\",\n",
    "                \"philippine\",\n",
    "                \"musk\",\n",
    "                \"hill-valley\",\n",
    "                \"fri_c4_500_100\",\n",
    "                \"oil_spill\",\n",
    "                \"tokyo1\",\n",
    "                \"ailerons\",\n",
    "                \"pc2\",\n",
    "                \"Satellite\",\n",
    "                \"colleges_usnews\",\n",
    "                \"meta\",\n",
    "                \"mushroom\",\n",
    "                \"kc2\",\n",
    "                \"climate-model-simulation-crashes\",\n",
    "                \"compas-two-years\",\n",
    "                \"ilpd\",\n",
    "                \"fried\",\n",
    "                \"tic-tac-toe\",\n",
    "                \"diabetes\",\n",
    "                \"delta_elevators\",\n",
    "                \"pollen\",\n",
    "                \"socmob\",\n",
    "                \"space_ga\",\n",
    "                \"Run_or_walk_information\",\n",
    "                \"wilt\",\n",
    "                \"strikes\",\n",
    "                \"electricity\",\n",
    "                \"Titanic\"\n",
    "                ]"
   ]
  },
  {
   "cell_type": "code",
   "execution_count": 5,
   "metadata": {},
   "outputs": [],
   "source": [
    "multiclass_names = [\"isolet\",\n",
    "                    \"har\",\n",
    "                    \"USPS\",\n",
    "                    \"semeion\",\n",
    "                    \"one-hundred-plants-margin\",\n",
    "                    \"synthetic_control\",\n",
    "                    \"texture\",\n",
    "                    \"anneal\",\n",
    "                    \"soybean\",\n",
    "                    \"cardiotocography\",\n",
    "                    \"cjs\",\n",
    "                    \"micro-mass\",\n",
    "                    \"collins\",\n",
    "                    \"BachChoralHarmony\",\n",
    "                    \"ldpa\",\n",
    "                    \"tamilnadu-electricity\",\n",
    "                    \"abalone\",\n",
    "                    \"spoken-arabic-digit\",\n",
    "                    \"kr-vs-k\",\n",
    "                    \"yeast\",\n",
    "                    \"vowel\",\n",
    "                    \"Indian_pines\",\n",
    "                    \"walking-activity\",\n",
    "                    \"kropt\",\n",
    "                    \"artificial-characters\"\n",
    "]"
   ]
  },
  {
   "cell_type": "code",
   "execution_count": 15,
   "metadata": {},
   "outputs": [],
   "source": [
    "regr_names = [\"kin8nm\",\n",
    "              \"road-safety\",\n",
    "              \"cpu_act\",\n",
    "              \"CPMP-2015-regression\",\n",
    "              \"cholesterol\",\n",
    "              \"QSAR-TID-227\",\n",
    "              \"pol\",\n",
    "              \"Waterstress\",\n",
    "              \"satellite_image\",\n",
    "              \"Kaggle_bike_sharing_demand_challange\",\n",
    "              \"wind\",\n",
    "              \"fifa\",\n",
    "              \"churn\",\n",
    "              \"rainfall_bangladesh\",\n",
    "              \"2dplanes\",\n",
    "              \"Waterstress\",\n",
    "              \"wine-reviews\",\n",
    "              \"california_housing\",\n",
    "              \"medical_charges\",\n",
    "              \"ERA\",\n",
    "              \"a9a\",\n",
    "              \"NASA_PHM2008_1\",\n",
    "              \"lungcancer_shedden\",\n",
    "              \"house_8L\",\n",
    "              \"visualizing_soil\"        \n",
    "              ]"
   ]
  },
  {
   "cell_type": "code",
   "execution_count": 6,
   "metadata": {},
   "outputs": [],
   "source": [
    "# 25 multiclass\n",
    "# 35 binary v\n",
    "# 25 regression"
   ]
  },
  {
   "cell_type": "code",
   "execution_count": null,
   "metadata": {},
   "outputs": [],
   "source": []
  }
 ],
 "metadata": {
  "kernelspec": {
   "display_name": "Python 3.10.6 ('masterthesisenv': venv)",
   "language": "python",
   "name": "python3"
  },
  "language_info": {
   "codemirror_mode": {
    "name": "ipython",
    "version": 3
   },
   "file_extension": ".py",
   "mimetype": "text/x-python",
   "name": "python",
   "nbconvert_exporter": "python",
   "pygments_lexer": "ipython3",
   "version": "3.10.6"
  },
  "orig_nbformat": 4,
  "vscode": {
   "interpreter": {
    "hash": "fa1c239501b12b72b3754f84661a3db9994fa2a1e538f4c0273138e3d7831ed9"
   }
  }
 },
 "nbformat": 4,
 "nbformat_minor": 2
}
