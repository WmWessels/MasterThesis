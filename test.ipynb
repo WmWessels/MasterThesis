{
 "cells": [
  {
   "cell_type": "code",
   "execution_count": 1,
   "metadata": {},
   "outputs": [],
   "source": [
    "import openml\n",
    "import pandas as pd\n",
    "import numpy as np"
   ]
  },
  {
   "cell_type": "code",
   "execution_count": 3,
   "metadata": {},
   "outputs": [],
   "source": [
    "def process_hpc_file(file):\n",
    "    lines = []\n",
    "    with open(file, \"r\") as f:\n",
    "        data = f.readlines()\n",
    "    for line in data:\n",
    "        if line.startswith(\"INFO:root\") and (not \"https\" in line and not \"fallback\" in line and not \"sklearn.utils\" in line):\n",
    "            lines.append(line)\n",
    "    ids = set()\n",
    "    results = []\n",
    "    for line in lines:\n",
    "        items = \"\".join(line.replace(\"INFO:root:\", \"\")).replace(\"in\", \"\").replace(\"seconds\", \"\").strip().split(\",\")\n",
    "        dataset_id, pipeline = int(items[0]), int(items[1].strip())\n",
    "        remainder = items[2].strip().split(\" \")\n",
    "        score, time = float(remainder[0]), float(remainder[2])\n",
    "        ids.add(dataset_id)\n",
    "        results.append([dataset_id, pipeline, score, time])\n",
    "    \n",
    "    df = pd.DataFrame(index = list(ids), columns = range(250))\n",
    "    df_time = pd.DataFrame(index = list(ids), columns = range(250))\n",
    "    for result in results:\n",
    "        df_time.loc[result[0], result[1]] = result[3]\n",
    "        time_result = df_time.loc[result[0], result[1]]\n",
    "        if time_result > 360:\n",
    "            df.loc[result[0], result[1]] = None\n",
    "        else:\n",
    "            df.loc[result[0], result[1]] = result[2]\n",
    "    \n",
    "    return df"
   ]
  },
  {
   "cell_type": "code",
   "execution_count": 51,
   "metadata": {},
   "outputs": [],
   "source": [
    "df_first = process_hpc_file(\"hpc_output/bin/slurm-118181.out\")\n",
    "df_second = process_hpc_file(\"hpc_output/bin/slurm-118191.out\")\n",
    "df_third = process_hpc_file(\"hpc_output/bin/slurm-118234.out\")\n",
    "df_fourth = process_hpc_file(\"hpc_output/bin/slurm-118274.out\")\n",
    "df_fifth = process_hpc_file(\"hpc_output/bin/slurm-118275.out\")\n",
    "df_sixth = process_hpc_file(\"hpc_output/bin/slurm-118368.out\")\n",
    "df_seventh = process_hpc_file(\"hpc_output/bin/slurm-118369.out\")\n",
    "df_eighth = process_hpc_file(\"hpc_output/bin/slurm-118417.out\")\n",
    "df_ninth = process_hpc_file(\"hpc_output/bin/slurm-118523.out\")\n",
    "df_tenth = process_hpc_file(\"hpc_output/bin/slurm-118553.out\")\n",
    "df_eleventh = process_hpc_file(\"hpc_output/bin/slurm-118573.out\")\n",
    "df_additional = process_hpc_file(\"hpc_output/bin/slurm-118421_additional.out\")"
   ]
  },
  {
   "cell_type": "code",
   "execution_count": 52,
   "metadata": {},
   "outputs": [],
   "source": [
    "data_so_far = pd.concat([\n",
    "    df_first, \n",
    "    df_second, \n",
    "    df_third,\n",
    "    df_fourth,\n",
    "    df_fifth,\n",
    "    df_sixth,\n",
    "    df_seventh,\n",
    "    df_eighth,\n",
    "    df_ninth,\n",
    "    df_tenth,\n",
    "    df_eleventh], axis = 0)"
   ]
  },
  {
   "cell_type": "code",
   "execution_count": 53,
   "metadata": {},
   "outputs": [],
   "source": [
    "#drop all columns where all values are nan\n",
    "df_additional = df_additional.dropna(axis = 1, how = \"all\")\n"
   ]
  },
  {
   "cell_type": "code",
   "execution_count": 54,
   "metadata": {},
   "outputs": [],
   "source": [
    "# loop over df_additionals index and columns\n",
    "\n",
    "for index in df_additional.index:\n",
    "    for column in df_additional.columns:\n",
    "        if not pd.isna(df_additional.loc[index, column]):\n",
    "            data_so_far.loc[index, column] = df_additional.loc[index, column]\n",
    "\n",
    "    "
   ]
  },
  {
   "cell_type": "code",
   "execution_count": 5,
   "metadata": {},
   "outputs": [],
   "source": [
    "first = process_hpc_file(\"hpc_output/multi/slurm-118693.out\")\n",
    "second = process_hpc_file(\"hpc_output/multi/slurm-118694.out\")\n",
    "third = process_hpc_file(\"hpc_output/multi/slurm-118765.out\")\n",
    "fourth = process_hpc_file(\"hpc_output/multi/slurm-118767.out\")\n",
    "fifth = process_hpc_file(\"hpc_output/multi/slurm-118873.out\")\n",
    "sixth = process_hpc_file(\"hpc_output/multi/slurm-118874.out\")\n",
    "seventh = process_hpc_file(\"hpc_output/multi/slurm-118991.out\")\n",
    "eighth = process_hpc_file(\"hpc_output/multi/slurm-118992.out\")\n",
    "ninth = process_hpc_file(\"hpc_output/multi/slurm-119140.out\")\n",
    "tenth = process_hpc_file(\"hpc_output/multi/slurm-119141.out\")\n"
   ]
  },
  {
   "cell_type": "code",
   "execution_count": 29,
   "metadata": {},
   "outputs": [],
   "source": [
    "data_multi = pd.concat([\n",
    "    first,\n",
    "    second,\n",
    "    third,\n",
    "    fourth,\n",
    "    fifth,\n",
    "    sixth,\n",
    "    seventh,\n",
    "    eighth,\n",
    "    ninth,\n",
    "    tenth], axis = 0)"
   ]
  },
  {
   "cell_type": "code",
   "execution_count": 30,
   "metadata": {},
   "outputs": [
    {
     "name": "stderr",
     "output_type": "stream",
     "text": [
      "/tmp/ipykernel_13268/2692729692.py:7: UserWarning: Boolean Series key will be reindexed to match DataFrame index.\n",
      "  unbalanced_sets = data_multi[data_multi.isna().sum(axis = 1).sort_values(ascending=False) == 250].index\n"
     ]
    }
   ],
   "source": [
    "all_datasets = openml.datasets.list_datasets()\n",
    "\n",
    "automl_dids = openml.study.get_suite(271).data\n",
    "multi_dids = [did for did in automl_dids if all_datasets[did]['NumberOfClasses'] > 2]\n",
    "data_multi = data_multi.loc[list(set(data_multi.index) - set(multi_dids))]\n",
    "\n",
    "unbalanced_sets = data_multi[data_multi.isna().sum(axis = 1).sort_values(ascending=False) == 250].index\n",
    "data_multi = data_multi.drop(unbalanced_sets)"
   ]
  },
  {
   "cell_type": "code",
   "execution_count": 31,
   "metadata": {},
   "outputs": [
    {
     "data": {
      "text/html": [
       "<div>\n",
       "<style scoped>\n",
       "    .dataframe tbody tr th:only-of-type {\n",
       "        vertical-align: middle;\n",
       "    }\n",
       "\n",
       "    .dataframe tbody tr th {\n",
       "        vertical-align: top;\n",
       "    }\n",
       "\n",
       "    .dataframe thead th {\n",
       "        text-align: right;\n",
       "    }\n",
       "</style>\n",
       "<table border=\"1\" class=\"dataframe\">\n",
       "  <thead>\n",
       "    <tr style=\"text-align: right;\">\n",
       "      <th></th>\n",
       "      <th>0</th>\n",
       "      <th>1</th>\n",
       "      <th>2</th>\n",
       "      <th>3</th>\n",
       "      <th>4</th>\n",
       "      <th>5</th>\n",
       "      <th>6</th>\n",
       "      <th>7</th>\n",
       "      <th>8</th>\n",
       "      <th>9</th>\n",
       "      <th>...</th>\n",
       "      <th>240</th>\n",
       "      <th>241</th>\n",
       "      <th>242</th>\n",
       "      <th>243</th>\n",
       "      <th>244</th>\n",
       "      <th>245</th>\n",
       "      <th>246</th>\n",
       "      <th>247</th>\n",
       "      <th>248</th>\n",
       "      <th>249</th>\n",
       "    </tr>\n",
       "  </thead>\n",
       "  <tbody>\n",
       "    <tr>\n",
       "      <th>1536</th>\n",
       "      <td>-27.353047</td>\n",
       "      <td>-0.431306</td>\n",
       "      <td>-0.165805</td>\n",
       "      <td>-0.230941</td>\n",
       "      <td>-0.189191</td>\n",
       "      <td>-0.207745</td>\n",
       "      <td>-0.67102</td>\n",
       "      <td>-0.149388</td>\n",
       "      <td>-0.342098</td>\n",
       "      <td>-0.299722</td>\n",
       "      <td>...</td>\n",
       "      <td>-0.283123</td>\n",
       "      <td>-4.645857</td>\n",
       "      <td>-0.213349</td>\n",
       "      <td>-1.107857</td>\n",
       "      <td>-0.172807</td>\n",
       "      <td>-0.175026</td>\n",
       "      <td>-0.171219</td>\n",
       "      <td>-0.298578</td>\n",
       "      <td>-0.149294</td>\n",
       "      <td>-0.517222</td>\n",
       "    </tr>\n",
       "    <tr>\n",
       "      <th>1537</th>\n",
       "      <td>-26.595069</td>\n",
       "      <td>-0.331454</td>\n",
       "      <td>-0.114118</td>\n",
       "      <td>-0.175476</td>\n",
       "      <td>-0.167794</td>\n",
       "      <td>-0.140691</td>\n",
       "      <td>-0.51271</td>\n",
       "      <td>-0.108546</td>\n",
       "      <td>-0.254513</td>\n",
       "      <td>-0.488559</td>\n",
       "      <td>...</td>\n",
       "      <td>-0.202433</td>\n",
       "      <td>-4.166829</td>\n",
       "      <td>-0.169027</td>\n",
       "      <td>-0.77639</td>\n",
       "      <td>-0.120541</td>\n",
       "      <td>-0.125484</td>\n",
       "      <td>-0.122458</td>\n",
       "      <td>-0.233452</td>\n",
       "      <td>-0.108216</td>\n",
       "      <td>-0.367153</td>\n",
       "    </tr>\n",
       "    <tr>\n",
       "      <th>1540</th>\n",
       "      <td>-27.911192</td>\n",
       "      <td>-0.694255</td>\n",
       "      <td>-0.251248</td>\n",
       "      <td>-0.340354</td>\n",
       "      <td>-0.304244</td>\n",
       "      <td>-0.318308</td>\n",
       "      <td>-1.034043</td>\n",
       "      <td>-0.242821</td>\n",
       "      <td>-0.540571</td>\n",
       "      <td>-0.28319</td>\n",
       "      <td>...</td>\n",
       "      <td>-0.393505</td>\n",
       "      <td>-0.608438</td>\n",
       "      <td>-0.308252</td>\n",
       "      <td>-1.518461</td>\n",
       "      <td>-0.267405</td>\n",
       "      <td>-0.250861</td>\n",
       "      <td>-0.268898</td>\n",
       "      <td>-0.484394</td>\n",
       "      <td>-0.242278</td>\n",
       "      <td>-0.881807</td>\n",
       "    </tr>\n",
       "    <tr>\n",
       "      <th>516</th>\n",
       "      <td>-3.38434</td>\n",
       "      <td>-0.22165</td>\n",
       "      <td>-0.398733</td>\n",
       "      <td>-0.162397</td>\n",
       "      <td>-0.37643</td>\n",
       "      <td>-0.158394</td>\n",
       "      <td>-0.332683</td>\n",
       "      <td>-0.169488</td>\n",
       "      <td>-0.224477</td>\n",
       "      <td>-0.011027</td>\n",
       "      <td>...</td>\n",
       "      <td>-0.361251</td>\n",
       "      <td>-0.238023</td>\n",
       "      <td>-0.189824</td>\n",
       "      <td>-0.129356</td>\n",
       "      <td>-0.06269</td>\n",
       "      <td>-0.427908</td>\n",
       "      <td>-0.061928</td>\n",
       "      <td>-0.099465</td>\n",
       "      <td>-0.234608</td>\n",
       "      <td>-0.051672</td>\n",
       "    </tr>\n",
       "    <tr>\n",
       "      <th>1028</th>\n",
       "      <td>-25.194514</td>\n",
       "      <td>-3.485927</td>\n",
       "      <td>-0.910543</td>\n",
       "      <td>-1.402887</td>\n",
       "      <td>-0.916487</td>\n",
       "      <td>-1.040781</td>\n",
       "      <td>-3.152584</td>\n",
       "      <td>-2.039278</td>\n",
       "      <td>-0.969621</td>\n",
       "      <td>-1.138909</td>\n",
       "      <td>...</td>\n",
       "      <td>-0.951351</td>\n",
       "      <td>-0.911919</td>\n",
       "      <td>-0.91553</td>\n",
       "      <td>-3.485927</td>\n",
       "      <td>-0.987933</td>\n",
       "      <td>-0.912835</td>\n",
       "      <td>-0.97911</td>\n",
       "      <td>-3.453816</td>\n",
       "      <td>-1.148536</td>\n",
       "      <td>-3.485927</td>\n",
       "    </tr>\n",
       "    <tr>\n",
       "      <th>...</th>\n",
       "      <td>...</td>\n",
       "      <td>...</td>\n",
       "      <td>...</td>\n",
       "      <td>...</td>\n",
       "      <td>...</td>\n",
       "      <td>...</td>\n",
       "      <td>...</td>\n",
       "      <td>...</td>\n",
       "      <td>...</td>\n",
       "      <td>...</td>\n",
       "      <td>...</td>\n",
       "      <td>...</td>\n",
       "      <td>...</td>\n",
       "      <td>...</td>\n",
       "      <td>...</td>\n",
       "      <td>...</td>\n",
       "      <td>...</td>\n",
       "      <td>...</td>\n",
       "      <td>...</td>\n",
       "      <td>...</td>\n",
       "      <td>...</td>\n",
       "    </tr>\n",
       "    <tr>\n",
       "      <th>41972</th>\n",
       "      <td>-28.009476</td>\n",
       "      <td>-0.243706</td>\n",
       "      <td>-0.308626</td>\n",
       "      <td>-0.250681</td>\n",
       "      <td>-0.289198</td>\n",
       "      <td>-1.319245</td>\n",
       "      <td>-0.240645</td>\n",
       "      <td>-0.243746</td>\n",
       "      <td>-0.286123</td>\n",
       "      <td>None</td>\n",
       "      <td>...</td>\n",
       "      <td>-0.255197</td>\n",
       "      <td>-7.304702</td>\n",
       "      <td>-0.282879</td>\n",
       "      <td>-0.195498</td>\n",
       "      <td>-3.530186</td>\n",
       "      <td>-0.555839</td>\n",
       "      <td>-1.448162</td>\n",
       "      <td>-0.239251</td>\n",
       "      <td>None</td>\n",
       "      <td>-0.238188</td>\n",
       "    </tr>\n",
       "    <tr>\n",
       "      <th>1530</th>\n",
       "      <td>-22.70411</td>\n",
       "      <td>-0.688256</td>\n",
       "      <td>-0.361031</td>\n",
       "      <td>-0.382854</td>\n",
       "      <td>-0.343072</td>\n",
       "      <td>-0.517646</td>\n",
       "      <td>-1.11884</td>\n",
       "      <td>-0.327415</td>\n",
       "      <td>-0.543302</td>\n",
       "      <td>-0.506359</td>\n",
       "      <td>...</td>\n",
       "      <td>-0.39022</td>\n",
       "      <td>-0.80939</td>\n",
       "      <td>-0.463019</td>\n",
       "      <td>-2.326693</td>\n",
       "      <td>-0.41487</td>\n",
       "      <td>-0.368256</td>\n",
       "      <td>-0.423052</td>\n",
       "      <td>-0.475864</td>\n",
       "      <td>-0.336428</td>\n",
       "      <td>-0.901726</td>\n",
       "    </tr>\n",
       "    <tr>\n",
       "      <th>1531</th>\n",
       "      <td>-26.993515</td>\n",
       "      <td>-0.470036</td>\n",
       "      <td>-0.165086</td>\n",
       "      <td>-0.244352</td>\n",
       "      <td>-0.216543</td>\n",
       "      <td>-0.205099</td>\n",
       "      <td>-0.710396</td>\n",
       "      <td>-0.150084</td>\n",
       "      <td>-0.356204</td>\n",
       "      <td>-0.392383</td>\n",
       "      <td>...</td>\n",
       "      <td>-0.271415</td>\n",
       "      <td>-0.878366</td>\n",
       "      <td>-0.214182</td>\n",
       "      <td>-1.119787</td>\n",
       "      <td>-0.168631</td>\n",
       "      <td>-0.174329</td>\n",
       "      <td>-0.169062</td>\n",
       "      <td>-0.324821</td>\n",
       "      <td>-0.149448</td>\n",
       "      <td>-0.522831</td>\n",
       "    </tr>\n",
       "    <tr>\n",
       "      <th>1532</th>\n",
       "      <td>-26.989187</td>\n",
       "      <td>-0.433887</td>\n",
       "      <td>-0.15894</td>\n",
       "      <td>-0.23681</td>\n",
       "      <td>-0.220638</td>\n",
       "      <td>-0.201675</td>\n",
       "      <td>-0.630294</td>\n",
       "      <td>-0.143673</td>\n",
       "      <td>-0.349996</td>\n",
       "      <td>-0.392407</td>\n",
       "      <td>...</td>\n",
       "      <td>-0.288547</td>\n",
       "      <td>-14.95607</td>\n",
       "      <td>-0.231388</td>\n",
       "      <td>-1.046513</td>\n",
       "      <td>-0.167334</td>\n",
       "      <td>-0.167979</td>\n",
       "      <td>-0.194822</td>\n",
       "      <td>-0.285859</td>\n",
       "      <td>-0.142905</td>\n",
       "      <td>-0.483594</td>\n",
       "    </tr>\n",
       "    <tr>\n",
       "      <th>1534</th>\n",
       "      <td>-27.161948</td>\n",
       "      <td>-0.441115</td>\n",
       "      <td>-0.166532</td>\n",
       "      <td>-0.228137</td>\n",
       "      <td>-0.200798</td>\n",
       "      <td>-0.206504</td>\n",
       "      <td>-0.677728</td>\n",
       "      <td>-0.148579</td>\n",
       "      <td>-0.343922</td>\n",
       "      <td>-0.618468</td>\n",
       "      <td>...</td>\n",
       "      <td>-0.270074</td>\n",
       "      <td>-1.206014</td>\n",
       "      <td>-0.225277</td>\n",
       "      <td>-1.045949</td>\n",
       "      <td>-0.169492</td>\n",
       "      <td>-0.175138</td>\n",
       "      <td>-0.170418</td>\n",
       "      <td>-0.304009</td>\n",
       "      <td>-0.148909</td>\n",
       "      <td>-0.490469</td>\n",
       "    </tr>\n",
       "  </tbody>\n",
       "</table>\n",
       "<p>87 rows × 250 columns</p>\n",
       "</div>"
      ],
      "text/plain": [
       "             0         1         2         3         4         5         6    \\\n",
       "1536  -27.353047 -0.431306 -0.165805 -0.230941 -0.189191 -0.207745  -0.67102   \n",
       "1537  -26.595069 -0.331454 -0.114118 -0.175476 -0.167794 -0.140691  -0.51271   \n",
       "1540  -27.911192 -0.694255 -0.251248 -0.340354 -0.304244 -0.318308 -1.034043   \n",
       "516     -3.38434  -0.22165 -0.398733 -0.162397  -0.37643 -0.158394 -0.332683   \n",
       "1028  -25.194514 -3.485927 -0.910543 -1.402887 -0.916487 -1.040781 -3.152584   \n",
       "...          ...       ...       ...       ...       ...       ...       ...   \n",
       "41972 -28.009476 -0.243706 -0.308626 -0.250681 -0.289198 -1.319245 -0.240645   \n",
       "1530   -22.70411 -0.688256 -0.361031 -0.382854 -0.343072 -0.517646  -1.11884   \n",
       "1531  -26.993515 -0.470036 -0.165086 -0.244352 -0.216543 -0.205099 -0.710396   \n",
       "1532  -26.989187 -0.433887  -0.15894  -0.23681 -0.220638 -0.201675 -0.630294   \n",
       "1534  -27.161948 -0.441115 -0.166532 -0.228137 -0.200798 -0.206504 -0.677728   \n",
       "\n",
       "            7         8         9    ...       240       241       242  \\\n",
       "1536  -0.149388 -0.342098 -0.299722  ... -0.283123 -4.645857 -0.213349   \n",
       "1537  -0.108546 -0.254513 -0.488559  ... -0.202433 -4.166829 -0.169027   \n",
       "1540  -0.242821 -0.540571  -0.28319  ... -0.393505 -0.608438 -0.308252   \n",
       "516   -0.169488 -0.224477 -0.011027  ... -0.361251 -0.238023 -0.189824   \n",
       "1028  -2.039278 -0.969621 -1.138909  ... -0.951351 -0.911919  -0.91553   \n",
       "...         ...       ...       ...  ...       ...       ...       ...   \n",
       "41972 -0.243746 -0.286123      None  ... -0.255197 -7.304702 -0.282879   \n",
       "1530  -0.327415 -0.543302 -0.506359  ...  -0.39022  -0.80939 -0.463019   \n",
       "1531  -0.150084 -0.356204 -0.392383  ... -0.271415 -0.878366 -0.214182   \n",
       "1532  -0.143673 -0.349996 -0.392407  ... -0.288547 -14.95607 -0.231388   \n",
       "1534  -0.148579 -0.343922 -0.618468  ... -0.270074 -1.206014 -0.225277   \n",
       "\n",
       "            243       244       245       246       247       248       249  \n",
       "1536  -1.107857 -0.172807 -0.175026 -0.171219 -0.298578 -0.149294 -0.517222  \n",
       "1537   -0.77639 -0.120541 -0.125484 -0.122458 -0.233452 -0.108216 -0.367153  \n",
       "1540  -1.518461 -0.267405 -0.250861 -0.268898 -0.484394 -0.242278 -0.881807  \n",
       "516   -0.129356  -0.06269 -0.427908 -0.061928 -0.099465 -0.234608 -0.051672  \n",
       "1028  -3.485927 -0.987933 -0.912835  -0.97911 -3.453816 -1.148536 -3.485927  \n",
       "...         ...       ...       ...       ...       ...       ...       ...  \n",
       "41972 -0.195498 -3.530186 -0.555839 -1.448162 -0.239251      None -0.238188  \n",
       "1530  -2.326693  -0.41487 -0.368256 -0.423052 -0.475864 -0.336428 -0.901726  \n",
       "1531  -1.119787 -0.168631 -0.174329 -0.169062 -0.324821 -0.149448 -0.522831  \n",
       "1532  -1.046513 -0.167334 -0.167979 -0.194822 -0.285859 -0.142905 -0.483594  \n",
       "1534  -1.045949 -0.169492 -0.175138 -0.170418 -0.304009 -0.148909 -0.490469  \n",
       "\n",
       "[87 rows x 250 columns]"
      ]
     },
     "execution_count": 31,
     "metadata": {},
     "output_type": "execute_result"
    }
   ],
   "source": [
    "data_multi"
   ]
  },
  {
   "cell_type": "code",
   "execution_count": 34,
   "metadata": {},
   "outputs": [],
   "source": [
    "from sklearn.preprocessing import MinMaxScaler\n",
    "scaler = MinMaxScaler()\n",
    "data_multi = pd.DataFrame(scaler.fit_transform(data_multi), index = data_multi.index, columns = data_multi.columns)\n",
    "pipelines = pd.read_csv(\"SBPort/training/candidate_pipelines/candidate_pipelines_multi.csv\", index_col = 0)\n",
    "data_multi.columns = pipelines.index\n",
    "# data_multi.to_csv(\"SBPort/training/performance_matrices/performance_matrix_multi.csv\")"
   ]
  },
  {
   "cell_type": "code",
   "execution_count": 38,
   "metadata": {},
   "outputs": [],
   "source": [
    "pd.DataFrame(data_multi.index, columns = [\"did\"]).to_csv(\"multiclass_dids.csv\", index = False)"
   ]
  },
  {
   "cell_type": "code",
   "execution_count": 66,
   "metadata": {},
   "outputs": [],
   "source": [
    "candidate_pipelines = pd.read_csv(\"hpc_files/candidate_pipelines_bin.csv\")\n",
    "df.columns = candidate_pipelines[\"pipelines\"]\n",
    "df\n",
    "df.to_csv(\"performance_matrix_bin.csv\")"
   ]
  },
  {
   "cell_type": "markdown",
   "metadata": {},
   "source": [
    "## Meta Feature Imputation"
   ]
  },
  {
   "cell_type": "code",
   "execution_count": 79,
   "metadata": {},
   "outputs": [],
   "source": [
    "multiclass_mf = pd.read_csv(\"SBPort/training/raw_metafeatures/metafeatures_multi.csv\", index_col = 0)"
   ]
  },
  {
   "cell_type": "code",
   "execution_count": 80,
   "metadata": {},
   "outputs": [],
   "source": [
    "from sklearn.compose import ColumnTransformer\n",
    "from sklearn.pipeline import Pipeline\n",
    "from sklearn.impute import SimpleImputer    \n",
    "from sklearn.preprocessing import StandardScaler, RobustScaler, MinMaxScaler\n",
    "\n",
    "numerical_features_with_outliers = [\n",
    "    \"cov_mean\", \"cov_sd\", \"iqr_mean\", \"iqr_sd\", \"max_mean\", \"max_sd\", \"mean_mean\", \"mean_sd\", \"median_mean\", \"median_sd\", \n",
    "    \"min_mean\", \"min_sd\", \"sd_mean\", \"sd_sd\",\"variance_mean\", \"variance_sd\", \"eq_num_attr\"\n",
    "    ]\n",
    "\n",
    "numerical_features_norm = list(set(multiclass_mf.columns) - set(numerical_features_with_outliers))\n",
    "\n",
    "numerical_transformer_normal = Pipeline(\n",
    "    steps=[\n",
    "        (\"imputer\", SimpleImputer(strategy = \"mean\")),\n",
    "        (\"scaler\", MinMaxScaler())\n",
    "    ]\n",
    ")\n",
    "\n",
    "numerical_transformer_outliers = Pipeline(\n",
    "    steps=[\n",
    "        (\"imputer\", SimpleImputer(strategy = \"median\")),\n",
    "        (\"scaler\", StandardScaler())\n",
    "    ]\n",
    ")\n",
    "\n",
    "preprocessor = ColumnTransformer(\n",
    "    transformers=[\n",
    "        (\"num_outliers\", numerical_transformer_outliers, numerical_features_with_outliers),\n",
    "        (\"num\", numerical_transformer_normal, numerical_features_norm)\n",
    "    ]\n",
    ")\n",
    "\n",
    "imputed_frame = pd.DataFrame(preprocessor.fit_transform(multiclass_mf), index = multiclass_mf.index, columns = numerical_features_with_outliers + numerical_features_norm)"
   ]
  },
  {
   "cell_type": "code",
   "execution_count": 56,
   "metadata": {},
   "outputs": [
    {
     "data": {
      "text/html": [
       "<style>#sk-container-id-6 {color: black;background-color: white;}#sk-container-id-6 pre{padding: 0;}#sk-container-id-6 div.sk-toggleable {background-color: white;}#sk-container-id-6 label.sk-toggleable__label {cursor: pointer;display: block;width: 100%;margin-bottom: 0;padding: 0.3em;box-sizing: border-box;text-align: center;}#sk-container-id-6 label.sk-toggleable__label-arrow:before {content: \"▸\";float: left;margin-right: 0.25em;color: #696969;}#sk-container-id-6 label.sk-toggleable__label-arrow:hover:before {color: black;}#sk-container-id-6 div.sk-estimator:hover label.sk-toggleable__label-arrow:before {color: black;}#sk-container-id-6 div.sk-toggleable__content {max-height: 0;max-width: 0;overflow: hidden;text-align: left;background-color: #f0f8ff;}#sk-container-id-6 div.sk-toggleable__content pre {margin: 0.2em;color: black;border-radius: 0.25em;background-color: #f0f8ff;}#sk-container-id-6 input.sk-toggleable__control:checked~div.sk-toggleable__content {max-height: 200px;max-width: 100%;overflow: auto;}#sk-container-id-6 input.sk-toggleable__control:checked~label.sk-toggleable__label-arrow:before {content: \"▾\";}#sk-container-id-6 div.sk-estimator input.sk-toggleable__control:checked~label.sk-toggleable__label {background-color: #d4ebff;}#sk-container-id-6 div.sk-label input.sk-toggleable__control:checked~label.sk-toggleable__label {background-color: #d4ebff;}#sk-container-id-6 input.sk-hidden--visually {border: 0;clip: rect(1px 1px 1px 1px);clip: rect(1px, 1px, 1px, 1px);height: 1px;margin: -1px;overflow: hidden;padding: 0;position: absolute;width: 1px;}#sk-container-id-6 div.sk-estimator {font-family: monospace;background-color: #f0f8ff;border: 1px dotted black;border-radius: 0.25em;box-sizing: border-box;margin-bottom: 0.5em;}#sk-container-id-6 div.sk-estimator:hover {background-color: #d4ebff;}#sk-container-id-6 div.sk-parallel-item::after {content: \"\";width: 100%;border-bottom: 1px solid gray;flex-grow: 1;}#sk-container-id-6 div.sk-label:hover label.sk-toggleable__label {background-color: #d4ebff;}#sk-container-id-6 div.sk-serial::before {content: \"\";position: absolute;border-left: 1px solid gray;box-sizing: border-box;top: 0;bottom: 0;left: 50%;z-index: 0;}#sk-container-id-6 div.sk-serial {display: flex;flex-direction: column;align-items: center;background-color: white;padding-right: 0.2em;padding-left: 0.2em;position: relative;}#sk-container-id-6 div.sk-item {position: relative;z-index: 1;}#sk-container-id-6 div.sk-parallel {display: flex;align-items: stretch;justify-content: center;background-color: white;position: relative;}#sk-container-id-6 div.sk-item::before, #sk-container-id-6 div.sk-parallel-item::before {content: \"\";position: absolute;border-left: 1px solid gray;box-sizing: border-box;top: 0;bottom: 0;left: 50%;z-index: -1;}#sk-container-id-6 div.sk-parallel-item {display: flex;flex-direction: column;z-index: 1;position: relative;background-color: white;}#sk-container-id-6 div.sk-parallel-item:first-child::after {align-self: flex-end;width: 50%;}#sk-container-id-6 div.sk-parallel-item:last-child::after {align-self: flex-start;width: 50%;}#sk-container-id-6 div.sk-parallel-item:only-child::after {width: 0;}#sk-container-id-6 div.sk-dashed-wrapped {border: 1px dashed gray;margin: 0 0.4em 0.5em 0.4em;box-sizing: border-box;padding-bottom: 0.4em;background-color: white;}#sk-container-id-6 div.sk-label label {font-family: monospace;font-weight: bold;display: inline-block;line-height: 1.2em;}#sk-container-id-6 div.sk-label-container {text-align: center;}#sk-container-id-6 div.sk-container {/* jupyter's `normalize.less` sets `[hidden] { display: none; }` but bootstrap.min.css set `[hidden] { display: none !important; }` so we also need the `!important` here to be able to override the default hidden behavior on the sphinx rendered scikit-learn.org. See: https://github.com/scikit-learn/scikit-learn/issues/21755 */display: inline-block !important;position: relative;}#sk-container-id-6 div.sk-text-repr-fallback {display: none;}</style><div id=\"sk-container-id-6\" class=\"sk-top-container\"><div class=\"sk-text-repr-fallback\"><pre>KernelKMeans(gamma=1, kernel=&#x27;rbf&#x27;, n_clusters=8, random_state=42)</pre><b>In a Jupyter environment, please rerun this cell to show the HTML representation or trust the notebook. <br />On GitHub, the HTML representation is unable to render, please try loading this page with nbviewer.org.</b></div><div class=\"sk-container\" hidden><div class=\"sk-item\"><div class=\"sk-estimator sk-toggleable\"><input class=\"sk-toggleable__control sk-hidden--visually\" id=\"sk-estimator-id-6\" type=\"checkbox\" checked><label for=\"sk-estimator-id-6\" class=\"sk-toggleable__label sk-toggleable__label-arrow\">KernelKMeans</label><div class=\"sk-toggleable__content\"><pre>KernelKMeans(gamma=1, kernel=&#x27;rbf&#x27;, n_clusters=8, random_state=42)</pre></div></div></div></div></div>"
      ],
      "text/plain": [
       "KernelKMeans(gamma=1, kernel='rbf', n_clusters=8, random_state=42)"
      ]
     },
     "execution_count": 56,
     "metadata": {},
     "output_type": "execute_result"
    }
   ],
   "source": [
    "\n",
    "from SBPort.training.kernel_kmeans import KernelKMeans\n",
    "# from SBPort.clustering.clustering import MetaKernelKMeans\n",
    "kmeans = KernelKMeans(n_clusters = 8, random_state = 42, kernel = \"rbf\", gamma = 1)\n",
    "kmeans.fit(imputed_frame)"
   ]
  },
  {
   "cell_type": "code",
   "execution_count": 96,
   "metadata": {},
   "outputs": [
    {
     "data": {
      "text/html": [
       "<style>#sk-container-id-14 {color: black;background-color: white;}#sk-container-id-14 pre{padding: 0;}#sk-container-id-14 div.sk-toggleable {background-color: white;}#sk-container-id-14 label.sk-toggleable__label {cursor: pointer;display: block;width: 100%;margin-bottom: 0;padding: 0.3em;box-sizing: border-box;text-align: center;}#sk-container-id-14 label.sk-toggleable__label-arrow:before {content: \"▸\";float: left;margin-right: 0.25em;color: #696969;}#sk-container-id-14 label.sk-toggleable__label-arrow:hover:before {color: black;}#sk-container-id-14 div.sk-estimator:hover label.sk-toggleable__label-arrow:before {color: black;}#sk-container-id-14 div.sk-toggleable__content {max-height: 0;max-width: 0;overflow: hidden;text-align: left;background-color: #f0f8ff;}#sk-container-id-14 div.sk-toggleable__content pre {margin: 0.2em;color: black;border-radius: 0.25em;background-color: #f0f8ff;}#sk-container-id-14 input.sk-toggleable__control:checked~div.sk-toggleable__content {max-height: 200px;max-width: 100%;overflow: auto;}#sk-container-id-14 input.sk-toggleable__control:checked~label.sk-toggleable__label-arrow:before {content: \"▾\";}#sk-container-id-14 div.sk-estimator input.sk-toggleable__control:checked~label.sk-toggleable__label {background-color: #d4ebff;}#sk-container-id-14 div.sk-label input.sk-toggleable__control:checked~label.sk-toggleable__label {background-color: #d4ebff;}#sk-container-id-14 input.sk-hidden--visually {border: 0;clip: rect(1px 1px 1px 1px);clip: rect(1px, 1px, 1px, 1px);height: 1px;margin: -1px;overflow: hidden;padding: 0;position: absolute;width: 1px;}#sk-container-id-14 div.sk-estimator {font-family: monospace;background-color: #f0f8ff;border: 1px dotted black;border-radius: 0.25em;box-sizing: border-box;margin-bottom: 0.5em;}#sk-container-id-14 div.sk-estimator:hover {background-color: #d4ebff;}#sk-container-id-14 div.sk-parallel-item::after {content: \"\";width: 100%;border-bottom: 1px solid gray;flex-grow: 1;}#sk-container-id-14 div.sk-label:hover label.sk-toggleable__label {background-color: #d4ebff;}#sk-container-id-14 div.sk-serial::before {content: \"\";position: absolute;border-left: 1px solid gray;box-sizing: border-box;top: 0;bottom: 0;left: 50%;z-index: 0;}#sk-container-id-14 div.sk-serial {display: flex;flex-direction: column;align-items: center;background-color: white;padding-right: 0.2em;padding-left: 0.2em;position: relative;}#sk-container-id-14 div.sk-item {position: relative;z-index: 1;}#sk-container-id-14 div.sk-parallel {display: flex;align-items: stretch;justify-content: center;background-color: white;position: relative;}#sk-container-id-14 div.sk-item::before, #sk-container-id-14 div.sk-parallel-item::before {content: \"\";position: absolute;border-left: 1px solid gray;box-sizing: border-box;top: 0;bottom: 0;left: 50%;z-index: -1;}#sk-container-id-14 div.sk-parallel-item {display: flex;flex-direction: column;z-index: 1;position: relative;background-color: white;}#sk-container-id-14 div.sk-parallel-item:first-child::after {align-self: flex-end;width: 50%;}#sk-container-id-14 div.sk-parallel-item:last-child::after {align-self: flex-start;width: 50%;}#sk-container-id-14 div.sk-parallel-item:only-child::after {width: 0;}#sk-container-id-14 div.sk-dashed-wrapped {border: 1px dashed gray;margin: 0 0.4em 0.5em 0.4em;box-sizing: border-box;padding-bottom: 0.4em;background-color: white;}#sk-container-id-14 div.sk-label label {font-family: monospace;font-weight: bold;display: inline-block;line-height: 1.2em;}#sk-container-id-14 div.sk-label-container {text-align: center;}#sk-container-id-14 div.sk-container {/* jupyter's `normalize.less` sets `[hidden] { display: none; }` but bootstrap.min.css set `[hidden] { display: none !important; }` so we also need the `!important` here to be able to override the default hidden behavior on the sphinx rendered scikit-learn.org. See: https://github.com/scikit-learn/scikit-learn/issues/21755 */display: inline-block !important;position: relative;}#sk-container-id-14 div.sk-text-repr-fallback {display: none;}</style><div id=\"sk-container-id-14\" class=\"sk-top-container\"><div class=\"sk-text-repr-fallback\"><pre>OPTICS(min_samples=10, n_jobs=-1)</pre><b>In a Jupyter environment, please rerun this cell to show the HTML representation or trust the notebook. <br />On GitHub, the HTML representation is unable to render, please try loading this page with nbviewer.org.</b></div><div class=\"sk-container\" hidden><div class=\"sk-item\"><div class=\"sk-estimator sk-toggleable\"><input class=\"sk-toggleable__control sk-hidden--visually\" id=\"sk-estimator-id-14\" type=\"checkbox\" checked><label for=\"sk-estimator-id-14\" class=\"sk-toggleable__label sk-toggleable__label-arrow\">OPTICS</label><div class=\"sk-toggleable__content\"><pre>OPTICS(min_samples=10, n_jobs=-1)</pre></div></div></div></div></div>"
      ],
      "text/plain": [
       "OPTICS(min_samples=10, n_jobs=-1)"
      ]
     },
     "execution_count": 96,
     "metadata": {},
     "output_type": "execute_result"
    }
   ],
   "source": [
    "optics = OPTICS(min_samples = 10, metric = \"minkowski\", n_jobs = -1)\n",
    "optics.fit(imputed_frame)"
   ]
  },
  {
   "cell_type": "code",
   "execution_count": 97,
   "metadata": {},
   "outputs": [
    {
     "data": {
      "text/plain": [
       "array([-1, -1, -1,  0,  0,  0,  0,  0,  0,  0,  0,  0,  0,  0,  0,  0,  0,\n",
       "        0,  0,  0,  0,  0,  0,  0,  0,  0,  0,  0,  0,  0,  0,  0,  0,  0,\n",
       "        0,  0,  0,  0,  0,  0,  0,  0,  0,  0,  0,  0,  0,  0,  0,  0,  0,\n",
       "        0, -1, -1, -1, -1, -1, -1, -1, -1, -1, -1, -1, -1, -1, -1, -1, -1,\n",
       "       -1, -1, -1, -1, -1, -1, -1, -1, -1, -1, -1, -1, -1, -1, -1, -1, -1,\n",
       "       -1, -1])"
      ]
     },
     "execution_count": 97,
     "metadata": {},
     "output_type": "execute_result"
    }
   ],
   "source": [
    "labels = optics.labels_[optics.ordering_]\n",
    "labels"
   ]
  },
  {
   "cell_type": "code",
   "execution_count": 6,
   "metadata": {},
   "outputs": [
    {
     "ename": "NameError",
     "evalue": "name 'binary_val' is not defined",
     "output_type": "error",
     "traceback": [
      "\u001b[0;31m---------------------------------------------------------------------------\u001b[0m",
      "\u001b[0;31mNameError\u001b[0m                                 Traceback (most recent call last)",
      "Cell \u001b[0;32mIn[6], line 9\u001b[0m\n\u001b[1;32m      6\u001b[0m multi_automlbench_dids \u001b[39m=\u001b[39m [did \u001b[39mfor\u001b[39;00m did \u001b[39min\u001b[39;00m automl_dids \u001b[39mif\u001b[39;00m (all_datasets[did][\u001b[39m\"\u001b[39m\u001b[39mNumberOfClasses\u001b[39m\u001b[39m\"\u001b[39m] \u001b[39m>\u001b[39m \u001b[39m2\u001b[39m \u001b[39mand\u001b[39;00m all_datasets[did][\u001b[39m\"\u001b[39m\u001b[39mNumberOfInstances\u001b[39m\u001b[39m\"\u001b[39m]\u001b[39m*\u001b[39mall_datasets[did][\u001b[39m\"\u001b[39m\u001b[39mNumberOfFeatures\u001b[39m\u001b[39m\"\u001b[39m] \u001b[39m<\u001b[39m \u001b[39m10_000_000\u001b[39m \u001b[39mand\u001b[39;00m all_datasets[did][\u001b[39m\"\u001b[39m\u001b[39mNumberOfInstances\u001b[39m\u001b[39m\"\u001b[39m] \u001b[39m<\u001b[39m \u001b[39m500_000\u001b[39m)]\n\u001b[1;32m      7\u001b[0m binary_validation, binary_test \u001b[39m=\u001b[39m train_test_split(binary_automlbench_dids, test_size \u001b[39m=\u001b[39m \u001b[39m10\u001b[39m, random_state \u001b[39m=\u001b[39m \u001b[39m0\u001b[39m)\n\u001b[0;32m----> 9\u001b[0m \u001b[39mprint\u001b[39m([name \u001b[39mfor\u001b[39;00m binary_val\u001b[39m.\u001b[39mname \u001b[39min\u001b[39;00m binary_validation])\n",
      "Cell \u001b[0;32mIn[6], line 9\u001b[0m, in \u001b[0;36m<listcomp>\u001b[0;34m(.0)\u001b[0m\n\u001b[1;32m      6\u001b[0m multi_automlbench_dids \u001b[39m=\u001b[39m [did \u001b[39mfor\u001b[39;00m did \u001b[39min\u001b[39;00m automl_dids \u001b[39mif\u001b[39;00m (all_datasets[did][\u001b[39m\"\u001b[39m\u001b[39mNumberOfClasses\u001b[39m\u001b[39m\"\u001b[39m] \u001b[39m>\u001b[39m \u001b[39m2\u001b[39m \u001b[39mand\u001b[39;00m all_datasets[did][\u001b[39m\"\u001b[39m\u001b[39mNumberOfInstances\u001b[39m\u001b[39m\"\u001b[39m]\u001b[39m*\u001b[39mall_datasets[did][\u001b[39m\"\u001b[39m\u001b[39mNumberOfFeatures\u001b[39m\u001b[39m\"\u001b[39m] \u001b[39m<\u001b[39m \u001b[39m10_000_000\u001b[39m \u001b[39mand\u001b[39;00m all_datasets[did][\u001b[39m\"\u001b[39m\u001b[39mNumberOfInstances\u001b[39m\u001b[39m\"\u001b[39m] \u001b[39m<\u001b[39m \u001b[39m500_000\u001b[39m)]\n\u001b[1;32m      7\u001b[0m binary_validation, binary_test \u001b[39m=\u001b[39m train_test_split(binary_automlbench_dids, test_size \u001b[39m=\u001b[39m \u001b[39m10\u001b[39m, random_state \u001b[39m=\u001b[39m \u001b[39m0\u001b[39m)\n\u001b[0;32m----> 9\u001b[0m \u001b[39mprint\u001b[39m([name \u001b[39mfor\u001b[39;00m binary_val\u001b[39m.\u001b[39mname \u001b[39min\u001b[39;00m binary_validation])\n",
      "\u001b[0;31mNameError\u001b[0m: name 'binary_val' is not defined"
     ]
    }
   ],
   "source": [
    "import openml\n",
    "from sklearn.model_selection import train_test_split\n",
    "all_datasets = openml.datasets.list_datasets()\n",
    "automl_dids = openml.study.get_suite(271).data\n",
    "binary_automlbench_dids = [did for did in automl_dids if (all_datasets[did][\"NumberOfClasses\"] == 2 and all_datasets[did][\"NumberOfInstances\"]*all_datasets[did][\"NumberOfFeatures\"] < 10_000_000 and all_datasets[did][\"NumberOfInstances\"] < 500_000)]\n",
    "multi_automlbench_dids = [did for did in automl_dids if (all_datasets[did][\"NumberOfClasses\"] > 2 and all_datasets[did][\"NumberOfInstances\"]*all_datasets[did][\"NumberOfFeatures\"] < 10_000_000 and all_datasets[did][\"NumberOfInstances\"] < 500_000)]\n",
    "binary_validation, binary_test = train_test_split(binary_automlbench_dids, test_size = 10, random_state = 0)\n",
    "\n",
    "\n"
   ]
  },
  {
   "cell_type": "code",
   "execution_count": 9,
   "metadata": {},
   "outputs": [
    {
     "name": "stdout",
     "output_type": "stream",
     "text": [
      "jasmine\n",
      "kr-vs-kp\n",
      "madeline\n",
      "pc4\n",
      "Amazon_employee_access\n",
      "PhishingWebsites\n",
      "wilt\n",
      "Click_prediction_small\n",
      "gina\n",
      "credit-g\n",
      "Bioresponse\n",
      "MiniBooNE\n",
      "churn\n",
      "philippine\n",
      "ozone-level-8hr\n",
      "bank-marketing\n",
      "phoneme\n",
      "Australian\n",
      "sylvine\n",
      "kc1\n",
      "blood-transfusion-service-center\n"
     ]
    }
   ],
   "source": [
    "for item in binary_validation:\n",
    "    it = all_datasets[item]\n",
    "    print(it[\"name\"])"
   ]
  },
  {
   "cell_type": "code",
   "execution_count": 94,
   "metadata": {},
   "outputs": [
    {
     "data": {
      "image/png": "[encoded data removed]",
      "text/plain": [
       "<Figure size 640x480 with 1 Axes>"
      ]
     },
     "metadata": {},
     "output_type": "display_data"
    }
   ],
   "source": [
    "from SBPort.utils import plot_2d_cluster\n",
    "# from SBPort.training.fit_inference_pipeline import PortfolioTransformer\n",
    "import matplotlib.pyplot as plt\n",
    "\n",
    "# data = sio.load(\"SBPort/inference_pipelines/inference_pipeline_bin_kernel_kmeans_5_psize_16\", trusted = True)\n",
    "# print(data[1].clustering_algorithm.labels_)\n",
    "plt.title(f\"OPTICS\")\n",
    "plot_2d_cluster(imputed_frame, \"pca\", labels = optics.labels_[optics.ordering_])\n",
    "# plt.savefig(\"OPTICS.png\")\n",
    "plt.show()"
   ]
  },
  {
   "cell_type": "code",
   "execution_count": null,
   "metadata": {},
   "outputs": [],
   "source": []
  },
  {
   "cell_type": "code",
   "execution_count": 2,
   "metadata": {},
   "outputs": [],
   "source": [
    "bin_df = pd.read_csv(\"SBPort/training/raw_metafeatures/metafeatures_bin.csv\", index_col = 0)\n",
    "pf_matrix = pd.read_csv(\"SBPort/training/performance_matrices/performance_matrix_bin.csv\", index_col = 0)\n",
    "bin_df = bin_df.applymap(lambda x: np.nan if x == np.inf else x)\n"
   ]
  },
  {
   "cell_type": "code",
   "execution_count": 3,
   "metadata": {},
   "outputs": [],
   "source": [
    "from sklearn.compose import ColumnTransformer\n",
    "from sklearn.pipeline import Pipeline\n",
    "from sklearn.impute import SimpleImputer    \n",
    "from sklearn.preprocessing import StandardScaler, RobustScaler, MinMaxScaler\n",
    "\n",
    "numerical_features_with_outliers = [\"cov_mean\", \"cov_sd\", \"iqr_mean\", \"iqr_sd\", \"max_mean\", \"max_sd\", \"mean_mean\", \"mean_sd\", \"median_mean\", \"median_sd\", \"min_mean\", \"min_sd\", \"sd_mean\", \"sd_sd\",\n",
    "\"variance_mean\", \"variance_sd\", \"eq_num_attr\"]\n",
    "\n",
    "numerical_features_norm = list(set(bin_df.columns) - set(numerical_features_with_outliers))\n",
    "\n",
    "numerical_transformer_normal = Pipeline(\n",
    "    steps=[\n",
    "        (\"imputer\", SimpleImputer(strategy = \"mean\")),\n",
    "        (\"scaler\", MinMaxScaler()),\n",
    "    ]\n",
    ")\n",
    "\n",
    "numerical_transformer_outliers = Pipeline(\n",
    "    steps=[\n",
    "        (\"imputer\", SimpleImputer(strategy = \"median\")),\n",
    "        (\"scaler\", StandardScaler()),\n",
    "    ]\n",
    ")\n",
    "\n",
    "\n",
    "\n",
    "preprocessor = ColumnTransformer(\n",
    "    transformers = \n",
    "    [\n",
    "        \n",
    "        (\"num_outliers\", numerical_transformer_outliers, numerical_features_with_outliers),\n",
    "        # (\"cat\", categorical_transformer, categorical_features),\n",
    "        (\"num\", numerical_transformer_normal, numerical_features_norm),\n",
    "    ]\n",
    ")\n",
    "\n",
    "\n"
   ]
  },
  {
   "cell_type": "code",
   "execution_count": 4,
   "metadata": {},
   "outputs": [],
   "source": [
    "transformed_df = preprocessor.fit_transform(bin_df)"
   ]
  },
  {
   "cell_type": "code",
   "execution_count": 5,
   "metadata": {},
   "outputs": [],
   "source": [
    "filtered_df = pd.DataFrame(transformed_df, index = bin_df.index, columns = numerical_features_with_outliers + numerical_features_norm)"
   ]
  },
  {
   "cell_type": "code",
   "execution_count": 58,
   "metadata": {},
   "outputs": [
    {
     "data": {
      "text/html": [
       "<style>#sk-container-id-9 {color: black;background-color: white;}#sk-container-id-9 pre{padding: 0;}#sk-container-id-9 div.sk-toggleable {background-color: white;}#sk-container-id-9 label.sk-toggleable__label {cursor: pointer;display: block;width: 100%;margin-bottom: 0;padding: 0.3em;box-sizing: border-box;text-align: center;}#sk-container-id-9 label.sk-toggleable__label-arrow:before {content: \"▸\";float: left;margin-right: 0.25em;color: #696969;}#sk-container-id-9 label.sk-toggleable__label-arrow:hover:before {color: black;}#sk-container-id-9 div.sk-estimator:hover label.sk-toggleable__label-arrow:before {color: black;}#sk-container-id-9 div.sk-toggleable__content {max-height: 0;max-width: 0;overflow: hidden;text-align: left;background-color: #f0f8ff;}#sk-container-id-9 div.sk-toggleable__content pre {margin: 0.2em;color: black;border-radius: 0.25em;background-color: #f0f8ff;}#sk-container-id-9 input.sk-toggleable__control:checked~div.sk-toggleable__content {max-height: 200px;max-width: 100%;overflow: auto;}#sk-container-id-9 input.sk-toggleable__control:checked~label.sk-toggleable__label-arrow:before {content: \"▾\";}#sk-container-id-9 div.sk-estimator input.sk-toggleable__control:checked~label.sk-toggleable__label {background-color: #d4ebff;}#sk-container-id-9 div.sk-label input.sk-toggleable__control:checked~label.sk-toggleable__label {background-color: #d4ebff;}#sk-container-id-9 input.sk-hidden--visually {border: 0;clip: rect(1px 1px 1px 1px);clip: rect(1px, 1px, 1px, 1px);height: 1px;margin: -1px;overflow: hidden;padding: 0;position: absolute;width: 1px;}#sk-container-id-9 div.sk-estimator {font-family: monospace;background-color: #f0f8ff;border: 1px dotted black;border-radius: 0.25em;box-sizing: border-box;margin-bottom: 0.5em;}#sk-container-id-9 div.sk-estimator:hover {background-color: #d4ebff;}#sk-container-id-9 div.sk-parallel-item::after {content: \"\";width: 100%;border-bottom: 1px solid gray;flex-grow: 1;}#sk-container-id-9 div.sk-label:hover label.sk-toggleable__label {background-color: #d4ebff;}#sk-container-id-9 div.sk-serial::before {content: \"\";position: absolute;border-left: 1px solid gray;box-sizing: border-box;top: 0;bottom: 0;left: 50%;z-index: 0;}#sk-container-id-9 div.sk-serial {display: flex;flex-direction: column;align-items: center;background-color: white;padding-right: 0.2em;padding-left: 0.2em;position: relative;}#sk-container-id-9 div.sk-item {position: relative;z-index: 1;}#sk-container-id-9 div.sk-parallel {display: flex;align-items: stretch;justify-content: center;background-color: white;position: relative;}#sk-container-id-9 div.sk-item::before, #sk-container-id-9 div.sk-parallel-item::before {content: \"\";position: absolute;border-left: 1px solid gray;box-sizing: border-box;top: 0;bottom: 0;left: 50%;z-index: -1;}#sk-container-id-9 div.sk-parallel-item {display: flex;flex-direction: column;z-index: 1;position: relative;background-color: white;}#sk-container-id-9 div.sk-parallel-item:first-child::after {align-self: flex-end;width: 50%;}#sk-container-id-9 div.sk-parallel-item:last-child::after {align-self: flex-start;width: 50%;}#sk-container-id-9 div.sk-parallel-item:only-child::after {width: 0;}#sk-container-id-9 div.sk-dashed-wrapped {border: 1px dashed gray;margin: 0 0.4em 0.5em 0.4em;box-sizing: border-box;padding-bottom: 0.4em;background-color: white;}#sk-container-id-9 div.sk-label label {font-family: monospace;font-weight: bold;display: inline-block;line-height: 1.2em;}#sk-container-id-9 div.sk-label-container {text-align: center;}#sk-container-id-9 div.sk-container {/* jupyter's `normalize.less` sets `[hidden] { display: none; }` but bootstrap.min.css set `[hidden] { display: none !important; }` so we also need the `!important` here to be able to override the default hidden behavior on the sphinx rendered scikit-learn.org. See: https://github.com/scikit-learn/scikit-learn/issues/21755 */display: inline-block !important;position: relative;}#sk-container-id-9 div.sk-text-repr-fallback {display: none;}</style><div id=\"sk-container-id-9\" class=\"sk-top-container\"><div class=\"sk-text-repr-fallback\"><pre>OPTICS(eps=0.5, min_samples=10, n_jobs=-1)</pre><b>In a Jupyter environment, please rerun this cell to show the HTML representation or trust the notebook. <br />On GitHub, the HTML representation is unable to render, please try loading this page with nbviewer.org.</b></div><div class=\"sk-container\" hidden><div class=\"sk-item\"><div class=\"sk-estimator sk-toggleable\"><input class=\"sk-toggleable__control sk-hidden--visually\" id=\"sk-estimator-id-9\" type=\"checkbox\" checked><label for=\"sk-estimator-id-9\" class=\"sk-toggleable__label sk-toggleable__label-arrow\">OPTICS</label><div class=\"sk-toggleable__content\"><pre>OPTICS(eps=0.5, min_samples=10, n_jobs=-1)</pre></div></div></div></div></div>"
      ],
      "text/plain": [
       "OPTICS(eps=0.5, min_samples=10, n_jobs=-1)"
      ]
     },
     "execution_count": 58,
     "metadata": {},
     "output_type": "execute_result"
    }
   ],
   "source": [
    "from sklearn.cluster import OPTICS, KMeans, DBSCAN\n",
    "# from SBPort.training.kernel_kmeans import KernelKMeans\n",
    "# from SBPort.clustering.clustering import MetaKernelKMeans\n",
    "optics = OPTICS(eps = 0.5, min_samples = 10, metric = \"minkowski\", n_jobs = -1)\n",
    "# filtered_df = transformed_df[[\"nr_cat\", \"nr_num\", \"num_to_cat_ratio\", \"nr_bin\", \"outliers\", \"nr_feat\", \"nr_inst\", \"missing_mean\", \"missing_sd\"]]\n",
    "# filtered_df = preprocessor.transform(bin_df)\n",
    "optics.fit(filtered_df)\n",
    "# kmeans = KMeans(n_clusters = 3, random_state = 42)\n",
    "# kmeans = KernelKMeans(n_clusters = 5, random_state = 42, kernel = \"rbf\", gamma = 1)\n",
    "# kmeans.fit(filtered_df)\n"
   ]
  },
  {
   "cell_type": "code",
   "execution_count": 76,
   "metadata": {},
   "outputs": [],
   "source": [
    "labels = optics.labels_[optics.ordering_]\n",
    "reachability = optics.reachability_[optics.ordering_]"
   ]
  },
  {
   "cell_type": "code",
   "execution_count": 1,
   "metadata": {},
   "outputs": [
    {
     "ename": "AttributeError",
     "evalue": "module '__main__' has no attribute 'PortfolioTransformer'",
     "output_type": "error",
     "traceback": [
      "\u001b[0;31m---------------------------------------------------------------------------\u001b[0m",
      "\u001b[0;31mAttributeError\u001b[0m                            Traceback (most recent call last)",
      "Cell \u001b[0;32mIn[1], line 13\u001b[0m\n\u001b[1;32m     10\u001b[0m     \u001b[39mreturn\u001b[39;00m inference_pipeline\n\u001b[1;32m     12\u001b[0m path \u001b[39m=\u001b[39m Path(\u001b[39m\"\u001b[39m\u001b[39mSBPort/inference_pipelines/bin/inference_pipeline_bin_kernel_kmeans_5_psize_16\u001b[39m\u001b[39m\"\u001b[39m)\n\u001b[0;32m---> 13\u001b[0m inf_pipe \u001b[39m=\u001b[39m load_inference_pipeline(path)\n\u001b[1;32m     14\u001b[0m \u001b[39mprint\u001b[39m(inf_pipe\u001b[39m.\u001b[39mportfolio)\n",
      "Cell \u001b[0;32mIn[1], line 9\u001b[0m, in \u001b[0;36mload_inference_pipeline\u001b[0;34m(path)\u001b[0m\n\u001b[1;32m      5\u001b[0m \u001b[39mdef\u001b[39;00m \u001b[39mload_inference_pipeline\u001b[39m(\n\u001b[1;32m      6\u001b[0m     path: Path\n\u001b[1;32m      7\u001b[0m ):\n\u001b[1;32m      8\u001b[0m     \u001b[39mwith\u001b[39;00m \u001b[39mopen\u001b[39m(path, \u001b[39m\"\u001b[39m\u001b[39mrb\u001b[39m\u001b[39m\"\u001b[39m) \u001b[39mas\u001b[39;00m f:\n\u001b[0;32m----> 9\u001b[0m         inference_pipeline: Pipeline \u001b[39m=\u001b[39m sio\u001b[39m.\u001b[39;49mload(f, trusted \u001b[39m=\u001b[39;49m \u001b[39mTrue\u001b[39;49;00m)\n\u001b[1;32m     10\u001b[0m     \u001b[39mreturn\u001b[39;00m inference_pipeline\n",
      "File \u001b[0;32m~/Master DS&AI/master_thesis/masterthesisenv/lib/python3.10/site-packages/skops/io/_persist.py:130\u001b[0m, in \u001b[0;36mload\u001b[0;34m(file, trusted)\u001b[0m\n\u001b[1;32m    128\u001b[0m     tree \u001b[39m=\u001b[39m get_tree(json\u001b[39m.\u001b[39mloads(schema), load_context)\n\u001b[1;32m    129\u001b[0m     audit_tree(tree, trusted)\n\u001b[0;32m--> 130\u001b[0m     instance \u001b[39m=\u001b[39m tree\u001b[39m.\u001b[39;49mconstruct()\n\u001b[1;32m    132\u001b[0m \u001b[39mreturn\u001b[39;00m instance\n",
      "File \u001b[0;32m~/Master DS&AI/master_thesis/masterthesisenv/lib/python3.10/site-packages/skops/io/_audit.py:179\u001b[0m, in \u001b[0;36mNode.construct\u001b[0;34m(self)\u001b[0m\n\u001b[1;32m    177\u001b[0m \u001b[39mif\u001b[39;00m \u001b[39mself\u001b[39m\u001b[39m.\u001b[39m_constructed \u001b[39mis\u001b[39;00m \u001b[39mnot\u001b[39;00m UNINITIALIZED:\n\u001b[1;32m    178\u001b[0m     \u001b[39mreturn\u001b[39;00m \u001b[39mself\u001b[39m\u001b[39m.\u001b[39m_constructed\n\u001b[0;32m--> 179\u001b[0m \u001b[39mself\u001b[39m\u001b[39m.\u001b[39m_constructed \u001b[39m=\u001b[39m \u001b[39mself\u001b[39;49m\u001b[39m.\u001b[39;49m_construct()\n\u001b[1;32m    180\u001b[0m \u001b[39mreturn\u001b[39;00m \u001b[39mself\u001b[39m\u001b[39m.\u001b[39m_constructed\n",
      "File \u001b[0;32m~/Master DS&AI/master_thesis/masterthesisenv/lib/python3.10/site-packages/skops/io/_general.py:403\u001b[0m, in \u001b[0;36mObjectNode._construct\u001b[0;34m(self)\u001b[0m\n\u001b[1;32m    399\u001b[0m \u001b[39mif\u001b[39;00m \u001b[39mnot\u001b[39;00m \u001b[39mself\u001b[39m\u001b[39m.\u001b[39mchildren[\u001b[39m\"\u001b[39m\u001b[39mattrs\u001b[39m\u001b[39m\"\u001b[39m]:\n\u001b[1;32m    400\u001b[0m     \u001b[39m# nothing more to do\u001b[39;00m\n\u001b[1;32m    401\u001b[0m     \u001b[39mreturn\u001b[39;00m instance\n\u001b[0;32m--> 403\u001b[0m attrs \u001b[39m=\u001b[39m \u001b[39mself\u001b[39;49m\u001b[39m.\u001b[39;49mchildren[\u001b[39m\"\u001b[39;49m\u001b[39mattrs\u001b[39;49m\u001b[39m\"\u001b[39;49m]\u001b[39m.\u001b[39;49mconstruct()\n\u001b[1;32m    404\u001b[0m \u001b[39mif\u001b[39;00m attrs \u001b[39mis\u001b[39;00m \u001b[39mnot\u001b[39;00m \u001b[39mNone\u001b[39;00m:\n\u001b[1;32m    405\u001b[0m     \u001b[39mif\u001b[39;00m \u001b[39mhasattr\u001b[39m(instance, \u001b[39m\"\u001b[39m\u001b[39m__setstate__\u001b[39m\u001b[39m\"\u001b[39m):\n",
      "File \u001b[0;32m~/Master DS&AI/master_thesis/masterthesisenv/lib/python3.10/site-packages/skops/io/_audit.py:179\u001b[0m, in \u001b[0;36mNode.construct\u001b[0;34m(self)\u001b[0m\n\u001b[1;32m    177\u001b[0m \u001b[39mif\u001b[39;00m \u001b[39mself\u001b[39m\u001b[39m.\u001b[39m_constructed \u001b[39mis\u001b[39;00m \u001b[39mnot\u001b[39;00m UNINITIALIZED:\n\u001b[1;32m    178\u001b[0m     \u001b[39mreturn\u001b[39;00m \u001b[39mself\u001b[39m\u001b[39m.\u001b[39m_constructed\n\u001b[0;32m--> 179\u001b[0m \u001b[39mself\u001b[39m\u001b[39m.\u001b[39m_constructed \u001b[39m=\u001b[39m \u001b[39mself\u001b[39;49m\u001b[39m.\u001b[39;49m_construct()\n\u001b[1;32m    180\u001b[0m \u001b[39mreturn\u001b[39;00m \u001b[39mself\u001b[39m\u001b[39m.\u001b[39m_constructed\n",
      "File \u001b[0;32m~/Master DS&AI/master_thesis/masterthesisenv/lib/python3.10/site-packages/skops/io/_general.py:67\u001b[0m, in \u001b[0;36mDictNode._construct\u001b[0;34m(self)\u001b[0m\n\u001b[1;32m     65\u001b[0m key_types \u001b[39m=\u001b[39m \u001b[39mself\u001b[39m\u001b[39m.\u001b[39mchildren[\u001b[39m\"\u001b[39m\u001b[39mkey_types\u001b[39m\u001b[39m\"\u001b[39m]\u001b[39m.\u001b[39mconstruct()\n\u001b[1;32m     66\u001b[0m \u001b[39mfor\u001b[39;00m k_type, (key, val) \u001b[39min\u001b[39;00m \u001b[39mzip\u001b[39m(key_types, \u001b[39mself\u001b[39m\u001b[39m.\u001b[39mchildren[\u001b[39m\"\u001b[39m\u001b[39mcontent\u001b[39m\u001b[39m\"\u001b[39m]\u001b[39m.\u001b[39mitems()):\n\u001b[0;32m---> 67\u001b[0m     content[k_type(key)] \u001b[39m=\u001b[39m val\u001b[39m.\u001b[39;49mconstruct()\n\u001b[1;32m     68\u001b[0m \u001b[39mreturn\u001b[39;00m content\n",
      "File \u001b[0;32m~/Master DS&AI/master_thesis/masterthesisenv/lib/python3.10/site-packages/skops/io/_audit.py:179\u001b[0m, in \u001b[0;36mNode.construct\u001b[0;34m(self)\u001b[0m\n\u001b[1;32m    177\u001b[0m \u001b[39mif\u001b[39;00m \u001b[39mself\u001b[39m\u001b[39m.\u001b[39m_constructed \u001b[39mis\u001b[39;00m \u001b[39mnot\u001b[39;00m UNINITIALIZED:\n\u001b[1;32m    178\u001b[0m     \u001b[39mreturn\u001b[39;00m \u001b[39mself\u001b[39m\u001b[39m.\u001b[39m_constructed\n\u001b[0;32m--> 179\u001b[0m \u001b[39mself\u001b[39m\u001b[39m.\u001b[39m_constructed \u001b[39m=\u001b[39m \u001b[39mself\u001b[39;49m\u001b[39m.\u001b[39;49m_construct()\n\u001b[1;32m    180\u001b[0m \u001b[39mreturn\u001b[39;00m \u001b[39mself\u001b[39m\u001b[39m.\u001b[39m_constructed\n",
      "File \u001b[0;32m~/Master DS&AI/master_thesis/masterthesisenv/lib/python3.10/site-packages/skops/io/_general.py:98\u001b[0m, in \u001b[0;36mListNode._construct\u001b[0;34m(self)\u001b[0m\n\u001b[1;32m     96\u001b[0m \u001b[39mdef\u001b[39;00m \u001b[39m_construct\u001b[39m(\u001b[39mself\u001b[39m):\n\u001b[1;32m     97\u001b[0m     content_type \u001b[39m=\u001b[39m gettype(\u001b[39mself\u001b[39m\u001b[39m.\u001b[39mmodule_name, \u001b[39mself\u001b[39m\u001b[39m.\u001b[39mclass_name)\n\u001b[0;32m---> 98\u001b[0m     \u001b[39mreturn\u001b[39;00m content_type([item\u001b[39m.\u001b[39mconstruct() \u001b[39mfor\u001b[39;00m item \u001b[39min\u001b[39;00m \u001b[39mself\u001b[39m\u001b[39m.\u001b[39mchildren[\u001b[39m\"\u001b[39m\u001b[39mcontent\u001b[39m\u001b[39m\"\u001b[39m]])\n",
      "File \u001b[0;32m~/Master DS&AI/master_thesis/masterthesisenv/lib/python3.10/site-packages/skops/io/_general.py:98\u001b[0m, in \u001b[0;36m<listcomp>\u001b[0;34m(.0)\u001b[0m\n\u001b[1;32m     96\u001b[0m \u001b[39mdef\u001b[39;00m \u001b[39m_construct\u001b[39m(\u001b[39mself\u001b[39m):\n\u001b[1;32m     97\u001b[0m     content_type \u001b[39m=\u001b[39m gettype(\u001b[39mself\u001b[39m\u001b[39m.\u001b[39mmodule_name, \u001b[39mself\u001b[39m\u001b[39m.\u001b[39mclass_name)\n\u001b[0;32m---> 98\u001b[0m     \u001b[39mreturn\u001b[39;00m content_type([item\u001b[39m.\u001b[39;49mconstruct() \u001b[39mfor\u001b[39;00m item \u001b[39min\u001b[39;00m \u001b[39mself\u001b[39m\u001b[39m.\u001b[39mchildren[\u001b[39m\"\u001b[39m\u001b[39mcontent\u001b[39m\u001b[39m\"\u001b[39m]])\n",
      "File \u001b[0;32m~/Master DS&AI/master_thesis/masterthesisenv/lib/python3.10/site-packages/skops/io/_audit.py:179\u001b[0m, in \u001b[0;36mNode.construct\u001b[0;34m(self)\u001b[0m\n\u001b[1;32m    177\u001b[0m \u001b[39mif\u001b[39;00m \u001b[39mself\u001b[39m\u001b[39m.\u001b[39m_constructed \u001b[39mis\u001b[39;00m \u001b[39mnot\u001b[39;00m UNINITIALIZED:\n\u001b[1;32m    178\u001b[0m     \u001b[39mreturn\u001b[39;00m \u001b[39mself\u001b[39m\u001b[39m.\u001b[39m_constructed\n\u001b[0;32m--> 179\u001b[0m \u001b[39mself\u001b[39m\u001b[39m.\u001b[39m_constructed \u001b[39m=\u001b[39m \u001b[39mself\u001b[39;49m\u001b[39m.\u001b[39;49m_construct()\n\u001b[1;32m    180\u001b[0m \u001b[39mreturn\u001b[39;00m \u001b[39mself\u001b[39m\u001b[39m.\u001b[39m_constructed\n",
      "File \u001b[0;32m~/Master DS&AI/master_thesis/masterthesisenv/lib/python3.10/site-packages/skops/io/_general.py:158\u001b[0m, in \u001b[0;36mTupleNode._construct\u001b[0;34m(self)\u001b[0m\n\u001b[1;32m    154\u001b[0m \u001b[39mdef\u001b[39;00m \u001b[39m_construct\u001b[39m(\u001b[39mself\u001b[39m):\n\u001b[1;32m    155\u001b[0m     \u001b[39m# Returns a tuple or a namedtuple instance.\u001b[39;00m\n\u001b[1;32m    157\u001b[0m     \u001b[39mcls\u001b[39m \u001b[39m=\u001b[39m gettype(\u001b[39mself\u001b[39m\u001b[39m.\u001b[39mmodule_name, \u001b[39mself\u001b[39m\u001b[39m.\u001b[39mclass_name)\n\u001b[0;32m--> 158\u001b[0m     content \u001b[39m=\u001b[39m \u001b[39mtuple\u001b[39;49m(value\u001b[39m.\u001b[39;49mconstruct() \u001b[39mfor\u001b[39;49;00m value \u001b[39min\u001b[39;49;00m \u001b[39mself\u001b[39;49m\u001b[39m.\u001b[39;49mchildren[\u001b[39m\"\u001b[39;49m\u001b[39mcontent\u001b[39;49m\u001b[39m\"\u001b[39;49m])\n\u001b[1;32m    160\u001b[0m     \u001b[39mif\u001b[39;00m \u001b[39mself\u001b[39m\u001b[39m.\u001b[39misnamedtuple(\u001b[39mcls\u001b[39m):\n\u001b[1;32m    161\u001b[0m         \u001b[39mreturn\u001b[39;00m \u001b[39mcls\u001b[39m(\u001b[39m*\u001b[39mcontent)\n",
      "File \u001b[0;32m~/Master DS&AI/master_thesis/masterthesisenv/lib/python3.10/site-packages/skops/io/_general.py:158\u001b[0m, in \u001b[0;36m<genexpr>\u001b[0;34m(.0)\u001b[0m\n\u001b[1;32m    154\u001b[0m \u001b[39mdef\u001b[39;00m \u001b[39m_construct\u001b[39m(\u001b[39mself\u001b[39m):\n\u001b[1;32m    155\u001b[0m     \u001b[39m# Returns a tuple or a namedtuple instance.\u001b[39;00m\n\u001b[1;32m    157\u001b[0m     \u001b[39mcls\u001b[39m \u001b[39m=\u001b[39m gettype(\u001b[39mself\u001b[39m\u001b[39m.\u001b[39mmodule_name, \u001b[39mself\u001b[39m\u001b[39m.\u001b[39mclass_name)\n\u001b[0;32m--> 158\u001b[0m     content \u001b[39m=\u001b[39m \u001b[39mtuple\u001b[39m(value\u001b[39m.\u001b[39;49mconstruct() \u001b[39mfor\u001b[39;00m value \u001b[39min\u001b[39;00m \u001b[39mself\u001b[39m\u001b[39m.\u001b[39mchildren[\u001b[39m\"\u001b[39m\u001b[39mcontent\u001b[39m\u001b[39m\"\u001b[39m])\n\u001b[1;32m    160\u001b[0m     \u001b[39mif\u001b[39;00m \u001b[39mself\u001b[39m\u001b[39m.\u001b[39misnamedtuple(\u001b[39mcls\u001b[39m):\n\u001b[1;32m    161\u001b[0m         \u001b[39mreturn\u001b[39;00m \u001b[39mcls\u001b[39m(\u001b[39m*\u001b[39mcontent)\n",
      "File \u001b[0;32m~/Master DS&AI/master_thesis/masterthesisenv/lib/python3.10/site-packages/skops/io/_audit.py:179\u001b[0m, in \u001b[0;36mNode.construct\u001b[0;34m(self)\u001b[0m\n\u001b[1;32m    177\u001b[0m \u001b[39mif\u001b[39;00m \u001b[39mself\u001b[39m\u001b[39m.\u001b[39m_constructed \u001b[39mis\u001b[39;00m \u001b[39mnot\u001b[39;00m UNINITIALIZED:\n\u001b[1;32m    178\u001b[0m     \u001b[39mreturn\u001b[39;00m \u001b[39mself\u001b[39m\u001b[39m.\u001b[39m_constructed\n\u001b[0;32m--> 179\u001b[0m \u001b[39mself\u001b[39m\u001b[39m.\u001b[39m_constructed \u001b[39m=\u001b[39m \u001b[39mself\u001b[39;49m\u001b[39m.\u001b[39;49m_construct()\n\u001b[1;32m    180\u001b[0m \u001b[39mreturn\u001b[39;00m \u001b[39mself\u001b[39m\u001b[39m.\u001b[39m_constructed\n",
      "File \u001b[0;32m~/Master DS&AI/master_thesis/masterthesisenv/lib/python3.10/site-packages/skops/io/_general.py:391\u001b[0m, in \u001b[0;36mObjectNode._construct\u001b[0;34m(self)\u001b[0m\n\u001b[1;32m    390\u001b[0m \u001b[39mdef\u001b[39;00m \u001b[39m_construct\u001b[39m(\u001b[39mself\u001b[39m):\n\u001b[0;32m--> 391\u001b[0m     \u001b[39mcls\u001b[39m \u001b[39m=\u001b[39m gettype(\u001b[39mself\u001b[39;49m\u001b[39m.\u001b[39;49mmodule_name, \u001b[39mself\u001b[39;49m\u001b[39m.\u001b[39;49mclass_name)\n\u001b[1;32m    393\u001b[0m     \u001b[39m# Instead of simply constructing the instance, we use __new__, which\u001b[39;00m\n\u001b[1;32m    394\u001b[0m     \u001b[39m# bypasses the __init__, and then we set the attributes. This solves the\u001b[39;00m\n\u001b[1;32m    395\u001b[0m     \u001b[39m# issue of required init arguments. Note that the instance created here\u001b[39;00m\n\u001b[1;32m    396\u001b[0m     \u001b[39m# might not be valid until all its attributes have been set below.\u001b[39;00m\n\u001b[1;32m    397\u001b[0m     instance \u001b[39m=\u001b[39m \u001b[39mcls\u001b[39m\u001b[39m.\u001b[39m\u001b[39m__new__\u001b[39m(\u001b[39mcls\u001b[39m)  \u001b[39m# type: ignore\u001b[39;00m\n",
      "File \u001b[0;32m~/Master DS&AI/master_thesis/masterthesisenv/lib/python3.10/site-packages/skops/io/_utils.py:62\u001b[0m, in \u001b[0;36mgettype\u001b[0;34m(module_name, cls_or_func)\u001b[0m\n\u001b[1;32m     60\u001b[0m \u001b[39mdef\u001b[39;00m \u001b[39mgettype\u001b[39m(module_name: \u001b[39mstr\u001b[39m, cls_or_func: \u001b[39mstr\u001b[39m) \u001b[39m-\u001b[39m\u001b[39m>\u001b[39m Type[Any]:\n\u001b[1;32m     61\u001b[0m     \u001b[39mif\u001b[39;00m module_name \u001b[39mand\u001b[39;00m cls_or_func:\n\u001b[0;32m---> 62\u001b[0m         \u001b[39mreturn\u001b[39;00m _import_obj(module_name, cls_or_func)\n\u001b[1;32m     64\u001b[0m     \u001b[39mraise\u001b[39;00m \u001b[39mValueError\u001b[39;00m(\u001b[39mf\u001b[39m\u001b[39m\"\u001b[39m\u001b[39mObject \u001b[39m\u001b[39m{\u001b[39;00mcls_or_func\u001b[39m}\u001b[39;00m\u001b[39m of module \u001b[39m\u001b[39m{\u001b[39;00mmodule_name\u001b[39m}\u001b[39;00m\u001b[39m is unknown\u001b[39m\u001b[39m\"\u001b[39m)\n",
      "File \u001b[0;32m~/Master DS&AI/master_thesis/masterthesisenv/lib/python3.10/site-packages/skops/io/_utils.py:57\u001b[0m, in \u001b[0;36m_import_obj\u001b[0;34m(module, cls_or_func, package)\u001b[0m\n\u001b[1;32m     56\u001b[0m \u001b[39mdef\u001b[39;00m \u001b[39m_import_obj\u001b[39m(module: \u001b[39mstr\u001b[39m, cls_or_func: \u001b[39mstr\u001b[39m, package: \u001b[39mstr\u001b[39m \u001b[39m|\u001b[39m \u001b[39mNone\u001b[39;00m \u001b[39m=\u001b[39m \u001b[39mNone\u001b[39;00m) \u001b[39m-\u001b[39m\u001b[39m>\u001b[39m Any:\n\u001b[0;32m---> 57\u001b[0m     \u001b[39mreturn\u001b[39;00m \u001b[39mgetattr\u001b[39;49m(importlib\u001b[39m.\u001b[39;49mimport_module(module, package\u001b[39m=\u001b[39;49mpackage), cls_or_func)\n",
      "\u001b[0;31mAttributeError\u001b[0m: module '__main__' has no attribute 'PortfolioTransformer'"
     ]
    }
   ],
   "source": [
    "import skops.io as sio\n",
    "from pathlib import Path\n",
    "from SBPort.training.fit_inference_pipeline import PortfolioTransformer\n",
    "\n",
    "\n",
    "def load_inference_pipeline(\n",
    "    path: Path\n",
    "):\n",
    "    with open(path, \"rb\") as f:\n",
    "        inference_pipeline: Pipeline = sio.load(f, trusted = True)\n",
    "    return inference_pipeline\n",
    "\n",
    "path = Path(\"SBPort/inference_pipelines/bin/inference_pipeline_bin_kernel_kmeans_5_psize_16\")\n",
    "inf_pipe = load_inference_pipeline(path)\n",
    "print(inf_pipe.portfolio)"
   ]
  },
  {
   "cell_type": "code",
   "execution_count": 77,
   "metadata": {},
   "outputs": [],
   "source": [
    "#get reachability of the labels that are 0\n",
    "reachability = reachability[labels == 1]"
   ]
  },
  {
   "cell_type": "code",
   "execution_count": 78,
   "metadata": {},
   "outputs": [
    {
     "data": {
      "text/plain": [
       "array([0.52036508, 0.4520231 , 0.4520231 , 0.42470215, 0.42470215,\n",
       "       0.33925458, 0.33925458, 0.33925458, 0.33925458, 0.33925458,\n",
       "       0.33925458, 0.32745511, 0.35255713, 0.36011979, 0.36011979,\n",
       "       0.40981833, 0.41586602, 0.421845  , 0.45353841, 0.47748038,\n",
       "       0.47748038, 0.47899419, 0.48559466, 0.48768225])"
      ]
     },
     "execution_count": 78,
     "metadata": {},
     "output_type": "execute_result"
    }
   ],
   "source": [
    "#threshold 0.8\n",
    "#for every new data point:\n",
    "#calculate minkowski distance (or other) to the closest point\n",
    "#check whether the distance is smaller than 0.8\n",
    "#if true --> label as the same cluster\n",
    "reachability"
   ]
  },
  {
   "cell_type": "code",
   "execution_count": 72,
   "metadata": {},
   "outputs": [
    {
     "data": {
      "text/plain": [
       "(0.0, 10.0)"
      ]
     },
     "execution_count": 72,
     "metadata": {},
     "output_type": "execute_result"
    },
    {
     "data": {
      "image/png": "[encoded data removed]",
      "text/plain": [
       "<Figure size 640x480 with 1 Axes>"
      ]
     },
     "metadata": {},
     "output_type": "display_data"
    }
   ],
   "source": [
    "import matplotlib.pyplot as plt\n",
    "plt.plot(reachability)\n",
    "plt.ylim([0, 10])"
   ]
  },
  {
   "cell_type": "code",
   "execution_count": 29,
   "metadata": {},
   "outputs": [
    {
     "data": {
      "image/png": "[encoded data removed]",
      "text/plain": [
       "<Figure size 640x480 with 1 Axes>"
      ]
     },
     "metadata": {},
     "output_type": "display_data"
    }
   ],
   "source": [
    "from SBPort.utils import plot_2d_cluster\n",
    "import skops.io as sio\n",
    "from SBPort.training.fit_inference_pipeline import PortfolioTransformer\n",
    "import matplotlib.pyplot as plt\n",
    "\n",
    "# data = sio.load(\"SBPort/inference_pipelines/inference_pipeline_bin_kernel_kmeans_5_psize_16\", trusted = True)\n",
    "# print(data[1].clustering_algorithm.labels_)\n",
    "plt.title(f\"OPTICS\")\n",
    "plot_2d_cluster(filtered_df, \"tsne\", labels = kmeans.labels_)\n",
    "# plt.savefig(\"OPTICS.png\")\n",
    "plt.show()"
   ]
  },
  {
   "cell_type": "code",
   "execution_count": 138,
   "metadata": {},
   "outputs": [
    {
     "data": {
      "image/png": "[encoded data removed]",
      "text/plain": [
       "<Figure size 640x480 with 1 Axes>"
      ]
     },
     "metadata": {},
     "output_type": "display_data"
    }
   ],
   "source": [
    "from SBPort.utils import plot_2d_cluster\n",
    "import skops.io as sio\n",
    "from SBPort import kernel_kmeans\n",
    "from SBPort.training.fit_inference_pipeline import PortfolioTransformer\n",
    "\n",
    "data = sio.load(\"SBPort/inference_pipelines/inference_pipeline_bin_kernel_kmeans_3_psize_16\", trusted = True)\n",
    "\n",
    "plot_2d_cluster(filtered_df, \"tsne\", labels = data[1].clustering_algorithm.labels_)"
   ]
  },
  {
   "cell_type": "code",
   "execution_count": 8,
   "metadata": {},
   "outputs": [
    {
     "ename": "NameError",
     "evalue": "name 'kmeans' is not defined",
     "output_type": "error",
     "traceback": [
      "\u001b[0;31m---------------------------------------------------------------------------\u001b[0m",
      "\u001b[0;31mNameError\u001b[0m                                 Traceback (most recent call last)",
      "Cell \u001b[0;32mIn[8], line 1\u001b[0m\n\u001b[0;32m----> 1\u001b[0m kmeans\u001b[39m.\u001b[39mplot(filtered_df, reduction_method \u001b[39m=\u001b[39m \u001b[39m\"\u001b[39m\u001b[39mpca\u001b[39m\u001b[39m\"\u001b[39m)\n",
      "\u001b[0;31mNameError\u001b[0m: name 'kmeans' is not defined"
     ]
    }
   ],
   "source": [
    "kmeans.plot(filtered_df, reduction_method = \"pca\")"
   ]
  },
  {
   "cell_type": "code",
   "execution_count": 65,
   "metadata": {},
   "outputs": [
    {
     "name": "stdout",
     "output_type": "stream",
     "text": [
      "77     0.908924\n",
      "108    0.909004\n",
      "75     0.909337\n",
      "117    0.909401\n",
      "229     0.90993\n",
      "28     0.909949\n",
      "181    0.909963\n",
      "248     0.90997\n",
      "dtype: object\n"
     ]
    }
   ],
   "source": [
    "# for label in labels:\n",
    "data_cluster = data_so_far.loc[data_so_far.index[np.where(kmeans.labels_ == 4)]]\n",
    "print((data_cluster.sum(axis = 0)/len(data_cluster)).sort_values()[-8:])"
   ]
  },
  {
   "cell_type": "code",
   "execution_count": null,
   "metadata": {},
   "outputs": [],
   "source": []
  },
  {
   "cell_type": "code",
   "execution_count": 287,
   "metadata": {},
   "outputs": [
    {
     "data": {
      "image/png": "[encoded data removed]",
      "text/plain": [
       "<Figure size 640x480 with 1 Axes>"
      ]
     },
     "metadata": {},
     "output_type": "display_data"
    }
   ],
   "source": [
    "from sklearn.manifold import TSNE\n",
    "from sklearn.decomposition import KernelPCA\n",
    "from sklearn.kernel_approximation import RBFSampler\n",
    "import matplotlib.pyplot as plt\n",
    "\n",
    "# X = RBFSampler(gamma = 0.2, random_state=0).fit_transform(filtered_df)\n",
    "# \n",
    "reduced_X = KernelPCA(n_components = 2, kernel = \"rbf\", random_state = 0).fit_transform(transformed_df)\n",
    "# reduced_X = TSNE(n_components = 2, random_state = 42).fit_transform(transfoMinMaxScalerrmed_df)\n",
    "\n",
    "plt.scatter(reduced_X.T[0], reduced_X.T[1], c = kmeans.labels_)\n",
    "plt.show()\n",
    "# transformed_df"
   ]
  },
  {
   "cell_type": "code",
   "execution_count": null,
   "metadata": {},
   "outputs": [],
   "source": []
  },
  {
   "cell_type": "code",
   "execution_count": 3,
   "metadata": {},
   "outputs": [],
   "source": [
    "import json\n",
    "import pandas as pd\n",
    "\n",
    "with open(\"SBPort/results_test.json\", \"r\") as f:\n",
    "    data = json.load(f)"
   ]
  },
  {
   "cell_type": "code",
   "execution_count": 8,
   "metadata": {},
   "outputs": [],
   "source": [
    "pos_difference = 0\n",
    "best_port = 0\n",
    "for ind in data:\n",
    "    df = pd.DataFrame.from_dict(data[ind], orient = \"index\")\n",
    "    # pos_difference += 1*(df[\"difference\"] >= 0)\n",
    "    pos_difference += df[\"difference\"]\n",
    "    best_port += 1*(df[\"difference_max\"] == 0)"
   ]
  },
  {
   "cell_type": "code",
   "execution_count": 11,
   "metadata": {},
   "outputs": [
    {
     "data": {
      "text/plain": [
       "3    6\n",
       "5    6\n",
       "8    1\n",
       "Name: difference_max, dtype: int64"
      ]
     },
     "execution_count": 11,
     "metadata": {},
     "output_type": "execute_result"
    }
   ],
   "source": [
    "best_port"
   ]
  },
  {
   "cell_type": "code",
   "execution_count": 1,
   "metadata": {},
   "outputs": [],
   "source": [
    "import openml\n",
    "import pandas as pd"
   ]
  },
  {
   "cell_type": "code",
   "execution_count": 2,
   "metadata": {},
   "outputs": [],
   "source": [
    "all_datasets = openml.datasets.list_datasets()"
   ]
  },
  {
   "cell_type": "code",
   "execution_count": 5,
   "metadata": {},
   "outputs": [],
   "source": [
    "suite = openml.study.get_suite(271)"
   ]
  },
  {
   "cell_type": "code",
   "execution_count": 22,
   "metadata": {},
   "outputs": [],
   "source": [
    "datasets_train = pd.read_csv(\"hpc_files/binary_dids.csv\")"
   ]
  },
  {
   "cell_type": "code",
   "execution_count": 13,
   "metadata": {},
   "outputs": [],
   "source": [
    "suite_data = suite.data"
   ]
  },
  {
   "cell_type": "code",
   "execution_count": 34,
   "metadata": {},
   "outputs": [],
   "source": [
    "binary_dids = []\n",
    "for did in suite_data:\n",
    "    if all_datasets[did][\"NumberOfClasses\"] == 2:\n",
    "        binary_dids.append(did)"
   ]
  },
  {
   "cell_type": "code",
   "execution_count": 47,
   "metadata": {},
   "outputs": [],
   "source": [
    "filt_df = pd.DataFrame(list(set(datasets_train[\"did\"]) - set(binary_dids)), columns = [\"did\"])\n",
    "filt_df.to_csv(\"hpc_files/binary_dids.csv\", index = False)"
   ]
  },
  {
   "cell_type": "code",
   "execution_count": 41,
   "metadata": {},
   "outputs": [
    {
     "data": {
      "text/html": [
       "<div>\n",
       "<style scoped>\n",
       "    .dataframe tbody tr th:only-of-type {\n",
       "        vertical-align: middle;\n",
       "    }\n",
       "\n",
       "    .dataframe tbody tr th {\n",
       "        vertical-align: top;\n",
       "    }\n",
       "\n",
       "    .dataframe thead th {\n",
       "        text-align: right;\n",
       "    }\n",
       "</style>\n",
       "<table border=\"1\" class=\"dataframe\">\n",
       "  <thead>\n",
       "    <tr style=\"text-align: right;\">\n",
       "      <th></th>\n",
       "      <th>did</th>\n",
       "    </tr>\n",
       "  </thead>\n",
       "  <tbody>\n",
       "    <tr>\n",
       "      <th>0</th>\n",
       "      <td>793</td>\n",
       "    </tr>\n",
       "    <tr>\n",
       "      <th>1</th>\n",
       "      <td>778</td>\n",
       "    </tr>\n",
       "    <tr>\n",
       "      <th>2</th>\n",
       "      <td>1442</td>\n",
       "    </tr>\n",
       "    <tr>\n",
       "      <th>3</th>\n",
       "      <td>811</td>\n",
       "    </tr>\n",
       "    <tr>\n",
       "      <th>4</th>\n",
       "      <td>336</td>\n",
       "    </tr>\n",
       "    <tr>\n",
       "      <th>...</th>\n",
       "      <td>...</td>\n",
       "    </tr>\n",
       "    <tr>\n",
       "      <th>200</th>\n",
       "      <td>41943</td>\n",
       "    </tr>\n",
       "    <tr>\n",
       "      <th>201</th>\n",
       "      <td>42175</td>\n",
       "    </tr>\n",
       "    <tr>\n",
       "      <th>202</th>\n",
       "      <td>42176</td>\n",
       "    </tr>\n",
       "    <tr>\n",
       "      <th>203</th>\n",
       "      <td>42464</td>\n",
       "    </tr>\n",
       "    <tr>\n",
       "      <th>204</th>\n",
       "      <td>42636</td>\n",
       "    </tr>\n",
       "  </tbody>\n",
       "</table>\n",
       "<p>205 rows × 1 columns</p>\n",
       "</div>"
      ],
      "text/plain": [
       "       did\n",
       "0      793\n",
       "1      778\n",
       "2     1442\n",
       "3      811\n",
       "4      336\n",
       "..     ...\n",
       "200  41943\n",
       "201  42175\n",
       "202  42176\n",
       "203  42464\n",
       "204  42636\n",
       "\n",
       "[205 rows x 1 columns]"
      ]
     },
     "execution_count": 41,
     "metadata": {},
     "output_type": "execute_result"
    }
   ],
   "source": [
    "datasets_train"
   ]
  },
  {
   "cell_type": "code",
   "execution_count": 68,
   "metadata": {},
   "outputs": [],
   "source": [
    "df2 = pd.read_csv(\"SBPort/training/raw_metafeatures/metafeatures_bin_old.csv\", index_col = 0)"
   ]
  },
  {
   "cell_type": "code",
   "execution_count": 71,
   "metadata": {},
   "outputs": [],
   "source": [
    "df2.loc[list(set(filt_df[\"did\"]))].to_csv(\"SBPort/training/raw_metafeatures/metafeatures_bin.csv\")"
   ]
  },
  {
   "cell_type": "code",
   "execution_count": 4,
   "metadata": {},
   "outputs": [],
   "source": [
    "dataset = openml.study.get_suite(271).data"
   ]
  },
  {
   "cell_type": "code",
   "execution_count": 5,
   "metadata": {},
   "outputs": [
    {
     "data": {
      "text/plain": [
       "[0, 1, 2, 3, 4, 5, 6, 7, 8, 9, 10, 11, 12, 13, 14, 15]"
      ]
     },
     "execution_count": 5,
     "metadata": {},
     "output_type": "execute_result"
    }
   ],
   "source": [
    "test = list(range(16))\n",
    "test[:16]"
   ]
  },
  {
   "cell_type": "code",
   "execution_count": 5,
   "metadata": {},
   "outputs": [
    {
     "name": "stdout",
     "output_type": "stream",
     "text": [
      "181 1484.0\n",
      "1111 50000.0\n",
      "1596 581012.0\n",
      "1457 1500.0\n",
      "40981 690.0\n",
      "40983 4839.0\n",
      "23517 96320.0\n",
      "1489 5404.0\n",
      "31 1000.0\n",
      "40982 1941.0\n",
      "41138 76000.0\n",
      "41163 10000.0\n",
      "41164 8237.0\n",
      "41143 2984.0\n",
      "1169 539383.0\n",
      "41167 416188.0\n",
      "41147 425240.0\n",
      "41158 3153.0\n",
      "1487 2534.0\n",
      "54 846.0\n",
      "41144 3140.0\n",
      "41145 5832.0\n",
      "41156 4147.0\n",
      "41157 100.0\n",
      "41168 83733.0\n",
      "4541 101766.0\n",
      "1515 571.0\n",
      "188 736.0\n",
      "1464 748.0\n",
      "1494 1055.0\n",
      "1468 1080.0\n",
      "1049 1458.0\n",
      "23 1473.0\n",
      "40975 1728.0\n",
      "12 2000.0\n",
      "1067 2109.0\n",
      "40984 2310.0\n",
      "40670 3186.0\n",
      "3 3196.0\n",
      "40978 3279.0\n",
      "4134 3751.0\n",
      "40701 5000.0\n",
      "1475 6118.0\n",
      "4538 9873.0\n",
      "4534 11055.0\n",
      "41146 5124.0\n",
      "41142 5418.0\n",
      "40498 4898.0\n",
      "40900 5100.0\n",
      "40996 70000.0\n",
      "40668 67557.0\n",
      "4135 32769.0\n",
      "1486 34465.0\n",
      "41027 44819.0\n",
      "1461 45211.0\n",
      "1590 48842.0\n",
      "41169 65196.0\n",
      "41166 58310.0\n",
      "41165 10000.0\n",
      "40685 58000.0\n",
      "41159 20000.0\n",
      "41161 20000.0\n",
      "41150 130064.0\n",
      "41162 72983.0\n",
      "42733 39948.0\n",
      "42734 50789.0\n",
      "42732 2215023.0\n",
      "42746 4898431.0\n",
      "42742 595212.0\n",
      "42769 1000000.0\n",
      "43072 50000.0\n"
     ]
    }
   ],
   "source": [
    "for did in dataset:\n",
    "    print(did, all_datasets[did][\"NumberOfInstances\"])"
   ]
  },
  {
   "cell_type": "code",
   "execution_count": 33,
   "metadata": {},
   "outputs": [],
   "source": [
    "def force_get_dataset(dataset_id=None, *args, **kwargs):\n",
    "    \"\"\" Remove any existing local files about `dataset_id` and then download new copies. \"\"\"\n",
    "    did_cache_dir = openml.utils._create_cache_directory_for_id(openml.datasets.functions.DATASETS_CACHE_DIR_NAME, dataset_id, )\n",
    "    openml.utils._remove_cache_dir_for_id(openml.datasets.functions.DATASETS_CACHE_DIR_NAME, did_cache_dir)\n",
    "    return openml.datasets.get_dataset(dataset_id, *args, **kwargs)"
   ]
  },
  {
   "cell_type": "code",
   "execution_count": 74,
   "metadata": {},
   "outputs": [],
   "source": [
    "dataset = openml.datasets.get_dataset(42733)\n",
    "X, y, categorical_features, attribute_names = dataset.get_data(target = dataset.default_target_attribute)"
   ]
  },
  {
   "cell_type": "code",
   "execution_count": 75,
   "metadata": {},
   "outputs": [
    {
     "data": {
      "text/plain": [
       "[False, False, True, True, False, False, False, True, True, True, True]"
      ]
     },
     "execution_count": 75,
     "metadata": {},
     "output_type": "execute_result"
    }
   ],
   "source": [
    "categorical_features"
   ]
  },
  {
   "cell_type": "code",
   "execution_count": 76,
   "metadata": {},
   "outputs": [
    {
     "data": {
      "text/plain": [
       "['url_hash', 'query_id']"
      ]
     },
     "execution_count": 76,
     "metadata": {},
     "output_type": "execute_result"
    }
   ],
   "source": [
    "to_ignore = dataset.ignore_attribute[0].split(\",\")\n",
    "to_ignore\n"
   ]
  },
  {
   "cell_type": "code",
   "execution_count": 77,
   "metadata": {},
   "outputs": [
    {
     "data": {
      "text/plain": [
       "[False, True, True, False, False, True, True, True, True]"
      ]
     },
     "execution_count": 77,
     "metadata": {},
     "output_type": "execute_result"
    }
   ],
   "source": [
    "#exclude items from categorical features where the index is [1, 6]\n",
    "column_indexer = X.columns.get_indexer_for(to_ignore)\n",
    "categorical_features = [i for j, i in enumerate(categorical_features) if j not in column_indexer]\n",
    "categorical_features"
   ]
  },
  {
   "cell_type": "code",
   "execution_count": 67,
   "metadata": {},
   "outputs": [],
   "source": []
  },
  {
   "cell_type": "code",
   "execution_count": 79,
   "metadata": {},
   "outputs": [
    {
     "data": {
      "text/html": [
       "<div>\n",
       "<style scoped>\n",
       "    .dataframe tbody tr th:only-of-type {\n",
       "        vertical-align: middle;\n",
       "    }\n",
       "\n",
       "    .dataframe tbody tr th {\n",
       "        vertical-align: top;\n",
       "    }\n",
       "\n",
       "    .dataframe thead th {\n",
       "        text-align: right;\n",
       "    }\n",
       "</style>\n",
       "<table border=\"1\" class=\"dataframe\">\n",
       "  <thead>\n",
       "    <tr style=\"text-align: right;\">\n",
       "      <th></th>\n",
       "      <th>impression</th>\n",
       "      <th>url_hash</th>\n",
       "      <th>ad_id</th>\n",
       "      <th>advertiser_id</th>\n",
       "      <th>depth</th>\n",
       "      <th>position</th>\n",
       "      <th>query_id</th>\n",
       "      <th>keyword_id</th>\n",
       "      <th>title_id</th>\n",
       "      <th>description_id</th>\n",
       "      <th>user_id</th>\n",
       "    </tr>\n",
       "  </thead>\n",
       "  <tbody>\n",
       "    <tr>\n",
       "      <th>0</th>\n",
       "      <td>1.0</td>\n",
       "      <td>1.071003e+19</td>\n",
       "      <td>8343295</td>\n",
       "      <td>11700</td>\n",
       "      <td>3</td>\n",
       "      <td>3</td>\n",
       "      <td>7702266.0</td>\n",
       "      <td>21264</td>\n",
       "      <td>27892</td>\n",
       "      <td>1559</td>\n",
       "      <td>0</td>\n",
       "    </tr>\n",
       "    <tr>\n",
       "      <th>1</th>\n",
       "      <td>1.0</td>\n",
       "      <td>1.736385e+19</td>\n",
       "      <td>20017077</td>\n",
       "      <td>23798</td>\n",
       "      <td>1</td>\n",
       "      <td>1</td>\n",
       "      <td>93079.0</td>\n",
       "      <td>35498</td>\n",
       "      <td>4</td>\n",
       "      <td>36476</td>\n",
       "      <td>562934</td>\n",
       "    </tr>\n",
       "    <tr>\n",
       "      <th>2</th>\n",
       "      <td>1.0</td>\n",
       "      <td>8.915473e+18</td>\n",
       "      <td>21348354</td>\n",
       "      <td>36654</td>\n",
       "      <td>1</td>\n",
       "      <td>1</td>\n",
       "      <td>10981.0</td>\n",
       "      <td>19975</td>\n",
       "      <td>36105</td>\n",
       "      <td>33292</td>\n",
       "      <td>11621116</td>\n",
       "    </tr>\n",
       "    <tr>\n",
       "      <th>3</th>\n",
       "      <td>1.0</td>\n",
       "      <td>4.426693e+18</td>\n",
       "      <td>20366086</td>\n",
       "      <td>33280</td>\n",
       "      <td>3</td>\n",
       "      <td>3</td>\n",
       "      <td>0.0</td>\n",
       "      <td>5942</td>\n",
       "      <td>4057</td>\n",
       "      <td>4390</td>\n",
       "      <td>8778348</td>\n",
       "    </tr>\n",
       "    <tr>\n",
       "      <th>4</th>\n",
       "      <td>1.0</td>\n",
       "      <td>1.157260e+19</td>\n",
       "      <td>6803526</td>\n",
       "      <td>10790</td>\n",
       "      <td>2</td>\n",
       "      <td>1</td>\n",
       "      <td>9881978.0</td>\n",
       "      <td>60593</td>\n",
       "      <td>25242</td>\n",
       "      <td>1679</td>\n",
       "      <td>12118311</td>\n",
       "    </tr>\n",
       "    <tr>\n",
       "      <th>...</th>\n",
       "      <td>...</td>\n",
       "      <td>...</td>\n",
       "      <td>...</td>\n",
       "      <td>...</td>\n",
       "      <td>...</td>\n",
       "      <td>...</td>\n",
       "      <td>...</td>\n",
       "      <td>...</td>\n",
       "      <td>...</td>\n",
       "      <td>...</td>\n",
       "      <td>...</td>\n",
       "    </tr>\n",
       "    <tr>\n",
       "      <th>39943</th>\n",
       "      <td>1.0</td>\n",
       "      <td>3.593550e+18</td>\n",
       "      <td>21898643</td>\n",
       "      <td>37867</td>\n",
       "      <td>2</td>\n",
       "      <td>1</td>\n",
       "      <td>12825939.0</td>\n",
       "      <td>1091</td>\n",
       "      <td>1657</td>\n",
       "      <td>1914</td>\n",
       "      <td>0</td>\n",
       "    </tr>\n",
       "    <tr>\n",
       "      <th>39944</th>\n",
       "      <td>1.0</td>\n",
       "      <td>1.760828e+19</td>\n",
       "      <td>20575578</td>\n",
       "      <td>8873</td>\n",
       "      <td>2</td>\n",
       "      <td>1</td>\n",
       "      <td>11699.0</td>\n",
       "      <td>8338</td>\n",
       "      <td>7866</td>\n",
       "      <td>9210</td>\n",
       "      <td>19487</td>\n",
       "    </tr>\n",
       "    <tr>\n",
       "      <th>39945</th>\n",
       "      <td>5.0</td>\n",
       "      <td>9.613260e+18</td>\n",
       "      <td>21183848</td>\n",
       "      <td>18716</td>\n",
       "      <td>2</td>\n",
       "      <td>1</td>\n",
       "      <td>243826.0</td>\n",
       "      <td>9594</td>\n",
       "      <td>8881</td>\n",
       "      <td>13277</td>\n",
       "      <td>2305</td>\n",
       "    </tr>\n",
       "    <tr>\n",
       "      <th>39946</th>\n",
       "      <td>1.0</td>\n",
       "      <td>9.750423e+18</td>\n",
       "      <td>21222438</td>\n",
       "      <td>35880</td>\n",
       "      <td>3</td>\n",
       "      <td>3</td>\n",
       "      <td>7130804.0</td>\n",
       "      <td>13078</td>\n",
       "      <td>943122</td>\n",
       "      <td>1436</td>\n",
       "      <td>0</td>\n",
       "    </tr>\n",
       "    <tr>\n",
       "      <th>39947</th>\n",
       "      <td>1.0</td>\n",
       "      <td>1.205788e+19</td>\n",
       "      <td>20180245</td>\n",
       "      <td>27961</td>\n",
       "      <td>1</td>\n",
       "      <td>1</td>\n",
       "      <td>21659.0</td>\n",
       "      <td>39732</td>\n",
       "      <td>88617</td>\n",
       "      <td>88724</td>\n",
       "      <td>5602668</td>\n",
       "    </tr>\n",
       "  </tbody>\n",
       "</table>\n",
       "<p>39948 rows × 11 columns</p>\n",
       "</div>"
      ],
      "text/plain": [
       "       impression      url_hash     ad_id advertiser_id  depth  position  \\\n",
       "0             1.0  1.071003e+19   8343295         11700      3         3   \n",
       "1             1.0  1.736385e+19  20017077         23798      1         1   \n",
       "2             1.0  8.915473e+18  21348354         36654      1         1   \n",
       "3             1.0  4.426693e+18  20366086         33280      3         3   \n",
       "4             1.0  1.157260e+19   6803526         10790      2         1   \n",
       "...           ...           ...       ...           ...    ...       ...   \n",
       "39943         1.0  3.593550e+18  21898643         37867      2         1   \n",
       "39944         1.0  1.760828e+19  20575578          8873      2         1   \n",
       "39945         5.0  9.613260e+18  21183848         18716      2         1   \n",
       "39946         1.0  9.750423e+18  21222438         35880      3         3   \n",
       "39947         1.0  1.205788e+19  20180245         27961      1         1   \n",
       "\n",
       "         query_id keyword_id title_id description_id   user_id  \n",
       "0       7702266.0      21264    27892           1559         0  \n",
       "1         93079.0      35498        4          36476    562934  \n",
       "2         10981.0      19975    36105          33292  11621116  \n",
       "3             0.0       5942     4057           4390   8778348  \n",
       "4       9881978.0      60593    25242           1679  12118311  \n",
       "...           ...        ...      ...            ...       ...  \n",
       "39943  12825939.0       1091     1657           1914         0  \n",
       "39944     11699.0       8338     7866           9210     19487  \n",
       "39945    243826.0       9594     8881          13277      2305  \n",
       "39946   7130804.0      13078   943122           1436         0  \n",
       "39947     21659.0      39732    88617          88724   5602668  \n",
       "\n",
       "[39948 rows x 11 columns]"
      ]
     },
     "execution_count": 79,
     "metadata": {},
     "output_type": "execute_result"
    }
   ],
   "source": [
    "X"
   ]
  },
  {
   "cell_type": "code",
   "execution_count": 39,
   "metadata": {},
   "outputs": [],
   "source": [
    "import openml\n",
    "\n",
    "dataset = openml.datasets.get_dataset(516)\n",
    "X, y, categorical_features, attribute_names = dataset.get_data(target = dataset.default_target_attribute)"
   ]
  },
  {
   "cell_type": "code",
   "execution_count": 12,
   "metadata": {},
   "outputs": [],
   "source": [
    "lines = []\n",
    "with open(\"SBPort/gridsearch_bin.log\", \"r\") as f:\n",
    "        data = f.readlines()\n",
    "for line in data:\n",
    "    if line.startswith(\"INFO:root\") and (not \"https\" in line and not \"shape\" in line and not \"Calculating\" in line and not \"Metafeatures\" in line and not \"portfolio\" in line and not \"error\" in line):\n",
    "        lines.append(line)\n",
    "results = []\n",
    "for line in lines:\n",
    "\n",
    "        items = [float(item) for item in \"\".join(line.replace(\"INFO:root:\", \"\")).strip().split(\",\")]\n",
    "        results.append(items)\n",
    "    "
   ]
  },
  {
   "cell_type": "code",
   "execution_count": 21,
   "metadata": {},
   "outputs": [
    {
     "data": {
      "text/plain": [
       "array([ 1494.,  1590.,  4134., 40701., 41145., 41158., 42733.])"
      ]
     },
     "execution_count": 21,
     "metadata": {},
     "output_type": "execute_result"
    }
   ],
   "source": [
    "import pandas as pd\n",
    "import numpy as np"
   ]
  },
  {
   "cell_type": "code",
   "execution_count": 22,
   "metadata": {},
   "outputs": [
    {
     "data": {
      "text/html": [
       "<div>\n",
       "<style scoped>\n",
       "    .dataframe tbody tr th:only-of-type {\n",
       "        vertical-align: middle;\n",
       "    }\n",
       "\n",
       "    .dataframe tbody tr th {\n",
       "        vertical-align: top;\n",
       "    }\n",
       "\n",
       "    .dataframe thead th {\n",
       "        text-align: right;\n",
       "    }\n",
       "</style>\n",
       "<table border=\"1\" class=\"dataframe\">\n",
       "  <thead>\n",
       "    <tr style=\"text-align: right;\">\n",
       "      <th></th>\n",
       "      <th>4</th>\n",
       "      <th>8</th>\n",
       "      <th>16</th>\n",
       "    </tr>\n",
       "  </thead>\n",
       "  <tbody>\n",
       "    <tr>\n",
       "      <th>3</th>\n",
       "      <td>NaN</td>\n",
       "      <td>NaN</td>\n",
       "      <td>NaN</td>\n",
       "    </tr>\n",
       "    <tr>\n",
       "      <th>5</th>\n",
       "      <td>NaN</td>\n",
       "      <td>NaN</td>\n",
       "      <td>NaN</td>\n",
       "    </tr>\n",
       "    <tr>\n",
       "      <th>8</th>\n",
       "      <td>NaN</td>\n",
       "      <td>NaN</td>\n",
       "      <td>NaN</td>\n",
       "    </tr>\n",
       "  </tbody>\n",
       "</table>\n",
       "</div>"
      ],
      "text/plain": [
       "    4    8    16\n",
       "3  NaN  NaN  NaN\n",
       "5  NaN  NaN  NaN\n",
       "8  NaN  NaN  NaN"
      ]
     },
     "execution_count": 22,
     "metadata": {},
     "output_type": "execute_result"
    }
   ],
   "source": [
    "\n",
    "    "
   ]
  },
  {
   "cell_type": "code",
   "execution_count": 35,
   "metadata": {},
   "outputs": [
    {
     "name": "stdout",
     "output_type": "stream",
     "text": [
      "0.825992959534213\n",
      "0.7952909849611359\n",
      "0.7670626211689527\n",
      "0.8263619309525294\n",
      "0.8328201174180787\n",
      "0.8419155435712098\n",
      "0.8237246268157756\n",
      "0.8453028608936897\n",
      "0.8463880007309461\n"
     ]
    }
   ],
   "source": [
    "dataset_ids = np.unique(np.array(results).T[0])\n",
    "max_3_4 = []\n",
    "max_3_8 = []\n",
    "max_3_16 = []\n",
    "max_5_4 = []\n",
    "max_5_8 = []\n",
    "max_5_16 = []\n",
    "max_8_4 = []\n",
    "max_8_8 = []\n",
    "max_8_16 = []\n",
    "\n",
    "for dataset_id in dataset_ids:\n",
    "    current_frame = pd.DataFrame(index = [3, 5, 8], columns = [4, 8, 16])\n",
    "\n",
    "    for result in results:\n",
    "        if result[0] == dataset_id:\n",
    "            current_frame.loc[result[1], result[2]] = result[3]\n",
    "    max_3_4.append(current_frame.loc[3, 4])\n",
    "    max_3_8.append(current_frame.loc[3, 8])\n",
    "    max_3_16.append(current_frame.loc[3, 16])\n",
    "    max_5_4.append(current_frame.loc[5, 4])\n",
    "    max_5_8.append(current_frame.loc[5, 8])\n",
    "    max_5_16.append(current_frame.loc[5, 16])\n",
    "    max_8_4.append(current_frame.loc[8, 4])\n",
    "    max_8_8.append(current_frame.loc[8, 8])\n",
    "    max_8_16.append(current_frame.loc[8, 16])\n",
    "\n",
    "print(np.mean(max_3_4))\n",
    "print(np.mean(max_3_8))\n",
    "print(np.mean(max_3_16))\n",
    "print(np.mean(max_5_4))\n",
    "print(np.mean(max_5_8))\n",
    "print(np.mean(max_5_16))\n",
    "print(np.mean(max_8_4))\n",
    "print(np.mean(max_8_8))\n",
    "print(np.mean(max_8_16))\n",
    "    #get the maximum of the current frame, and give me the row and column index\n",
    "\n",
    "            "
   ]
  },
  {
   "cell_type": "code",
   "execution_count": null,
   "metadata": {},
   "outputs": [],
   "source": []
  }
 ],
 "metadata": {
  "kernelspec": {
   "display_name": "Python 3.10.6 ('masterthesisenv': venv)",
   "language": "python",
   "name": "python3"
  },
  "language_info": {
   "codemirror_mode": {
    "name": "ipython",
    "version": 3
   },
   "file_extension": ".py",
   "mimetype": "text/x-python",
   "name": "python",
   "nbconvert_exporter": "python",
   "pygments_lexer": "ipython3",
   "version": "3.10.6"
  },
  "orig_nbformat": 4,
  "vscode": {
   "interpreter": {
    "hash": "fa1c239501b12b72b3754f84661a3db9994fa2a1e538f4c0273138e3d7831ed9"
   }
  }
 },
 "nbformat": 4,
 "nbformat_minor": 2
}
