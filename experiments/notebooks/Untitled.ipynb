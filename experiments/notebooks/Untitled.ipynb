{
 "cells": [
  {
   "cell_type": "code",
   "execution_count": 1,
   "id": "12e0dfd0",
   "metadata": {},
   "outputs": [],
   "source": [
    "import pandas as pd\n",
    "from sklearn.pipeline import Pipeline, make_pipeline\n",
    "from sklearn.model_selection import train_test_split\n",
    "import openml"
   ]
  },
  {
   "cell_type": "code",
   "execution_count": 2,
   "id": "c5d9ed51",
   "metadata": {},
   "outputs": [],
   "source": [
    "data_directory = \"../data\"\n",
    "data = pd.read_csv(f\"{data_directory}/candidate_pipelines.csv\", index_col = 0)\n",
    "good_indexes = pd.read_csv(f\"{data_directory}/good_indexes.csv\", index_col = 0).iloc[:, 0]"
   ]
  },
  {
   "cell_type": "code",
   "execution_count": 3,
   "id": "463f6b59",
   "metadata": {},
   "outputs": [],
   "source": [
    "data.drop_duplicates(inplace=True)"
   ]
  },
  {
   "cell_type": "code",
   "execution_count": 4,
   "id": "605a1aae",
   "metadata": {},
   "outputs": [],
   "source": [
    "performance_per_pipeline = pd.DataFrame(index = good_indexes, columns = data.iloc[:, 0])"
   ]
  },
  {
   "cell_type": "code",
   "execution_count": 5,
   "id": "0883d8b6",
   "metadata": {},
   "outputs": [
    {
     "data": {
      "text/plain": [
       "Index(['GaussianNB(PolynomialFeatures(RBFSampler(data, RBFSampler.gamma=0.05), PolynomialFeatures.degree=2, PolynomialFeatures.include_bias=False, PolynomialFeatures.interaction_only=False))',\n",
       "       'KNeighborsClassifier(SelectPercentile(Normalizer(data, Normalizer.norm='l2'), SelectPercentile.percentile=5, SelectPercentile.score_func=f_classif), KNeighborsClassifier.n_neighbors=17, KNeighborsClassifier.p=2, KNeighborsClassifier.weights='uniform')',\n",
       "       'KNeighborsClassifier(RobustScaler(RobustScaler(data)), KNeighborsClassifier.n_neighbors=27, KNeighborsClassifier.p=1, KNeighborsClassifier.weights='distance')',\n",
       "       'BernoulliNB(PolynomialFeatures(data, PolynomialFeatures.degree=2, PolynomialFeatures.include_bias=False, PolynomialFeatures.interaction_only=False), alpha=0.01, fit_prior=False)',\n",
       "       'ExtraTreesClassifier(data, ExtraTreesClassifier.bootstrap=True, ExtraTreesClassifier.criterion='gini', ExtraTreesClassifier.max_features=0.5, min_samples_leaf=19, min_samples_split=4, ExtraTreesClassifier.n_estimators=100)',\n",
       "       'GradientBoostingClassifier(SelectFwe(FeatureAgglomeration(data, FeatureAgglomeration.affinity='l2', FeatureAgglomeration.linkage='complete'), SelectFwe.alpha=0.013000000000000001, SelectFwe.score_func=f_classif), GradientBoostingClassifier.learning_rate=0.1, GradientBoostingClassifier.max_depth=4, GradientBoostingClassifier.max_features=0.3, GradientBoostingClassifier.min_samples_leaf=7, GradientBoostingClassifier.min_samples_split=14, GradientBoostingClassifier.n_estimators=100, GradientBoostingClassifier.subsample=0.35000000000000003)',\n",
       "       'GaussianNB(MaxAbsScaler(RobustScaler(data)))',\n",
       "       'DecisionTreeClassifier(data, DecisionTreeClassifier.criterion='entropy', DecisionTreeClassifier.max_depth=1, min_samples_leaf=10, min_samples_split=16)',\n",
       "       'MultinomialNB(data, alpha=0.01, fit_prior=False)',\n",
       "       'MultinomialNB(data, alpha=10.0, fit_prior=False)',\n",
       "       ...\n",
       "       'RandomForestClassifier(data, RandomForestClassifier.bootstrap=True, RandomForestClassifier.criterion='entropy', RandomForestClassifier.max_features=0.35000000000000003, RandomForestClassifier.min_samples_leaf=2, RandomForestClassifier.min_samples_split=11, RandomForestClassifier.n_estimators=100)',\n",
       "       'RandomForestClassifier(data, RandomForestClassifier.bootstrap=False, RandomForestClassifier.criterion='gini', RandomForestClassifier.max_features=0.4, RandomForestClassifier.min_samples_leaf=18, RandomForestClassifier.min_samples_split=14, RandomForestClassifier.n_estimators=100)',\n",
       "       'RandomForestClassifier(RobustScaler(SelectFwe(data, SelectFwe.alpha=0.009000000000000001, SelectFwe.score_func=f_classif)), RandomForestClassifier.bootstrap=False, RandomForestClassifier.criterion='gini', RandomForestClassifier.max_features=0.35000000000000003, RandomForestClassifier.min_samples_leaf=9, RandomForestClassifier.min_samples_split=15, RandomForestClassifier.n_estimators=100)',\n",
       "       'RandomForestClassifier(SelectPercentile(data, SelectPercentile.percentile=41, SelectPercentile.score_func=f_classif), RandomForestClassifier.bootstrap=False, RandomForestClassifier.criterion='entropy', RandomForestClassifier.max_features=0.35000000000000003, RandomForestClassifier.min_samples_leaf=20, RandomForestClassifier.min_samples_split=15, RandomForestClassifier.n_estimators=100)',\n",
       "       'RandomForestClassifier(data, RandomForestClassifier.bootstrap=False, RandomForestClassifier.criterion='entropy', RandomForestClassifier.max_features=0.5, RandomForestClassifier.min_samples_leaf=20, RandomForestClassifier.min_samples_split=11, RandomForestClassifier.n_estimators=100)',\n",
       "       'RandomForestClassifier(Nystroem(data, Nystroem.gamma=0.1, Nystroem.kernel='rbf', Nystroem.n_components=8), RandomForestClassifier.bootstrap=False, RandomForestClassifier.criterion='entropy', RandomForestClassifier.max_features=0.4, RandomForestClassifier.min_samples_leaf=18, RandomForestClassifier.min_samples_split=18, RandomForestClassifier.n_estimators=100)',\n",
       "       'RandomForestClassifier(MinMaxScaler(StandardScaler(data)), RandomForestClassifier.bootstrap=True, RandomForestClassifier.criterion='gini', RandomForestClassifier.max_features=0.6500000000000001, RandomForestClassifier.min_samples_leaf=2, RandomForestClassifier.min_samples_split=20, RandomForestClassifier.n_estimators=100)',\n",
       "       'ExtraTreesClassifier(data, ExtraTreesClassifier.bootstrap=False, ExtraTreesClassifier.criterion='entropy', ExtraTreesClassifier.max_features=0.9500000000000001, min_samples_leaf=5, min_samples_split=10, ExtraTreesClassifier.n_estimators=100)',\n",
       "       'RandomForestClassifier(SelectFwe(data, SelectFwe.alpha=0.009000000000000001, SelectFwe.score_func=f_classif), RandomForestClassifier.bootstrap=False, RandomForestClassifier.criterion='entropy', RandomForestClassifier.max_features=0.35000000000000003, RandomForestClassifier.min_samples_leaf=9, RandomForestClassifier.min_samples_split=4, RandomForestClassifier.n_estimators=100)',\n",
       "       'RandomForestClassifier(data, RandomForestClassifier.bootstrap=True, RandomForestClassifier.criterion='gini', RandomForestClassifier.max_features=0.35000000000000003, RandomForestClassifier.min_samples_leaf=20, RandomForestClassifier.min_samples_split=15, RandomForestClassifier.n_estimators=100)'],\n",
       "      dtype='object', name='0', length=1859)"
      ]
     },
     "execution_count": 5,
     "metadata": {},
     "output_type": "execute_result"
    }
   ],
   "source": [
    "performance_per_pipeline.columns"
   ]
  },
  {
   "cell_type": "code",
   "execution_count": 6,
   "id": "403251de",
   "metadata": {},
   "outputs": [],
   "source": [
    "from sklearn.naive_bayes import GaussianNB, BernoulliNB, MultinomialNB\n",
    "from sklearn.tree import DecisionTreeClassifier\n",
    "from sklearn.ensemble import (\n",
    "    ExtraTreesClassifier,\n",
    "    RandomForestClassifier,\n",
    "    GradientBoostingClassifier,\n",
    ")\n",
    "from sklearn.neighbors import KNeighborsClassifier\n",
    "from sklearn.svm import LinearSVC\n",
    "from sklearn.linear_model import LogisticRegression\n",
    "from sklearn.cluster import FeatureAgglomeration\n",
    "from sklearn.preprocessing import (\n",
    "    MaxAbsScaler,\n",
    "    MinMaxScaler,\n",
    "    Normalizer,\n",
    "    PolynomialFeatures,\n",
    "    RobustScaler,\n",
    "    StandardScaler,\n",
    "    Binarizer,\n",
    ")\n",
    "from sklearn.kernel_approximation import Nystroem, RBFSampler\n",
    "from sklearn.decomposition import PCA, FastICA\n",
    "from sklearn.feature_selection import (\n",
    "    SelectFwe,\n",
    "    SelectPercentile,\n",
    "    f_classif,\n",
    "    VarianceThreshold,\n",
    ")"
   ]
  },
  {
   "cell_type": "code",
   "execution_count": 7,
   "id": "f98693b0",
   "metadata": {},
   "outputs": [
    {
     "name": "stderr",
     "output_type": "stream",
     "text": [
      "/home/wichert/Master DS&AI/master_thesis/fstudy_env/lib/python3.10/site-packages/tpot/builtins/__init__.py:36: UserWarning: Warning: optional dependency `torch` is not available. - skipping import of NN models.\n",
      "  warnings.warn(\"Warning: optional dependency `torch` is not available. - skipping import of NN models.\")\n"
     ]
    }
   ],
   "source": [
    "import tpot"
   ]
  },
  {
   "cell_type": "code",
   "execution_count": 8,
   "id": "ba4d25dc",
   "metadata": {},
   "outputs": [],
   "source": [
    "# import numpy as np\n",
    "from deap import creator\n",
    "from sklearn.model_selection import cross_val_score\n",
    "from tpot.export_utils import generate_pipeline_code\n",
    "import tpot\n"
   ]
  },
  {
   "cell_type": "code",
   "execution_count": null,
   "id": "5c0db473",
   "metadata": {},
   "outputs": [],
   "source": [
    "#https://github.com/EpistasisLab/tpot/issues/516"
   ]
  },
  {
   "cell_type": "code",
   "execution_count": 9,
   "id": "fdc6b001",
   "metadata": {},
   "outputs": [],
   "source": [
    "pipeline_str = 'GaussianNB(PolynomialFeatures(RBFSampler(data, RBFSampler.gamma=0.05), PolynomialFeatures.degree=2, PolynomialFeatures.include_bias=False, PolynomialFeatures.interaction_only=False))'"
   ]
  },
  {
   "cell_type": "code",
   "execution_count": 19,
   "id": "2784ad9a",
   "metadata": {
    "scrolled": true
   },
   "outputs": [
    {
     "ename": "AttributeError",
     "evalue": "module 'tpot' has no attribute '_fit_init'",
     "output_type": "error",
     "traceback": [
      "\u001b[0;31m---------------------------------------------------------------------------\u001b[0m",
      "\u001b[0;31mAttributeError\u001b[0m                            Traceback (most recent call last)",
      "Cell \u001b[0;32mIn[19], line 1\u001b[0m\n\u001b[0;32m----> 1\u001b[0m \u001b[43mtpot\u001b[49m\u001b[38;5;241;43m.\u001b[39;49m\u001b[43m_fit_init\u001b[49m()\n",
      "\u001b[0;31mAttributeError\u001b[0m: module 'tpot' has no attribute '_fit_init'"
     ]
    }
   ],
   "source": [
    "tpot._fit_init()"
   ]
  },
  {
   "cell_type": "raw",
   "id": "16c9e7b2",
   "metadata": {},
   "source": [
    "creator.create(\"Individual\", S).from_string(pipeline_str, tpot._pset)"
   ]
  },
  {
   "cell_type": "code",
   "execution_count": 123,
   "id": "429dbc4a",
   "metadata": {},
   "outputs": [
    {
     "ename": "NameError",
     "evalue": "name 'tpot' is not defined",
     "output_type": "error",
     "traceback": [
      "\u001b[0;31m---------------------------------------------------------------------------\u001b[0m",
      "\u001b[0;31mNameError\u001b[0m                                 Traceback (most recent call last)",
      "Cell \u001b[0;32mIn[123], line 2\u001b[0m\n\u001b[1;32m      1\u001b[0m \u001b[38;5;66;03m# print part of pipeline dictionary\u001b[39;00m\n\u001b[0;32m----> 2\u001b[0m \u001b[38;5;28mprint\u001b[39m(\u001b[38;5;28mdict\u001b[39m(\u001b[38;5;28mlist\u001b[39m(\u001b[43mtpot\u001b[49m\u001b[38;5;241m.\u001b[39mevaluated_individuals_\u001b[38;5;241m.\u001b[39mitems())[\u001b[38;5;241m0\u001b[39m:\u001b[38;5;241m2\u001b[39m]))\n\u001b[1;32m      3\u001b[0m \u001b[38;5;66;03m# print a pipeline and its values\u001b[39;00m\n\u001b[1;32m      4\u001b[0m pipeline_str \u001b[38;5;241m=\u001b[39m \u001b[38;5;28mlist\u001b[39m(tpot\u001b[38;5;241m.\u001b[39mevaluated_individuals_\u001b[38;5;241m.\u001b[39mkeys())[\u001b[38;5;241m0\u001b[39m]\n",
      "\u001b[0;31mNameError\u001b[0m: name 'tpot' is not defined"
     ]
    }
   ],
   "source": [
    "\n",
    "\n",
    "# print part of pipeline dictionary\n",
    "print(dict(list(tpot.evaluated_individuals_.items())[0:2]))\n",
    "# print a pipeline and its values\n",
    "pipeline_str = list(tpot.evaluated_individuals_.keys())[0]\n",
    "print(pipeline_str)\n",
    "print(tpot.evaluated_individuals_[pipeline_str])\n",
    "for pipeline_string in sorted(tpot.evaluated_individuals_.keys()):\n",
    "    # convert pipeline string to scikit-learn pipeline object\n",
    "    deap_pipeline = creator.Individual.from_string(pipeline_string, tpot._pset)\n",
    "    sklearn_pipeline = tpot._toolbox.compile(expr=deap_pipeline)\n",
    "    # print sklearn pipeline string\n",
    "    sklearn_pipeline_str = generate_pipeline_code(expr_to_tree(deap_pipeline, tpot._pset), tpot.operators)\n",
    "    print(sklearn_pipeline_str)\n",
    "    # Fix random state when the operator allows  (optional) just for get consistent CV score \n",
    "    tpot._set_param_recursive(sklearn_pipeline.steps, 'random_state', 42)\n",
    "\n",
    "    try:\n",
    "        cv_scores = cross_val_score(sklearn_pipeline, training_features, training_target, cv=5, scoring='accuracy', verbose=0)\n",
    "        mean_cv_scores = np.mean(cv_scores)\n",
    "    except Exception as e:\n",
    "        print(e)\n",
    "        mean_cv_scores = -float('inf')\n",
    "    print(mean_cv_scores)"
   ]
  },
  {
   "cell_type": "code",
   "execution_count": 112,
   "id": "070391a1",
   "metadata": {},
   "outputs": [
    {
     "ename": "SyntaxError",
     "evalue": "expression cannot contain assignment, perhaps you meant \"==\"? (2114111181.py, line 1)",
     "output_type": "error",
     "traceback": [
      "\u001b[0;36m  Cell \u001b[0;32mIn[112], line 1\u001b[0;36m\u001b[0m\n\u001b[0;31m    GaussianNB(PolynomialFeatures(RBFSampler(data, RBFSampler.gamma=0.05), PolynomialFeatures.degree=2, PolynomialFeatures.include_bias=False, PolynomialFeatures.interaction_only=False))\u001b[0m\n\u001b[0m                                                   ^\u001b[0m\n\u001b[0;31mSyntaxError\u001b[0m\u001b[0;31m:\u001b[0m expression cannot contain assignment, perhaps you meant \"==\"?\n"
     ]
    }
   ],
   "source": [
    "GaussianNB(PolynomialFeatures(RBFSampler(data, RBFSampler.gamma=0.05), PolynomialFeatures.degree=2, PolynomialFeatures.include_bias=False, PolynomialFeatures.interaction_only=False))"
   ]
  },
  {
   "cell_type": "code",
   "execution_count": 107,
   "id": "193c36db",
   "metadata": {},
   "outputs": [
    {
     "data": {
      "text/html": [
       "<style>#sk-container-id-8 {color: black;background-color: white;}#sk-container-id-8 pre{padding: 0;}#sk-container-id-8 div.sk-toggleable {background-color: white;}#sk-container-id-8 label.sk-toggleable__label {cursor: pointer;display: block;width: 100%;margin-bottom: 0;padding: 0.3em;box-sizing: border-box;text-align: center;}#sk-container-id-8 label.sk-toggleable__label-arrow:before {content: \"▸\";float: left;margin-right: 0.25em;color: #696969;}#sk-container-id-8 label.sk-toggleable__label-arrow:hover:before {color: black;}#sk-container-id-8 div.sk-estimator:hover label.sk-toggleable__label-arrow:before {color: black;}#sk-container-id-8 div.sk-toggleable__content {max-height: 0;max-width: 0;overflow: hidden;text-align: left;background-color: #f0f8ff;}#sk-container-id-8 div.sk-toggleable__content pre {margin: 0.2em;color: black;border-radius: 0.25em;background-color: #f0f8ff;}#sk-container-id-8 input.sk-toggleable__control:checked~div.sk-toggleable__content {max-height: 200px;max-width: 100%;overflow: auto;}#sk-container-id-8 input.sk-toggleable__control:checked~label.sk-toggleable__label-arrow:before {content: \"▾\";}#sk-container-id-8 div.sk-estimator input.sk-toggleable__control:checked~label.sk-toggleable__label {background-color: #d4ebff;}#sk-container-id-8 div.sk-label input.sk-toggleable__control:checked~label.sk-toggleable__label {background-color: #d4ebff;}#sk-container-id-8 input.sk-hidden--visually {border: 0;clip: rect(1px 1px 1px 1px);clip: rect(1px, 1px, 1px, 1px);height: 1px;margin: -1px;overflow: hidden;padding: 0;position: absolute;width: 1px;}#sk-container-id-8 div.sk-estimator {font-family: monospace;background-color: #f0f8ff;border: 1px dotted black;border-radius: 0.25em;box-sizing: border-box;margin-bottom: 0.5em;}#sk-container-id-8 div.sk-estimator:hover {background-color: #d4ebff;}#sk-container-id-8 div.sk-parallel-item::after {content: \"\";width: 100%;border-bottom: 1px solid gray;flex-grow: 1;}#sk-container-id-8 div.sk-label:hover label.sk-toggleable__label {background-color: #d4ebff;}#sk-container-id-8 div.sk-serial::before {content: \"\";position: absolute;border-left: 1px solid gray;box-sizing: border-box;top: 0;bottom: 0;left: 50%;z-index: 0;}#sk-container-id-8 div.sk-serial {display: flex;flex-direction: column;align-items: center;background-color: white;padding-right: 0.2em;padding-left: 0.2em;position: relative;}#sk-container-id-8 div.sk-item {position: relative;z-index: 1;}#sk-container-id-8 div.sk-parallel {display: flex;align-items: stretch;justify-content: center;background-color: white;position: relative;}#sk-container-id-8 div.sk-item::before, #sk-container-id-8 div.sk-parallel-item::before {content: \"\";position: absolute;border-left: 1px solid gray;box-sizing: border-box;top: 0;bottom: 0;left: 50%;z-index: -1;}#sk-container-id-8 div.sk-parallel-item {display: flex;flex-direction: column;z-index: 1;position: relative;background-color: white;}#sk-container-id-8 div.sk-parallel-item:first-child::after {align-self: flex-end;width: 50%;}#sk-container-id-8 div.sk-parallel-item:last-child::after {align-self: flex-start;width: 50%;}#sk-container-id-8 div.sk-parallel-item:only-child::after {width: 0;}#sk-container-id-8 div.sk-dashed-wrapped {border: 1px dashed gray;margin: 0 0.4em 0.5em 0.4em;box-sizing: border-box;padding-bottom: 0.4em;background-color: white;}#sk-container-id-8 div.sk-label label {font-family: monospace;font-weight: bold;display: inline-block;line-height: 1.2em;}#sk-container-id-8 div.sk-label-container {text-align: center;}#sk-container-id-8 div.sk-container {/* jupyter's `normalize.less` sets `[hidden] { display: none; }` but bootstrap.min.css set `[hidden] { display: none !important; }` so we also need the `!important` here to be able to override the default hidden behavior on the sphinx rendered scikit-learn.org. See: https://github.com/scikit-learn/scikit-learn/issues/21755 */display: inline-block !important;position: relative;}#sk-container-id-8 div.sk-text-repr-fallback {display: none;}</style><div id=\"sk-container-id-8\" class=\"sk-top-container\"><div class=\"sk-text-repr-fallback\"><pre>Pipeline(steps=&#x27;GaussianNB(PolynomialFeatures(RBFSampler(data, &#x27;\n",
       "               &#x27;RBFSampler.gamma=0.05), PolynomialFeatures.degree=2, &#x27;\n",
       "               &#x27;PolynomialFeatures.include_bias=False, &#x27;\n",
       "               &#x27;PolynomialFeatures.interaction_only=False&#x27;)</pre><b>In a Jupyter environment, please rerun this cell to show the HTML representation or trust the notebook. <br />On GitHub, the HTML representation is unable to render, please try loading this page with nbviewer.org.</b></div><div class=\"sk-container\" hidden><div class=\"sk-item\"><div class=\"sk-estimator sk-toggleable\"><input class=\"sk-toggleable__control sk-hidden--visually\" id=\"sk-estimator-id-8\" type=\"checkbox\" checked><label for=\"sk-estimator-id-8\" class=\"sk-toggleable__label sk-toggleable__label-arrow\">Pipeline</label><div class=\"sk-toggleable__content\"><pre>Pipeline(steps=&#x27;GaussianNB(PolynomialFeatures(RBFSampler(data, &#x27;\n",
       "               &#x27;RBFSampler.gamma=0.05), PolynomialFeatures.degree=2, &#x27;\n",
       "               &#x27;PolynomialFeatures.include_bias=False, &#x27;\n",
       "               &#x27;PolynomialFeatures.interaction_only=False&#x27;)</pre></div></div></div></div></div>"
      ],
      "text/plain": [
       "Pipeline(steps='GaussianNB(PolynomialFeatures(RBFSampler(data, '\n",
       "               'RBFSampler.gamma=0.05), PolynomialFeatures.degree=2, '\n",
       "               'PolynomialFeatures.include_bias=False, '\n",
       "               'PolynomialFeatures.interaction_only=False')"
      ]
     },
     "execution_count": 107,
     "metadata": {},
     "output_type": "execute_result"
    }
   ],
   "source": [
    "pipe"
   ]
  },
  {
   "cell_type": "code",
   "execution_count": 103,
   "id": "aaf6841d",
   "metadata": {},
   "outputs": [
    {
     "ename": "TypeError",
     "evalue": "cannot unpack non-iterable GaussianNB object",
     "output_type": "error",
     "traceback": [
      "\u001b[0;31m---------------------------------------------------------------------------\u001b[0m",
      "\u001b[0;31mTypeError\u001b[0m                                 Traceback (most recent call last)",
      "Cell \u001b[0;32mIn[103], line 1\u001b[0m\n\u001b[0;32m----> 1\u001b[0m \u001b[43mpipeline\u001b[49m\u001b[38;5;241;43m.\u001b[39;49m\u001b[43mfit\u001b[49m\u001b[43m(\u001b[49m\u001b[43mX_train\u001b[49m\u001b[43m,\u001b[49m\u001b[43m \u001b[49m\u001b[43my_train\u001b[49m\u001b[43m)\u001b[49m\n",
      "File \u001b[0;32m~/Master DS&AI/master_thesis/fstudy_env/lib/python3.10/site-packages/sklearn/pipeline.py:401\u001b[0m, in \u001b[0;36mPipeline.fit\u001b[0;34m(self, X, y, **fit_params)\u001b[0m\n\u001b[1;32m    375\u001b[0m \u001b[38;5;28;01mdef\u001b[39;00m \u001b[38;5;21mfit\u001b[39m(\u001b[38;5;28mself\u001b[39m, X, y\u001b[38;5;241m=\u001b[39m\u001b[38;5;28;01mNone\u001b[39;00m, \u001b[38;5;241m*\u001b[39m\u001b[38;5;241m*\u001b[39mfit_params):\n\u001b[1;32m    376\u001b[0m     \u001b[38;5;124;03m\"\"\"Fit the model.\u001b[39;00m\n\u001b[1;32m    377\u001b[0m \n\u001b[1;32m    378\u001b[0m \u001b[38;5;124;03m    Fit all the transformers one after the other and transform the\u001b[39;00m\n\u001b[0;32m   (...)\u001b[0m\n\u001b[1;32m    399\u001b[0m \u001b[38;5;124;03m        Pipeline with fitted steps.\u001b[39;00m\n\u001b[1;32m    400\u001b[0m \u001b[38;5;124;03m    \"\"\"\u001b[39;00m\n\u001b[0;32m--> 401\u001b[0m     fit_params_steps \u001b[38;5;241m=\u001b[39m \u001b[38;5;28;43mself\u001b[39;49m\u001b[38;5;241;43m.\u001b[39;49m\u001b[43m_check_fit_params\u001b[49m\u001b[43m(\u001b[49m\u001b[38;5;241;43m*\u001b[39;49m\u001b[38;5;241;43m*\u001b[39;49m\u001b[43mfit_params\u001b[49m\u001b[43m)\u001b[49m\n\u001b[1;32m    402\u001b[0m     Xt \u001b[38;5;241m=\u001b[39m \u001b[38;5;28mself\u001b[39m\u001b[38;5;241m.\u001b[39m_fit(X, y, \u001b[38;5;241m*\u001b[39m\u001b[38;5;241m*\u001b[39mfit_params_steps)\n\u001b[1;32m    403\u001b[0m     \u001b[38;5;28;01mwith\u001b[39;00m _print_elapsed_time(\u001b[38;5;124m\"\u001b[39m\u001b[38;5;124mPipeline\u001b[39m\u001b[38;5;124m\"\u001b[39m, \u001b[38;5;28mself\u001b[39m\u001b[38;5;241m.\u001b[39m_log_message(\u001b[38;5;28mlen\u001b[39m(\u001b[38;5;28mself\u001b[39m\u001b[38;5;241m.\u001b[39msteps) \u001b[38;5;241m-\u001b[39m \u001b[38;5;241m1\u001b[39m)):\n",
      "File \u001b[0;32m~/Master DS&AI/master_thesis/fstudy_env/lib/python3.10/site-packages/sklearn/pipeline.py:321\u001b[0m, in \u001b[0;36mPipeline._check_fit_params\u001b[0;34m(self, **fit_params)\u001b[0m\n\u001b[1;32m    320\u001b[0m \u001b[38;5;28;01mdef\u001b[39;00m \u001b[38;5;21m_check_fit_params\u001b[39m(\u001b[38;5;28mself\u001b[39m, \u001b[38;5;241m*\u001b[39m\u001b[38;5;241m*\u001b[39mfit_params):\n\u001b[0;32m--> 321\u001b[0m     fit_params_steps \u001b[38;5;241m=\u001b[39m {name: {} \u001b[38;5;28;01mfor\u001b[39;00m name, step \u001b[38;5;129;01min\u001b[39;00m \u001b[38;5;28mself\u001b[39m\u001b[38;5;241m.\u001b[39msteps \u001b[38;5;28;01mif\u001b[39;00m step \u001b[38;5;129;01mis\u001b[39;00m \u001b[38;5;129;01mnot\u001b[39;00m \u001b[38;5;28;01mNone\u001b[39;00m}\n\u001b[1;32m    322\u001b[0m     \u001b[38;5;28;01mfor\u001b[39;00m pname, pval \u001b[38;5;129;01min\u001b[39;00m fit_params\u001b[38;5;241m.\u001b[39mitems():\n\u001b[1;32m    323\u001b[0m         \u001b[38;5;28;01mif\u001b[39;00m \u001b[38;5;124m\"\u001b[39m\u001b[38;5;124m__\u001b[39m\u001b[38;5;124m\"\u001b[39m \u001b[38;5;129;01mnot\u001b[39;00m \u001b[38;5;129;01min\u001b[39;00m pname:\n",
      "File \u001b[0;32m~/Master DS&AI/master_thesis/fstudy_env/lib/python3.10/site-packages/sklearn/pipeline.py:321\u001b[0m, in \u001b[0;36m<dictcomp>\u001b[0;34m(.0)\u001b[0m\n\u001b[1;32m    320\u001b[0m \u001b[38;5;28;01mdef\u001b[39;00m \u001b[38;5;21m_check_fit_params\u001b[39m(\u001b[38;5;28mself\u001b[39m, \u001b[38;5;241m*\u001b[39m\u001b[38;5;241m*\u001b[39mfit_params):\n\u001b[0;32m--> 321\u001b[0m     fit_params_steps \u001b[38;5;241m=\u001b[39m {name: {} \u001b[38;5;28;01mfor\u001b[39;00m name, step \u001b[38;5;129;01min\u001b[39;00m \u001b[38;5;28mself\u001b[39m\u001b[38;5;241m.\u001b[39msteps \u001b[38;5;28;01mif\u001b[39;00m step \u001b[38;5;129;01mis\u001b[39;00m \u001b[38;5;129;01mnot\u001b[39;00m \u001b[38;5;28;01mNone\u001b[39;00m}\n\u001b[1;32m    322\u001b[0m     \u001b[38;5;28;01mfor\u001b[39;00m pname, pval \u001b[38;5;129;01min\u001b[39;00m fit_params\u001b[38;5;241m.\u001b[39mitems():\n\u001b[1;32m    323\u001b[0m         \u001b[38;5;28;01mif\u001b[39;00m \u001b[38;5;124m\"\u001b[39m\u001b[38;5;124m__\u001b[39m\u001b[38;5;124m\"\u001b[39m \u001b[38;5;129;01mnot\u001b[39;00m \u001b[38;5;129;01min\u001b[39;00m pname:\n",
      "\u001b[0;31mTypeError\u001b[0m: cannot unpack non-iterable GaussianNB object"
     ]
    }
   ],
   "source": [
    "pipeline.fit(X_train, y_train)"
   ]
  },
  {
   "cell_type": "code",
   "execution_count": 90,
   "id": "83643505",
   "metadata": {},
   "outputs": [],
   "source": [
    "dataset = openml.datasets.get_dataset(2)"
   ]
  },
  {
   "cell_type": "code",
   "execution_count": 91,
   "id": "6ccf0c50",
   "metadata": {},
   "outputs": [],
   "source": [
    "X, y, _, _ = dataset.get_data(dataset_format=\"dataframe\", target = dataset.default_target_attribute)\n",
    "X_train, X_test, y_train, y_test = train_test_split(X, y, stratify=y, random_state=0)"
   ]
  },
  {
   "cell_type": "code",
   "execution_count": 92,
   "id": "f4fb54cf",
   "metadata": {},
   "outputs": [
    {
     "data": {
      "text/html": [
       "<style>#sk-container-id-5 {color: black;background-color: white;}#sk-container-id-5 pre{padding: 0;}#sk-container-id-5 div.sk-toggleable {background-color: white;}#sk-container-id-5 label.sk-toggleable__label {cursor: pointer;display: block;width: 100%;margin-bottom: 0;padding: 0.3em;box-sizing: border-box;text-align: center;}#sk-container-id-5 label.sk-toggleable__label-arrow:before {content: \"▸\";float: left;margin-right: 0.25em;color: #696969;}#sk-container-id-5 label.sk-toggleable__label-arrow:hover:before {color: black;}#sk-container-id-5 div.sk-estimator:hover label.sk-toggleable__label-arrow:before {color: black;}#sk-container-id-5 div.sk-toggleable__content {max-height: 0;max-width: 0;overflow: hidden;text-align: left;background-color: #f0f8ff;}#sk-container-id-5 div.sk-toggleable__content pre {margin: 0.2em;color: black;border-radius: 0.25em;background-color: #f0f8ff;}#sk-container-id-5 input.sk-toggleable__control:checked~div.sk-toggleable__content {max-height: 200px;max-width: 100%;overflow: auto;}#sk-container-id-5 input.sk-toggleable__control:checked~label.sk-toggleable__label-arrow:before {content: \"▾\";}#sk-container-id-5 div.sk-estimator input.sk-toggleable__control:checked~label.sk-toggleable__label {background-color: #d4ebff;}#sk-container-id-5 div.sk-label input.sk-toggleable__control:checked~label.sk-toggleable__label {background-color: #d4ebff;}#sk-container-id-5 input.sk-hidden--visually {border: 0;clip: rect(1px 1px 1px 1px);clip: rect(1px, 1px, 1px, 1px);height: 1px;margin: -1px;overflow: hidden;padding: 0;position: absolute;width: 1px;}#sk-container-id-5 div.sk-estimator {font-family: monospace;background-color: #f0f8ff;border: 1px dotted black;border-radius: 0.25em;box-sizing: border-box;margin-bottom: 0.5em;}#sk-container-id-5 div.sk-estimator:hover {background-color: #d4ebff;}#sk-container-id-5 div.sk-parallel-item::after {content: \"\";width: 100%;border-bottom: 1px solid gray;flex-grow: 1;}#sk-container-id-5 div.sk-label:hover label.sk-toggleable__label {background-color: #d4ebff;}#sk-container-id-5 div.sk-serial::before {content: \"\";position: absolute;border-left: 1px solid gray;box-sizing: border-box;top: 0;bottom: 0;left: 50%;z-index: 0;}#sk-container-id-5 div.sk-serial {display: flex;flex-direction: column;align-items: center;background-color: white;padding-right: 0.2em;padding-left: 0.2em;position: relative;}#sk-container-id-5 div.sk-item {position: relative;z-index: 1;}#sk-container-id-5 div.sk-parallel {display: flex;align-items: stretch;justify-content: center;background-color: white;position: relative;}#sk-container-id-5 div.sk-item::before, #sk-container-id-5 div.sk-parallel-item::before {content: \"\";position: absolute;border-left: 1px solid gray;box-sizing: border-box;top: 0;bottom: 0;left: 50%;z-index: -1;}#sk-container-id-5 div.sk-parallel-item {display: flex;flex-direction: column;z-index: 1;position: relative;background-color: white;}#sk-container-id-5 div.sk-parallel-item:first-child::after {align-self: flex-end;width: 50%;}#sk-container-id-5 div.sk-parallel-item:last-child::after {align-self: flex-start;width: 50%;}#sk-container-id-5 div.sk-parallel-item:only-child::after {width: 0;}#sk-container-id-5 div.sk-dashed-wrapped {border: 1px dashed gray;margin: 0 0.4em 0.5em 0.4em;box-sizing: border-box;padding-bottom: 0.4em;background-color: white;}#sk-container-id-5 div.sk-label label {font-family: monospace;font-weight: bold;display: inline-block;line-height: 1.2em;}#sk-container-id-5 div.sk-label-container {text-align: center;}#sk-container-id-5 div.sk-container {/* jupyter's `normalize.less` sets `[hidden] { display: none; }` but bootstrap.min.css set `[hidden] { display: none !important; }` so we also need the `!important` here to be able to override the default hidden behavior on the sphinx rendered scikit-learn.org. See: https://github.com/scikit-learn/scikit-learn/issues/21755 */display: inline-block !important;position: relative;}#sk-container-id-5 div.sk-text-repr-fallback {display: none;}</style><div id=\"sk-container-id-5\" class=\"sk-top-container\"><div class=\"sk-text-repr-fallback\"><pre>Pipeline(steps=[GaussianNB(),\n",
       "                PolynomialFeatures(degree=RBFSampler(gamma=0.05),\n",
       "                                   include_bias=False)])</pre><b>In a Jupyter environment, please rerun this cell to show the HTML representation or trust the notebook. <br />On GitHub, the HTML representation is unable to render, please try loading this page with nbviewer.org.</b></div><div class=\"sk-container\" hidden><div class=\"sk-item\"><div class=\"sk-estimator sk-toggleable\"><input class=\"sk-toggleable__control sk-hidden--visually\" id=\"sk-estimator-id-5\" type=\"checkbox\" checked><label for=\"sk-estimator-id-5\" class=\"sk-toggleable__label sk-toggleable__label-arrow\">Pipeline</label><div class=\"sk-toggleable__content\"><pre>Pipeline(steps=[GaussianNB(),\n",
       "                PolynomialFeatures(degree=RBFSampler(gamma=0.05),\n",
       "                                   include_bias=False)])</pre></div></div></div></div></div>"
      ],
      "text/plain": [
       "Pipeline(steps=[GaussianNB(),\n",
       "                PolynomialFeatures(degree=RBFSampler(gamma=0.05),\n",
       "                                   include_bias=False)])"
      ]
     },
     "execution_count": 92,
     "metadata": {},
     "output_type": "execute_result"
    }
   ],
   "source": [
    "pipeline"
   ]
  },
  {
   "cell_type": "code",
   "execution_count": 96,
   "id": "0e038a3b",
   "metadata": {},
   "outputs": [
    {
     "data": {
      "text/plain": [
       "'GaussianNB(PolynomialFeatures(RBFSampler(data, RBFSampler.gamma=0.05), PolynomialFeatures.degree=2, PolynomialFeatures.include_bias=False, PolynomialFeatures.interaction_only=False'"
      ]
     },
     "execution_count": 96,
     "metadata": {},
     "output_type": "execute_result"
    }
   ],
   "source": [
    "pipe.steps"
   ]
  },
  {
   "cell_type": "code",
   "execution_count": null,
   "id": "5d7368c5",
   "metadata": {},
   "outputs": [],
   "source": []
  }
 ],
 "metadata": {
  "kernelspec": {
   "display_name": "Python 3 (ipykernel)",
   "language": "python",
   "name": "python3"
  },
  "language_info": {
   "codemirror_mode": {
    "name": "ipython",
    "version": 3
   },
   "file_extension": ".py",
   "mimetype": "text/x-python",
   "name": "python",
   "nbconvert_exporter": "python",
   "pygments_lexer": "ipython3",
   "version": "3.10.6"
  }
 },
 "nbformat": 4,
 "nbformat_minor": 5
}
