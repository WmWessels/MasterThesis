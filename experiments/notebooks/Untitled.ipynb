{
 "cells": [
  {
   "cell_type": "code",
   "execution_count": null,
   "id": "12e0dfd0",
   "metadata": {},
   "outputs": [],
   "source": [
    "import pandas as pd\n",
    "from sklearn.pipeline import Pipeline, make_pipeline\n",
    "from sklearn.model_selection import train_test_split\n",
    "import openml"
   ]
  },
  {
   "cell_type": "code",
   "execution_count": 2,
   "id": "c5d9ed51",
   "metadata": {},
   "outputs": [],
   "source": [
    "data_directory = \"../data\"\n",
    "data = pd.read_csv(f\"{data_directory}/candidate_pipelines.csv\", index_col = 0)\n",
    "good_indexes = pd.read_csv(f\"{data_directory}/good_indexes.csv\", index_col = 0).iloc[:, 0]"
   ]
  },
  {
   "cell_type": "code",
   "execution_count": 3,
   "id": "463f6b59",
   "metadata": {},
   "outputs": [],
   "source": [
    "data.drop_duplicates(inplace=True)"
   ]
  },
  {
   "cell_type": "code",
   "execution_count": 4,
   "id": "605a1aae",
   "metadata": {},
   "outputs": [],
   "source": [
    "performance_per_pipeline = pd.DataFrame(index = good_indexes, columns = data.iloc[:, 0])"
   ]
  },
  {
   "cell_type": "code",
   "execution_count": 5,
   "id": "0883d8b6",
   "metadata": {},
   "outputs": [
    {
     "data": {
      "text/plain": [
       "Index(['GaussianNB(PolynomialFeatures(RBFSampler(data, RBFSampler.gamma=0.05), PolynomialFeatures.degree=2, PolynomialFeatures.include_bias=False, PolynomialFeatures.interaction_only=False))',\n",
       "       'KNeighborsClassifier(SelectPercentile(Normalizer(data, Normalizer.norm='l2'), SelectPercentile.percentile=5, SelectPercentile.score_func=f_classif), KNeighborsClassifier.n_neighbors=17, KNeighborsClassifier.p=2, KNeighborsClassifier.weights='uniform')',\n",
       "       'KNeighborsClassifier(RobustScaler(RobustScaler(data)), KNeighborsClassifier.n_neighbors=27, KNeighborsClassifier.p=1, KNeighborsClassifier.weights='distance')',\n",
       "       'BernoulliNB(PolynomialFeatures(data, PolynomialFeatures.degree=2, PolynomialFeatures.include_bias=False, PolynomialFeatures.interaction_only=False), alpha=0.01, fit_prior=False)',\n",
       "       'ExtraTreesClassifier(data, ExtraTreesClassifier.bootstrap=True, ExtraTreesClassifier.criterion='gini', ExtraTreesClassifier.max_features=0.5, min_samples_leaf=19, min_samples_split=4, ExtraTreesClassifier.n_estimators=100)',\n",
       "       'GradientBoostingClassifier(SelectFwe(FeatureAgglomeration(data, FeatureAgglomeration.affinity='l2', FeatureAgglomeration.linkage='complete'), SelectFwe.alpha=0.013000000000000001, SelectFwe.score_func=f_classif), GradientBoostingClassifier.learning_rate=0.1, GradientBoostingClassifier.max_depth=4, GradientBoostingClassifier.max_features=0.3, GradientBoostingClassifier.min_samples_leaf=7, GradientBoostingClassifier.min_samples_split=14, GradientBoostingClassifier.n_estimators=100, GradientBoostingClassifier.subsample=0.35000000000000003)',\n",
       "       'GaussianNB(MaxAbsScaler(RobustScaler(data)))',\n",
       "       'DecisionTreeClassifier(data, DecisionTreeClassifier.criterion='entropy', DecisionTreeClassifier.max_depth=1, min_samples_leaf=10, min_samples_split=16)',\n",
       "       'MultinomialNB(data, alpha=0.01, fit_prior=False)',\n",
       "       'MultinomialNB(data, alpha=10.0, fit_prior=False)',\n",
       "       ...\n",
       "       'RandomForestClassifier(data, RandomForestClassifier.bootstrap=True, RandomForestClassifier.criterion='entropy', RandomForestClassifier.max_features=0.35000000000000003, RandomForestClassifier.min_samples_leaf=2, RandomForestClassifier.min_samples_split=11, RandomForestClassifier.n_estimators=100)',\n",
       "       'RandomForestClassifier(data, RandomForestClassifier.bootstrap=False, RandomForestClassifier.criterion='gini', RandomForestClassifier.max_features=0.4, RandomForestClassifier.min_samples_leaf=18, RandomForestClassifier.min_samples_split=14, RandomForestClassifier.n_estimators=100)',\n",
       "       'RandomForestClassifier(RobustScaler(SelectFwe(data, SelectFwe.alpha=0.009000000000000001, SelectFwe.score_func=f_classif)), RandomForestClassifier.bootstrap=False, RandomForestClassifier.criterion='gini', RandomForestClassifier.max_features=0.35000000000000003, RandomForestClassifier.min_samples_leaf=9, RandomForestClassifier.min_samples_split=15, RandomForestClassifier.n_estimators=100)',\n",
       "       'RandomForestClassifier(SelectPercentile(data, SelectPercentile.percentile=41, SelectPercentile.score_func=f_classif), RandomForestClassifier.bootstrap=False, RandomForestClassifier.criterion='entropy', RandomForestClassifier.max_features=0.35000000000000003, RandomForestClassifier.min_samples_leaf=20, RandomForestClassifier.min_samples_split=15, RandomForestClassifier.n_estimators=100)',\n",
       "       'RandomForestClassifier(data, RandomForestClassifier.bootstrap=False, RandomForestClassifier.criterion='entropy', RandomForestClassifier.max_features=0.5, RandomForestClassifier.min_samples_leaf=20, RandomForestClassifier.min_samples_split=11, RandomForestClassifier.n_estimators=100)',\n",
       "       'RandomForestClassifier(Nystroem(data, Nystroem.gamma=0.1, Nystroem.kernel='rbf', Nystroem.n_components=8), RandomForestClassifier.bootstrap=False, RandomForestClassifier.criterion='entropy', RandomForestClassifier.max_features=0.4, RandomForestClassifier.min_samples_leaf=18, RandomForestClassifier.min_samples_split=18, RandomForestClassifier.n_estimators=100)',\n",
       "       'RandomForestClassifier(MinMaxScaler(StandardScaler(data)), RandomForestClassifier.bootstrap=True, RandomForestClassifier.criterion='gini', RandomForestClassifier.max_features=0.6500000000000001, RandomForestClassifier.min_samples_leaf=2, RandomForestClassifier.min_samples_split=20, RandomForestClassifier.n_estimators=100)',\n",
       "       'ExtraTreesClassifier(data, ExtraTreesClassifier.bootstrap=False, ExtraTreesClassifier.criterion='entropy', ExtraTreesClassifier.max_features=0.9500000000000001, min_samples_leaf=5, min_samples_split=10, ExtraTreesClassifier.n_estimators=100)',\n",
       "       'RandomForestClassifier(SelectFwe(data, SelectFwe.alpha=0.009000000000000001, SelectFwe.score_func=f_classif), RandomForestClassifier.bootstrap=False, RandomForestClassifier.criterion='entropy', RandomForestClassifier.max_features=0.35000000000000003, RandomForestClassifier.min_samples_leaf=9, RandomForestClassifier.min_samples_split=4, RandomForestClassifier.n_estimators=100)',\n",
       "       'RandomForestClassifier(data, RandomForestClassifier.bootstrap=True, RandomForestClassifier.criterion='gini', RandomForestClassifier.max_features=0.35000000000000003, RandomForestClassifier.min_samples_leaf=20, RandomForestClassifier.min_samples_split=15, RandomForestClassifier.n_estimators=100)'],\n",
       "      dtype='object', name='0', length=1859)"
      ]
     },
     "execution_count": 5,
     "metadata": {},
     "output_type": "execute_result"
    }
   ],
   "source": [
    "performance_per_pipeline.columns"
   ]
  },
  {
   "cell_type": "code",
   "execution_count": 6,
   "id": "403251de",
   "metadata": {},
   "outputs": [],
   "source": [
    "from sklearn.naive_bayes import GaussianNB, BernoulliNB, MultinomialNB\n",
    "from sklearn.tree import DecisionTreeClassifier\n",
    "from sklearn.ensemble import (\n",
    "    ExtraTreesClassifier,\n",
    "    RandomForestClassifier,\n",
    "    GradientBoostingClassifier,\n",
    ")\n",
    "from sklearn.neighbors import KNeighborsClassifier\n",
    "from sklearn.svm import LinearSVC\n",
    "from sklearn.linear_model import LogisticRegression\n",
    "from sklearn.cluster import FeatureAgglomeration\n",
    "from sklearn.preprocessing import (\n",
    "    MaxAbsScaler,\n",
    "    MinMaxScaler,\n",
    "    Normalizer,\n",
    "    PolynomialFeatures,\n",
    "    RobustScaler,\n",
    "    StandardScaler,\n",
    "    Binarizer,\n",
    ")\n",
    "from sklearn.kernel_approximation import Nystroem, RBFSampler\n",
    "from sklearn.decomposition import PCA, FastICA\n",
    "from sklearn.feature_selection import (\n",
    "    SelectFwe,\n",
    "    SelectPercentile,\n",
    "    f_classif,\n",
    "    VarianceThreshold,\n",
    ")"
   ]
  }
 ],
 "metadata": {
  "kernelspec": {
   "display_name": "Python 3",
   "language": "python",
   "name": "python3"
  },
  "language_info": {
   "codemirror_mode": {
    "name": "ipython",
    "version": 3
   },
   "file_extension": ".py",
   "mimetype": "text/x-python",
   "name": "python",
   "nbconvert_exporter": "python",
   "pygments_lexer": "ipython3",
   "version": "3.9.13 (tags/v3.9.13:6de2ca5, May 17 2022, 16:36:42) [MSC v.1929 64 bit (AMD64)]"
  },
  "vscode": {
   "interpreter": {
    "hash": "37a3248562db7c9f934120f4d67b9b2ffa0ab0a05e1e47bb4bee18250f9768e4"
   }
  }
 },
 "nbformat": 4,
 "nbformat_minor": 5
}
