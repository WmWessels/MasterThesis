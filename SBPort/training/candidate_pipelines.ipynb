{
 "cells": [
  {
   "cell_type": "code",
   "execution_count": 2,
   "metadata": {},
   "outputs": [],
   "source": [
    "import pandas as pd\n",
    "import os\n",
    "from pathlib import Path\n"
   ]
  },
  {
   "cell_type": "code",
   "execution_count": 3,
   "metadata": {},
   "outputs": [],
   "source": [
    "def format_tuple(x):\n",
    "    try:\n",
    "        return eval(x)[0]\n",
    "    except:\n",
    "        return None"
   ]
  },
  {
   "cell_type": "code",
   "execution_count": 4,
   "metadata": {},
   "outputs": [],
   "source": [
    "from gama import GamaClassifier\n",
    "from gama.genetic_programming.components import Individual\n",
    "from sklearn.impute import SimpleImputer\n",
    "\n",
    "clf = GamaClassifier(max_total_time=3, store = 'nothing')\n",
    "\n",
    "def convert_str_to_pipeline(pipeline_str: str):\n",
    "    \n",
    "    individual = Individual.from_string(\n",
    "        pipeline_str,\n",
    "        clf._pset,\n",
    "        clf._operator_set._compile\n",
    "    )\n",
    "    pipeline = individual.pipeline\n",
    "    pipeline.steps.insert(0, ('imputation', SimpleImputer(strategy='median')))\n",
    "    pipeline_as_str = f\"{pipeline}\".replace(\" \", \"\").replace(\"\\n\", \"\")\n",
    "\n",
    "    return pipeline_as_str"
   ]
  },
  {
   "cell_type": "code",
   "execution_count": 5,
   "metadata": {},
   "outputs": [],
   "source": [
    "def pipeline_str_to_sklearn_format(pipeline_str: str):\n",
    "    if pipeline_str.startswith(\"Pipeline\"):\n",
    "        return pipeline_str\n",
    "    else:\n",
    "        return convert_str_to_pipeline(pipeline_str)\n",
    "    "
   ]
  },
  {
   "cell_type": "code",
   "execution_count": 7,
   "metadata": {},
   "outputs": [
    {
     "ename": "FileNotFoundError",
     "evalue": "[Errno 2] No such file or directory: '/home/wichert/Master DS&AI/master_thesis/src/logs/binary'",
     "output_type": "error",
     "traceback": [
      "\u001b[0;31m---------------------------------------------------------------------------\u001b[0m",
      "\u001b[0;31mFileNotFoundError\u001b[0m                         Traceback (most recent call last)",
      "Cell \u001b[0;32mIn[7], line 5\u001b[0m\n\u001b[1;32m      2\u001b[0m log_path \u001b[39m=\u001b[39m Path(parent_dir \u001b[39m+\u001b[39m \u001b[39m\"\u001b[39m\u001b[39m/src/logs/binary\u001b[39m\u001b[39m\"\u001b[39m)\n\u001b[1;32m      3\u001b[0m candidates \u001b[39m=\u001b[39m \u001b[39mset\u001b[39m()\n\u001b[0;32m----> 5\u001b[0m \u001b[39mfor\u001b[39;00m folder \u001b[39min\u001b[39;00m log_path\u001b[39m.\u001b[39miterdir():\n\u001b[1;32m      6\u001b[0m \n\u001b[1;32m      7\u001b[0m     \u001b[39m#get the digits from the folder name at the end\u001b[39;00m\n\u001b[1;32m      8\u001b[0m     dataset_id \u001b[39m=\u001b[39m \u001b[39mstr\u001b[39m(folder)\u001b[39m.\u001b[39msplit(\u001b[39m\"\u001b[39m\u001b[39m_\u001b[39m\u001b[39m\"\u001b[39m)[\u001b[39m-\u001b[39m\u001b[39m1\u001b[39m]\n\u001b[1;32m      9\u001b[0m     current_log \u001b[39m=\u001b[39m pd\u001b[39m.\u001b[39mread_csv(\u001b[39mf\u001b[39m\u001b[39m\"\u001b[39m\u001b[39m{\u001b[39;00mfolder\u001b[39m}\u001b[39;00m\u001b[39m/evaluations.log\u001b[39m\u001b[39m\"\u001b[39m, delimiter \u001b[39m=\u001b[39m \u001b[39m'\u001b[39m\u001b[39m;\u001b[39m\u001b[39m'\u001b[39m)\n",
      "File \u001b[0;32m/usr/lib/python3.10/pathlib.py:1017\u001b[0m, in \u001b[0;36mPath.iterdir\u001b[0;34m(self)\u001b[0m\n\u001b[1;32m   1013\u001b[0m \u001b[39mdef\u001b[39;00m \u001b[39miterdir\u001b[39m(\u001b[39mself\u001b[39m):\n\u001b[1;32m   1014\u001b[0m \u001b[39m    \u001b[39m\u001b[39m\"\"\"Iterate over the files in this directory.  Does not yield any\u001b[39;00m\n\u001b[1;32m   1015\u001b[0m \u001b[39m    result for the special paths '.' and '..'.\u001b[39;00m\n\u001b[1;32m   1016\u001b[0m \u001b[39m    \"\"\"\u001b[39;00m\n\u001b[0;32m-> 1017\u001b[0m     \u001b[39mfor\u001b[39;00m name \u001b[39min\u001b[39;00m \u001b[39mself\u001b[39;49m\u001b[39m.\u001b[39;49m_accessor\u001b[39m.\u001b[39;49mlistdir(\u001b[39mself\u001b[39;49m):\n\u001b[1;32m   1018\u001b[0m         \u001b[39mif\u001b[39;00m name \u001b[39min\u001b[39;00m {\u001b[39m'\u001b[39m\u001b[39m.\u001b[39m\u001b[39m'\u001b[39m, \u001b[39m'\u001b[39m\u001b[39m..\u001b[39m\u001b[39m'\u001b[39m}:\n\u001b[1;32m   1019\u001b[0m             \u001b[39m# Yielding a path object for these makes little sense\u001b[39;00m\n\u001b[1;32m   1020\u001b[0m             \u001b[39mcontinue\u001b[39;00m\n",
      "\u001b[0;31mFileNotFoundError\u001b[0m: [Errno 2] No such file or directory: '/home/wichert/Master DS&AI/master_thesis/src/logs/binary'"
     ]
    }
   ],
   "source": [
    "log_path = Path(parent_dir + \"/src/logs/multiclass\")\n",
    "candidates = set()\n",
    "\n",
    "for folder in log_path.iterdir():\n",
    "\n",
    "    #get the digits from the folder name at the end\n",
    "    dataset_id = str(folder).split(\"_\")[-1]\n",
    "    current_log = pd.read_csv(f\"{folder}/evaluations.log\", delimiter = ';')\n",
    "    current_log[\"pipeline\"] = current_log[\"pipeline\"].apply(lambda x: pipeline_str_to_sklearn_format(x))\n",
    "    current_log.drop_duplicates(subset = \"pipeline\", inplace = True)\n",
    "    current_log[\"score\"] = current_log[\"score\"].apply(lambda x: format_tuple(x)).astype(float)\n",
    "    top_ten = current_log.nlargest(10, \"score\", keep = \"first\")[\"pipeline\"].to_list()\n",
    "    counter = 0\n",
    "    for item in top_ten:\n",
    "        if item not in candidates:\n",
    "            candidates.add(item)\n",
    "            counter += 1\n",
    "        if counter == 5:\n",
    "            break\n",
    "        if item == top_ten[-1]:\n",
    "            print(f\"Could not find 5 unique pipelines for dataset {dataset_id}\")\n"
   ]
  },
  {
   "cell_type": "code",
   "execution_count": null,
   "metadata": {},
   "outputs": [],
   "source": []
  }
 ],
 "metadata": {
  "kernelspec": {
   "display_name": "Python 3.10.6 ('masterthesisenv': venv)",
   "language": "python",
   "name": "python3"
  },
  "language_info": {
   "codemirror_mode": {
    "name": "ipython",
    "version": 3
   },
   "file_extension": ".py",
   "mimetype": "text/x-python",
   "name": "python",
   "nbconvert_exporter": "python",
   "pygments_lexer": "ipython3",
   "version": "3.10.6"
  },
  "orig_nbformat": 4,
  "vscode": {
   "interpreter": {
    "hash": "fa1c239501b12b72b3754f84661a3db9994fa2a1e538f4c0273138e3d7831ed9"
   }
  }
 },
 "nbformat": 4,
 "nbformat_minor": 2
}
